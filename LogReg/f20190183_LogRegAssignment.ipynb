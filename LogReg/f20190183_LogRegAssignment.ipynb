{
 "cells": [
  {
   "cell_type": "markdown",
   "metadata": {
    "colab_type": "text",
    "id": "QEncmBStFCLo"
   },
   "source": [
    "# Logistic Regression Assignment\n",
    "\n",
    "## General Instructions for this assignment:\n",
    "1. Don't change the function signature\n",
    "2. Don't change the code already given to you; A lot of the work has been done for you, as we assume you are reasonably familiar with it.\n",
    "3. Write the code only where asked"
   ]
  },
  {
   "cell_type": "markdown",
   "metadata": {
    "colab_type": "text",
    "id": "ODV-kLWnFCLp"
   },
   "source": [
    "## 1. Basic Design of the Model\n",
    "1. Output of the model: 0 or 1 (Binary Classification)\n",
    "2. Hypothesis to be tested: $Z = W \\cdot X + b$\n",
    "3. Activation Function: $\\frac{1}{1 + e^{-x}} $ (Signmoid Function)"
   ]
  },
  {
   "cell_type": "markdown",
   "metadata": {
    "colab_type": "text",
    "id": "_oehNhBDFCLq"
   },
   "source": [
    "## 2. Import Packages\n",
    "\n",
    "1. numpy: obviously\n",
    "2. matplotlib: for making graphs\n",
    "3. seaborn: Making matplotlib graphs prettier"
   ]
  },
  {
   "cell_type": "code",
   "execution_count": 1,
   "metadata": {
    "ExecuteTime": {
     "end_time": "2020-05-29T16:31:57.071891Z",
     "start_time": "2020-05-29T16:31:56.239986Z"
    },
    "colab": {},
    "colab_type": "code",
    "id": "OtEoCnoZFCLr"
   },
   "outputs": [
    {
     "output_type": "error",
     "ename": "ModuleNotFoundError",
     "evalue": "No module named 'seaborn'",
     "traceback": [
      "\u001b[1;31m---------------------------------------------------------------------------\u001b[0m",
      "\u001b[1;31mModuleNotFoundError\u001b[0m                       Traceback (most recent call last)",
      "\u001b[1;32m<ipython-input-1-2ff57a5caf1e>\u001b[0m in \u001b[0;36m<module>\u001b[1;34m\u001b[0m\n\u001b[0;32m      7\u001b[0m \u001b[1;33m\u001b[0m\u001b[0m\n\u001b[0;32m      8\u001b[0m \u001b[1;32mimport\u001b[0m \u001b[0mmatplotlib\u001b[0m\u001b[1;33m.\u001b[0m\u001b[0mstyle\u001b[0m \u001b[1;32mas\u001b[0m \u001b[0mstyle\u001b[0m\u001b[1;33m\u001b[0m\u001b[1;33m\u001b[0m\u001b[0m\n\u001b[1;32m----> 9\u001b[1;33m \u001b[1;32mimport\u001b[0m \u001b[0mseaborn\u001b[0m \u001b[1;32mas\u001b[0m \u001b[0msns\u001b[0m\u001b[1;33m\u001b[0m\u001b[1;33m\u001b[0m\u001b[0m\n\u001b[0m\u001b[0;32m     10\u001b[0m \u001b[1;33m\u001b[0m\u001b[0m\n\u001b[0;32m     11\u001b[0m \u001b[0mstyle\u001b[0m\u001b[1;33m.\u001b[0m\u001b[0muse\u001b[0m\u001b[1;33m(\u001b[0m\u001b[1;34m'seaborn-poster'\u001b[0m\u001b[1;33m)\u001b[0m \u001b[1;31m#sets the size of the charts\u001b[0m\u001b[1;33m\u001b[0m\u001b[1;33m\u001b[0m\u001b[0m\n",
      "\u001b[1;31mModuleNotFoundError\u001b[0m: No module named 'seaborn'"
     ]
    }
   ],
   "source": [
    "import numpy as np\n",
    "import matplotlib.pyplot as plt\n",
    "\n",
    "%matplotlib inline\n",
    "\n",
    "# Next Libraries are unimportant, they just make everyhting look better\n",
    "\n",
    "import matplotlib.style as style\n",
    "import seaborn as sns\n",
    "\n",
    "style.use('seaborn-poster') #sets the size of the charts\n",
    "style.use('ggplot')"
   ]
  },
  {
   "cell_type": "markdown",
   "metadata": {
    "colab_type": "text",
    "id": "BF5Hf3UhFCLv"
   },
   "source": [
    "## 3. Loading the dataset\n",
    "\n",
    "We have prepared and preprocessed the data. You can use the `np.load(path)` to obtain a dictionary of numpy arrays.\n",
    "\n",
    "> The loading has been done for you, just ensure that the path is correct and obtain the nump arrays from the dictionary"
   ]
  },
  {
   "cell_type": "code",
   "execution_count": 2,
   "metadata": {
    "ExecuteTime": {
     "end_time": "2020-05-29T16:31:57.085842Z",
     "start_time": "2020-05-29T16:31:57.073827Z"
    },
    "colab": {},
    "colab_type": "code",
    "id": "5rPC9-xZFCLx"
   },
   "outputs": [],
   "source": [
    "#dataset = np.load('quickdraw/10k/dataset.npz')\n",
    "\n",
    "## Get the numpy arrays from the dictionary\n",
    "X_train = np.load('X_train.npy')\n",
    "Y_train = np.load('Y_train.npy')\n",
    "X_test  = np.load('X_test.npy')\n",
    "Y_test  = np.load('Y_test.npy')"
   ]
  },
  {
   "cell_type": "code",
   "execution_count": 3,
   "metadata": {
    "ExecuteTime": {
     "end_time": "2020-05-29T16:31:57.216129Z",
     "start_time": "2020-05-29T16:31:57.088037Z"
    },
    "colab": {},
    "colab_type": "code",
    "id": "cOS8h4viFCL0"
   },
   "outputs": [
    {
     "output_type": "stream",
     "name": "stdout",
     "text": "(784, 8000)\n(1, 8000)\n(784, 2000)\n(1, 2000)\n"
    }
   ],
   "source": [
    "print(X_train.shape)\n",
    "print(Y_train.shape)\n",
    "print(X_test.shape)\n",
    "print(Y_test.shape)"
   ]
  },
  {
   "cell_type": "markdown",
   "metadata": {
    "colab_type": "text",
    "id": "QwRecXxsFCL4"
   },
   "source": [
    "## 4. Get a feel of the data\n",
    "\n",
    "### 5.1 View the Imagethat\n",
    "Use the imshow function of matplotlib.pyplot to actually see one of the 28x28 images from the training dataset and its respectie label."
   ]
  },
  {
   "cell_type": "markdown",
   "metadata": {
    "colab_type": "text",
    "id": "_Bjoq3CUFCL4"
   },
   "source": [
    "If you loaded the data correctly, then the code below should display\n",
    "```\n",
    "(784, 8000)\n",
    "(1, 8000)\n",
    "(784, 2000)\n",
    "(1, 2000)\n",
    "```"
   ]
  },
  {
   "cell_type": "code",
   "execution_count": 4,
   "metadata": {
    "ExecuteTime": {
     "end_time": "2020-05-29T16:31:57.551600Z",
     "start_time": "2020-05-29T16:31:57.225519Z"
    },
    "colab": {},
    "colab_type": "code",
    "id": "ozMfJJW3FCL5"
   },
   "outputs": [
    {
     "output_type": "stream",
     "name": "stdout",
     "text": "Label: cat\n"
    },
    {
     "output_type": "display_data",
     "data": {
      "text/plain": "<Figure size 432x288 with 1 Axes>",
      "image/svg+xml": "<?xml version=\"1.0\" encoding=\"utf-8\" standalone=\"no\"?>\r\n<!DOCTYPE svg PUBLIC \"-//W3C//DTD SVG 1.1//EN\"\r\n  \"http://www.w3.org/Graphics/SVG/1.1/DTD/svg11.dtd\">\r\n<!-- Created with matplotlib (https://matplotlib.org/) -->\r\n<svg height=\"248.518125pt\" version=\"1.1\" viewBox=\"0 0 251.565 248.518125\" width=\"251.565pt\" xmlns=\"http://www.w3.org/2000/svg\" xmlns:xlink=\"http://www.w3.org/1999/xlink\">\r\n <defs>\r\n  <style type=\"text/css\">\r\n*{stroke-linecap:butt;stroke-linejoin:round;}\r\n  </style>\r\n </defs>\r\n <g id=\"figure_1\">\r\n  <g id=\"patch_1\">\r\n   <path d=\"M 0 248.518125 \r\nL 251.565 248.518125 \r\nL 251.565 0 \r\nL 0 0 \r\nz\r\n\" style=\"fill:none;\"/>\r\n  </g>\r\n  <g id=\"axes_1\">\r\n   <g id=\"patch_2\">\r\n    <path d=\"M 26.925 224.64 \r\nL 244.365 224.64 \r\nL 244.365 7.2 \r\nL 26.925 7.2 \r\nz\r\n\" style=\"fill:#ffffff;\"/>\r\n   </g>\r\n   <g clip-path=\"url(#pea90f0a21d)\">\r\n    <image height=\"218\" id=\"imagebd0e2a3e15\" transform=\"scale(1 -1)translate(0 -218)\" width=\"218\" x=\"26.925\" xlink:href=\"data:image/png;base64,\r\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\" y=\"-6.64\"/>\r\n   </g>\r\n   <g id=\"matplotlib.axis_1\">\r\n    <g id=\"xtick_1\">\r\n     <g id=\"line2d_1\">\r\n      <defs>\r\n       <path d=\"M 0 0 \r\nL 0 3.5 \r\n\" id=\"mfc2e435bd5\" style=\"stroke:#000000;stroke-width:0.8;\"/>\r\n      </defs>\r\n      <g>\r\n       <use style=\"stroke:#000000;stroke-width:0.8;\" x=\"30.807857\" xlink:href=\"#mfc2e435bd5\" y=\"224.64\"/>\r\n      </g>\r\n     </g>\r\n     <g id=\"text_1\">\r\n      <!-- 0 -->\r\n      <defs>\r\n       <path d=\"M 31.78125 66.40625 \r\nQ 24.171875 66.40625 20.328125 58.90625 \r\nQ 16.5 51.421875 16.5 36.375 \r\nQ 16.5 21.390625 20.328125 13.890625 \r\nQ 24.171875 6.390625 31.78125 6.390625 \r\nQ 39.453125 6.390625 43.28125 13.890625 \r\nQ 47.125 21.390625 47.125 36.375 \r\nQ 47.125 51.421875 43.28125 58.90625 \r\nQ 39.453125 66.40625 31.78125 66.40625 \r\nz\r\nM 31.78125 74.21875 \r\nQ 44.046875 74.21875 50.515625 64.515625 \r\nQ 56.984375 54.828125 56.984375 36.375 \r\nQ 56.984375 17.96875 50.515625 8.265625 \r\nQ 44.046875 -1.421875 31.78125 -1.421875 \r\nQ 19.53125 -1.421875 13.0625 8.265625 \r\nQ 6.59375 17.96875 6.59375 36.375 \r\nQ 6.59375 54.828125 13.0625 64.515625 \r\nQ 19.53125 74.21875 31.78125 74.21875 \r\nz\r\n\" id=\"DejaVuSans-48\"/>\r\n      </defs>\r\n      <g transform=\"translate(27.626607 239.238437)scale(0.1 -0.1)\">\r\n       <use xlink:href=\"#DejaVuSans-48\"/>\r\n      </g>\r\n     </g>\r\n    </g>\r\n    <g id=\"xtick_2\">\r\n     <g id=\"line2d_2\">\r\n      <g>\r\n       <use style=\"stroke:#000000;stroke-width:0.8;\" x=\"69.636429\" xlink:href=\"#mfc2e435bd5\" y=\"224.64\"/>\r\n      </g>\r\n     </g>\r\n     <g id=\"text_2\">\r\n      <!-- 5 -->\r\n      <defs>\r\n       <path d=\"M 10.796875 72.90625 \r\nL 49.515625 72.90625 \r\nL 49.515625 64.59375 \r\nL 19.828125 64.59375 \r\nL 19.828125 46.734375 \r\nQ 21.96875 47.46875 24.109375 47.828125 \r\nQ 26.265625 48.1875 28.421875 48.1875 \r\nQ 40.625 48.1875 47.75 41.5 \r\nQ 54.890625 34.8125 54.890625 23.390625 \r\nQ 54.890625 11.625 47.5625 5.09375 \r\nQ 40.234375 -1.421875 26.90625 -1.421875 \r\nQ 22.3125 -1.421875 17.546875 -0.640625 \r\nQ 12.796875 0.140625 7.71875 1.703125 \r\nL 7.71875 11.625 \r\nQ 12.109375 9.234375 16.796875 8.0625 \r\nQ 21.484375 6.890625 26.703125 6.890625 \r\nQ 35.15625 6.890625 40.078125 11.328125 \r\nQ 45.015625 15.765625 45.015625 23.390625 \r\nQ 45.015625 31 40.078125 35.4375 \r\nQ 35.15625 39.890625 26.703125 39.890625 \r\nQ 22.75 39.890625 18.8125 39.015625 \r\nQ 14.890625 38.140625 10.796875 36.28125 \r\nz\r\n\" id=\"DejaVuSans-53\"/>\r\n      </defs>\r\n      <g transform=\"translate(66.455179 239.238437)scale(0.1 -0.1)\">\r\n       <use xlink:href=\"#DejaVuSans-53\"/>\r\n      </g>\r\n     </g>\r\n    </g>\r\n    <g id=\"xtick_3\">\r\n     <g id=\"line2d_3\">\r\n      <g>\r\n       <use style=\"stroke:#000000;stroke-width:0.8;\" x=\"108.465\" xlink:href=\"#mfc2e435bd5\" y=\"224.64\"/>\r\n      </g>\r\n     </g>\r\n     <g id=\"text_3\">\r\n      <!-- 10 -->\r\n      <defs>\r\n       <path d=\"M 12.40625 8.296875 \r\nL 28.515625 8.296875 \r\nL 28.515625 63.921875 \r\nL 10.984375 60.40625 \r\nL 10.984375 69.390625 \r\nL 28.421875 72.90625 \r\nL 38.28125 72.90625 \r\nL 38.28125 8.296875 \r\nL 54.390625 8.296875 \r\nL 54.390625 0 \r\nL 12.40625 0 \r\nz\r\n\" id=\"DejaVuSans-49\"/>\r\n      </defs>\r\n      <g transform=\"translate(102.1025 239.238437)scale(0.1 -0.1)\">\r\n       <use xlink:href=\"#DejaVuSans-49\"/>\r\n       <use x=\"63.623047\" xlink:href=\"#DejaVuSans-48\"/>\r\n      </g>\r\n     </g>\r\n    </g>\r\n    <g id=\"xtick_4\">\r\n     <g id=\"line2d_4\">\r\n      <g>\r\n       <use style=\"stroke:#000000;stroke-width:0.8;\" x=\"147.293571\" xlink:href=\"#mfc2e435bd5\" y=\"224.64\"/>\r\n      </g>\r\n     </g>\r\n     <g id=\"text_4\">\r\n      <!-- 15 -->\r\n      <g transform=\"translate(140.931071 239.238437)scale(0.1 -0.1)\">\r\n       <use xlink:href=\"#DejaVuSans-49\"/>\r\n       <use x=\"63.623047\" xlink:href=\"#DejaVuSans-53\"/>\r\n      </g>\r\n     </g>\r\n    </g>\r\n    <g id=\"xtick_5\">\r\n     <g id=\"line2d_5\">\r\n      <g>\r\n       <use style=\"stroke:#000000;stroke-width:0.8;\" x=\"186.122143\" xlink:href=\"#mfc2e435bd5\" y=\"224.64\"/>\r\n      </g>\r\n     </g>\r\n     <g id=\"text_5\">\r\n      <!-- 20 -->\r\n      <defs>\r\n       <path d=\"M 19.1875 8.296875 \r\nL 53.609375 8.296875 \r\nL 53.609375 0 \r\nL 7.328125 0 \r\nL 7.328125 8.296875 \r\nQ 12.9375 14.109375 22.625 23.890625 \r\nQ 32.328125 33.6875 34.8125 36.53125 \r\nQ 39.546875 41.84375 41.421875 45.53125 \r\nQ 43.3125 49.21875 43.3125 52.78125 \r\nQ 43.3125 58.59375 39.234375 62.25 \r\nQ 35.15625 65.921875 28.609375 65.921875 \r\nQ 23.96875 65.921875 18.8125 64.3125 \r\nQ 13.671875 62.703125 7.8125 59.421875 \r\nL 7.8125 69.390625 \r\nQ 13.765625 71.78125 18.9375 73 \r\nQ 24.125 74.21875 28.421875 74.21875 \r\nQ 39.75 74.21875 46.484375 68.546875 \r\nQ 53.21875 62.890625 53.21875 53.421875 \r\nQ 53.21875 48.921875 51.53125 44.890625 \r\nQ 49.859375 40.875 45.40625 35.40625 \r\nQ 44.1875 33.984375 37.640625 27.21875 \r\nQ 31.109375 20.453125 19.1875 8.296875 \r\nz\r\n\" id=\"DejaVuSans-50\"/>\r\n      </defs>\r\n      <g transform=\"translate(179.759643 239.238437)scale(0.1 -0.1)\">\r\n       <use xlink:href=\"#DejaVuSans-50\"/>\r\n       <use x=\"63.623047\" xlink:href=\"#DejaVuSans-48\"/>\r\n      </g>\r\n     </g>\r\n    </g>\r\n    <g id=\"xtick_6\">\r\n     <g id=\"line2d_6\">\r\n      <g>\r\n       <use style=\"stroke:#000000;stroke-width:0.8;\" x=\"224.950714\" xlink:href=\"#mfc2e435bd5\" y=\"224.64\"/>\r\n      </g>\r\n     </g>\r\n     <g id=\"text_6\">\r\n      <!-- 25 -->\r\n      <g transform=\"translate(218.588214 239.238437)scale(0.1 -0.1)\">\r\n       <use xlink:href=\"#DejaVuSans-50\"/>\r\n       <use x=\"63.623047\" xlink:href=\"#DejaVuSans-53\"/>\r\n      </g>\r\n     </g>\r\n    </g>\r\n   </g>\r\n   <g id=\"matplotlib.axis_2\">\r\n    <g id=\"ytick_1\">\r\n     <g id=\"line2d_7\">\r\n      <defs>\r\n       <path d=\"M 0 0 \r\nL -3.5 0 \r\n\" id=\"m493c0b4742\" style=\"stroke:#000000;stroke-width:0.8;\"/>\r\n      </defs>\r\n      <g>\r\n       <use style=\"stroke:#000000;stroke-width:0.8;\" x=\"26.925\" xlink:href=\"#m493c0b4742\" y=\"11.082857\"/>\r\n      </g>\r\n     </g>\r\n     <g id=\"text_7\">\r\n      <!-- 0 -->\r\n      <g transform=\"translate(13.5625 14.882076)scale(0.1 -0.1)\">\r\n       <use xlink:href=\"#DejaVuSans-48\"/>\r\n      </g>\r\n     </g>\r\n    </g>\r\n    <g id=\"ytick_2\">\r\n     <g id=\"line2d_8\">\r\n      <g>\r\n       <use style=\"stroke:#000000;stroke-width:0.8;\" x=\"26.925\" xlink:href=\"#m493c0b4742\" y=\"49.911429\"/>\r\n      </g>\r\n     </g>\r\n     <g id=\"text_8\">\r\n      <!-- 5 -->\r\n      <g transform=\"translate(13.5625 53.710647)scale(0.1 -0.1)\">\r\n       <use xlink:href=\"#DejaVuSans-53\"/>\r\n      </g>\r\n     </g>\r\n    </g>\r\n    <g id=\"ytick_3\">\r\n     <g id=\"line2d_9\">\r\n      <g>\r\n       <use style=\"stroke:#000000;stroke-width:0.8;\" x=\"26.925\" xlink:href=\"#m493c0b4742\" y=\"88.74\"/>\r\n      </g>\r\n     </g>\r\n     <g id=\"text_9\">\r\n      <!-- 10 -->\r\n      <g transform=\"translate(7.2 92.539219)scale(0.1 -0.1)\">\r\n       <use xlink:href=\"#DejaVuSans-49\"/>\r\n       <use x=\"63.623047\" xlink:href=\"#DejaVuSans-48\"/>\r\n      </g>\r\n     </g>\r\n    </g>\r\n    <g id=\"ytick_4\">\r\n     <g id=\"line2d_10\">\r\n      <g>\r\n       <use style=\"stroke:#000000;stroke-width:0.8;\" x=\"26.925\" xlink:href=\"#m493c0b4742\" y=\"127.568571\"/>\r\n      </g>\r\n     </g>\r\n     <g id=\"text_10\">\r\n      <!-- 15 -->\r\n      <g transform=\"translate(7.2 131.36779)scale(0.1 -0.1)\">\r\n       <use xlink:href=\"#DejaVuSans-49\"/>\r\n       <use x=\"63.623047\" xlink:href=\"#DejaVuSans-53\"/>\r\n      </g>\r\n     </g>\r\n    </g>\r\n    <g id=\"ytick_5\">\r\n     <g id=\"line2d_11\">\r\n      <g>\r\n       <use style=\"stroke:#000000;stroke-width:0.8;\" x=\"26.925\" xlink:href=\"#m493c0b4742\" y=\"166.397143\"/>\r\n      </g>\r\n     </g>\r\n     <g id=\"text_11\">\r\n      <!-- 20 -->\r\n      <g transform=\"translate(7.2 170.196362)scale(0.1 -0.1)\">\r\n       <use xlink:href=\"#DejaVuSans-50\"/>\r\n       <use x=\"63.623047\" xlink:href=\"#DejaVuSans-48\"/>\r\n      </g>\r\n     </g>\r\n    </g>\r\n    <g id=\"ytick_6\">\r\n     <g id=\"line2d_12\">\r\n      <g>\r\n       <use style=\"stroke:#000000;stroke-width:0.8;\" x=\"26.925\" xlink:href=\"#m493c0b4742\" y=\"205.225714\"/>\r\n      </g>\r\n     </g>\r\n     <g id=\"text_12\">\r\n      <!-- 25 -->\r\n      <g transform=\"translate(7.2 209.024933)scale(0.1 -0.1)\">\r\n       <use xlink:href=\"#DejaVuSans-50\"/>\r\n       <use x=\"63.623047\" xlink:href=\"#DejaVuSans-53\"/>\r\n      </g>\r\n     </g>\r\n    </g>\r\n   </g>\r\n   <g id=\"patch_3\">\r\n    <path d=\"M 26.925 224.64 \r\nL 26.925 7.2 \r\n\" style=\"fill:none;stroke:#000000;stroke-linecap:square;stroke-linejoin:miter;stroke-width:0.8;\"/>\r\n   </g>\r\n   <g id=\"patch_4\">\r\n    <path d=\"M 244.365 224.64 \r\nL 244.365 7.2 \r\n\" style=\"fill:none;stroke:#000000;stroke-linecap:square;stroke-linejoin:miter;stroke-width:0.8;\"/>\r\n   </g>\r\n   <g id=\"patch_5\">\r\n    <path d=\"M 26.925 224.64 \r\nL 244.365 224.64 \r\n\" style=\"fill:none;stroke:#000000;stroke-linecap:square;stroke-linejoin:miter;stroke-width:0.8;\"/>\r\n   </g>\r\n   <g id=\"patch_6\">\r\n    <path d=\"M 26.925 7.2 \r\nL 244.365 7.2 \r\n\" style=\"fill:none;stroke:#000000;stroke-linecap:square;stroke-linejoin:miter;stroke-width:0.8;\"/>\r\n   </g>\r\n  </g>\r\n </g>\r\n <defs>\r\n  <clipPath id=\"pea90f0a21d\">\r\n   <rect height=\"217.44\" width=\"217.44\" x=\"26.925\" y=\"7.2\"/>\r\n  </clipPath>\r\n </defs>\r\n</svg>\r\n",
      "image/png": "[encoded data removed]"
     },
     "metadata": {
      "needs_background": "light"
     }
    }
   ],
   "source": [
    "idx = np.random.randint(X_train.shape[1])\n",
    "\n",
    "plt.imshow(X_train[:, idx].reshape(28, 28))\n",
    "\n",
    "label = \"cat\" if Y_train[:, idx][0] else \"bat\"\n",
    "print(f\"Label: {label}\")"
   ]
  },
  {
   "cell_type": "markdown",
   "metadata": {
    "colab_type": "text",
    "id": "MCQ6-6NsFCL9"
   },
   "source": [
    "### View the raw data\n",
    "\n",
    "View the actual raw array associated with the idx selected previously"
   ]
  },
  {
   "cell_type": "code",
   "execution_count": 5,
   "metadata": {
    "ExecuteTime": {
     "end_time": "2020-05-29T16:31:57.562128Z",
     "start_time": "2020-05-29T16:31:57.553469Z"
    },
    "colab": {},
    "colab_type": "code",
    "id": "mYlHFjL3FCL9"
   },
   "outputs": [
    {
     "output_type": "execute_result",
     "data": {
      "text/plain": "array([  0,   0,   0,   0,   0,   0,   0,   0,   0,   0,   0,   0,   0,\n         0,   0,   0,   0,   0,   0,   0,   0,   0,   0,   0,   0,   0,\n         0,   0,   0,   0,   0,   0,   0,   0,   0,   0,   0,   0,   0,\n         0,   0,   0,   0,   0,   0,   0,   0,   0,   0,   0,   0,   0,\n         8,  77,   1,   0,   0,   0,   0,   0,   0,   0,  56, 185,  17,\n         0,   0,   0,   0,   0,   0,   0,   0,   0,   0,   0,   0,   0,\n         0,  33, 205, 255,  74,   0,   0,   0,   0,   0,   0,   0, 157,\n       255, 174,   1,   0,   0,   0,   0,   0,   0,   0,   0,   0,   0,\n         0,   0,  74, 237, 245, 255, 108,   0,   0,   0,   0,   0,   0,\n         1, 231, 226, 255, 109,   0,   0,   0,   0,   0,   0,   0,   0,\n         0,   0,   1, 119, 253, 204,  96, 255,  64,   0,   0,   0,   0,\n         0,   0,  52, 255,  84, 166, 248,  50,   0,   0,   0,   0,   0,\n         0,   0,   0,  19, 185, 255, 149,   6, 108, 255,  19,   0,   0,\n         0,   0,   0,   0, 127, 251,  16,  15, 221, 219,  14,   0,   0,\n         0,   0,   0,   0,  27, 215, 245,  92,   0,   0, 159, 228,   0,\n         0,   0,   0,   0,   0,   0, 200, 191,   0,   0,  53, 249, 179,\n        12,   0,   0,   0,   0,  31, 220, 238,  54,   0,   0,  11, 241,\n       153,   0,   0,   0,   0,   0,   0,  22, 253, 117,   0,   0,   7,\n       160, 252, 235,  79,  87,  87,  28, 223, 234,  47,   0,   0,   0,\n        99, 255,  51,   0,   0,   0,   0,   0,   0,  95, 255,  41,   0,\n        72, 228, 255, 255, 255, 255, 255, 255, 253, 229, 101,   0,   0,\n         0,   0, 200, 204,   0,   0,   0,   0,   0,   0,   0, 169, 222,\n         2, 141, 254, 205,  62,  64,  53,  43,  34,  42, 116, 211, 255,\n       163,  21,   0,  46, 255, 102,   0,   0,   0,   0,   0,   0,   0,\n       236, 159, 165, 255, 137,   5,   0,   0,   0,   0,   0,   0,   0,\n         4, 119, 246, 231,  22,  98, 237,  13,   0,   0,   0,   0,   0,\n         0,   0, 150, 211, 253, 108,   0,   0,   0,   0,   0,   0,   0,\n         0,   0,   0,   0,  43, 247, 156,   1,  11,   0,   0,   0,   0,\n         0,   0,   0,   1, 160, 254,  93,   0,   0,   0,   0,   0,   0,\n         0,   0,   0,   0,   0,   0,   0, 131, 253,  53,   0,   0,   0,\n         0,   0,   0,   0,   0, 129, 255, 118,   0,   0,   0, 120, 181,\n       113,   2,   0,   0,   0,   0,   0,   0,   0,  10, 226, 191,   0,\n         0,   0,   0,   0,   0,   0,  89, 255, 148,   0,   0,   0,   0,\n       193, 208, 255,  54,  47, 221,  88,   0,   0,   0,   0,   0, 129,\n       248,   3,   0,   0,   0,   0,   0,   6, 225, 194,   3,   0,   0,\n         0,   0,   0,   0,  22,   0,  17, 164, 111,   0,   0,   0,   0,\n         0,  94, 255,  31,   0,   0,   0,   0,   0,  93, 255,  62,   0,\n         0,   0,   0,   0,   0,   0,   0,  21,  87,   0,   0,   0,   0,\n         0,   0,   0, 108, 255,  18,   0,   0,   0,   0,   0, 123, 254,\n         0,   0,   0,   0,   0,   0,   0,   0,   2, 189, 238,   2,   0,\n         0,   0,   0,   0,   0, 159, 232,   0,   0,   0,   0,   0,   0,\n       106, 255,  28,   0,   0,   0,   0,   0,   0,   0, 118, 255,  89,\n         0,   0,   0,  55,  13,   0,  25, 247, 145,   0,   0,   0,   0,\n         0,   0,  31, 254, 119,   1, 126,  32,   0,  81, 156,  54, 249,\n       163,   0,   0,   0,  72, 253,  98,   0, 137, 250,  30,   0,   0,\n         0,   0,   0,   0,   0, 174, 246,  50, 244, 138,   0,  76, 253,\n       243, 224,  14,   0,   0,  38, 236, 200,   6,  25, 241, 159,   0,\n         0,   0,   0,   0,   0,   0,   0,  18, 223, 239, 203, 217,  46,\n        78, 239, 255, 244, 196, 171, 177, 251, 233,  30,  10, 203, 239,\n        35,   0,   0,   0,   0,   0,   0,   0,   0,   0,  27, 191, 255,\n       255, 255, 255, 222,  69, 145, 181, 209, 214, 129,  25,  65, 200,\n       250,  69,   0,   0,   0,   0,   0,   0,   0,   0,   0,   0,   0,\n         2, 101, 228, 255, 239, 171,  97,  31,  17,  17,  39, 116, 199,\n       255, 223,  79,   0,   0,   0,   0,   0,   0,   0,   0,   0,   0,\n         0,   0,   0,   0,   2,  75, 153, 223, 255, 255, 255, 255, 255,\n       253, 199, 100,   5,   0,   0,   0,   0,   0,   0,   0,   0,   0,\n         0,   0,   0,   0,   0,   0,   0,   0,   0,   0,  38,  96, 102,\n       102,  90,  24,   0,   0,   0,   0,   0,   0,   0,   0,   0,   0,\n         0,   0,   0,   0,   0,   0,   0,   0,   0,   0,   0,   0,   0,\n         0,   0,   0,   0,   0,   0,   0,   0,   0,   0,   0,   0,   0,\n         0,   0,   0,   0], dtype=uint8)"
     },
     "metadata": {},
     "execution_count": 5
    }
   ],
   "source": [
    "X_train[:, idx]"
   ]
  },
  {
   "cell_type": "markdown",
   "metadata": {
    "colab_type": "text",
    "id": "qeg9vFx5FCMA"
   },
   "source": [
    "## 6. Normalizing the data\n",
    "\n",
    "Normalizing the data with the following equation:\n",
    "\n",
    "$$ X_{norm} = \\frac {X - X_{min}}{X_{max} - X_{min}} $$\n",
    "\n",
    "For this pixel data, $X_{max} = 255$ and $X_{min} = 0$\n",
    "\n",
    "> After running the next cell, go back and view the raw array again"
   ]
  },
  {
   "cell_type": "code",
   "execution_count": 6,
   "metadata": {
    "ExecuteTime": {
     "end_time": "2020-05-29T16:31:57.706386Z",
     "start_time": "2020-05-29T16:31:57.564747Z"
    },
    "colab": {},
    "colab_type": "code",
    "id": "j9LgEtNsFCMB"
   },
   "outputs": [],
   "source": [
    "## Normalize the training and testning data\n",
    "\n",
    "# Replace None with relevant code\n",
    "X_train = X_train/255\n",
    "X_test = X_test/255"
   ]
  },
  {
   "cell_type": "markdown",
   "metadata": {
    "colab_type": "text",
    "id": "FB-J1xHEFCMF"
   },
   "source": [
    "## 7. Helper functions for the Model:\n",
    "\n",
    "### Write the respective functions described by their docstrings"
   ]
  },
  {
   "cell_type": "code",
   "execution_count": 7,
   "metadata": {
    "ExecuteTime": {
     "end_time": "2020-05-29T16:31:57.752603Z",
     "start_time": "2020-05-29T16:31:57.709485Z"
    },
    "colab": {},
    "colab_type": "code",
    "id": "Y1T3thCFFCMG"
   },
   "outputs": [],
   "source": [
    "def sigmoid(z):\n",
    "    \"\"\"\n",
    "    Computes the element sigmoid of scalar or numpy array(element wise)\n",
    "    \n",
    "    Arguments:\n",
    "        z: Scalar or numpy array\n",
    "    \n",
    "    Returns:\n",
    "        s: Sigmoid of z (element wise in case of Numpy Array)\n",
    "    \"\"\"\n",
    "    ### Write Code here ###\n",
    "    s = 1/(1 + np.exp(-z))\n",
    "    \n",
    "    ### End Code here ###\n",
    "    \n",
    "    return s\n",
    "#sigmoid(0)"
   ]
  },
  {
   "cell_type": "code",
   "execution_count": 8,
   "metadata": {
    "ExecuteTime": {
     "end_time": "2020-05-29T16:31:57.828406Z",
     "start_time": "2020-05-29T16:31:57.754708Z"
    },
    "colab": {},
    "colab_type": "code",
    "id": "BrrJqSIuFCMJ"
   },
   "outputs": [],
   "source": [
    "def initialize_parameters(n_x):\n",
    "    \"\"\"\n",
    "    Initialize w to a zero vector, and b to a 0 with datatype float \n",
    "    \n",
    "    Arguments:\n",
    "        n_x: Number of features in each sample of X\n",
    "    \n",
    "    Returns:\n",
    "        w: Initialized Numpy array of shape (1, n_x) (Weight)\n",
    "        b: Initialized Scalar (bias)\n",
    "    \"\"\"\n",
    "    \n",
    "    w = np.zeros([1,n_x])\n",
    "    b = float(0)\n",
    "    \n",
    "    return w , b\n",
    "#initialize_parameters(15)"
   ]
  },
  {
   "cell_type": "code",
   "execution_count": 9,
   "metadata": {
    "ExecuteTime": {
     "end_time": "2020-05-29T16:31:57.899672Z",
     "start_time": "2020-05-29T16:31:57.832741Z"
    },
    "colab": {},
    "colab_type": "code",
    "id": "Th4xkEvrFCMM"
   },
   "outputs": [],
   "source": [
    "def compute_cost(A, Y):\n",
    "    \"\"\"\n",
    "    Calculate the Cost using the Cross Entropy Loss\n",
    "    \n",
    "    Arguments:\n",
    "        A: Computer Probabilities, numpy array\n",
    "        Y: Known Labels, numpy array\n",
    "        \n",
    "    Returns:\n",
    "        cost: The computed Cost\n",
    "    \"\"\"\n",
    "    m = Y.shape[1]\n",
    "    epsilon = 1e-5\n",
    "    J = (-(Y).dot((np.log(A + epsilon)).T) - ((1 - Y).dot((np.log(1-A + epsilon)).T)))*(1/m)\n",
    "    \n",
    "    return np.squeeze(J)\n"
   ]
  },
  {
   "cell_type": "markdown",
   "metadata": {
    "colab_type": "text",
    "id": "B51HHAg_FCMQ"
   },
   "source": [
    "Here is a summary of the equations for Forward Propagation and Backward Propagation we have used so far:\n",
    "\n",
    "For m training examples $ X_{train} $ and $ Y_{train} $:\n",
    "\n",
    "### 7.1 Forward Propagation\n",
    "\n",
    "$$ Z^{(i)} = w \\cdot X_{train}^{(i)} + b $$\n",
    "\n",
    "$$ \\hat Y^{(i)} = A^{(i)} = \\sigma(Z^{(i)}) = sigmoid(Z^{(i)}) $$\n",
    "\n",
    "$$ \\mathcal{L}(\\hat Y^{(i)}, Y_{train}^{(i)}) = \\mathcal{L}(A^{(i)}, Y_{train}^{(i)}) = -[Y_{train}^{(i)} \\log(A^{(i)}) + (1 - Y_{train}^{(i)}) \\log(1 - A^{(i)})] $$\n",
    "\n",
    "$$ J = \\frac{1}{m} \\sum_1^m \\mathcal{L} (A^{(i)}, Y_{train}^{(i)}) $$\n",
    "\n",
    "\n",
    "### 7.2 Backward Propagation - Batch Gradient Descent\n",
    "\n",
    "$$ \\frac{\\partial J}{\\partial w} = \\frac{1}{m} (A - Y) \\cdot X^T $$\n",
    "\n",
    "$$ \\frac{\\partial J}{\\partial b} = \\frac{1}{m} \\sum_1^m (A - Y) $$\n",
    "\n",
    "\n",
    "> Note: Represent $ \\frac{\\partial J}{\\partial w} $ as dw, and $ \\frac{\\partial J}{\\partial b}$ as db\n"
   ]
  },
  {
   "cell_type": "code",
   "execution_count": 10,
   "metadata": {
    "ExecuteTime": {
     "end_time": "2020-05-29T16:31:57.965514Z",
     "start_time": "2020-05-29T16:31:57.902517Z"
    },
    "colab": {},
    "colab_type": "code",
    "id": "xKf1Dc2lFCMQ"
   },
   "outputs": [],
   "source": [
    "def propagate(w, b, X, Y):\n",
    "    \"\"\"\n",
    "    Perform forward and backward propagation for the Logistic Regression model\n",
    "    \n",
    "    Arguments:\n",
    "        w: The Weight Matrix of dimension (1, n_x)\n",
    "        b: Bias\n",
    "        X: Input Matrix, with shape (n_x, m)\n",
    "        Y: Label Matrix of shape (1, m)\n",
    "        \n",
    "    Returns:\n",
    "        dw: Gradient of the weight matrix\n",
    "        db: Gradient of the bias\n",
    "        cost: Cost computed on Calculated Probability, and output Label\n",
    "    \"\"\"\n",
    "\n",
    "    #Performing forward propagation\n",
    "    z = (w.dot(X)) + b\n",
    "    A = sigmoid(z)\n",
    "    cost = compute_cost(A , Y)\n",
    "\n",
    "    # Performing back-propagation\n",
    "    dw = ((A - Y) @ X.T)/(Y.shape[1])\n",
    "    db = np.mean(Y - A)\n",
    "    \n",
    "    \n",
    "    assert dw.shape == w.shape\n",
    "    return dw, db, cost\n",
    "    "
   ]
  },
  {
   "cell_type": "markdown",
   "metadata": {
    "colab_type": "text",
    "id": "DJwQjwOiFCMU"
   },
   "source": [
    "### 7.3 Optimization\n",
    "\n",
    "For a parameter $ \\theta $, the gradient descent update rule is given by:\n",
    "$$ \\theta := \\theta - \\alpha \\frac{\\partial J}{\\partial \\theta} $$\n",
    "\n",
    "where $\\alpha$ is the learning rate"
   ]
  },
  {
   "cell_type": "code",
   "execution_count": 11,
   "metadata": {
    "ExecuteTime": {
     "end_time": "2020-05-29T16:31:58.054765Z",
     "start_time": "2020-05-29T16:31:57.968450Z"
    },
    "colab": {},
    "colab_type": "code",
    "id": "FYFW6bSkFCMV"
   },
   "outputs": [],
   "source": [
    "def fit(w, b, X, Y, num_iterations, learning_rate, print_freq=100):\n",
    "    \"\"\"\n",
    "    Given the parameters of the model, fit the model corresponding to the given Input Matrix aand output labels, by performing batch gradient descent for given number of iterations.\n",
    "    \n",
    "    Arguments:\n",
    "        w: The Weight Matrix of dimension (1, n_x)\n",
    "        b: Bias\n",
    "        X: Input Matrix, with shape (n_x, m)\n",
    "        Y: Label Matrix of shape (1, m)\n",
    "        num_iterations: The number of iteratios of bgd to be performed\n",
    "        print_freq: Frequency of recording the cost\n",
    "    Returns:\n",
    "        w: Optimized weight matrix\n",
    "        b: optimized bias\n",
    "        costs: print the cost at frequency given by print_freq, no prints if freq is 0\n",
    "    \"\"\"\n",
    "    \n",
    "    costs = []\n",
    "    for i in range(num_iterations):\n",
    "        ## 1. Calculate Gradients and cost\n",
    "        dw , db , cost = propagate(w , b , X , Y)\n",
    "\n",
    "        costs.append(cost)\n",
    "            \n",
    "        if print_freq and i % print_freq == 0:\n",
    "            print(f\"Cost after iteration {i}: {cost}\")\n",
    "                \n",
    "        ## 2. Update parameters\n",
    "        w = w - (learning_rate*dw)\n",
    "        b = b - (learning_rate*db)    \n",
    "\n",
    "            \n",
    "    return w, b, costs\n",
    "        "
   ]
  },
  {
   "cell_type": "markdown",
   "metadata": {
    "colab_type": "text",
    "id": "oBa_RviiFCMY"
   },
   "source": [
    "### 7.4 Prediction\n",
    "Use the following equation to determine the class that a given sample belongs to:\n",
    "\n",
    "$$\n",
    "\\begin{equation}\n",
    "    Y_{prediction}^{(i)} =\n",
    "    \\begin{cases} \n",
    "        1 \\text{, if } \\hat Y^{(i)} \\ge 0.5\\\\\n",
    "        0 \\text{, if } \\hat Y^{(i)} \\lt 0.5\\\\\n",
    "    \\end{cases}\n",
    "\\end{equation}\n",
    "$$\n",
    "\n",
    "> Hint: Use boolean Masking"
   ]
  },
  {
   "cell_type": "code",
   "execution_count": 12,
   "metadata": {
    "ExecuteTime": {
     "end_time": "2020-05-29T16:31:58.136866Z",
     "start_time": "2020-05-29T16:31:58.060578Z"
    },
    "colab": {},
    "colab_type": "code",
    "id": "fcLm6a7cFCMY"
   },
   "outputs": [],
   "source": [
    "def predict(w, b, X):\n",
    "    \"\"\"\n",
    "    Predict the class which the given feature vector belongs to given Weights and Bias of the model\n",
    "    \n",
    "    Arguments:\n",
    "        w: The Weight Matrix of dimension (1, n_x)\n",
    "        b: Bias\n",
    "        X: Input Matrix, with X.shape[0] = n_X\n",
    "    Returns:\n",
    "        Y_prediction: Predicted labels\n",
    "    \"\"\"\n",
    "    Y_prediction = np.where(sigmoid((w.dot(X)) + b) >= 0.5 , 1 , 0)\n",
    "    return Y_prediction"
   ]
  },
  {
   "cell_type": "markdown",
   "metadata": {
    "colab_type": "text",
    "id": "Dv7psRMoFCMb"
   },
   "source": [
    "## 8. Building the Model\n",
    "\n",
    "Now we have assembled all the individual pieces required to create the Logistic Regression model.\n",
    "Next function is creating the model and calculating its train and test accuracy. \n",
    "\n",
    "Acuracy is the ratio of correctly guessed samples, to the total number of samples that were checked. \n",
    "> Note: The correct accuracy is not being provided this time."
   ]
  },
  {
   "cell_type": "code",
   "execution_count": 13,
   "metadata": {
    "ExecuteTime": {
     "end_time": "2020-05-29T16:31:58.218638Z",
     "start_time": "2020-05-29T16:31:58.142867Z"
    },
    "colab": {},
    "colab_type": "code",
    "id": "5RUTGfTyFCMc"
   },
   "outputs": [],
   "source": [
    "def model(X_train, Y_train, X_test, Y_test, num_iterations, learning_rate, print_freq):\n",
    "    \"\"\"\n",
    "    Create a model and fit it to the train and test data. Use this model to compute the train and test accuracy after 2500 iterations\n",
    "    \n",
    "    Arguments:\n",
    "        X_train: Training Data X\n",
    "        Y_train: Training Data Y\n",
    "        X_test: Testing Data X\n",
    "        Y_test: Testing data Y\n",
    "        num_iterations: Number of iterations of bgd to perform\n",
    "        learning_rate: Learning Rate of the model\n",
    "        print_freq: Frequency of recording the cost\n",
    "    Returns:\n",
    "        -None-\n",
    "    \"\"\"\n",
    "    # fitting data to classifier\n",
    "    w , b = initialize_parameters(784)\n",
    "    w , b , costs = fit(w , b , X_train , Y_train , num_iterations , learning_rate , print_freq)\n",
    "    \n",
    "    Y_prediction_train = predict(w, b, X_train)\n",
    "    Y_prediction_test = predict(w, b, X_test)\n",
    "    \n",
    "    costs = np.squeeze(costs)\n",
    "    \n",
    "    print(f\"train accuracy: {100 - np.mean(np.abs(Y_prediction_train - Y_train)) * 100} %\")\n",
    "    print(f\"test accuracy: {100 - np.mean(np.abs(Y_prediction_test - Y_test)) * 100} %\")\n",
    "    \n",
    "    plt.plot(costs)\n",
    "    \n",
    "    plt.ylabel('cost')\n",
    "    plt.xlabel('iterations (per hundreds)')\n",
    "    plt.title(f\"Learning rate = {learning_rate}\")\n",
    "    plt.show()\n",
    "    return"
   ]
  },
  {
   "cell_type": "code",
   "execution_count": 14,
   "metadata": {
    "ExecuteTime": {
     "end_time": "2020-05-29T16:32:17.311101Z",
     "start_time": "2020-05-29T16:31:58.221205Z"
    },
    "colab": {},
    "colab_type": "code",
    "id": "vEmGRqtqFCMf"
   },
   "outputs": [
    {
     "output_type": "stream",
     "name": "stdout",
     "text": "Cost after iteration 0: 0.6931271807599264\nCost after iteration 100: 0.47357795511972695\nCost after iteration 200: 0.4228570839393334\nCost after iteration 300: 0.39737834610244155\nCost after iteration 400: 0.3814410588737608\nCost after iteration 500: 0.3705436299379937\nCost after iteration 600: 0.3626881925090981\nCost after iteration 700: 0.35680455731991456\nCost after iteration 800: 0.352262570233598\nCost after iteration 900: 0.3486681938416862\nCost after iteration 1000: 0.34576374049723085\nCost after iteration 1100: 0.3433744931938563\nCost after iteration 1200: 0.3413783660322621\nCost after iteration 1300: 0.33968783665755103\nCost after iteration 1400: 0.3382387631265408\nCost after iteration 1500: 0.3369832293360869\nCost after iteration 1600: 0.33588483428548865\nCost after iteration 1700: 0.3349155111453482\nCost after iteration 1800: 0.3340533308745087\nCost after iteration 1900: 0.3332809552645251\nCost after iteration 2000: 0.332584527887649\nCost after iteration 2100: 0.3319528662101492\nCost after iteration 2200: 0.33137686455435617\nCost after iteration 2300: 0.3308490470809439\nCost after iteration 2400: 0.3303632290914513\ntrain accuracy: 86.2125 %\ntest accuracy: 87.0 %\n"
    },
    {
     "output_type": "display_data",
     "data": {
      "text/plain": "<Figure size 432x288 with 1 Axes>",
      "image/svg+xml": "<?xml version=\"1.0\" encoding=\"utf-8\" standalone=\"no\"?>\r\n<!DOCTYPE svg PUBLIC \"-//W3C//DTD SVG 1.1//EN\"\r\n  \"http://www.w3.org/Graphics/SVG/1.1/DTD/svg11.dtd\">\r\n<!-- Created with matplotlib (https://matplotlib.org/) -->\r\n<svg height=\"277.314375pt\" version=\"1.1\" viewBox=\"0 0 392.14375 277.314375\" width=\"392.14375pt\" xmlns=\"http://www.w3.org/2000/svg\" xmlns:xlink=\"http://www.w3.org/1999/xlink\">\r\n <defs>\r\n  <style type=\"text/css\">\r\n*{stroke-linecap:butt;stroke-linejoin:round;}\r\n  </style>\r\n </defs>\r\n <g id=\"figure_1\">\r\n  <g id=\"patch_1\">\r\n   <path d=\"M 0 277.314375 \r\nL 392.14375 277.314375 \r\nL 392.14375 0 \r\nL 0 0 \r\nz\r\n\" style=\"fill:none;\"/>\r\n  </g>\r\n  <g id=\"axes_1\">\r\n   <g id=\"patch_2\">\r\n    <path d=\"M 50.14375 239.758125 \r\nL 384.94375 239.758125 \r\nL 384.94375 22.318125 \r\nL 50.14375 22.318125 \r\nz\r\n\" style=\"fill:#ffffff;\"/>\r\n   </g>\r\n   <g id=\"matplotlib.axis_1\">\r\n    <g id=\"xtick_1\">\r\n     <g id=\"line2d_1\">\r\n      <defs>\r\n       <path d=\"M 0 0 \r\nL 0 3.5 \r\n\" id=\"m3167f83360\" style=\"stroke:#000000;stroke-width:0.8;\"/>\r\n      </defs>\r\n      <g>\r\n       <use style=\"stroke:#000000;stroke-width:0.8;\" x=\"65.361932\" xlink:href=\"#m3167f83360\" y=\"239.758125\"/>\r\n      </g>\r\n     </g>\r\n     <g id=\"text_1\">\r\n      <!-- 0 -->\r\n      <defs>\r\n       <path d=\"M 31.78125 66.40625 \r\nQ 24.171875 66.40625 20.328125 58.90625 \r\nQ 16.5 51.421875 16.5 36.375 \r\nQ 16.5 21.390625 20.328125 13.890625 \r\nQ 24.171875 6.390625 31.78125 6.390625 \r\nQ 39.453125 6.390625 43.28125 13.890625 \r\nQ 47.125 21.390625 47.125 36.375 \r\nQ 47.125 51.421875 43.28125 58.90625 \r\nQ 39.453125 66.40625 31.78125 66.40625 \r\nz\r\nM 31.78125 74.21875 \r\nQ 44.046875 74.21875 50.515625 64.515625 \r\nQ 56.984375 54.828125 56.984375 36.375 \r\nQ 56.984375 17.96875 50.515625 8.265625 \r\nQ 44.046875 -1.421875 31.78125 -1.421875 \r\nQ 19.53125 -1.421875 13.0625 8.265625 \r\nQ 6.59375 17.96875 6.59375 36.375 \r\nQ 6.59375 54.828125 13.0625 64.515625 \r\nQ 19.53125 74.21875 31.78125 74.21875 \r\nz\r\n\" id=\"DejaVuSans-48\"/>\r\n      </defs>\r\n      <g transform=\"translate(62.180682 254.356562)scale(0.1 -0.1)\">\r\n       <use xlink:href=\"#DejaVuSans-48\"/>\r\n      </g>\r\n     </g>\r\n    </g>\r\n    <g id=\"xtick_2\">\r\n     <g id=\"line2d_2\">\r\n      <g>\r\n       <use style=\"stroke:#000000;stroke-width:0.8;\" x=\"126.259018\" xlink:href=\"#m3167f83360\" y=\"239.758125\"/>\r\n      </g>\r\n     </g>\r\n     <g id=\"text_2\">\r\n      <!-- 500 -->\r\n      <defs>\r\n       <path d=\"M 10.796875 72.90625 \r\nL 49.515625 72.90625 \r\nL 49.515625 64.59375 \r\nL 19.828125 64.59375 \r\nL 19.828125 46.734375 \r\nQ 21.96875 47.46875 24.109375 47.828125 \r\nQ 26.265625 48.1875 28.421875 48.1875 \r\nQ 40.625 48.1875 47.75 41.5 \r\nQ 54.890625 34.8125 54.890625 23.390625 \r\nQ 54.890625 11.625 47.5625 5.09375 \r\nQ 40.234375 -1.421875 26.90625 -1.421875 \r\nQ 22.3125 -1.421875 17.546875 -0.640625 \r\nQ 12.796875 0.140625 7.71875 1.703125 \r\nL 7.71875 11.625 \r\nQ 12.109375 9.234375 16.796875 8.0625 \r\nQ 21.484375 6.890625 26.703125 6.890625 \r\nQ 35.15625 6.890625 40.078125 11.328125 \r\nQ 45.015625 15.765625 45.015625 23.390625 \r\nQ 45.015625 31 40.078125 35.4375 \r\nQ 35.15625 39.890625 26.703125 39.890625 \r\nQ 22.75 39.890625 18.8125 39.015625 \r\nQ 14.890625 38.140625 10.796875 36.28125 \r\nz\r\n\" id=\"DejaVuSans-53\"/>\r\n      </defs>\r\n      <g transform=\"translate(116.715268 254.356562)scale(0.1 -0.1)\">\r\n       <use xlink:href=\"#DejaVuSans-53\"/>\r\n       <use x=\"63.623047\" xlink:href=\"#DejaVuSans-48\"/>\r\n       <use x=\"127.246094\" xlink:href=\"#DejaVuSans-48\"/>\r\n      </g>\r\n     </g>\r\n    </g>\r\n    <g id=\"xtick_3\">\r\n     <g id=\"line2d_3\">\r\n      <g>\r\n       <use style=\"stroke:#000000;stroke-width:0.8;\" x=\"187.156104\" xlink:href=\"#m3167f83360\" y=\"239.758125\"/>\r\n      </g>\r\n     </g>\r\n     <g id=\"text_3\">\r\n      <!-- 1000 -->\r\n      <defs>\r\n       <path d=\"M 12.40625 8.296875 \r\nL 28.515625 8.296875 \r\nL 28.515625 63.921875 \r\nL 10.984375 60.40625 \r\nL 10.984375 69.390625 \r\nL 28.421875 72.90625 \r\nL 38.28125 72.90625 \r\nL 38.28125 8.296875 \r\nL 54.390625 8.296875 \r\nL 54.390625 0 \r\nL 12.40625 0 \r\nz\r\n\" id=\"DejaVuSans-49\"/>\r\n      </defs>\r\n      <g transform=\"translate(174.431104 254.356562)scale(0.1 -0.1)\">\r\n       <use xlink:href=\"#DejaVuSans-49\"/>\r\n       <use x=\"63.623047\" xlink:href=\"#DejaVuSans-48\"/>\r\n       <use x=\"127.246094\" xlink:href=\"#DejaVuSans-48\"/>\r\n       <use x=\"190.869141\" xlink:href=\"#DejaVuSans-48\"/>\r\n      </g>\r\n     </g>\r\n    </g>\r\n    <g id=\"xtick_4\">\r\n     <g id=\"line2d_4\">\r\n      <g>\r\n       <use style=\"stroke:#000000;stroke-width:0.8;\" x=\"248.05319\" xlink:href=\"#m3167f83360\" y=\"239.758125\"/>\r\n      </g>\r\n     </g>\r\n     <g id=\"text_4\">\r\n      <!-- 1500 -->\r\n      <g transform=\"translate(235.32819 254.356562)scale(0.1 -0.1)\">\r\n       <use xlink:href=\"#DejaVuSans-49\"/>\r\n       <use x=\"63.623047\" xlink:href=\"#DejaVuSans-53\"/>\r\n       <use x=\"127.246094\" xlink:href=\"#DejaVuSans-48\"/>\r\n       <use x=\"190.869141\" xlink:href=\"#DejaVuSans-48\"/>\r\n      </g>\r\n     </g>\r\n    </g>\r\n    <g id=\"xtick_5\">\r\n     <g id=\"line2d_5\">\r\n      <g>\r\n       <use style=\"stroke:#000000;stroke-width:0.8;\" x=\"308.950276\" xlink:href=\"#m3167f83360\" y=\"239.758125\"/>\r\n      </g>\r\n     </g>\r\n     <g id=\"text_5\">\r\n      <!-- 2000 -->\r\n      <defs>\r\n       <path d=\"M 19.1875 8.296875 \r\nL 53.609375 8.296875 \r\nL 53.609375 0 \r\nL 7.328125 0 \r\nL 7.328125 8.296875 \r\nQ 12.9375 14.109375 22.625 23.890625 \r\nQ 32.328125 33.6875 34.8125 36.53125 \r\nQ 39.546875 41.84375 41.421875 45.53125 \r\nQ 43.3125 49.21875 43.3125 52.78125 \r\nQ 43.3125 58.59375 39.234375 62.25 \r\nQ 35.15625 65.921875 28.609375 65.921875 \r\nQ 23.96875 65.921875 18.8125 64.3125 \r\nQ 13.671875 62.703125 7.8125 59.421875 \r\nL 7.8125 69.390625 \r\nQ 13.765625 71.78125 18.9375 73 \r\nQ 24.125 74.21875 28.421875 74.21875 \r\nQ 39.75 74.21875 46.484375 68.546875 \r\nQ 53.21875 62.890625 53.21875 53.421875 \r\nQ 53.21875 48.921875 51.53125 44.890625 \r\nQ 49.859375 40.875 45.40625 35.40625 \r\nQ 44.1875 33.984375 37.640625 27.21875 \r\nQ 31.109375 20.453125 19.1875 8.296875 \r\nz\r\n\" id=\"DejaVuSans-50\"/>\r\n      </defs>\r\n      <g transform=\"translate(296.225276 254.356562)scale(0.1 -0.1)\">\r\n       <use xlink:href=\"#DejaVuSans-50\"/>\r\n       <use x=\"63.623047\" xlink:href=\"#DejaVuSans-48\"/>\r\n       <use x=\"127.246094\" xlink:href=\"#DejaVuSans-48\"/>\r\n       <use x=\"190.869141\" xlink:href=\"#DejaVuSans-48\"/>\r\n      </g>\r\n     </g>\r\n    </g>\r\n    <g id=\"xtick_6\">\r\n     <g id=\"line2d_6\">\r\n      <g>\r\n       <use style=\"stroke:#000000;stroke-width:0.8;\" x=\"369.847362\" xlink:href=\"#m3167f83360\" y=\"239.758125\"/>\r\n      </g>\r\n     </g>\r\n     <g id=\"text_6\">\r\n      <!-- 2500 -->\r\n      <g transform=\"translate(357.122362 254.356562)scale(0.1 -0.1)\">\r\n       <use xlink:href=\"#DejaVuSans-50\"/>\r\n       <use x=\"63.623047\" xlink:href=\"#DejaVuSans-53\"/>\r\n       <use x=\"127.246094\" xlink:href=\"#DejaVuSans-48\"/>\r\n       <use x=\"190.869141\" xlink:href=\"#DejaVuSans-48\"/>\r\n      </g>\r\n     </g>\r\n    </g>\r\n    <g id=\"text_7\">\r\n     <!-- iterations (per hundreds) -->\r\n     <defs>\r\n      <path d=\"M 9.421875 54.6875 \r\nL 18.40625 54.6875 \r\nL 18.40625 0 \r\nL 9.421875 0 \r\nz\r\nM 9.421875 75.984375 \r\nL 18.40625 75.984375 \r\nL 18.40625 64.59375 \r\nL 9.421875 64.59375 \r\nz\r\n\" id=\"DejaVuSans-105\"/>\r\n      <path d=\"M 18.3125 70.21875 \r\nL 18.3125 54.6875 \r\nL 36.8125 54.6875 \r\nL 36.8125 47.703125 \r\nL 18.3125 47.703125 \r\nL 18.3125 18.015625 \r\nQ 18.3125 11.328125 20.140625 9.421875 \r\nQ 21.96875 7.515625 27.59375 7.515625 \r\nL 36.8125 7.515625 \r\nL 36.8125 0 \r\nL 27.59375 0 \r\nQ 17.1875 0 13.234375 3.875 \r\nQ 9.28125 7.765625 9.28125 18.015625 \r\nL 9.28125 47.703125 \r\nL 2.6875 47.703125 \r\nL 2.6875 54.6875 \r\nL 9.28125 54.6875 \r\nL 9.28125 70.21875 \r\nz\r\n\" id=\"DejaVuSans-116\"/>\r\n      <path d=\"M 56.203125 29.59375 \r\nL 56.203125 25.203125 \r\nL 14.890625 25.203125 \r\nQ 15.484375 15.921875 20.484375 11.0625 \r\nQ 25.484375 6.203125 34.421875 6.203125 \r\nQ 39.59375 6.203125 44.453125 7.46875 \r\nQ 49.3125 8.734375 54.109375 11.28125 \r\nL 54.109375 2.78125 \r\nQ 49.265625 0.734375 44.1875 -0.34375 \r\nQ 39.109375 -1.421875 33.890625 -1.421875 \r\nQ 20.796875 -1.421875 13.15625 6.1875 \r\nQ 5.515625 13.8125 5.515625 26.8125 \r\nQ 5.515625 40.234375 12.765625 48.109375 \r\nQ 20.015625 56 32.328125 56 \r\nQ 43.359375 56 49.78125 48.890625 \r\nQ 56.203125 41.796875 56.203125 29.59375 \r\nz\r\nM 47.21875 32.234375 \r\nQ 47.125 39.59375 43.09375 43.984375 \r\nQ 39.0625 48.390625 32.421875 48.390625 \r\nQ 24.90625 48.390625 20.390625 44.140625 \r\nQ 15.875 39.890625 15.1875 32.171875 \r\nz\r\n\" id=\"DejaVuSans-101\"/>\r\n      <path d=\"M 41.109375 46.296875 \r\nQ 39.59375 47.171875 37.8125 47.578125 \r\nQ 36.03125 48 33.890625 48 \r\nQ 26.265625 48 22.1875 43.046875 \r\nQ 18.109375 38.09375 18.109375 28.8125 \r\nL 18.109375 0 \r\nL 9.078125 0 \r\nL 9.078125 54.6875 \r\nL 18.109375 54.6875 \r\nL 18.109375 46.1875 \r\nQ 20.953125 51.171875 25.484375 53.578125 \r\nQ 30.03125 56 36.53125 56 \r\nQ 37.453125 56 38.578125 55.875 \r\nQ 39.703125 55.765625 41.0625 55.515625 \r\nz\r\n\" id=\"DejaVuSans-114\"/>\r\n      <path d=\"M 34.28125 27.484375 \r\nQ 23.390625 27.484375 19.1875 25 \r\nQ 14.984375 22.515625 14.984375 16.5 \r\nQ 14.984375 11.71875 18.140625 8.90625 \r\nQ 21.296875 6.109375 26.703125 6.109375 \r\nQ 34.1875 6.109375 38.703125 11.40625 \r\nQ 43.21875 16.703125 43.21875 25.484375 \r\nL 43.21875 27.484375 \r\nz\r\nM 52.203125 31.203125 \r\nL 52.203125 0 \r\nL 43.21875 0 \r\nL 43.21875 8.296875 \r\nQ 40.140625 3.328125 35.546875 0.953125 \r\nQ 30.953125 -1.421875 24.3125 -1.421875 \r\nQ 15.921875 -1.421875 10.953125 3.296875 \r\nQ 6 8.015625 6 15.921875 \r\nQ 6 25.140625 12.171875 29.828125 \r\nQ 18.359375 34.515625 30.609375 34.515625 \r\nL 43.21875 34.515625 \r\nL 43.21875 35.40625 \r\nQ 43.21875 41.609375 39.140625 45 \r\nQ 35.0625 48.390625 27.6875 48.390625 \r\nQ 23 48.390625 18.546875 47.265625 \r\nQ 14.109375 46.140625 10.015625 43.890625 \r\nL 10.015625 52.203125 \r\nQ 14.9375 54.109375 19.578125 55.046875 \r\nQ 24.21875 56 28.609375 56 \r\nQ 40.484375 56 46.34375 49.84375 \r\nQ 52.203125 43.703125 52.203125 31.203125 \r\nz\r\n\" id=\"DejaVuSans-97\"/>\r\n      <path d=\"M 30.609375 48.390625 \r\nQ 23.390625 48.390625 19.1875 42.75 \r\nQ 14.984375 37.109375 14.984375 27.296875 \r\nQ 14.984375 17.484375 19.15625 11.84375 \r\nQ 23.34375 6.203125 30.609375 6.203125 \r\nQ 37.796875 6.203125 41.984375 11.859375 \r\nQ 46.1875 17.53125 46.1875 27.296875 \r\nQ 46.1875 37.015625 41.984375 42.703125 \r\nQ 37.796875 48.390625 30.609375 48.390625 \r\nz\r\nM 30.609375 56 \r\nQ 42.328125 56 49.015625 48.375 \r\nQ 55.71875 40.765625 55.71875 27.296875 \r\nQ 55.71875 13.875 49.015625 6.21875 \r\nQ 42.328125 -1.421875 30.609375 -1.421875 \r\nQ 18.84375 -1.421875 12.171875 6.21875 \r\nQ 5.515625 13.875 5.515625 27.296875 \r\nQ 5.515625 40.765625 12.171875 48.375 \r\nQ 18.84375 56 30.609375 56 \r\nz\r\n\" id=\"DejaVuSans-111\"/>\r\n      <path d=\"M 54.890625 33.015625 \r\nL 54.890625 0 \r\nL 45.90625 0 \r\nL 45.90625 32.71875 \r\nQ 45.90625 40.484375 42.875 44.328125 \r\nQ 39.84375 48.1875 33.796875 48.1875 \r\nQ 26.515625 48.1875 22.3125 43.546875 \r\nQ 18.109375 38.921875 18.109375 30.90625 \r\nL 18.109375 0 \r\nL 9.078125 0 \r\nL 9.078125 54.6875 \r\nL 18.109375 54.6875 \r\nL 18.109375 46.1875 \r\nQ 21.34375 51.125 25.703125 53.5625 \r\nQ 30.078125 56 35.796875 56 \r\nQ 45.21875 56 50.046875 50.171875 \r\nQ 54.890625 44.34375 54.890625 33.015625 \r\nz\r\n\" id=\"DejaVuSans-110\"/>\r\n      <path d=\"M 44.28125 53.078125 \r\nL 44.28125 44.578125 \r\nQ 40.484375 46.53125 36.375 47.5 \r\nQ 32.28125 48.484375 27.875 48.484375 \r\nQ 21.1875 48.484375 17.84375 46.4375 \r\nQ 14.5 44.390625 14.5 40.28125 \r\nQ 14.5 37.15625 16.890625 35.375 \r\nQ 19.28125 33.59375 26.515625 31.984375 \r\nL 29.59375 31.296875 \r\nQ 39.15625 29.25 43.1875 25.515625 \r\nQ 47.21875 21.78125 47.21875 15.09375 \r\nQ 47.21875 7.46875 41.1875 3.015625 \r\nQ 35.15625 -1.421875 24.609375 -1.421875 \r\nQ 20.21875 -1.421875 15.453125 -0.5625 \r\nQ 10.6875 0.296875 5.421875 2 \r\nL 5.421875 11.28125 \r\nQ 10.40625 8.6875 15.234375 7.390625 \r\nQ 20.0625 6.109375 24.8125 6.109375 \r\nQ 31.15625 6.109375 34.5625 8.28125 \r\nQ 37.984375 10.453125 37.984375 14.40625 \r\nQ 37.984375 18.0625 35.515625 20.015625 \r\nQ 33.0625 21.96875 24.703125 23.78125 \r\nL 21.578125 24.515625 \r\nQ 13.234375 26.265625 9.515625 29.90625 \r\nQ 5.8125 33.546875 5.8125 39.890625 \r\nQ 5.8125 47.609375 11.28125 51.796875 \r\nQ 16.75 56 26.8125 56 \r\nQ 31.78125 56 36.171875 55.265625 \r\nQ 40.578125 54.546875 44.28125 53.078125 \r\nz\r\n\" id=\"DejaVuSans-115\"/>\r\n      <path id=\"DejaVuSans-32\"/>\r\n      <path d=\"M 31 75.875 \r\nQ 24.46875 64.65625 21.28125 53.65625 \r\nQ 18.109375 42.671875 18.109375 31.390625 \r\nQ 18.109375 20.125 21.3125 9.0625 \r\nQ 24.515625 -2 31 -13.1875 \r\nL 23.1875 -13.1875 \r\nQ 15.875 -1.703125 12.234375 9.375 \r\nQ 8.59375 20.453125 8.59375 31.390625 \r\nQ 8.59375 42.28125 12.203125 53.3125 \r\nQ 15.828125 64.359375 23.1875 75.875 \r\nz\r\n\" id=\"DejaVuSans-40\"/>\r\n      <path d=\"M 18.109375 8.203125 \r\nL 18.109375 -20.796875 \r\nL 9.078125 -20.796875 \r\nL 9.078125 54.6875 \r\nL 18.109375 54.6875 \r\nL 18.109375 46.390625 \r\nQ 20.953125 51.265625 25.265625 53.625 \r\nQ 29.59375 56 35.59375 56 \r\nQ 45.5625 56 51.78125 48.09375 \r\nQ 58.015625 40.1875 58.015625 27.296875 \r\nQ 58.015625 14.40625 51.78125 6.484375 \r\nQ 45.5625 -1.421875 35.59375 -1.421875 \r\nQ 29.59375 -1.421875 25.265625 0.953125 \r\nQ 20.953125 3.328125 18.109375 8.203125 \r\nz\r\nM 48.6875 27.296875 \r\nQ 48.6875 37.203125 44.609375 42.84375 \r\nQ 40.53125 48.484375 33.40625 48.484375 \r\nQ 26.265625 48.484375 22.1875 42.84375 \r\nQ 18.109375 37.203125 18.109375 27.296875 \r\nQ 18.109375 17.390625 22.1875 11.75 \r\nQ 26.265625 6.109375 33.40625 6.109375 \r\nQ 40.53125 6.109375 44.609375 11.75 \r\nQ 48.6875 17.390625 48.6875 27.296875 \r\nz\r\n\" id=\"DejaVuSans-112\"/>\r\n      <path d=\"M 54.890625 33.015625 \r\nL 54.890625 0 \r\nL 45.90625 0 \r\nL 45.90625 32.71875 \r\nQ 45.90625 40.484375 42.875 44.328125 \r\nQ 39.84375 48.1875 33.796875 48.1875 \r\nQ 26.515625 48.1875 22.3125 43.546875 \r\nQ 18.109375 38.921875 18.109375 30.90625 \r\nL 18.109375 0 \r\nL 9.078125 0 \r\nL 9.078125 75.984375 \r\nL 18.109375 75.984375 \r\nL 18.109375 46.1875 \r\nQ 21.34375 51.125 25.703125 53.5625 \r\nQ 30.078125 56 35.796875 56 \r\nQ 45.21875 56 50.046875 50.171875 \r\nQ 54.890625 44.34375 54.890625 33.015625 \r\nz\r\n\" id=\"DejaVuSans-104\"/>\r\n      <path d=\"M 8.5 21.578125 \r\nL 8.5 54.6875 \r\nL 17.484375 54.6875 \r\nL 17.484375 21.921875 \r\nQ 17.484375 14.15625 20.5 10.265625 \r\nQ 23.53125 6.390625 29.59375 6.390625 \r\nQ 36.859375 6.390625 41.078125 11.03125 \r\nQ 45.3125 15.671875 45.3125 23.6875 \r\nL 45.3125 54.6875 \r\nL 54.296875 54.6875 \r\nL 54.296875 0 \r\nL 45.3125 0 \r\nL 45.3125 8.40625 \r\nQ 42.046875 3.421875 37.71875 1 \r\nQ 33.40625 -1.421875 27.6875 -1.421875 \r\nQ 18.265625 -1.421875 13.375 4.4375 \r\nQ 8.5 10.296875 8.5 21.578125 \r\nz\r\nM 31.109375 56 \r\nz\r\n\" id=\"DejaVuSans-117\"/>\r\n      <path d=\"M 45.40625 46.390625 \r\nL 45.40625 75.984375 \r\nL 54.390625 75.984375 \r\nL 54.390625 0 \r\nL 45.40625 0 \r\nL 45.40625 8.203125 \r\nQ 42.578125 3.328125 38.25 0.953125 \r\nQ 33.9375 -1.421875 27.875 -1.421875 \r\nQ 17.96875 -1.421875 11.734375 6.484375 \r\nQ 5.515625 14.40625 5.515625 27.296875 \r\nQ 5.515625 40.1875 11.734375 48.09375 \r\nQ 17.96875 56 27.875 56 \r\nQ 33.9375 56 38.25 53.625 \r\nQ 42.578125 51.265625 45.40625 46.390625 \r\nz\r\nM 14.796875 27.296875 \r\nQ 14.796875 17.390625 18.875 11.75 \r\nQ 22.953125 6.109375 30.078125 6.109375 \r\nQ 37.203125 6.109375 41.296875 11.75 \r\nQ 45.40625 17.390625 45.40625 27.296875 \r\nQ 45.40625 37.203125 41.296875 42.84375 \r\nQ 37.203125 48.484375 30.078125 48.484375 \r\nQ 22.953125 48.484375 18.875 42.84375 \r\nQ 14.796875 37.203125 14.796875 27.296875 \r\nz\r\n\" id=\"DejaVuSans-100\"/>\r\n      <path d=\"M 8.015625 75.875 \r\nL 15.828125 75.875 \r\nQ 23.140625 64.359375 26.78125 53.3125 \r\nQ 30.421875 42.28125 30.421875 31.390625 \r\nQ 30.421875 20.453125 26.78125 9.375 \r\nQ 23.140625 -1.703125 15.828125 -13.1875 \r\nL 8.015625 -13.1875 \r\nQ 14.5 -2 17.703125 9.0625 \r\nQ 20.90625 20.125 20.90625 31.390625 \r\nQ 20.90625 42.671875 17.703125 53.65625 \r\nQ 14.5 64.65625 8.015625 75.875 \r\nz\r\n\" id=\"DejaVuSans-41\"/>\r\n     </defs>\r\n     <g transform=\"translate(154.951563 268.034687)scale(0.1 -0.1)\">\r\n      <use xlink:href=\"#DejaVuSans-105\"/>\r\n      <use x=\"27.783203\" xlink:href=\"#DejaVuSans-116\"/>\r\n      <use x=\"66.992188\" xlink:href=\"#DejaVuSans-101\"/>\r\n      <use x=\"128.515625\" xlink:href=\"#DejaVuSans-114\"/>\r\n      <use x=\"169.628906\" xlink:href=\"#DejaVuSans-97\"/>\r\n      <use x=\"230.908203\" xlink:href=\"#DejaVuSans-116\"/>\r\n      <use x=\"270.117188\" xlink:href=\"#DejaVuSans-105\"/>\r\n      <use x=\"297.900391\" xlink:href=\"#DejaVuSans-111\"/>\r\n      <use x=\"359.082031\" xlink:href=\"#DejaVuSans-110\"/>\r\n      <use x=\"422.460938\" xlink:href=\"#DejaVuSans-115\"/>\r\n      <use x=\"474.560547\" xlink:href=\"#DejaVuSans-32\"/>\r\n      <use x=\"506.347656\" xlink:href=\"#DejaVuSans-40\"/>\r\n      <use x=\"545.361328\" xlink:href=\"#DejaVuSans-112\"/>\r\n      <use x=\"608.837891\" xlink:href=\"#DejaVuSans-101\"/>\r\n      <use x=\"670.361328\" xlink:href=\"#DejaVuSans-114\"/>\r\n      <use x=\"711.474609\" xlink:href=\"#DejaVuSans-32\"/>\r\n      <use x=\"743.261719\" xlink:href=\"#DejaVuSans-104\"/>\r\n      <use x=\"806.640625\" xlink:href=\"#DejaVuSans-117\"/>\r\n      <use x=\"870.019531\" xlink:href=\"#DejaVuSans-110\"/>\r\n      <use x=\"933.398438\" xlink:href=\"#DejaVuSans-100\"/>\r\n      <use x=\"996.875\" xlink:href=\"#DejaVuSans-114\"/>\r\n      <use x=\"1035.738281\" xlink:href=\"#DejaVuSans-101\"/>\r\n      <use x=\"1097.261719\" xlink:href=\"#DejaVuSans-100\"/>\r\n      <use x=\"1160.738281\" xlink:href=\"#DejaVuSans-115\"/>\r\n      <use x=\"1212.837891\" xlink:href=\"#DejaVuSans-41\"/>\r\n     </g>\r\n    </g>\r\n   </g>\r\n   <g id=\"matplotlib.axis_2\">\r\n    <g id=\"ytick_1\">\r\n     <g id=\"line2d_7\">\r\n      <defs>\r\n       <path d=\"M 0 0 \r\nL -3.5 0 \r\n\" id=\"m258a08c893\" style=\"stroke:#000000;stroke-width:0.8;\"/>\r\n      </defs>\r\n      <g>\r\n       <use style=\"stroke:#000000;stroke-width:0.8;\" x=\"50.14375\" xlink:href=\"#m258a08c893\" y=\"218.945372\"/>\r\n      </g>\r\n     </g>\r\n     <g id=\"text_8\">\r\n      <!-- 0.35 -->\r\n      <defs>\r\n       <path d=\"M 10.6875 12.40625 \r\nL 21 12.40625 \r\nL 21 0 \r\nL 10.6875 0 \r\nz\r\n\" id=\"DejaVuSans-46\"/>\r\n       <path d=\"M 40.578125 39.3125 \r\nQ 47.65625 37.796875 51.625 33 \r\nQ 55.609375 28.21875 55.609375 21.1875 \r\nQ 55.609375 10.40625 48.1875 4.484375 \r\nQ 40.765625 -1.421875 27.09375 -1.421875 \r\nQ 22.515625 -1.421875 17.65625 -0.515625 \r\nQ 12.796875 0.390625 7.625 2.203125 \r\nL 7.625 11.71875 \r\nQ 11.71875 9.328125 16.59375 8.109375 \r\nQ 21.484375 6.890625 26.8125 6.890625 \r\nQ 36.078125 6.890625 40.9375 10.546875 \r\nQ 45.796875 14.203125 45.796875 21.1875 \r\nQ 45.796875 27.640625 41.28125 31.265625 \r\nQ 36.765625 34.90625 28.71875 34.90625 \r\nL 20.21875 34.90625 \r\nL 20.21875 43.015625 \r\nL 29.109375 43.015625 \r\nQ 36.375 43.015625 40.234375 45.921875 \r\nQ 44.09375 48.828125 44.09375 54.296875 \r\nQ 44.09375 59.90625 40.109375 62.90625 \r\nQ 36.140625 65.921875 28.71875 65.921875 \r\nQ 24.65625 65.921875 20.015625 65.03125 \r\nQ 15.375 64.15625 9.8125 62.3125 \r\nL 9.8125 71.09375 \r\nQ 15.4375 72.65625 20.34375 73.4375 \r\nQ 25.25 74.21875 29.59375 74.21875 \r\nQ 40.828125 74.21875 47.359375 69.109375 \r\nQ 53.90625 64.015625 53.90625 55.328125 \r\nQ 53.90625 49.265625 50.4375 45.09375 \r\nQ 46.96875 40.921875 40.578125 39.3125 \r\nz\r\n\" id=\"DejaVuSans-51\"/>\r\n      </defs>\r\n      <g transform=\"translate(20.878125 222.744591)scale(0.1 -0.1)\">\r\n       <use xlink:href=\"#DejaVuSans-48\"/>\r\n       <use x=\"63.623047\" xlink:href=\"#DejaVuSans-46\"/>\r\n       <use x=\"95.410156\" xlink:href=\"#DejaVuSans-51\"/>\r\n       <use x=\"159.033203\" xlink:href=\"#DejaVuSans-53\"/>\r\n      </g>\r\n     </g>\r\n    </g>\r\n    <g id=\"ytick_2\">\r\n     <g id=\"line2d_8\">\r\n      <g>\r\n       <use style=\"stroke:#000000;stroke-width:0.8;\" x=\"50.14375\" xlink:href=\"#m258a08c893\" y=\"191.733361\"/>\r\n      </g>\r\n     </g>\r\n     <g id=\"text_9\">\r\n      <!-- 0.40 -->\r\n      <defs>\r\n       <path d=\"M 37.796875 64.3125 \r\nL 12.890625 25.390625 \r\nL 37.796875 25.390625 \r\nz\r\nM 35.203125 72.90625 \r\nL 47.609375 72.90625 \r\nL 47.609375 25.390625 \r\nL 58.015625 25.390625 \r\nL 58.015625 17.1875 \r\nL 47.609375 17.1875 \r\nL 47.609375 0 \r\nL 37.796875 0 \r\nL 37.796875 17.1875 \r\nL 4.890625 17.1875 \r\nL 4.890625 26.703125 \r\nz\r\n\" id=\"DejaVuSans-52\"/>\r\n      </defs>\r\n      <g transform=\"translate(20.878125 195.53258)scale(0.1 -0.1)\">\r\n       <use xlink:href=\"#DejaVuSans-48\"/>\r\n       <use x=\"63.623047\" xlink:href=\"#DejaVuSans-46\"/>\r\n       <use x=\"95.410156\" xlink:href=\"#DejaVuSans-52\"/>\r\n       <use x=\"159.033203\" xlink:href=\"#DejaVuSans-48\"/>\r\n      </g>\r\n     </g>\r\n    </g>\r\n    <g id=\"ytick_3\">\r\n     <g id=\"line2d_9\">\r\n      <g>\r\n       <use style=\"stroke:#000000;stroke-width:0.8;\" x=\"50.14375\" xlink:href=\"#m258a08c893\" y=\"164.521351\"/>\r\n      </g>\r\n     </g>\r\n     <g id=\"text_10\">\r\n      <!-- 0.45 -->\r\n      <g transform=\"translate(20.878125 168.320569)scale(0.1 -0.1)\">\r\n       <use xlink:href=\"#DejaVuSans-48\"/>\r\n       <use x=\"63.623047\" xlink:href=\"#DejaVuSans-46\"/>\r\n       <use x=\"95.410156\" xlink:href=\"#DejaVuSans-52\"/>\r\n       <use x=\"159.033203\" xlink:href=\"#DejaVuSans-53\"/>\r\n      </g>\r\n     </g>\r\n    </g>\r\n    <g id=\"ytick_4\">\r\n     <g id=\"line2d_10\">\r\n      <g>\r\n       <use style=\"stroke:#000000;stroke-width:0.8;\" x=\"50.14375\" xlink:href=\"#m258a08c893\" y=\"137.30934\"/>\r\n      </g>\r\n     </g>\r\n     <g id=\"text_11\">\r\n      <!-- 0.50 -->\r\n      <g transform=\"translate(20.878125 141.108559)scale(0.1 -0.1)\">\r\n       <use xlink:href=\"#DejaVuSans-48\"/>\r\n       <use x=\"63.623047\" xlink:href=\"#DejaVuSans-46\"/>\r\n       <use x=\"95.410156\" xlink:href=\"#DejaVuSans-53\"/>\r\n       <use x=\"159.033203\" xlink:href=\"#DejaVuSans-48\"/>\r\n      </g>\r\n     </g>\r\n    </g>\r\n    <g id=\"ytick_5\">\r\n     <g id=\"line2d_11\">\r\n      <g>\r\n       <use style=\"stroke:#000000;stroke-width:0.8;\" x=\"50.14375\" xlink:href=\"#m258a08c893\" y=\"110.097329\"/>\r\n      </g>\r\n     </g>\r\n     <g id=\"text_12\">\r\n      <!-- 0.55 -->\r\n      <g transform=\"translate(20.878125 113.896548)scale(0.1 -0.1)\">\r\n       <use xlink:href=\"#DejaVuSans-48\"/>\r\n       <use x=\"63.623047\" xlink:href=\"#DejaVuSans-46\"/>\r\n       <use x=\"95.410156\" xlink:href=\"#DejaVuSans-53\"/>\r\n       <use x=\"159.033203\" xlink:href=\"#DejaVuSans-53\"/>\r\n      </g>\r\n     </g>\r\n    </g>\r\n    <g id=\"ytick_6\">\r\n     <g id=\"line2d_12\">\r\n      <g>\r\n       <use style=\"stroke:#000000;stroke-width:0.8;\" x=\"50.14375\" xlink:href=\"#m258a08c893\" y=\"82.885318\"/>\r\n      </g>\r\n     </g>\r\n     <g id=\"text_13\">\r\n      <!-- 0.60 -->\r\n      <defs>\r\n       <path d=\"M 33.015625 40.375 \r\nQ 26.375 40.375 22.484375 35.828125 \r\nQ 18.609375 31.296875 18.609375 23.390625 \r\nQ 18.609375 15.53125 22.484375 10.953125 \r\nQ 26.375 6.390625 33.015625 6.390625 \r\nQ 39.65625 6.390625 43.53125 10.953125 \r\nQ 47.40625 15.53125 47.40625 23.390625 \r\nQ 47.40625 31.296875 43.53125 35.828125 \r\nQ 39.65625 40.375 33.015625 40.375 \r\nz\r\nM 52.59375 71.296875 \r\nL 52.59375 62.3125 \r\nQ 48.875 64.0625 45.09375 64.984375 \r\nQ 41.3125 65.921875 37.59375 65.921875 \r\nQ 27.828125 65.921875 22.671875 59.328125 \r\nQ 17.53125 52.734375 16.796875 39.40625 \r\nQ 19.671875 43.65625 24.015625 45.921875 \r\nQ 28.375 48.1875 33.59375 48.1875 \r\nQ 44.578125 48.1875 50.953125 41.515625 \r\nQ 57.328125 34.859375 57.328125 23.390625 \r\nQ 57.328125 12.15625 50.6875 5.359375 \r\nQ 44.046875 -1.421875 33.015625 -1.421875 \r\nQ 20.359375 -1.421875 13.671875 8.265625 \r\nQ 6.984375 17.96875 6.984375 36.375 \r\nQ 6.984375 53.65625 15.1875 63.9375 \r\nQ 23.390625 74.21875 37.203125 74.21875 \r\nQ 40.921875 74.21875 44.703125 73.484375 \r\nQ 48.484375 72.75 52.59375 71.296875 \r\nz\r\n\" id=\"DejaVuSans-54\"/>\r\n      </defs>\r\n      <g transform=\"translate(20.878125 86.684537)scale(0.1 -0.1)\">\r\n       <use xlink:href=\"#DejaVuSans-48\"/>\r\n       <use x=\"63.623047\" xlink:href=\"#DejaVuSans-46\"/>\r\n       <use x=\"95.410156\" xlink:href=\"#DejaVuSans-54\"/>\r\n       <use x=\"159.033203\" xlink:href=\"#DejaVuSans-48\"/>\r\n      </g>\r\n     </g>\r\n    </g>\r\n    <g id=\"ytick_7\">\r\n     <g id=\"line2d_13\">\r\n      <g>\r\n       <use style=\"stroke:#000000;stroke-width:0.8;\" x=\"50.14375\" xlink:href=\"#m258a08c893\" y=\"55.673308\"/>\r\n      </g>\r\n     </g>\r\n     <g id=\"text_14\">\r\n      <!-- 0.65 -->\r\n      <g transform=\"translate(20.878125 59.472526)scale(0.1 -0.1)\">\r\n       <use xlink:href=\"#DejaVuSans-48\"/>\r\n       <use x=\"63.623047\" xlink:href=\"#DejaVuSans-46\"/>\r\n       <use x=\"95.410156\" xlink:href=\"#DejaVuSans-54\"/>\r\n       <use x=\"159.033203\" xlink:href=\"#DejaVuSans-53\"/>\r\n      </g>\r\n     </g>\r\n    </g>\r\n    <g id=\"ytick_8\">\r\n     <g id=\"line2d_14\">\r\n      <g>\r\n       <use style=\"stroke:#000000;stroke-width:0.8;\" x=\"50.14375\" xlink:href=\"#m258a08c893\" y=\"28.461297\"/>\r\n      </g>\r\n     </g>\r\n     <g id=\"text_15\">\r\n      <!-- 0.70 -->\r\n      <defs>\r\n       <path d=\"M 8.203125 72.90625 \r\nL 55.078125 72.90625 \r\nL 55.078125 68.703125 \r\nL 28.609375 0 \r\nL 18.3125 0 \r\nL 43.21875 64.59375 \r\nL 8.203125 64.59375 \r\nz\r\n\" id=\"DejaVuSans-55\"/>\r\n      </defs>\r\n      <g transform=\"translate(20.878125 32.260515)scale(0.1 -0.1)\">\r\n       <use xlink:href=\"#DejaVuSans-48\"/>\r\n       <use x=\"63.623047\" xlink:href=\"#DejaVuSans-46\"/>\r\n       <use x=\"95.410156\" xlink:href=\"#DejaVuSans-55\"/>\r\n       <use x=\"159.033203\" xlink:href=\"#DejaVuSans-48\"/>\r\n      </g>\r\n     </g>\r\n    </g>\r\n    <g id=\"text_16\">\r\n     <!-- cost -->\r\n     <defs>\r\n      <path d=\"M 48.78125 52.59375 \r\nL 48.78125 44.1875 \r\nQ 44.96875 46.296875 41.140625 47.34375 \r\nQ 37.3125 48.390625 33.40625 48.390625 \r\nQ 24.65625 48.390625 19.8125 42.84375 \r\nQ 14.984375 37.3125 14.984375 27.296875 \r\nQ 14.984375 17.28125 19.8125 11.734375 \r\nQ 24.65625 6.203125 33.40625 6.203125 \r\nQ 37.3125 6.203125 41.140625 7.25 \r\nQ 44.96875 8.296875 48.78125 10.40625 \r\nL 48.78125 2.09375 \r\nQ 45.015625 0.34375 40.984375 -0.53125 \r\nQ 36.96875 -1.421875 32.421875 -1.421875 \r\nQ 20.0625 -1.421875 12.78125 6.34375 \r\nQ 5.515625 14.109375 5.515625 27.296875 \r\nQ 5.515625 40.671875 12.859375 48.328125 \r\nQ 20.21875 56 33.015625 56 \r\nQ 37.15625 56 41.109375 55.140625 \r\nQ 45.0625 54.296875 48.78125 52.59375 \r\nz\r\n\" id=\"DejaVuSans-99\"/>\r\n     </defs>\r\n     <g transform=\"translate(14.798438 141.411562)rotate(-90)scale(0.1 -0.1)\">\r\n      <use xlink:href=\"#DejaVuSans-99\"/>\r\n      <use x=\"54.980469\" xlink:href=\"#DejaVuSans-111\"/>\r\n      <use x=\"116.162109\" xlink:href=\"#DejaVuSans-115\"/>\r\n      <use x=\"168.261719\" xlink:href=\"#DejaVuSans-116\"/>\r\n     </g>\r\n    </g>\r\n   </g>\r\n   <g id=\"line2d_15\">\r\n    <path clip-path=\"url(#p67e81c9dc0)\" d=\"M 65.361932 32.201761 \r\nL 66.336285 54.887947 \r\nL 67.432433 74.859296 \r\nL 68.52858 90.695346 \r\nL 69.624728 103.472705 \r\nL 70.84267 114.992677 \r\nL 72.060611 124.403445 \r\nL 73.400347 132.939774 \r\nL 74.740083 140.046677 \r\nL 76.201613 146.571925 \r\nL 77.663143 152.120235 \r\nL 79.246467 157.284991 \r\nL 80.951586 162.085486 \r\nL 82.778498 166.547882 \r\nL 84.727205 170.70042 \r\nL 86.797706 174.570488 \r\nL 88.990001 178.183069 \r\nL 91.30409 181.560134 \r\nL 93.739974 184.720613 \r\nL 96.297652 187.680693 \r\nL 99.098918 190.573282 \r\nL 102.021978 193.266483 \r\nL 105.066832 195.775384 \r\nL 108.355275 198.198124 \r\nL 111.887306 200.519584 \r\nL 115.662925 202.729156 \r\nL 119.682133 204.820106 \r\nL 123.944929 206.788986 \r\nL 128.573107 208.681964 \r\nL 133.566668 210.484122 \r\nL 139.047406 212.221974 \r\nL 145.01532 213.876637 \r\nL 151.592206 215.463216 \r\nL 158.778062 216.963885 \r\nL 166.694683 218.388223 \r\nL 175.585658 219.75721 \r\nL 185.450986 221.048308 \r\nL 196.656049 222.285499 \r\nL 209.322643 223.455526 \r\nL 223.81615 224.566153 \r\nL 240.501951 225.617187 \r\nL 259.989019 226.61619 \r\nL 282.886323 227.561634 \r\nL 310.168218 228.459446 \r\nL 343.174439 229.315365 \r\nL 369.725568 229.874489 \r\nL 369.725568 229.874489 \r\n\" style=\"fill:none;stroke:#1f77b4;stroke-linecap:square;stroke-width:1.5;\"/>\r\n   </g>\r\n   <g id=\"patch_3\">\r\n    <path d=\"M 50.14375 239.758125 \r\nL 50.14375 22.318125 \r\n\" style=\"fill:none;stroke:#000000;stroke-linecap:square;stroke-linejoin:miter;stroke-width:0.8;\"/>\r\n   </g>\r\n   <g id=\"patch_4\">\r\n    <path d=\"M 384.94375 239.758125 \r\nL 384.94375 22.318125 \r\n\" style=\"fill:none;stroke:#000000;stroke-linecap:square;stroke-linejoin:miter;stroke-width:0.8;\"/>\r\n   </g>\r\n   <g id=\"patch_5\">\r\n    <path d=\"M 50.14375 239.758125 \r\nL 384.94375 239.758125 \r\n\" style=\"fill:none;stroke:#000000;stroke-linecap:square;stroke-linejoin:miter;stroke-width:0.8;\"/>\r\n   </g>\r\n   <g id=\"patch_6\">\r\n    <path d=\"M 50.14375 22.318125 \r\nL 384.94375 22.318125 \r\n\" style=\"fill:none;stroke:#000000;stroke-linecap:square;stroke-linejoin:miter;stroke-width:0.8;\"/>\r\n   </g>\r\n   <g id=\"text_17\">\r\n    <!-- Learning rate = 0.01 -->\r\n    <defs>\r\n     <path d=\"M 9.8125 72.90625 \r\nL 19.671875 72.90625 \r\nL 19.671875 8.296875 \r\nL 55.171875 8.296875 \r\nL 55.171875 0 \r\nL 9.8125 0 \r\nz\r\n\" id=\"DejaVuSans-76\"/>\r\n     <path d=\"M 45.40625 27.984375 \r\nQ 45.40625 37.75 41.375 43.109375 \r\nQ 37.359375 48.484375 30.078125 48.484375 \r\nQ 22.859375 48.484375 18.828125 43.109375 \r\nQ 14.796875 37.75 14.796875 27.984375 \r\nQ 14.796875 18.265625 18.828125 12.890625 \r\nQ 22.859375 7.515625 30.078125 7.515625 \r\nQ 37.359375 7.515625 41.375 12.890625 \r\nQ 45.40625 18.265625 45.40625 27.984375 \r\nz\r\nM 54.390625 6.78125 \r\nQ 54.390625 -7.171875 48.1875 -13.984375 \r\nQ 42 -20.796875 29.203125 -20.796875 \r\nQ 24.46875 -20.796875 20.265625 -20.09375 \r\nQ 16.0625 -19.390625 12.109375 -17.921875 \r\nL 12.109375 -9.1875 \r\nQ 16.0625 -11.328125 19.921875 -12.34375 \r\nQ 23.78125 -13.375 27.78125 -13.375 \r\nQ 36.625 -13.375 41.015625 -8.765625 \r\nQ 45.40625 -4.15625 45.40625 5.171875 \r\nL 45.40625 9.625 \r\nQ 42.625 4.78125 38.28125 2.390625 \r\nQ 33.9375 0 27.875 0 \r\nQ 17.828125 0 11.671875 7.65625 \r\nQ 5.515625 15.328125 5.515625 27.984375 \r\nQ 5.515625 40.671875 11.671875 48.328125 \r\nQ 17.828125 56 27.875 56 \r\nQ 33.9375 56 38.28125 53.609375 \r\nQ 42.625 51.21875 45.40625 46.390625 \r\nL 45.40625 54.6875 \r\nL 54.390625 54.6875 \r\nz\r\n\" id=\"DejaVuSans-103\"/>\r\n     <path d=\"M 10.59375 45.40625 \r\nL 73.1875 45.40625 \r\nL 73.1875 37.203125 \r\nL 10.59375 37.203125 \r\nz\r\nM 10.59375 25.484375 \r\nL 73.1875 25.484375 \r\nL 73.1875 17.1875 \r\nL 10.59375 17.1875 \r\nz\r\n\" id=\"DejaVuSans-61\"/>\r\n    </defs>\r\n    <g transform=\"translate(155.199063 16.318125)scale(0.12 -0.12)\">\r\n     <use xlink:href=\"#DejaVuSans-76\"/>\r\n     <use x=\"53.962891\" xlink:href=\"#DejaVuSans-101\"/>\r\n     <use x=\"115.486328\" xlink:href=\"#DejaVuSans-97\"/>\r\n     <use x=\"176.765625\" xlink:href=\"#DejaVuSans-114\"/>\r\n     <use x=\"216.128906\" xlink:href=\"#DejaVuSans-110\"/>\r\n     <use x=\"279.507812\" xlink:href=\"#DejaVuSans-105\"/>\r\n     <use x=\"307.291016\" xlink:href=\"#DejaVuSans-110\"/>\r\n     <use x=\"370.669922\" xlink:href=\"#DejaVuSans-103\"/>\r\n     <use x=\"434.146484\" xlink:href=\"#DejaVuSans-32\"/>\r\n     <use x=\"465.933594\" xlink:href=\"#DejaVuSans-114\"/>\r\n     <use x=\"507.046875\" xlink:href=\"#DejaVuSans-97\"/>\r\n     <use x=\"568.326172\" xlink:href=\"#DejaVuSans-116\"/>\r\n     <use x=\"607.535156\" xlink:href=\"#DejaVuSans-101\"/>\r\n     <use x=\"669.058594\" xlink:href=\"#DejaVuSans-32\"/>\r\n     <use x=\"700.845703\" xlink:href=\"#DejaVuSans-61\"/>\r\n     <use x=\"784.634766\" xlink:href=\"#DejaVuSans-32\"/>\r\n     <use x=\"816.421875\" xlink:href=\"#DejaVuSans-48\"/>\r\n     <use x=\"880.044922\" xlink:href=\"#DejaVuSans-46\"/>\r\n     <use x=\"911.832031\" xlink:href=\"#DejaVuSans-48\"/>\r\n     <use x=\"975.455078\" xlink:href=\"#DejaVuSans-49\"/>\r\n    </g>\r\n   </g>\r\n  </g>\r\n </g>\r\n <defs>\r\n  <clipPath id=\"p67e81c9dc0\">\r\n   <rect height=\"217.44\" width=\"334.8\" x=\"50.14375\" y=\"22.318125\"/>\r\n  </clipPath>\r\n </defs>\r\n</svg>\r\n",
      "image/png": "[encoded data removed]"
     },
     "metadata": {
      "needs_background": "light"
     }
    }
   ],
   "source": [
    "model(X_train, Y_train, X_test, Y_test, num_iterations=2500, learning_rate=0.01, print_freq=100)"
   ]
  },
  {
   "cell_type": "markdown",
   "metadata": {
    "colab_type": "text",
    "id": "K4U150gDFCMi"
   },
   "source": [
    "## 9. Experiments (Not Graded)\n",
    "\n",
    "Try using different Learning Rates, Change the number of iterations, try a different initialization of the parameters, try Stochastic Gradient Descent on the same Model. The possibilities are endless, and we encourage you to explore as much as you can. You can even try to use the Logistic Regression Model implementation from the ScikitLearn library, or explore other optimizing algorithms! If you try something new, do send it along with the assignment. We'd love to see what kinda work you are doing! Till then, adios!"
   ]
  },
  {
   "cell_type": "code",
   "execution_count": 19,
   "metadata": {},
   "outputs": [
    {
     "output_type": "stream",
     "name": "stdout",
     "text": "Cost after iteration 0: 0.6931271807599264\n"
    },
    {
     "output_type": "execute_result",
     "data": {
      "text/plain": "array([1])"
     },
     "metadata": {},
     "execution_count": 19
    }
   ],
   "source": [
    "w , b = initialize_parameters(784)\n",
    "w , b , costs = fit(w , b , X_train , Y_train , 2500 , 0.1 , 2500)\n",
    "predict( w,b, X_test[: ,1])"
   ]
  },
  {
   "cell_type": "code",
   "execution_count": null,
   "metadata": {},
   "outputs": [],
   "source": []
  }
 ],
 "metadata": {
  "colab": {
   "collapsed_sections": [],
   "name": "Copy of 5_Logistic_Regression_Assignment.ipynb",
   "provenance": []
  },
  "kernelspec": {
   "display_name": "Python 3.8.3 32-bit",
   "language": "python",
   "name": "python38332bit327c8ccd8db749f785bb076f6c8e17eb"
  },
  "language_info": {
   "codemirror_mode": {
    "name": "ipython",
    "version": 3
   },
   "file_extension": ".py",
   "mimetype": "text/x-python",
   "name": "python",
   "nbconvert_exporter": "python",
   "pygments_lexer": "ipython3",
   "version": "3.8.3-final"
  },
  "toc": {
   "base_numbering": 1,
   "nav_menu": {},
   "number_sections": true,
   "sideBar": true,
   "skip_h1_title": false,
   "title_cell": "Table of Contents",
   "title_sidebar": "Contents",
   "toc_cell": false,
   "toc_position": {},
   "toc_section_display": true,
   "toc_window_display": false
  },
  "varInspector": {
   "cols": {
    "lenName": 16,
    "lenType": 16,
    "lenVar": 40
   },
   "kernels_config": {
    "python": {
     "delete_cmd_postfix": "",
     "delete_cmd_prefix": "del ",
     "library": "var_list.py",
     "varRefreshCmd": "print(var_dic_list())"
    },
    "r": {
     "delete_cmd_postfix": ") ",
     "delete_cmd_prefix": "rm(",
     "library": "var_list.r",
     "varRefreshCmd": "cat(var_dic_list()) "
    }
   },
   "types_to_exclude": [
    "module",
    "function",
    "builtin_function_or_method",
    "instance",
    "_Feature"
   ],
   "window_display": false
  }
 },
 "nbformat": 4,
 "nbformat_minor": 1
}