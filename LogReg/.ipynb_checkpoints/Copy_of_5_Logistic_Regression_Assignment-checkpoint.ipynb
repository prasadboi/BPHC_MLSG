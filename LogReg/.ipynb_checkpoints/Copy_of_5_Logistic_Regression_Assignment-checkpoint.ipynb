{
 "cells": [
  {
   "cell_type": "markdown",
   "metadata": {
    "colab_type": "text",
    "id": "QEncmBStFCLo"
   },
   "source": [
    "# Logistic Regression Assignment\n",
    "\n",
    "## General Instructions for this assignment:\n",
    "1. Don't change the function signature\n",
    "2. Don't change the code already given to you; A lot of the work has been done for you, as we assume you are reasonably familiar with it.\n",
    "3. Write the code only where asked"
   ]
  },
  {
   "cell_type": "markdown",
   "metadata": {
    "colab_type": "text",
    "id": "ODV-kLWnFCLp"
   },
   "source": [
    "## 1. Basic Design of the Model\n",
    "1. Output of the model: 0 or 1 (Binary Classification)\n",
    "2. Hypothesis to be tested: $Z = W \\cdot X + b$\n",
    "3. Activation Function: $\\frac{1}{1 + e^{-x}} $ (Signmoid Function)"
   ]
  },
  {
   "cell_type": "markdown",
   "metadata": {
    "colab_type": "text",
    "id": "_oehNhBDFCLq"
   },
   "source": [
    "## 2. Import Packages\n",
    "\n",
    "1. numpy: obviously\n",
    "2. matplotlib: for making graphs\n",
    "3. seaborn: Making matplotlib graphs prettier"
   ]
  },
  {
   "cell_type": "code",
   "execution_count": 1,
   "metadata": {
    "ExecuteTime": {
     "end_time": "2020-05-29T16:31:57.071891Z",
     "start_time": "2020-05-29T16:31:56.239986Z"
    },
    "colab": {},
    "colab_type": "code",
    "id": "OtEoCnoZFCLr"
   },
   "outputs": [],
   "source": [
    "import numpy as np\n",
    "import matplotlib.pyplot as plt\n",
    "\n",
    "%matplotlib inline\n",
    "\n",
    "# Next Libraries are unimportant, they just make everyhting look better\n",
    "\n",
    "import matplotlib.style as style\n",
    "import seaborn as sns\n",
    "\n",
    "style.use('seaborn-poster') #sets the size of the charts\n",
    "style.use('ggplot')"
   ]
  },
  {
   "cell_type": "markdown",
   "metadata": {
    "colab_type": "text",
    "id": "BF5Hf3UhFCLv"
   },
   "source": [
    "## 3. Loading the dataset\n",
    "\n",
    "We have prepared and preprocessed the data. You can use the `np.load(path)` to obtain a dictionary of numpy arrays.\n",
    "\n",
    "> The loading has been done for you, just ensure that the path is correct and obtain the nump arrays from the dictionary"
   ]
  },
  {
   "cell_type": "code",
   "execution_count": 2,
   "metadata": {
    "ExecuteTime": {
     "end_time": "2020-05-29T16:31:57.085842Z",
     "start_time": "2020-05-29T16:31:57.073827Z"
    },
    "colab": {},
    "colab_type": "code",
    "id": "5rPC9-xZFCLx"
   },
   "outputs": [],
   "source": [
    "#dataset = np.load('quickdraw/10k/dataset.npz')\n",
    "\n",
    "## Get the numpy arrays from the dictionary\n",
    "X_train = np.load('X_train.npy')\n",
    "Y_train = np.load('Y_train.npy')\n",
    "X_test  = np.load('X_test.npy')\n",
    "Y_test  = np.load('Y_test.npy')"
   ]
  },
  {
   "cell_type": "code",
   "execution_count": 3,
   "metadata": {
    "ExecuteTime": {
     "end_time": "2020-05-29T16:31:57.216129Z",
     "start_time": "2020-05-29T16:31:57.088037Z"
    },
    "colab": {},
    "colab_type": "code",
    "id": "cOS8h4viFCL0"
   },
   "outputs": [
    {
     "name": "stdout",
     "output_type": "stream",
     "text": [
      "(784, 8000)\n",
      "(1, 8000)\n",
      "(784, 2000)\n",
      "(1, 2000)\n"
     ]
    }
   ],
   "source": [
    "print(X_train.shape)\n",
    "print(Y_train.shape)\n",
    "print(X_test.shape)\n",
    "print(Y_test.shape)"
   ]
  },
  {
   "cell_type": "markdown",
   "metadata": {
    "colab_type": "text",
    "id": "QwRecXxsFCL4"
   },
   "source": [
    "## 4. Get a feel of the data\n",
    "\n",
    "### 5.1 View the Imagethat\n",
    "Use the imshow function of matplotlib.pyplot to actually see one of the 28x28 images from the training dataset and its respectie label."
   ]
  },
  {
   "cell_type": "markdown",
   "metadata": {
    "colab_type": "text",
    "id": "_Bjoq3CUFCL4"
   },
   "source": [
    "If you loaded the data correctly, then the code below should display\n",
    "```\n",
    "(784, 8000)\n",
    "(1, 8000)\n",
    "(784, 2000)\n",
    "(1, 2000)\n",
    "```"
   ]
  },
  {
   "cell_type": "code",
   "execution_count": 4,
   "metadata": {
    "ExecuteTime": {
     "end_time": "2020-05-29T16:31:57.551600Z",
     "start_time": "2020-05-29T16:31:57.225519Z"
    },
    "colab": {},
    "colab_type": "code",
    "id": "ozMfJJW3FCL5"
   },
   "outputs": [
    {
     "name": "stdout",
     "output_type": "stream",
     "text": [
      "Label: cat\n"
     ]
    },
    {
     "data": {
      "image/png": "[encoded data removed]",
      "text/plain": [
       "<Figure size 921.6x633.6 with 1 Axes>"
      ]
     },
     "metadata": {},
     "output_type": "display_data"
    }
   ],
   "source": [
    "idx = np.random.randint(X_train.shape[1])\n",
    "\n",
    "plt.imshow(X_train[:, idx].reshape(28, 28))\n",
    "\n",
    "label = \"cat\" if Y_train[:, idx][0] else \"bat\"\n",
    "print(f\"Label: {label}\")"
   ]
  },
  {
   "cell_type": "markdown",
   "metadata": {
    "colab_type": "text",
    "id": "MCQ6-6NsFCL9"
   },
   "source": [
    "### View the raw data\n",
    "\n",
    "View the actual raw array associated with the idx selected previously"
   ]
  },
  {
   "cell_type": "code",
   "execution_count": 5,
   "metadata": {
    "ExecuteTime": {
     "end_time": "2020-05-29T16:31:57.562128Z",
     "start_time": "2020-05-29T16:31:57.553469Z"
    },
    "colab": {},
    "colab_type": "code",
    "id": "mYlHFjL3FCL9"
   },
   "outputs": [
    {
     "data": {
      "text/plain": [
       "array([  0,   0,   0,   0,   0,   0,   0,   0,   0,   0,   0,   0,   0,\n",
       "         0,   0,   0,   0,   0,   0,   0,   0,   0,   0,   0,   0,   0,\n",
       "         0,   0,   0,   0,   0,   0,   0,   0,   0,   0,   0,   0,   0,\n",
       "         0,   0,   0,   0,   0,   0,   0,   0,   0,   0,   0,   0,   0,\n",
       "         0,   0,   0,   0,   0,   0,   0,   0,   0,   0,   0,   0,   0,\n",
       "         0,   0,   0,   0,   0,   0,   0,   0,   0,   0,   0,   0,   0,\n",
       "         0,   0,   0,   0,   0,   0,   0,   0,   0,   0,   0,   0,   0,\n",
       "         0,   0,   0,   0,   0,   0,   0,   0,   0,   0,   0,   0,   0,\n",
       "         0,   0,   0,   0,   0,   0,   0,   0,   0,   0,   0,   0,   0,\n",
       "         0,   0,   0,   0,   0,   0,   0,   0,   0,   0,   0,   0,   0,\n",
       "         0,   0,   0,   0,   0,   0,   0,   0,   0,   0,   0,   0,   0,\n",
       "         0,   0,   0,   0,   0,   0,   0,   0,   0,   0,   0,   0,   0,\n",
       "         0,   0,   0,   0,   0,   0,   0,   0,   0,   0,   0,   0,   0,\n",
       "         0,   0,   0,   0,   0,   0,   0,   0,   0,   0,   0,   0,   0,\n",
       "         0,   0,   0,   0,   0,   0,   0,   0,   0,   0,   0,   0,   0,\n",
       "         0,   0,   0,   0,  58, 116,  70,  10,   0,   0,   0,   0,   0,\n",
       "         0,   0,   0,   0,   0,   0,   0,   0,   0,   0,   0,   0,   0,\n",
       "         0,   0,   0,   0,   0,  23, 250, 255, 255, 248, 142,   3,   0,\n",
       "        28,  67, 106, 144, 153, 153, 153, 136, 136, 109,  15,   0,   0,\n",
       "         0,   0,   0,   0,   0,   0,   0, 187, 246,  81, 104, 220, 255,\n",
       "       239, 243, 255, 255, 255, 237, 226, 226, 234, 238, 238, 254, 237,\n",
       "        59,   0,   0,  34, 111,  32,   0,   0,  32, 254, 134,  24,  49,\n",
       "       250, 246, 255, 160, 100, 198, 254, 255, 255, 255, 255, 231,  91,\n",
       "       146, 242, 252, 146, 202, 255, 252,  83,   0,   0,  97, 255, 201,\n",
       "       176,  40, 102, 176, 255, 139, 206, 255, 255, 255, 255, 255, 255,\n",
       "       255, 255, 255, 255, 255, 255, 196, 109,  25,   0,   0,   0, 114,\n",
       "       255, 116, 136, 191, 231, 199, 251, 252, 255, 255, 255, 255, 255,\n",
       "       255, 255, 255, 255, 253, 212, 246, 180,   0,   0,   0,   0,   0,\n",
       "         0,  31, 246, 192, 227, 253, 252, 255, 255, 237, 255, 255, 255,\n",
       "       255, 255, 255, 255, 255, 255, 255, 255, 255, 166,   0,   0,   0,\n",
       "         0,   0,   0,   0, 131, 253, 205, 254, 255, 204, 254, 181, 249,\n",
       "       255, 248, 241, 255, 255, 255, 252, 255, 254, 241, 107,  17,   0,\n",
       "         0,   0,   0,   0,   0,   0,   5, 147, 255, 254, 253, 251, 192,\n",
       "         0,  14, 221, 234, 253, 255, 255, 236, 231, 137, 142, 244,   0,\n",
       "         0,   0,   0,   0,   0,   0,   0,   0,   0,   0,  30,  33, 135,\n",
       "       125,  16,   0,   0, 165, 216,  61, 255,  80,   1, 232, 149, 132,\n",
       "       244,   0,   0,   0,   0,   0,   0,   0,   0,   0,   0,   0,   0,\n",
       "         0,   0,   0,   0,   0,   0, 127, 249,  61, 255,  63,   0, 189,\n",
       "       192, 118, 252,  33,   0,   0,   0,   0,   0,   0,   0,   0,   0,\n",
       "         0,   0,   0,   0,   0,   0,   0,   0,  37, 122,  59, 255,  63,\n",
       "         0,  94, 133,  19, 179,  36,   0,   0,   0,   0,   0,   0,   0,\n",
       "         0,   0,   0,   0,   0,   0,   0,   0,   0,   0,   0,   0,  56,\n",
       "       255,  60,   0,   0,   0,   0,   0,   0,   0,   0,   0,   0,   0,\n",
       "         0,   0,   0,   0,   0,   0,   0,   0,   0,   0,   0,   0,   0,\n",
       "         0,   5,  94,   6,   0,   0,   0,   0,   0,   0,   0,   0,   0,\n",
       "         0,   0,   0,   0,   0,   0,   0,   0,   0,   0,   0,   0,   0,\n",
       "         0,   0,   0,   0,   0,   0,   0,   0,   0,   0,   0,   0,   0,\n",
       "         0,   0,   0,   0,   0,   0,   0,   0,   0,   0,   0,   0,   0,\n",
       "         0,   0,   0,   0,   0,   0,   0,   0,   0,   0,   0,   0,   0,\n",
       "         0,   0,   0,   0,   0,   0,   0,   0,   0,   0,   0,   0,   0,\n",
       "         0,   0,   0,   0,   0,   0,   0,   0,   0,   0,   0,   0,   0,\n",
       "         0,   0,   0,   0,   0,   0,   0,   0,   0,   0,   0,   0,   0,\n",
       "         0,   0,   0,   0,   0,   0,   0,   0,   0,   0,   0,   0,   0,\n",
       "         0,   0,   0,   0,   0,   0,   0,   0,   0,   0,   0,   0,   0,\n",
       "         0,   0,   0,   0,   0,   0,   0,   0,   0,   0,   0,   0,   0,\n",
       "         0,   0,   0,   0,   0,   0,   0,   0,   0,   0,   0,   0,   0,\n",
       "         0,   0,   0,   0,   0,   0,   0,   0,   0,   0,   0,   0,   0,\n",
       "         0,   0,   0,   0,   0,   0,   0,   0,   0,   0,   0,   0,   0,\n",
       "         0,   0,   0,   0,   0,   0,   0,   0,   0,   0,   0,   0,   0,\n",
       "         0,   0,   0,   0,   0,   0,   0,   0,   0,   0,   0,   0,   0,\n",
       "         0,   0,   0,   0], dtype=uint8)"
      ]
     },
     "execution_count": 5,
     "metadata": {},
     "output_type": "execute_result"
    }
   ],
   "source": [
    "X_train[:, idx]"
   ]
  },
  {
   "cell_type": "markdown",
   "metadata": {
    "colab_type": "text",
    "id": "qeg9vFx5FCMA"
   },
   "source": [
    "## 6. Normalizing the data\n",
    "\n",
    "Normalizing the data with the following equation:\n",
    "\n",
    "$$ X_{norm} = \\frac {X - X_{min}}{X_{max} - X_{min}} $$\n",
    "\n",
    "For this pixel data, $X_{max} = 255$ and $X_{min} = 0$\n",
    "\n",
    "> After running the next cell, go back and view the raw array again"
   ]
  },
  {
   "cell_type": "code",
   "execution_count": 6,
   "metadata": {
    "ExecuteTime": {
     "end_time": "2020-05-29T16:31:57.706386Z",
     "start_time": "2020-05-29T16:31:57.564747Z"
    },
    "colab": {},
    "colab_type": "code",
    "id": "j9LgEtNsFCMB"
   },
   "outputs": [],
   "source": [
    "## Normalize the training and testning data\n",
    "\n",
    "# Replace None with relevant code\n",
    "X_train = X_train/255\n",
    "X_test = X_test/255"
   ]
  },
  {
   "cell_type": "markdown",
   "metadata": {
    "colab_type": "text",
    "id": "FB-J1xHEFCMF"
   },
   "source": [
    "## 7. Helper functions for the Model:\n",
    "\n",
    "### Write the respective functions described by their docstrings"
   ]
  },
  {
   "cell_type": "code",
   "execution_count": 7,
   "metadata": {
    "ExecuteTime": {
     "end_time": "2020-05-29T16:31:57.752603Z",
     "start_time": "2020-05-29T16:31:57.709485Z"
    },
    "colab": {},
    "colab_type": "code",
    "id": "Y1T3thCFFCMG"
   },
   "outputs": [],
   "source": [
    "def sigmoid(z):\n",
    "    \"\"\"\n",
    "    Computes the element sigmoid of scalar or numpy array(element wise)\n",
    "    \n",
    "    Arguments:\n",
    "        z: Scalar or numpy array\n",
    "    \n",
    "    Returns:\n",
    "        s: Sigmoid of z (element wise in case of Numpy Array)\n",
    "    \"\"\"\n",
    "    ### Write Code here ###\n",
    "    s = 1/(1 + (np.exp(-z)))\n",
    "    \n",
    "    ### End Code here ###\n",
    "    \n",
    "    return s\n",
    "#sigmoid(0)"
   ]
  },
  {
   "cell_type": "code",
   "execution_count": 8,
   "metadata": {
    "ExecuteTime": {
     "end_time": "2020-05-29T16:31:57.828406Z",
     "start_time": "2020-05-29T16:31:57.754708Z"
    },
    "colab": {},
    "colab_type": "code",
    "id": "BrrJqSIuFCMJ"
   },
   "outputs": [],
   "source": [
    "def initialize_parameters(n_x):\n",
    "    \"\"\"\n",
    "    Initialize w to a zero vector, and b to a 0 with datatype float \n",
    "    \n",
    "    Arguments:\n",
    "        n_x: Number of features in each sample of X\n",
    "    \n",
    "    Returns:\n",
    "        w: Initialized Numpy array of shape (1, n_x) (Weight)\n",
    "        b: Initialized Scalar (bias)\n",
    "    \"\"\"\n",
    "    ### Write Code here ###\n",
    "    w = np.zeros([1,n_x])\n",
    "    b = float(0)\n",
    "    ### End Code here ###\n",
    "    \n",
    "    return w , b\n",
    "#initialize_parameters(15)"
   ]
  },
  {
   "cell_type": "code",
   "execution_count": 9,
   "metadata": {
    "ExecuteTime": {
     "end_time": "2020-05-29T16:31:57.899672Z",
     "start_time": "2020-05-29T16:31:57.832741Z"
    },
    "colab": {},
    "colab_type": "code",
    "id": "Th4xkEvrFCMM"
   },
   "outputs": [],
   "source": [
    "def compute_cost(A, Y):\n",
    "    \"\"\"\n",
    "    Calculate the Cost using the Cross Entropy Loss\n",
    "    \n",
    "    Arguments:\n",
    "        A: Computer Probabilities, numpy array\n",
    "        Y: Known Labels, numpy array\n",
    "        \n",
    "    Returns:\n",
    "        cost: The computed Cost\n",
    "    \"\"\"\n",
    "    ### Write Code here ###\n",
    "    J = -(Y).dot((np.log(A)).T) - ((1 - Y).dot((np.log(1-A)).T))\n",
    "    m = Y.shape[1]\n",
    "    J = J/m\n",
    "    ### End Code here ###\n",
    "    \n",
    "    return np.squeeze(J)\n"
   ]
  },
  {
   "cell_type": "markdown",
   "metadata": {
    "colab_type": "text",
    "id": "B51HHAg_FCMQ"
   },
   "source": [
    "Here is a summary of the equations for Forward Propagation and Backward Propagation we have used so far:\n",
    "\n",
    "For m training examples $ X_{train} $ and $ Y_{train} $:\n",
    "\n",
    "### 7.1 Forward Propagation\n",
    "\n",
    "$$ Z^{(i)} = w \\cdot X_{train}^{(i)} + b $$\n",
    "\n",
    "$$ \\hat Y^{(i)} = A^{(i)} = \\sigma(Z^{(i)}) = sigmoid(Z^{(i)}) $$\n",
    "\n",
    "$$ \\mathcal{L}(\\hat Y^{(i)}, Y_{train}^{(i)}) = \\mathcal{L}(A^{(i)}, Y_{train}^{(i)}) = -[Y_{train}^{(i)} \\log(A^{(i)}) + (1 - Y_{train}^{(i)}) \\log(1 - A^{(i)})] $$\n",
    "\n",
    "$$ J = \\frac{1}{m} \\sum_1^m \\mathcal{L} (A^{(i)}, Y_{train}^{(i)}) $$\n",
    "\n",
    "\n",
    "### 7.2 Backward Propagation - Batch Gradient Descent\n",
    "\n",
    "$$ \\frac{\\partial J}{\\partial w} = \\frac{1}{m} (A - Y) \\cdot X^T $$\n",
    "\n",
    "$$ \\frac{\\partial J}{\\partial b} = \\frac{1}{m} \\sum_1^m (A - Y) $$\n",
    "\n",
    "\n",
    "> Note: Represent $ \\frac{\\partial J}{\\partial w} $ as dw, and $ \\frac{\\partial J}{\\partial b}$ as db\n"
   ]
  },
  {
   "cell_type": "code",
   "execution_count": 10,
   "metadata": {
    "ExecuteTime": {
     "end_time": "2020-05-29T16:31:57.965514Z",
     "start_time": "2020-05-29T16:31:57.902517Z"
    },
    "colab": {},
    "colab_type": "code",
    "id": "xKf1Dc2lFCMQ"
   },
   "outputs": [],
   "source": [
    "def propagate(w, b, X, Y):\n",
    "    \"\"\"\n",
    "    Perform forward and backward propagation for the Logistic Regression model\n",
    "    \n",
    "    Arguments:\n",
    "        w: The Weight Matrix of dimension (1, n_x)\n",
    "        b: Bias\n",
    "        X: Input Matrix, with shape (n_x, m)\n",
    "        Y: Label Matrix of shape (1, m)\n",
    "        \n",
    "    Returns:\n",
    "        dw: Gradient of the weight matrix\n",
    "        db: Gradient of the bias\n",
    "        cost: Cost computed on Calculated Probability, and output Label\n",
    "    \"\"\"\n",
    "    \n",
    "    ### Write Code here ###\n",
    "\n",
    "\n",
    "    #Performing forward propagation\n",
    "    z = (w.dot(X)) + b\n",
    "    Y_hat = sigmoid(z)\n",
    "    cost = compute_cost(Y_hat , Y)\n",
    "\n",
    "    # Performing back-propagation\n",
    "    dw = (Y - Y_hat) @ X.T\n",
    "    db = (Y - Y_hat).mean()\n",
    "    \n",
    "\n",
    "    ### End Code here ###\n",
    "    \n",
    "    assert dw.shape == w.shape\n",
    "    return dw, db, cost\n",
    "    "
   ]
  },
  {
   "cell_type": "markdown",
   "metadata": {
    "colab_type": "text",
    "id": "DJwQjwOiFCMU"
   },
   "source": [
    "### 7.3 Optimization\n",
    "\n",
    "For a parameter $ \\theta $, the gradient descent update rule is given by:\n",
    "$$ \\theta := \\theta - \\alpha \\frac{\\partial J}{\\partial \\theta} $$\n",
    "\n",
    "where $\\alpha$ is the learning rate"
   ]
  },
  {
   "cell_type": "code",
   "execution_count": 11,
   "metadata": {
    "ExecuteTime": {
     "end_time": "2020-05-29T16:31:58.054765Z",
     "start_time": "2020-05-29T16:31:57.968450Z"
    },
    "colab": {},
    "colab_type": "code",
    "id": "FYFW6bSkFCMV"
   },
   "outputs": [],
   "source": [
    "def fit(w, b, X, Y, num_iterations, learning_rate, print_freq=100):\n",
    "    \"\"\"\n",
    "    Given the parameters of the model, fit the model corresponding to the given Input Matrix aand output labels, by performing batch gradient descent for given number of iterations.\n",
    "    \n",
    "    Arguments:\n",
    "        w: The Weight Matrix of dimension (1, n_x)\n",
    "        b: Bias\n",
    "        X: Input Matrix, with shape (n_x, m)\n",
    "        Y: Label Matrix of shape (1, m)\n",
    "        num_iterations: The number of iteratios of bgd to be performed\n",
    "        print_freq: Frequency of recording the cost\n",
    "    Returns:\n",
    "        w: Optimized weight matrix\n",
    "        b: optimized bias\n",
    "        costs: print the cost at frequency given by print_freq, no prints if freq is 0\n",
    "    \"\"\"\n",
    "    \n",
    "    costs = []\n",
    "    for i in range(num_iterations):\n",
    "        ## 1. Calculate Gradients and cost\n",
    "        dw , db , cost = propagate(w , b , X , Y)\n",
    "\n",
    "        costs.append(cost)\n",
    "            \n",
    "        if print_freq and i % print_freq == 0:\n",
    "            print(f\"Cost after iteration {i}: {cost}\")\n",
    "                \n",
    "        ## 2. Update parameters\n",
    "        w = w - learning_rate*dw\n",
    "        b = b - learning_rate*db    \n",
    "\n",
    "            \n",
    "    return w, b, costs\n",
    "        "
   ]
  },
  {
   "cell_type": "markdown",
   "metadata": {
    "colab_type": "text",
    "id": "oBa_RviiFCMY"
   },
   "source": [
    "### 7.4 Prediction\n",
    "Use the following equation to determine the class that a given sample belongs to:\n",
    "\n",
    "$$\n",
    "\\begin{equation}\n",
    "    Y_{prediction}^{(i)} =\n",
    "    \\begin{cases} \n",
    "        1 \\text{, if } \\hat Y^{(i)} \\ge 0.5\\\\\n",
    "        0 \\text{, if } \\hat Y^{(i)} \\lt 0.5\\\\\n",
    "    \\end{cases}\n",
    "\\end{equation}\n",
    "$$\n",
    "\n",
    "> Hint: Use boolean Masking"
   ]
  },
  {
   "cell_type": "code",
   "execution_count": 12,
   "metadata": {
    "ExecuteTime": {
     "end_time": "2020-05-29T16:31:58.136866Z",
     "start_time": "2020-05-29T16:31:58.060578Z"
    },
    "colab": {},
    "colab_type": "code",
    "id": "fcLm6a7cFCMY"
   },
   "outputs": [],
   "source": [
    "def predict(w, b, X):\n",
    "    \"\"\"\n",
    "    Predict the class which the given feature vector belongs to given Weights and Bias of the model\n",
    "    \n",
    "    Arguments:\n",
    "        w: The Weight Matrix of dimension (1, n_x)\n",
    "        b: Bias\n",
    "        X: Input Matrix, with X.shape[0] = n_X\n",
    "    Returns:\n",
    "        Y_prediction: Predicted labels\n",
    "    \"\"\"\n",
    "    Y_prediction = np.where(sigmoid((w.dot(X)) + b) >= 0.5 , 1 , 0)\n",
    "    return Y_prediction"
   ]
  },
  {
   "cell_type": "markdown",
   "metadata": {
    "colab_type": "text",
    "id": "Dv7psRMoFCMb"
   },
   "source": [
    "## 8. Building the Model\n",
    "\n",
    "Now we have assembled all the individual pieces required to create the Logistic Regression model.\n",
    "Next function is creating the model and calculating its train and test accuracy. \n",
    "\n",
    "Acuracy is the ratio of correctly guessed samples, to the total number of samples that were checked. \n",
    "> Note: The correct accuracy is not being provided this time."
   ]
  },
  {
   "cell_type": "code",
   "execution_count": 13,
   "metadata": {
    "ExecuteTime": {
     "end_time": "2020-05-29T16:31:58.218638Z",
     "start_time": "2020-05-29T16:31:58.142867Z"
    },
    "colab": {},
    "colab_type": "code",
    "id": "5RUTGfTyFCMc"
   },
   "outputs": [],
   "source": [
    "def model(X_train, Y_train, X_test, Y_test, num_iterations, learning_rate, print_freq):\n",
    "    \"\"\"\n",
    "    Create a model and fit it to the train and test data. Use this model to compute the train and test accuracy after 2500 iterations\n",
    "    \n",
    "    Arguments:\n",
    "        X_train: Training Data X\n",
    "        Y_train: Training Data Y\n",
    "        X_test: Testing Data X\n",
    "        Y_test: Testing data Y\n",
    "        num_iterations: Number of iterations of bgd to perform\n",
    "        learning_rate: Learning Rate of the model\n",
    "        print_freq: Frequency of recording the cost\n",
    "    Returns:\n",
    "        -None-\n",
    "    \"\"\"\n",
    "    # fitting data to classifier\n",
    "    w , b = initialize_parameters(784)\n",
    "    w , b , costs = fit(w , b , X_train , Y_train , num_iterations , learning_rate , print_freq)\n",
    "    \n",
    "    Y_prediction_train = predict(w, b, X_train)\n",
    "    Y_prediction_test = predict(w, b, X_test)\n",
    "    \n",
    "    costs = np.squeeze(costs)\n",
    "    \n",
    "    print(f\"train accuracy: {100 - np.mean(np.abs(Y_prediction_train - Y_train)) * 100} %\")\n",
    "    print(f\"test accuracy: {100 - np.mean(np.abs(Y_prediction_test - Y_test)) * 100} %\")\n",
    "    \n",
    "    plt.plot(costs)\n",
    "    \n",
    "    plt.ylabel('cost')\n",
    "    plt.xlabel('iterations (per hundreds)')\n",
    "    plt.title(f\"Learning rate = {learning_rate}\")\n",
    "    plt.show()\n",
    "    return"
   ]
  },
  {
   "cell_type": "code",
   "execution_count": 14,
   "metadata": {
    "ExecuteTime": {
     "end_time": "2020-05-29T16:32:17.311101Z",
     "start_time": "2020-05-29T16:31:58.221205Z"
    },
    "colab": {},
    "colab_type": "code",
    "id": "vEmGRqtqFCMf"
   },
   "outputs": [
    {
     "name": "stdout",
     "output_type": "stream",
     "text": [
      "Cost after iteration 0: 0.6931471805599456\n"
     ]
    },
    {
     "name": "stderr",
     "output_type": "stream",
     "text": [
      "C:\\Users\\PRASAD\\anaconda3\\lib\\site-packages\\ipykernel_launcher.py:13: RuntimeWarning: divide by zero encountered in log\n",
      "  del sys.path[0]\n",
      "C:\\Users\\PRASAD\\anaconda3\\lib\\site-packages\\ipykernel_launcher.py:12: RuntimeWarning: overflow encountered in exp\n",
      "  if sys.path[0] == '':\n"
     ]
    },
    {
     "name": "stdout",
     "output_type": "stream",
     "text": [
      "Cost after iteration 200: nan\n",
      "Cost after iteration 400: nan\n",
      "Cost after iteration 600: nan\n",
      "Cost after iteration 800: nan\n",
      "Cost after iteration 1000: nan\n",
      "Cost after iteration 1200: nan\n",
      "Cost after iteration 1400: nan\n",
      "Cost after iteration 1600: nan\n",
      "Cost after iteration 1800: nan\n",
      "train accuracy: 50.3375 %\n",
      "test accuracy: 48.650000000000006 %\n"
     ]
    },
    {
     "data": {
      "image/png": "[encoded data removed]",
      "text/plain": [
       "<Figure size 921.6x633.6 with 1 Axes>"
      ]
     },
     "metadata": {},
     "output_type": "display_data"
    }
   ],
   "source": [
    "model(X_train, Y_train, X_test, Y_test, num_iterations=2000, learning_rate=0.01, print_freq=200)"
   ]
  },
  {
   "cell_type": "markdown",
   "metadata": {
    "colab_type": "text",
    "id": "K4U150gDFCMi"
   },
   "source": [
    "## 9. Experiments (Not Graded)\n",
    "\n",
    "Try using different Learning Rates, Change the number of iterations, try a different initialization of the parameters, try Stochastic Gradient Descent on the same Model. The possibilities are endless, and we encourage you to explore as much as you can. You can even try to use the Logistic Regression Model implementation from the ScikitLearn library, or explore other optimizing algorithms! If you try something new, do send it along with the assignment. We'd love to see what kinda work you are doing! Till then, adios!"
   ]
  }
 ],
 "metadata": {
  "colab": {
   "collapsed_sections": [],
   "name": "Copy of 5_Logistic_Regression_Assignment.ipynb",
   "provenance": []
  },
  "kernelspec": {
   "display_name": "Python 3",
   "language": "python",
   "name": "python3"
  },
  "language_info": {
   "codemirror_mode": {
    "name": "ipython",
    "version": 3
   },
   "file_extension": ".py",
   "mimetype": "text/x-python",
   "name": "python",
   "nbconvert_exporter": "python",
   "pygments_lexer": "ipython3",
   "version": "3.7.6"
  },
  "toc": {
   "base_numbering": 1,
   "nav_menu": {},
   "number_sections": true,
   "sideBar": true,
   "skip_h1_title": false,
   "title_cell": "Table of Contents",
   "title_sidebar": "Contents",
   "toc_cell": false,
   "toc_position": {},
   "toc_section_display": true,
   "toc_window_display": false
  },
  "varInspector": {
   "cols": {
    "lenName": 16,
    "lenType": 16,
    "lenVar": 40
   },
   "kernels_config": {
    "python": {
     "delete_cmd_postfix": "",
     "delete_cmd_prefix": "del ",
     "library": "var_list.py",
     "varRefreshCmd": "print(var_dic_list())"
    },
    "r": {
     "delete_cmd_postfix": ") ",
     "delete_cmd_prefix": "rm(",
     "library": "var_list.r",
     "varRefreshCmd": "cat(var_dic_list()) "
    }
   },
   "types_to_exclude": [
    "module",
    "function",
    "builtin_function_or_method",
    "instance",
    "_Feature"
   ],
   "window_display": false
  }
 },
 "nbformat": 4,
 "nbformat_minor": 1
}
