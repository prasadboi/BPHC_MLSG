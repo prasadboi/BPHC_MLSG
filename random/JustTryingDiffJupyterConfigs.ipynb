{
 "cells": [
  {
   "cell_type": "markdown",
   "metadata": {},
   "source": [
    "#### TESTING OUT THEMES"
   ]
  },
  {
   "cell_type": "code",
   "execution_count": 7,
   "metadata": {},
   "outputs": [
    {
     "name": "stdout",
     "output_type": "stream",
     "text": [
      "Collecting jupyterthemes\n",
      "  Downloading jupyterthemes-0.20.0-py2.py3-none-any.whl (7.0 MB)\n",
      "Requirement already satisfied: matplotlib>=1.4.3 in c:\\users\\prasad\\anaconda3\\lib\\site-packages (from jupyterthemes) (3.1.3)\n",
      "Collecting lesscpy>=0.11.2\n",
      "  Downloading lesscpy-0.14.0-py2.py3-none-any.whl (46 kB)\n",
      "Requirement already satisfied: jupyter-core in c:\\users\\prasad\\anaconda3\\lib\\site-packages (from jupyterthemes) (4.6.1)\n",
      "Requirement already satisfied: ipython>=5.4.1 in c:\\users\\prasad\\anaconda3\\lib\\site-packages (from jupyterthemes) (7.12.0)\n",
      "Requirement already satisfied: notebook>=5.6.0 in c:\\users\\prasad\\anaconda3\\lib\\site-packages (from jupyterthemes) (6.0.3)\n",
      "Requirement already satisfied: kiwisolver>=1.0.1 in c:\\users\\prasad\\anaconda3\\lib\\site-packages (from matplotlib>=1.4.3->jupyterthemes) (1.1.0)\n",
      "Requirement already satisfied: python-dateutil>=2.1 in c:\\users\\prasad\\anaconda3\\lib\\site-packages (from matplotlib>=1.4.3->jupyterthemes) (2.8.1)\n",
      "Requirement already satisfied: cycler>=0.10 in c:\\users\\prasad\\anaconda3\\lib\\site-packages (from matplotlib>=1.4.3->jupyterthemes) (0.10.0)\n",
      "Requirement already satisfied: pyparsing!=2.0.4,!=2.1.2,!=2.1.6,>=2.0.1 in c:\\users\\prasad\\anaconda3\\lib\\site-packages (from matplotlib>=1.4.3->jupyterthemes) (2.4.6)\n",
      "Requirement already satisfied: numpy>=1.11 in c:\\users\\prasad\\anaconda3\\lib\\site-packages (from matplotlib>=1.4.3->jupyterthemes) (1.18.1)\n",
      "Requirement already satisfied: six in c:\\users\\prasad\\anaconda3\\lib\\site-packages (from lesscpy>=0.11.2->jupyterthemes) (1.14.0)\n",
      "Requirement already satisfied: ply in c:\\users\\prasad\\anaconda3\\lib\\site-packages (from lesscpy>=0.11.2->jupyterthemes) (3.11)\n",
      "Requirement already satisfied: pywin32>=1.0; sys_platform == \"win32\" in c:\\users\\prasad\\anaconda3\\lib\\site-packages (from jupyter-core->jupyterthemes) (227)\n",
      "Requirement already satisfied: traitlets in c:\\users\\prasad\\anaconda3\\lib\\site-packages (from jupyter-core->jupyterthemes) (4.3.3)\n",
      "Requirement already satisfied: decorator in c:\\users\\prasad\\anaconda3\\lib\\site-packages (from ipython>=5.4.1->jupyterthemes) (4.4.1)\n",
      "Requirement already satisfied: pickleshare in c:\\users\\prasad\\anaconda3\\lib\\site-packages (from ipython>=5.4.1->jupyterthemes) (0.7.5)\n",
      "Requirement already satisfied: prompt-toolkit!=3.0.0,!=3.0.1,<3.1.0,>=2.0.0 in c:\\users\\prasad\\anaconda3\\lib\\site-packages (from ipython>=5.4.1->jupyterthemes) (3.0.3)\n",
      "Requirement already satisfied: pygments in c:\\users\\prasad\\anaconda3\\lib\\site-packages (from ipython>=5.4.1->jupyterthemes) (2.5.2)\n",
      "Requirement already satisfied: jedi>=0.10 in c:\\users\\prasad\\anaconda3\\lib\\site-packages (from ipython>=5.4.1->jupyterthemes) (0.14.1)\n",
      "Requirement already satisfied: backcall in c:\\users\\prasad\\anaconda3\\lib\\site-packages (from ipython>=5.4.1->jupyterthemes) (0.1.0)\n",
      "Requirement already satisfied: colorama; sys_platform == \"win32\" in c:\\users\\prasad\\anaconda3\\lib\\site-packages (from ipython>=5.4.1->jupyterthemes) (0.4.3)\n",
      "Requirement already satisfied: setuptools>=18.5 in c:\\users\\prasad\\anaconda3\\lib\\site-packages (from ipython>=5.4.1->jupyterthemes) (45.2.0.post20200210)\n",
      "Requirement already satisfied: jupyter-client>=5.3.4 in c:\\users\\prasad\\anaconda3\\lib\\site-packages (from notebook>=5.6.0->jupyterthemes) (5.3.4)\n",
      "Requirement already satisfied: ipython-genutils in c:\\users\\prasad\\anaconda3\\lib\\site-packages (from notebook>=5.6.0->jupyterthemes) (0.2.0)\n",
      "Requirement already satisfied: nbformat in c:\\users\\prasad\\anaconda3\\lib\\site-packages (from notebook>=5.6.0->jupyterthemes) (5.0.4)\n",
      "Requirement already satisfied: Send2Trash in c:\\users\\prasad\\anaconda3\\lib\\site-packages (from notebook>=5.6.0->jupyterthemes) (1.5.0)\n",
      "Requirement already satisfied: jinja2 in c:\\users\\prasad\\anaconda3\\lib\\site-packages (from notebook>=5.6.0->jupyterthemes) (2.11.1)\n",
      "Requirement already satisfied: pyzmq>=17 in c:\\users\\prasad\\anaconda3\\lib\\site-packages (from notebook>=5.6.0->jupyterthemes) (18.1.1)\n",
      "Requirement already satisfied: ipykernel in c:\\users\\prasad\\anaconda3\\lib\\site-packages (from notebook>=5.6.0->jupyterthemes) (5.1.4)\n",
      "Requirement already satisfied: nbconvert in c:\\users\\prasad\\anaconda3\\lib\\site-packages (from notebook>=5.6.0->jupyterthemes) (5.6.1)\n",
      "Requirement already satisfied: prometheus-client in c:\\users\\prasad\\anaconda3\\lib\\site-packages (from notebook>=5.6.0->jupyterthemes) (0.7.1)\n",
      "Requirement already satisfied: terminado>=0.8.1 in c:\\users\\prasad\\anaconda3\\lib\\site-packages (from notebook>=5.6.0->jupyterthemes) (0.8.3)\n",
      "Requirement already satisfied: tornado>=5.0 in c:\\users\\prasad\\anaconda3\\lib\\site-packages (from notebook>=5.6.0->jupyterthemes) (6.0.3)\n",
      "Requirement already satisfied: wcwidth in c:\\users\\prasad\\anaconda3\\lib\\site-packages (from prompt-toolkit!=3.0.0,!=3.0.1,<3.1.0,>=2.0.0->ipython>=5.4.1->jupyterthemes) (0.1.8)\n",
      "Requirement already satisfied: parso>=0.5.0 in c:\\users\\prasad\\anaconda3\\lib\\site-packages (from jedi>=0.10->ipython>=5.4.1->jupyterthemes) (0.5.2)\n",
      "Requirement already satisfied: jsonschema!=2.5.0,>=2.4 in c:\\users\\prasad\\anaconda3\\lib\\site-packages (from nbformat->notebook>=5.6.0->jupyterthemes) (3.2.0)\n",
      "Requirement already satisfied: MarkupSafe>=0.23 in c:\\users\\prasad\\anaconda3\\lib\\site-packages (from jinja2->notebook>=5.6.0->jupyterthemes) (1.1.1)\n",
      "Requirement already satisfied: testpath in c:\\users\\prasad\\anaconda3\\lib\\site-packages (from nbconvert->notebook>=5.6.0->jupyterthemes) (0.4.4)\n",
      "Requirement already satisfied: entrypoints>=0.2.2 in c:\\users\\prasad\\anaconda3\\lib\\site-packages (from nbconvert->notebook>=5.6.0->jupyterthemes) (0.3)\n",
      "Requirement already satisfied: mistune<2,>=0.8.1 in c:\\users\\prasad\\anaconda3\\lib\\site-packages (from nbconvert->notebook>=5.6.0->jupyterthemes) (0.8.4)\n",
      "Requirement already satisfied: bleach in c:\\users\\prasad\\anaconda3\\lib\\site-packages (from nbconvert->notebook>=5.6.0->jupyterthemes) (3.1.0)\n",
      "Requirement already satisfied: defusedxml in c:\\users\\prasad\\anaconda3\\lib\\site-packages (from nbconvert->notebook>=5.6.0->jupyterthemes) (0.6.0)\n",
      "Requirement already satisfied: pandocfilters>=1.4.1 in c:\\users\\prasad\\anaconda3\\lib\\site-packages (from nbconvert->notebook>=5.6.0->jupyterthemes) (1.4.2)\n",
      "Requirement already satisfied: attrs>=17.4.0 in c:\\users\\prasad\\anaconda3\\lib\\site-packages (from jsonschema!=2.5.0,>=2.4->nbformat->notebook>=5.6.0->jupyterthemes) (19.3.0)\n",
      "Requirement already satisfied: importlib-metadata; python_version < \"3.8\" in c:\\users\\prasad\\anaconda3\\lib\\site-packages (from jsonschema!=2.5.0,>=2.4->nbformat->notebook>=5.6.0->jupyterthemes) (1.5.0)\n",
      "Requirement already satisfied: pyrsistent>=0.14.0 in c:\\users\\prasad\\anaconda3\\lib\\site-packages (from jsonschema!=2.5.0,>=2.4->nbformat->notebook>=5.6.0->jupyterthemes) (0.15.7)\n",
      "Requirement already satisfied: webencodings in c:\\users\\prasad\\anaconda3\\lib\\site-packages (from bleach->nbconvert->notebook>=5.6.0->jupyterthemes) (0.5.1)\n",
      "Requirement already satisfied: zipp>=0.5 in c:\\users\\prasad\\anaconda3\\lib\\site-packages (from importlib-metadata; python_version < \"3.8\"->jsonschema!=2.5.0,>=2.4->nbformat->notebook>=5.6.0->jupyterthemes) (2.2.0)\n",
      "Installing collected packages: lesscpy, jupyterthemes\n",
      "Successfully installed jupyterthemes-0.20.0 lesscpy-0.14.0\n",
      "Note: you may need to restart the kernel to use updated packages.\n"
     ]
    }
   ],
   "source": [
    "pip install jupyterthemes\n"
   ]
  },
  {
   "cell_type": "code",
   "execution_count": 1,
   "metadata": {
    "ExecuteTime": {
     "end_time": "2020-05-12T04:08:17.693036Z",
     "start_time": "2020-05-12T04:08:17.354415Z"
    }
   },
   "outputs": [
    {
     "name": "stdout",
     "output_type": "stream",
     "text": [
      "Available Themes: \n",
      "   chesterish\n",
      "   grade3\n",
      "   gruvboxd\n",
      "   gruvboxl\n",
      "   monokai\n",
      "   oceans16\n",
      "   onedork\n",
      "   solarizedd\n",
      "   solarizedl\n"
     ]
    }
   ],
   "source": [
    "!jt -l"
   ]
  },
  {
   "cell_type": "code",
   "execution_count": 2,
   "metadata": {
    "ExecuteTime": {
     "end_time": "2020-05-16T06:09:25.793883Z",
     "start_time": "2020-05-16T06:09:24.713138Z"
    }
   },
   "outputs": [],
   "source": [
    "!jt -t onedork -T"
   ]
  },
  {
   "cell_type": "code",
   "execution_count": 2,
   "metadata": {
    "ExecuteTime": {
     "end_time": "2020-05-12T04:27:14.814916Z",
     "start_time": "2020-05-12T04:27:14.499044Z"
    },
    "scrolled": true
   },
   "outputs": [
    {
     "name": "stdout",
     "output_type": "stream",
     "text": [
      "Reset css and font defaults in:\n",
      "C:\\Users\\PRASAD\\.jupyter\\custom &\n",
      "C:\\Users\\PRASAD\\AppData\\Roaming\\jupyter\\nbextensions\n"
     ]
    }
   ],
   "source": [
    "!jt -r"
   ]
  },
  {
   "cell_type": "markdown",
   "metadata": {
    "heading_collapsed": true
   },
   "source": [
    "#### INSTALLING QGRID: makes dataframes intuitive"
   ]
  },
  {
   "cell_type": "code",
   "execution_count": 5,
   "metadata": {
    "ExecuteTime": {
     "end_time": "2020-05-12T04:10:25.434262Z",
     "start_time": "2020-05-12T04:09:55.342760Z"
    },
    "hidden": true
   },
   "outputs": [
    {
     "name": "stdout",
     "output_type": "stream",
     "text": [
      "Collecting package metadata (current_repodata.json): ...working... done\n",
      "Solving environment: ...working... done\n",
      "\n",
      "## Package Plan ##\n",
      "\n",
      "  environment location: C:\\Users\\PRASAD\\anaconda3\n",
      "\n",
      "  added / updated specs:\n",
      "    - qgrid\n",
      "\n",
      "\n",
      "The following packages will be downloaded:\n",
      "\n",
      "    package                    |            build\n",
      "    ---------------------------|-----------------\n",
      "    conda-4.8.3                |           py37_0         2.8 MB\n",
      "    qgrid-1.1.1                |           py37_2         539 KB\n",
      "    ------------------------------------------------------------\n",
      "                                           Total:         3.4 MB\n",
      "\n",
      "The following NEW packages will be INSTALLED:\n",
      "\n",
      "  qgrid              pkgs/main/win-64::qgrid-1.1.1-py37_2\n",
      "\n",
      "The following packages will be SUPERSEDED by a higher-priority channel:\n",
      "\n",
      "  conda              conda-forge::conda-4.8.3-py37hc8dfbb8~ --> pkgs/main::conda-4.8.3-py37_0\n",
      "\n",
      "\n",
      "\n",
      "Downloading and Extracting Packages\n",
      "\n",
      "conda-4.8.3          | 2.8 MB    |            |   0% \n",
      "conda-4.8.3          | 2.8 MB    |            |   1% \n",
      "conda-4.8.3          | 2.8 MB    | 4          |   5% \n",
      "conda-4.8.3          | 2.8 MB    | #3         |  13% \n",
      "conda-4.8.3          | 2.8 MB    | ###        |  30% \n",
      "conda-4.8.3          | 2.8 MB    | ####6      |  47% \n",
      "conda-4.8.3          | 2.8 MB    | #####8     |  59% \n",
      "conda-4.8.3          | 2.8 MB    | #######3   |  74% \n",
      "conda-4.8.3          | 2.8 MB    | ########9  |  89% \n",
      "conda-4.8.3          | 2.8 MB    | ########## | 100% \n",
      "\n",
      "qgrid-1.1.1          | 539 KB    |            |   0% \n",
      "qgrid-1.1.1          | 539 KB    | ##9        |  30% \n",
      "qgrid-1.1.1          | 539 KB    | ########## | 100% \n",
      "Preparing transaction: ...working... done\n",
      "Verifying transaction: ...working... done\n",
      "Executing transaction: ...working... b'Enabling notebook extension qgrid/extension...\\n      - Validating: ok\\n'\n",
      "done\n",
      "\n",
      "Note: you may need to restart the kernel to use updated packages.\n"
     ]
    }
   ],
   "source": [
    "conda install qgrid"
   ]
  },
  {
   "cell_type": "markdown",
   "metadata": {},
   "source": [
    "#### CHANGING FONT SIZE"
   ]
  },
  {
   "cell_type": "code",
   "execution_count": 2,
   "metadata": {
    "ExecuteTime": {
     "end_time": "2020-05-16T06:13:53.150142Z",
     "start_time": "2020-05-16T06:13:52.086673Z"
    }
   },
   "outputs": [],
   "source": [
    "!jt -t onedork -T -tf droidmono -tfs 14 -nf source -nfs 6 \n",
    "#here theme has been set to onedork and toolbar has been toggled \"on\" "
   ]
  },
  {
   "cell_type": "code",
   "execution_count": 4,
   "metadata": {},
   "outputs": [
    {
     "name": "stdout",
     "output_type": "stream",
     "text": [
      "Collecting package metadata (current_repodata.json): ...working... done\n",
      "Solving environment: ...working... done\n",
      "\n",
      "## Package Plan ##\n",
      "\n",
      "  environment location: C:\\Users\\PRASAD\\anaconda3\n",
      "\n",
      "  added / updated specs:\n",
      "    - jupyter_nbextensions_configurator\n",
      "\n",
      "\n",
      "The following packages will be downloaded:\n",
      "\n",
      "    package                    |            build\n",
      "    ---------------------------|-----------------\n",
      "    conda-4.8.3                |   py37hc8dfbb8_1         3.1 MB  conda-forge\n",
      "    jupyter_contrib_core-0.3.3 |             py_2          15 KB  conda-forge\n",
      "    jupyter_nbextensions_configurator-0.4.1|           py37_0         487 KB  conda-forge\n",
      "    python_abi-3.7             |          1_cp37m           4 KB  conda-forge\n",
      "    ------------------------------------------------------------\n",
      "                                           Total:         3.6 MB\n",
      "\n",
      "The following NEW packages will be INSTALLED:\n",
      "\n",
      "  jupyter_contrib_c~ conda-forge/noarch::jupyter_contrib_core-0.3.3-py_2\n",
      "  jupyter_nbextensi~ conda-forge/win-64::jupyter_nbextensions_configurator-0.4.1-py37_0\n",
      "  python_abi         conda-forge/win-64::python_abi-3.7-1_cp37m\n",
      "\n",
      "The following packages will be UPDATED:\n",
      "\n",
      "  conda                       pkgs/main::conda-4.8.2-py37_0 --> conda-forge::conda-4.8.3-py37hc8dfbb8_1\n",
      "\n",
      "\n",
      "\n",
      "Downloading and Extracting Packages\n",
      "\n",
      "jupyter_nbextensions | 487 KB    |            |   0% \n",
      "jupyter_nbextensions | 487 KB    | 3          |   3% \n",
      "jupyter_nbextensions | 487 KB    | ###2       |  33% \n",
      "jupyter_nbextensions | 487 KB    | ########## | 100% \n",
      "\n",
      "conda-4.8.3          | 3.1 MB    |            |   0% \n",
      "conda-4.8.3          | 3.1 MB    | 4          |   4% \n",
      "conda-4.8.3          | 3.1 MB    | #8         |  19% \n",
      "conda-4.8.3          | 3.1 MB    | ###5       |  35% \n",
      "conda-4.8.3          | 3.1 MB    | #####      |  50% \n",
      "conda-4.8.3          | 3.1 MB    | ######4    |  65% \n",
      "conda-4.8.3          | 3.1 MB    | #######8   |  79% \n",
      "conda-4.8.3          | 3.1 MB    | #########3 |  93% \n",
      "conda-4.8.3          | 3.1 MB    | ########## | 100% \n",
      "\n",
      "jupyter_contrib_core | 15 KB     |            |   0% \n",
      "jupyter_contrib_core | 15 KB     | ########## | 100% \n",
      "\n",
      "python_abi-3.7       | 4 KB      |            |   0% \n",
      "python_abi-3.7       | 4 KB      | ########## | 100% \n",
      "Preparing transaction: ...working... done\n",
      "Verifying transaction: ...working... done\n",
      "Executing transaction: ...working... b'Enabling: jupyter_nbextensions_configurator\\n- Writing config: C:\\\\Users\\\\PRASAD\\\\anaconda3\\\\etc\\\\jupyter\\n    - Validating...\\n      jupyter_nbextensions_configurator 0.4.1 ok\\nEnabling notebook nbextension nbextensions_configurator/config_menu/main...\\nEnabling tree nbextension nbextensions_configurator/tree_tab/main...\\n'\n",
      "done\n",
      "\n",
      "Note: you may need to restart the kernel to use updated packages.\n"
     ]
    },
    {
     "name": "stderr",
     "output_type": "stream",
     "text": [
      "\n",
      "\n",
      "==> WARNING: A newer version of conda exists. <==\n",
      "  current version: 4.8.2\n",
      "  latest version: 4.8.3\n",
      "\n",
      "Please update conda by running\n",
      "\n",
      "    $ conda update -n base -c defaults conda\n",
      "\n",
      "\n"
     ]
    }
   ],
   "source": [
    "conda install -c conda-forge jupyter_nbextensions_configurator\n"
   ]
  },
  {
   "cell_type": "code",
   "execution_count": null,
   "metadata": {},
   "outputs": [],
   "source": [
    "conda update -n base -c defaults conda"
   ]
  },
  {
   "cell_type": "code",
   "execution_count": null,
   "metadata": {},
   "outputs": [],
   "source": []
  }
 ],
 "metadata": {
  "kernelspec": {
   "display_name": "Python 3",
   "language": "python",
   "name": "python3"
  },
  "language_info": {
   "codemirror_mode": {
    "name": "ipython",
    "version": 3
   },
   "file_extension": ".py",
   "mimetype": "text/x-python",
   "name": "python",
   "nbconvert_exporter": "python",
   "pygments_lexer": "ipython3",
   "version": "3.7.6"
  },
  "toc": {
   "base_numbering": 1,
   "nav_menu": {},
   "number_sections": true,
   "sideBar": true,
   "skip_h1_title": false,
   "title_cell": "Table of Contents",
   "title_sidebar": "Contents",
   "toc_cell": false,
   "toc_position": {},
   "toc_section_display": true,
   "toc_window_display": false
  },
  "varInspector": {
   "cols": {
    "lenName": 16,
    "lenType": 16,
    "lenVar": 40
   },
   "kernels_config": {
    "python": {
     "delete_cmd_postfix": "",
     "delete_cmd_prefix": "del ",
     "library": "var_list.py",
     "varRefreshCmd": "print(var_dic_list())"
    },
    "r": {
     "delete_cmd_postfix": ") ",
     "delete_cmd_prefix": "rm(",
     "library": "var_list.r",
     "varRefreshCmd": "cat(var_dic_list()) "
    }
   },
   "types_to_exclude": [
    "module",
    "function",
    "builtin_function_or_method",
    "instance",
    "_Feature"
   ],
   "window_display": false
  }
 },
 "nbformat": 4,
 "nbformat_minor": 4
}
