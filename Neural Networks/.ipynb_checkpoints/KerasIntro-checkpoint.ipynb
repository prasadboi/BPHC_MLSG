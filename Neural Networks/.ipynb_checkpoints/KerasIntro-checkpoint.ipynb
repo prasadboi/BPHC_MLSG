{
 "cells": [
  {
   "cell_type": "markdown",
   "metadata": {
    "colab_type": "text",
    "id": "l-J9dvmz-JbK"
   },
   "source": [
    "# Deep Learning Frameworks\n",
    "\n"
   ]
  },
  {
   "cell_type": "markdown",
   "metadata": {
    "colab_type": "text",
    "id": "A0btGdz3-Ptr"
   },
   "source": [
    "Great job on completing the neural network assignment! Well, we know the pain of working with neural networks from scratch. Don't fret! - because there are multiple frameworks, like Tensorflow, Keras, Pytorch, Caffe, etc. out there to help you build a deep learning model easily. "
   ]
  },
  {
   "cell_type": "markdown",
   "metadata": {
    "colab_type": "text",
    "id": "bCxc_AeBAKDn"
   },
   "source": [
    "# Why Keras"
   ]
  },
  {
   "cell_type": "markdown",
   "metadata": {
    "colab_type": "text",
    "id": "KLxkBRcMANHF"
   },
   "source": [
    "Keras is an open source deep learning framework for python. It is a high level API that is built upon Tensorflow. Keras makes deployment of neural networks really simple, with just a few lines of code! The syntax is clear, simple and intuitive.  We urge you to go through the documentation after this to get a better feel of Keras. The link is: https://keras.io/api/"
   ]
  },
  {
   "cell_type": "markdown",
   "metadata": {
    "colab_type": "text",
    "id": "7GRWp2rrp2AK"
   },
   "source": [
    "#Importing Keras"
   ]
  },
  {
   "cell_type": "markdown",
   "metadata": {
    "colab_type": "text",
    "id": "K25nLJeRIFSL"
   },
   "source": [
    "We will first import tensorflow. Note that Keras uses Tensorflow 2.  as backend"
   ]
  },
  {
   "cell_type": "code",
   "execution_count": 2,
   "metadata": {
    "colab": {},
    "colab_type": "code",
    "id": "X_U64Pp7IOae"
   },
   "outputs": [
    {
     "ename": "ImportError",
     "evalue": "Traceback (most recent call last):\n  File \"C:\\Users\\PRASAD\\anaconda3\\envs\\deepLearning1\\lib\\site-packages\\tensorflow\\python\\pywrap_tensorflow.py\", line 58, in <module>\n    from tensorflow.python.pywrap_tensorflow_internal import *\n  File \"C:\\Users\\PRASAD\\anaconda3\\envs\\deepLearning1\\lib\\site-packages\\tensorflow\\python\\pywrap_tensorflow_internal.py\", line 28, in <module>\n    _pywrap_tensorflow_internal = swig_import_helper()\n  File \"C:\\Users\\PRASAD\\anaconda3\\envs\\deepLearning1\\lib\\site-packages\\tensorflow\\python\\pywrap_tensorflow_internal.py\", line 24, in swig_import_helper\n    _mod = imp.load_module('_pywrap_tensorflow_internal', fp, pathname, description)\n  File \"C:\\Users\\PRASAD\\anaconda3\\envs\\deepLearning1\\lib\\imp.py\", line 242, in load_module\n    return load_dynamic(name, filename, file)\n  File \"C:\\Users\\PRASAD\\anaconda3\\envs\\deepLearning1\\lib\\imp.py\", line 342, in load_dynamic\n    return _load(spec)\nImportError: DLL load failed: The specified module could not be found.\n\n\nFailed to load the native TensorFlow runtime.\n\nSee https://www.tensorflow.org/install/errors\n\nfor some common reasons and solutions.  Include the entire stack trace\nabove this error message when asking for help.",
     "output_type": "error",
     "traceback": [
      "\u001b[1;31m---------------------------------------------------------------------------\u001b[0m",
      "\u001b[1;31mImportError\u001b[0m                               Traceback (most recent call last)",
      "\u001b[1;32m~\\anaconda3\\envs\\deepLearning1\\lib\\site-packages\\tensorflow\\python\\pywrap_tensorflow.py\u001b[0m in \u001b[0;36m<module>\u001b[1;34m\u001b[0m\n\u001b[0;32m     57\u001b[0m \u001b[1;33m\u001b[0m\u001b[0m\n\u001b[1;32m---> 58\u001b[1;33m   \u001b[1;32mfrom\u001b[0m \u001b[0mtensorflow\u001b[0m\u001b[1;33m.\u001b[0m\u001b[0mpython\u001b[0m\u001b[1;33m.\u001b[0m\u001b[0mpywrap_tensorflow_internal\u001b[0m \u001b[1;32mimport\u001b[0m \u001b[1;33m*\u001b[0m\u001b[1;33m\u001b[0m\u001b[1;33m\u001b[0m\u001b[0m\n\u001b[0m\u001b[0;32m     59\u001b[0m \u001b[1;33m\u001b[0m\u001b[0m\n",
      "\u001b[1;32m~\\anaconda3\\envs\\deepLearning1\\lib\\site-packages\\tensorflow\\python\\pywrap_tensorflow_internal.py\u001b[0m in \u001b[0;36m<module>\u001b[1;34m\u001b[0m\n\u001b[0;32m     27\u001b[0m             \u001b[1;32mreturn\u001b[0m \u001b[0m_mod\u001b[0m\u001b[1;33m\u001b[0m\u001b[1;33m\u001b[0m\u001b[0m\n\u001b[1;32m---> 28\u001b[1;33m     \u001b[0m_pywrap_tensorflow_internal\u001b[0m \u001b[1;33m=\u001b[0m \u001b[0mswig_import_helper\u001b[0m\u001b[1;33m(\u001b[0m\u001b[1;33m)\u001b[0m\u001b[1;33m\u001b[0m\u001b[1;33m\u001b[0m\u001b[0m\n\u001b[0m\u001b[0;32m     29\u001b[0m     \u001b[1;32mdel\u001b[0m \u001b[0mswig_import_helper\u001b[0m\u001b[1;33m\u001b[0m\u001b[1;33m\u001b[0m\u001b[0m\n",
      "\u001b[1;32m~\\anaconda3\\envs\\deepLearning1\\lib\\site-packages\\tensorflow\\python\\pywrap_tensorflow_internal.py\u001b[0m in \u001b[0;36mswig_import_helper\u001b[1;34m()\u001b[0m\n\u001b[0;32m     23\u001b[0m             \u001b[1;32mtry\u001b[0m\u001b[1;33m:\u001b[0m\u001b[1;33m\u001b[0m\u001b[1;33m\u001b[0m\u001b[0m\n\u001b[1;32m---> 24\u001b[1;33m                 \u001b[0m_mod\u001b[0m \u001b[1;33m=\u001b[0m \u001b[0mimp\u001b[0m\u001b[1;33m.\u001b[0m\u001b[0mload_module\u001b[0m\u001b[1;33m(\u001b[0m\u001b[1;34m'_pywrap_tensorflow_internal'\u001b[0m\u001b[1;33m,\u001b[0m \u001b[0mfp\u001b[0m\u001b[1;33m,\u001b[0m \u001b[0mpathname\u001b[0m\u001b[1;33m,\u001b[0m \u001b[0mdescription\u001b[0m\u001b[1;33m)\u001b[0m\u001b[1;33m\u001b[0m\u001b[1;33m\u001b[0m\u001b[0m\n\u001b[0m\u001b[0;32m     25\u001b[0m             \u001b[1;32mfinally\u001b[0m\u001b[1;33m:\u001b[0m\u001b[1;33m\u001b[0m\u001b[1;33m\u001b[0m\u001b[0m\n",
      "\u001b[1;32m~\\anaconda3\\envs\\deepLearning1\\lib\\imp.py\u001b[0m in \u001b[0;36mload_module\u001b[1;34m(name, file, filename, details)\u001b[0m\n\u001b[0;32m    241\u001b[0m         \u001b[1;32melse\u001b[0m\u001b[1;33m:\u001b[0m\u001b[1;33m\u001b[0m\u001b[1;33m\u001b[0m\u001b[0m\n\u001b[1;32m--> 242\u001b[1;33m             \u001b[1;32mreturn\u001b[0m \u001b[0mload_dynamic\u001b[0m\u001b[1;33m(\u001b[0m\u001b[0mname\u001b[0m\u001b[1;33m,\u001b[0m \u001b[0mfilename\u001b[0m\u001b[1;33m,\u001b[0m \u001b[0mfile\u001b[0m\u001b[1;33m)\u001b[0m\u001b[1;33m\u001b[0m\u001b[1;33m\u001b[0m\u001b[0m\n\u001b[0m\u001b[0;32m    243\u001b[0m     \u001b[1;32melif\u001b[0m \u001b[0mtype_\u001b[0m \u001b[1;33m==\u001b[0m \u001b[0mPKG_DIRECTORY\u001b[0m\u001b[1;33m:\u001b[0m\u001b[1;33m\u001b[0m\u001b[1;33m\u001b[0m\u001b[0m\n",
      "\u001b[1;32m~\\anaconda3\\envs\\deepLearning1\\lib\\imp.py\u001b[0m in \u001b[0;36mload_dynamic\u001b[1;34m(name, path, file)\u001b[0m\n\u001b[0;32m    341\u001b[0m             name=name, loader=loader, origin=path)\n\u001b[1;32m--> 342\u001b[1;33m         \u001b[1;32mreturn\u001b[0m \u001b[0m_load\u001b[0m\u001b[1;33m(\u001b[0m\u001b[0mspec\u001b[0m\u001b[1;33m)\u001b[0m\u001b[1;33m\u001b[0m\u001b[1;33m\u001b[0m\u001b[0m\n\u001b[0m\u001b[0;32m    343\u001b[0m \u001b[1;33m\u001b[0m\u001b[0m\n",
      "\u001b[1;31mImportError\u001b[0m: DLL load failed: The specified module could not be found.",
      "\nDuring handling of the above exception, another exception occurred:\n",
      "\u001b[1;31mImportError\u001b[0m                               Traceback (most recent call last)",
      "\u001b[1;32m<ipython-input-2-3d1e6d42ad48>\u001b[0m in \u001b[0;36m<module>\u001b[1;34m\u001b[0m\n\u001b[1;32m----> 1\u001b[1;33m \u001b[1;32mimport\u001b[0m \u001b[0mtensorflow\u001b[0m \u001b[1;32mas\u001b[0m \u001b[0mtf\u001b[0m\u001b[1;33m\u001b[0m\u001b[1;33m\u001b[0m\u001b[0m\n\u001b[0m\u001b[0;32m      2\u001b[0m \u001b[1;32mfrom\u001b[0m \u001b[0mtensorflow\u001b[0m \u001b[1;32mimport\u001b[0m \u001b[0mkeras\u001b[0m\u001b[1;33m\u001b[0m\u001b[1;33m\u001b[0m\u001b[0m\n",
      "\u001b[1;32m~\\anaconda3\\envs\\deepLearning1\\lib\\site-packages\\tensorflow\\__init__.py\u001b[0m in \u001b[0;36m<module>\u001b[1;34m\u001b[0m\n\u001b[0;32m     39\u001b[0m \u001b[1;32mimport\u001b[0m \u001b[0msys\u001b[0m \u001b[1;32mas\u001b[0m \u001b[0m_sys\u001b[0m\u001b[1;33m\u001b[0m\u001b[1;33m\u001b[0m\u001b[0m\n\u001b[0;32m     40\u001b[0m \u001b[1;33m\u001b[0m\u001b[0m\n\u001b[1;32m---> 41\u001b[1;33m \u001b[1;32mfrom\u001b[0m \u001b[0mtensorflow\u001b[0m\u001b[1;33m.\u001b[0m\u001b[0mpython\u001b[0m\u001b[1;33m.\u001b[0m\u001b[0mtools\u001b[0m \u001b[1;32mimport\u001b[0m \u001b[0mmodule_util\u001b[0m \u001b[1;32mas\u001b[0m \u001b[0m_module_util\u001b[0m\u001b[1;33m\u001b[0m\u001b[1;33m\u001b[0m\u001b[0m\n\u001b[0m\u001b[0;32m     42\u001b[0m \u001b[1;32mfrom\u001b[0m \u001b[0mtensorflow\u001b[0m\u001b[1;33m.\u001b[0m\u001b[0mpython\u001b[0m\u001b[1;33m.\u001b[0m\u001b[0mutil\u001b[0m\u001b[1;33m.\u001b[0m\u001b[0mlazy_loader\u001b[0m \u001b[1;32mimport\u001b[0m \u001b[0mLazyLoader\u001b[0m \u001b[1;32mas\u001b[0m \u001b[0m_LazyLoader\u001b[0m\u001b[1;33m\u001b[0m\u001b[1;33m\u001b[0m\u001b[0m\n\u001b[0;32m     43\u001b[0m \u001b[1;33m\u001b[0m\u001b[0m\n",
      "\u001b[1;32m~\\anaconda3\\envs\\deepLearning1\\lib\\site-packages\\tensorflow\\python\\__init__.py\u001b[0m in \u001b[0;36m<module>\u001b[1;34m\u001b[0m\n\u001b[0;32m     48\u001b[0m \u001b[1;32mimport\u001b[0m \u001b[0mnumpy\u001b[0m \u001b[1;32mas\u001b[0m \u001b[0mnp\u001b[0m\u001b[1;33m\u001b[0m\u001b[1;33m\u001b[0m\u001b[0m\n\u001b[0;32m     49\u001b[0m \u001b[1;33m\u001b[0m\u001b[0m\n\u001b[1;32m---> 50\u001b[1;33m \u001b[1;32mfrom\u001b[0m \u001b[0mtensorflow\u001b[0m\u001b[1;33m.\u001b[0m\u001b[0mpython\u001b[0m \u001b[1;32mimport\u001b[0m \u001b[0mpywrap_tensorflow\u001b[0m\u001b[1;33m\u001b[0m\u001b[1;33m\u001b[0m\u001b[0m\n\u001b[0m\u001b[0;32m     51\u001b[0m \u001b[1;33m\u001b[0m\u001b[0m\n\u001b[0;32m     52\u001b[0m \u001b[1;31m# Protocol buffers\u001b[0m\u001b[1;33m\u001b[0m\u001b[1;33m\u001b[0m\u001b[1;33m\u001b[0m\u001b[0m\n",
      "\u001b[1;32m~\\anaconda3\\envs\\deepLearning1\\lib\\site-packages\\tensorflow\\python\\pywrap_tensorflow.py\u001b[0m in \u001b[0;36m<module>\u001b[1;34m\u001b[0m\n\u001b[0;32m     67\u001b[0m \u001b[1;32mfor\u001b[0m \u001b[0msome\u001b[0m \u001b[0mcommon\u001b[0m \u001b[0mreasons\u001b[0m \u001b[1;32mand\u001b[0m \u001b[0msolutions\u001b[0m\u001b[1;33m.\u001b[0m  \u001b[0mInclude\u001b[0m \u001b[0mthe\u001b[0m \u001b[0mentire\u001b[0m \u001b[0mstack\u001b[0m \u001b[0mtrace\u001b[0m\u001b[1;33m\u001b[0m\u001b[1;33m\u001b[0m\u001b[0m\n\u001b[0;32m     68\u001b[0m above this error message when asking for help.\"\"\" % traceback.format_exc()\n\u001b[1;32m---> 69\u001b[1;33m   \u001b[1;32mraise\u001b[0m \u001b[0mImportError\u001b[0m\u001b[1;33m(\u001b[0m\u001b[0mmsg\u001b[0m\u001b[1;33m)\u001b[0m\u001b[1;33m\u001b[0m\u001b[1;33m\u001b[0m\u001b[0m\n\u001b[0m\u001b[0;32m     70\u001b[0m \u001b[1;33m\u001b[0m\u001b[0m\n\u001b[0;32m     71\u001b[0m \u001b[1;31m# pylint: enable=wildcard-import,g-import-not-at-top,unused-import,line-too-long\u001b[0m\u001b[1;33m\u001b[0m\u001b[1;33m\u001b[0m\u001b[1;33m\u001b[0m\u001b[0m\n",
      "\u001b[1;31mImportError\u001b[0m: Traceback (most recent call last):\n  File \"C:\\Users\\PRASAD\\anaconda3\\envs\\deepLearning1\\lib\\site-packages\\tensorflow\\python\\pywrap_tensorflow.py\", line 58, in <module>\n    from tensorflow.python.pywrap_tensorflow_internal import *\n  File \"C:\\Users\\PRASAD\\anaconda3\\envs\\deepLearning1\\lib\\site-packages\\tensorflow\\python\\pywrap_tensorflow_internal.py\", line 28, in <module>\n    _pywrap_tensorflow_internal = swig_import_helper()\n  File \"C:\\Users\\PRASAD\\anaconda3\\envs\\deepLearning1\\lib\\site-packages\\tensorflow\\python\\pywrap_tensorflow_internal.py\", line 24, in swig_import_helper\n    _mod = imp.load_module('_pywrap_tensorflow_internal', fp, pathname, description)\n  File \"C:\\Users\\PRASAD\\anaconda3\\envs\\deepLearning1\\lib\\imp.py\", line 242, in load_module\n    return load_dynamic(name, filename, file)\n  File \"C:\\Users\\PRASAD\\anaconda3\\envs\\deepLearning1\\lib\\imp.py\", line 342, in load_dynamic\n    return _load(spec)\nImportError: DLL load failed: The specified module could not be found.\n\n\nFailed to load the native TensorFlow runtime.\n\nSee https://www.tensorflow.org/install/errors\n\nfor some common reasons and solutions.  Include the entire stack trace\nabove this error message when asking for help."
     ]
    }
   ],
   "source": [
    "import tensorflow as tf\n",
    "from tensorflow import keras"
   ]
  },
  {
   "cell_type": "markdown",
   "metadata": {
    "colab_type": "text",
    "id": "Sq6aaZ0dEJTL"
   },
   "source": [
    "# The dataset"
   ]
  },
  {
   "cell_type": "markdown",
   "metadata": {
    "colab_type": "text",
    "id": "dTLfzHLFENcN"
   },
   "source": [
    "We will geenerate a random n-class classification problem using scikit learn"
   ]
  },
  {
   "cell_type": "code",
   "execution_count": 0,
   "metadata": {
    "colab": {
     "base_uri": "https://localhost:8080/",
     "height": 35
    },
    "colab_type": "code",
    "id": "in3X10QhEYM1",
    "outputId": "0a5e9ab3-8374-41ce-991d-92a6fd3edd59"
   },
   "outputs": [
    {
     "name": "stdout",
     "output_type": "stream",
     "text": [
      "(5000, 10) (5000,)\n"
     ]
    }
   ],
   "source": [
    "from sklearn.datasets import make_classification\n",
    "#X, y = make_classification(n_samples=3000, n_informative = 4, n_features=10, n_classes=5, random_state=1)\n",
    "\n",
    "X,y =make_classification(n_samples=5000, n_informative = 8, n_features=10, n_redundant = 0, n_classes=5, random_state=1)\n",
    "print(X.shape, y.shape)\n"
   ]
  },
  {
   "cell_type": "markdown",
   "metadata": {
    "colab_type": "text",
    "id": "7Wr9zs4cFjac"
   },
   "source": [
    "We have created a dataset with m=1000 and n=10. Each training example belongs to one of 5 classes"
   ]
  },
  {
   "cell_type": "markdown",
   "metadata": {
    "colab_type": "text",
    "id": "z1bX3RwKFuOJ"
   },
   "source": [
    "# Split and standardization of data"
   ]
  },
  {
   "cell_type": "code",
   "execution_count": 0,
   "metadata": {
    "colab": {},
    "colab_type": "code",
    "id": "RO8Os900Fycy"
   },
   "outputs": [],
   "source": [
    "from sklearn.model_selection import train_test_split\n",
    "X_train, X_test, y_train, y_test = train_test_split(X, y, test_size=0.3, random_state=42)   #Split data into 70% training, 30%test data"
   ]
  },
  {
   "cell_type": "code",
   "execution_count": 0,
   "metadata": {
    "colab": {},
    "colab_type": "code",
    "id": "g2Xr0fLiGHh_"
   },
   "outputs": [],
   "source": [
    "from sklearn.preprocessing import StandardScaler    #Standardize data\n",
    "scaler = StandardScaler()\n",
    "scaler.fit(X_train)\n",
    "X_train = scaler.transform(X_train)\n",
    "X_test = scaler.transform(X_test)"
   ]
  },
  {
   "cell_type": "markdown",
   "metadata": {
    "colab_type": "text",
    "id": "EfJImjfMZmzO"
   },
   "source": [
    "# Converting the labels to one hot encodings"
   ]
  },
  {
   "cell_type": "markdown",
   "metadata": {
    "colab_type": "text",
    "id": "kjeXHOMcZrM1"
   },
   "source": [
    "To convert our targets into a one hot encoding we use the Keras to_categorical function"
   ]
  },
  {
   "cell_type": "code",
   "execution_count": 0,
   "metadata": {
    "colab": {},
    "colab_type": "code",
    "id": "Dtx2XYc_Z39t"
   },
   "outputs": [],
   "source": [
    "y_train = tf.keras.utils.to_categorical(y_train)\n",
    "y_test = tf.keras.utils.to_categorical(y_test)"
   ]
  },
  {
   "cell_type": "markdown",
   "metadata": {
    "colab_type": "text",
    "id": "SYyCI_EFHJo0"
   },
   "source": [
    "# **MAKING THE NEURAL NETWORK**"
   ]
  },
  {
   "cell_type": "markdown",
   "metadata": {
    "colab_type": "text",
    "id": "8r3ox244Thad"
   },
   "source": [
    "##The Sequential class"
   ]
  },
  {
   "cell_type": "markdown",
   "metadata": {
    "colab_type": "text",
    "id": "mJx4JnoqHgEy"
   },
   "source": [
    "The keras.models.Sequential class is a wrapper for the neural network model that treats the network as a sequence of layers. We assign it to a variable model.  Click [here](https://keras.io/api/models/sequential/) to check out the documentation"
   ]
  },
  {
   "cell_type": "code",
   "execution_count": 0,
   "metadata": {
    "colab": {},
    "colab_type": "code",
    "id": "X836dVLpIVB4"
   },
   "outputs": [],
   "source": [
    "tf.keras.backend.clear_session()\n",
    "model = tf.keras.Sequential()"
   ]
  },
  {
   "cell_type": "markdown",
   "metadata": {
    "colab_type": "text",
    "id": "N93HlSc1T1Jp"
   },
   "source": [
    "##The Input Layer"
   ]
  },
  {
   "cell_type": "markdown",
   "metadata": {
    "colab_type": "text",
    "id": "5Aa-YdXEJJio"
   },
   "source": [
    "First, we call the Input() object of Keras, to instantiate a Keras tensor. Note that we only input the number of features and not the training size. So the shape argument of the Input() object is inputs (n, None) \n",
    "\n",
    "To add a certain object or layer to the Sequential model, we use the *add* function"
   ]
  },
  {
   "cell_type": "code",
   "execution_count": 0,
   "metadata": {
    "colab": {},
    "colab_type": "code",
    "id": "EGWqM_HiJrRX"
   },
   "outputs": [],
   "source": [
    "model.add(tf.keras.Input(shape=10,))"
   ]
  },
  {
   "cell_type": "markdown",
   "metadata": {
    "colab_type": "text",
    "id": "T2gEqpjJUI2X"
   },
   "source": [
    "##Adding layers "
   ]
  },
  {
   "cell_type": "markdown",
   "metadata": {
    "colab_type": "text",
    "id": "ELKmipHsKUTo"
   },
   "source": [
    "To add a layer to a neural network, we add a dense layer, or the Dense class. Arguments to the Dense class include the number of neurons for the layer, the activation, regularizer and and other stuff which we do not need to worry about. \n",
    "\n",
    "In this model we will make an NN with 2 hidden layers, each activated by the relu function. The last layer , which is the output layer, has 5 neurons(one belonging to each class), activated by the softmax function. \n",
    "\n",
    "[Dense layer documentation link](https://keras.io/api/layers/core_layers/dense/)"
   ]
  },
  {
   "cell_type": "code",
   "execution_count": 0,
   "metadata": {
    "colab": {},
    "colab_type": "code",
    "id": "kJBbxgEALDsT"
   },
   "outputs": [],
   "source": [
    "model.add(tf.keras.layers.Dense(units=30, activation='relu', )) #First hidden layer with 30 neurons, relu activation\n",
    "model.add(tf.keras.layers.Dense(units=15, activation='relu')) #Second hidden layer with 15 neurons, relu activation\n",
    "model.add(tf.keras.layers.Dense(units=5, activation='softmax')) #Output layer with 5 neuron, softmax activation"
   ]
  },
  {
   "cell_type": "markdown",
   "metadata": {
    "colab_type": "text",
    "id": "MGnQ4HLEWm3M"
   },
   "source": [
    "##Activations"
   ]
  },
  {
   "cell_type": "markdown",
   "metadata": {
    "colab_type": "text",
    "id": "rli-9UekVftL"
   },
   "source": [
    "Note: Here we pass the type of activation as an argument to the Dense class. This is the same as adding an Activation layer with the activation inside it. So the first line of code above is the same as:\n",
    "\n",
    "\n",
    "```\n",
    "model.add(tf.keras.layers.Dense(64))\n",
    "model.add(tf.keras.layers.Activation(tf.keras.activations.relu))\n",
    "```\n",
    "\n"
   ]
  },
  {
   "cell_type": "markdown",
   "metadata": {
    "colab_type": "text",
    "id": "gr8wmFs1W8FG"
   },
   "source": [
    "Click [here](https://keras.io/api/layers/activations/) to check out the various activations provided by keras"
   ]
  },
  {
   "cell_type": "markdown",
   "metadata": {
    "colab_type": "text",
    "id": "fDJy4tpfXIZi"
   },
   "source": [
    "##Model summary"
   ]
  },
  {
   "cell_type": "markdown",
   "metadata": {
    "colab_type": "text",
    "id": "BNv3zOtWLjvO"
   },
   "source": [
    "Just that many lines of code to prototype our neural network model! Simple right? We can check out the model's details by calling the summary() function"
   ]
  },
  {
   "cell_type": "code",
   "execution_count": 0,
   "metadata": {
    "colab": {
     "base_uri": "https://localhost:8080/",
     "height": 269
    },
    "colab_type": "code",
    "id": "4T6Pa9FbLuBU",
    "outputId": "ebfd9db4-171b-4bb7-feb1-c0f573111b51"
   },
   "outputs": [
    {
     "name": "stdout",
     "output_type": "stream",
     "text": [
      "Model: \"sequential\"\n",
      "_________________________________________________________________\n",
      "Layer (type)                 Output Shape              Param #   \n",
      "=================================================================\n",
      "dense (Dense)                (None, 30)                330       \n",
      "_________________________________________________________________\n",
      "dense_1 (Dense)              (None, 15)                465       \n",
      "_________________________________________________________________\n",
      "dense_2 (Dense)              (None, 5)                 80        \n",
      "=================================================================\n",
      "Total params: 875\n",
      "Trainable params: 875\n",
      "Non-trainable params: 0\n",
      "_________________________________________________________________\n"
     ]
    }
   ],
   "source": [
    "model.summary()"
   ]
  },
  {
   "cell_type": "markdown",
   "metadata": {
    "colab_type": "text",
    "id": "SsMp9jtxXgFB"
   },
   "source": [
    "## The compile() function"
   ]
  },
  {
   "cell_type": "markdown",
   "metadata": {
    "colab_type": "text",
    "id": "VLmun9IpL7Ip"
   },
   "source": [
    "Next, we compile the model using the compile() method. Here we mention what our loss function should be, the type of optimizer used, and what metrics to print.\n",
    "\n",
    "We will be using the categorical cross-entropy as our loss function, with the adam optimizer and accuracy as our metric. Note that we pass our metrics as a list"
   ]
  },
  {
   "cell_type": "code",
   "execution_count": 0,
   "metadata": {
    "colab": {},
    "colab_type": "code",
    "id": "wMZ7TEqTMPns"
   },
   "outputs": [],
   "source": [
    "model.compile(loss='categorical_crossentropy', optimizer='adam', metrics=['accuracy'])"
   ]
  },
  {
   "cell_type": "markdown",
   "metadata": {
    "colab_type": "text",
    "id": "gzogFygcX0ED"
   },
   "source": [
    "## Keras Optimizers"
   ]
  },
  {
   "cell_type": "markdown",
   "metadata": {
    "colab_type": "text",
    "id": "QaQ6H21PX3Dz"
   },
   "source": [
    "Passing optimizer='adam' to the compile method uses the default learning rate and some other parameters. But often , we want to choose the learning rate, momentum, etc. So, we call the optimizer's class, store it in a variable and pass it as an argument to the compile method.\n",
    "\n",
    "For example, if we want to use stochastic gradient descent with a learning rate of 0.1 and momentum 0.9 , we would code it as follows:\n",
    "\n",
    "\n",
    "```\n",
    "opt = tf.keras.optimizers.SGD(learning_rate=0.01, momentum=0.9)\n",
    "model.compile(loss='categorical_crossentropy', optimizer =opt, metrics=['accuracy'])\n",
    "```\n",
    "\n"
   ]
  },
  {
   "cell_type": "markdown",
   "metadata": {
    "colab_type": "text",
    "id": "yBmwz-qBZOV_"
   },
   "source": [
    "Click [here](https://keras.io/api/optimizers/) to check out the various Keras optimizers and their syntax"
   ]
  },
  {
   "cell_type": "markdown",
   "metadata": {
    "colab_type": "text",
    "id": "4kyDJpKAZY3a"
   },
   "source": [
    "## The fit() function"
   ]
  },
  {
   "cell_type": "markdown",
   "metadata": {
    "colab_type": "text",
    "id": "R2zNL_SGNL2V"
   },
   "source": [
    "Finally , we call the fit() function to fit our data! Keras takes care of all the mathematical computation of forward prop and backprop! The fit() function takes into input the data, true labels, batch size in which we train, the number of epochs, and the validation data(here which is our test set). It returns a Keras history object which contains various attributes"
   ]
  },
  {
   "cell_type": "code",
   "execution_count": 0,
   "metadata": {
    "colab": {
     "base_uri": "https://localhost:8080/",
     "height": 1000
    },
    "colab_type": "code",
    "id": "Yx8qroZnNxjc",
    "outputId": "ca52c3a0-3b7f-42e4-bbd5-2aad61bb75f6"
   },
   "outputs": [
    {
     "name": "stdout",
     "output_type": "stream",
     "text": [
      "Epoch 1/200\n",
      "219/219 [==============================] - 1s 3ms/step - loss: 1.4770 - accuracy: 0.4046 - val_loss: 1.2602 - val_accuracy: 0.5413\n",
      "Epoch 2/200\n",
      "219/219 [==============================] - 0s 2ms/step - loss: 1.0564 - accuracy: 0.6189 - val_loss: 0.9710 - val_accuracy: 0.6340\n",
      "Epoch 3/200\n",
      "219/219 [==============================] - 0s 2ms/step - loss: 0.8740 - accuracy: 0.6657 - val_loss: 0.8848 - val_accuracy: 0.6740\n",
      "Epoch 4/200\n",
      "219/219 [==============================] - 0s 2ms/step - loss: 0.7867 - accuracy: 0.7014 - val_loss: 0.8113 - val_accuracy: 0.7040\n",
      "Epoch 5/200\n",
      "219/219 [==============================] - 0s 2ms/step - loss: 0.7186 - accuracy: 0.7383 - val_loss: 0.7561 - val_accuracy: 0.7373\n",
      "Epoch 6/200\n",
      "219/219 [==============================] - 0s 2ms/step - loss: 0.6655 - accuracy: 0.7597 - val_loss: 0.7119 - val_accuracy: 0.7473\n",
      "Epoch 7/200\n",
      "219/219 [==============================] - 0s 2ms/step - loss: 0.6204 - accuracy: 0.7760 - val_loss: 0.6715 - val_accuracy: 0.7633\n",
      "Epoch 8/200\n",
      "219/219 [==============================] - 0s 2ms/step - loss: 0.5867 - accuracy: 0.7891 - val_loss: 0.6369 - val_accuracy: 0.7773\n",
      "Epoch 9/200\n",
      "219/219 [==============================] - 0s 2ms/step - loss: 0.5586 - accuracy: 0.8040 - val_loss: 0.6221 - val_accuracy: 0.7753\n",
      "Epoch 10/200\n",
      "219/219 [==============================] - 0s 2ms/step - loss: 0.5345 - accuracy: 0.8117 - val_loss: 0.5932 - val_accuracy: 0.7947\n",
      "Epoch 11/200\n",
      "219/219 [==============================] - 0s 2ms/step - loss: 0.5168 - accuracy: 0.8229 - val_loss: 0.5776 - val_accuracy: 0.7987\n",
      "Epoch 12/200\n",
      "219/219 [==============================] - 0s 2ms/step - loss: 0.5001 - accuracy: 0.8263 - val_loss: 0.5760 - val_accuracy: 0.7920\n",
      "Epoch 13/200\n",
      "219/219 [==============================] - 0s 2ms/step - loss: 0.4878 - accuracy: 0.8303 - val_loss: 0.5549 - val_accuracy: 0.7993\n",
      "Epoch 14/200\n",
      "219/219 [==============================] - 0s 2ms/step - loss: 0.4743 - accuracy: 0.8351 - val_loss: 0.5439 - val_accuracy: 0.8073\n",
      "Epoch 15/200\n",
      "219/219 [==============================] - 0s 2ms/step - loss: 0.4658 - accuracy: 0.8411 - val_loss: 0.5307 - val_accuracy: 0.8120\n",
      "Epoch 16/200\n",
      "219/219 [==============================] - 0s 2ms/step - loss: 0.4561 - accuracy: 0.8463 - val_loss: 0.5290 - val_accuracy: 0.8073\n",
      "Epoch 17/200\n",
      "219/219 [==============================] - 0s 2ms/step - loss: 0.4481 - accuracy: 0.8480 - val_loss: 0.5132 - val_accuracy: 0.8180\n",
      "Epoch 18/200\n",
      "219/219 [==============================] - 0s 2ms/step - loss: 0.4431 - accuracy: 0.8486 - val_loss: 0.5161 - val_accuracy: 0.8120\n",
      "Epoch 19/200\n",
      "219/219 [==============================] - 0s 2ms/step - loss: 0.4350 - accuracy: 0.8526 - val_loss: 0.5027 - val_accuracy: 0.8200\n",
      "Epoch 20/200\n",
      "219/219 [==============================] - 0s 2ms/step - loss: 0.4291 - accuracy: 0.8549 - val_loss: 0.4990 - val_accuracy: 0.8173\n",
      "Epoch 21/200\n",
      "219/219 [==============================] - 0s 2ms/step - loss: 0.4229 - accuracy: 0.8543 - val_loss: 0.4971 - val_accuracy: 0.8273\n",
      "Epoch 22/200\n",
      "219/219 [==============================] - 0s 2ms/step - loss: 0.4196 - accuracy: 0.8597 - val_loss: 0.4994 - val_accuracy: 0.8233\n",
      "Epoch 23/200\n",
      "219/219 [==============================] - 0s 2ms/step - loss: 0.4148 - accuracy: 0.8560 - val_loss: 0.4915 - val_accuracy: 0.8220\n",
      "Epoch 24/200\n",
      "219/219 [==============================] - 0s 2ms/step - loss: 0.4090 - accuracy: 0.8654 - val_loss: 0.4947 - val_accuracy: 0.8253\n",
      "Epoch 25/200\n",
      "219/219 [==============================] - 0s 2ms/step - loss: 0.4057 - accuracy: 0.8634 - val_loss: 0.4880 - val_accuracy: 0.8273\n",
      "Epoch 26/200\n",
      "219/219 [==============================] - 0s 2ms/step - loss: 0.4036 - accuracy: 0.8614 - val_loss: 0.4819 - val_accuracy: 0.8260\n",
      "Epoch 27/200\n",
      "219/219 [==============================] - 0s 2ms/step - loss: 0.3959 - accuracy: 0.8689 - val_loss: 0.4750 - val_accuracy: 0.8320\n",
      "Epoch 28/200\n",
      "219/219 [==============================] - 0s 2ms/step - loss: 0.3953 - accuracy: 0.8680 - val_loss: 0.4859 - val_accuracy: 0.8280\n",
      "Epoch 29/200\n",
      "219/219 [==============================] - 0s 2ms/step - loss: 0.3895 - accuracy: 0.8669 - val_loss: 0.4735 - val_accuracy: 0.8307\n",
      "Epoch 30/200\n",
      "219/219 [==============================] - 0s 2ms/step - loss: 0.3839 - accuracy: 0.8709 - val_loss: 0.4729 - val_accuracy: 0.8373\n",
      "Epoch 31/200\n",
      "219/219 [==============================] - 0s 2ms/step - loss: 0.3825 - accuracy: 0.8720 - val_loss: 0.4693 - val_accuracy: 0.8353\n",
      "Epoch 32/200\n",
      "219/219 [==============================] - 0s 2ms/step - loss: 0.3802 - accuracy: 0.8726 - val_loss: 0.4626 - val_accuracy: 0.8393\n",
      "Epoch 33/200\n",
      "219/219 [==============================] - 0s 2ms/step - loss: 0.3756 - accuracy: 0.8763 - val_loss: 0.4611 - val_accuracy: 0.8360\n",
      "Epoch 34/200\n",
      "219/219 [==============================] - 0s 2ms/step - loss: 0.3740 - accuracy: 0.8766 - val_loss: 0.4677 - val_accuracy: 0.8420\n",
      "Epoch 35/200\n",
      "219/219 [==============================] - 0s 2ms/step - loss: 0.3697 - accuracy: 0.8803 - val_loss: 0.4647 - val_accuracy: 0.8380\n",
      "Epoch 36/200\n",
      "219/219 [==============================] - 0s 2ms/step - loss: 0.3676 - accuracy: 0.8783 - val_loss: 0.4688 - val_accuracy: 0.8380\n",
      "Epoch 37/200\n",
      "219/219 [==============================] - 0s 2ms/step - loss: 0.3631 - accuracy: 0.8811 - val_loss: 0.4625 - val_accuracy: 0.8360\n",
      "Epoch 38/200\n",
      "219/219 [==============================] - 0s 2ms/step - loss: 0.3617 - accuracy: 0.8834 - val_loss: 0.4620 - val_accuracy: 0.8393\n",
      "Epoch 39/200\n",
      "219/219 [==============================] - 0s 2ms/step - loss: 0.3582 - accuracy: 0.8840 - val_loss: 0.4604 - val_accuracy: 0.8433\n",
      "Epoch 40/200\n",
      "219/219 [==============================] - 0s 2ms/step - loss: 0.3553 - accuracy: 0.8837 - val_loss: 0.4599 - val_accuracy: 0.8433\n",
      "Epoch 41/200\n",
      "219/219 [==============================] - 0s 2ms/step - loss: 0.3543 - accuracy: 0.8831 - val_loss: 0.4612 - val_accuracy: 0.8480\n",
      "Epoch 42/200\n",
      "219/219 [==============================] - 0s 2ms/step - loss: 0.3529 - accuracy: 0.8829 - val_loss: 0.4607 - val_accuracy: 0.8487\n",
      "Epoch 43/200\n",
      "219/219 [==============================] - 0s 2ms/step - loss: 0.3493 - accuracy: 0.8874 - val_loss: 0.4602 - val_accuracy: 0.8420\n",
      "Epoch 44/200\n",
      "219/219 [==============================] - 0s 2ms/step - loss: 0.3488 - accuracy: 0.8871 - val_loss: 0.4522 - val_accuracy: 0.8480\n",
      "Epoch 45/200\n",
      "219/219 [==============================] - 0s 2ms/step - loss: 0.3429 - accuracy: 0.8863 - val_loss: 0.4598 - val_accuracy: 0.8487\n",
      "Epoch 46/200\n",
      "219/219 [==============================] - 0s 2ms/step - loss: 0.3398 - accuracy: 0.8880 - val_loss: 0.4631 - val_accuracy: 0.8467\n",
      "Epoch 47/200\n",
      "219/219 [==============================] - 0s 2ms/step - loss: 0.3399 - accuracy: 0.8894 - val_loss: 0.4591 - val_accuracy: 0.8513\n",
      "Epoch 48/200\n",
      "219/219 [==============================] - 0s 2ms/step - loss: 0.3367 - accuracy: 0.8920 - val_loss: 0.4607 - val_accuracy: 0.8447\n",
      "Epoch 49/200\n",
      "219/219 [==============================] - 0s 2ms/step - loss: 0.3373 - accuracy: 0.8886 - val_loss: 0.4572 - val_accuracy: 0.8487\n",
      "Epoch 50/200\n",
      "219/219 [==============================] - 0s 2ms/step - loss: 0.3345 - accuracy: 0.8906 - val_loss: 0.4521 - val_accuracy: 0.8480\n",
      "Epoch 51/200\n",
      "219/219 [==============================] - 0s 2ms/step - loss: 0.3313 - accuracy: 0.8914 - val_loss: 0.4599 - val_accuracy: 0.8473\n",
      "Epoch 52/200\n",
      "219/219 [==============================] - 0s 2ms/step - loss: 0.3299 - accuracy: 0.8926 - val_loss: 0.4564 - val_accuracy: 0.8500\n",
      "Epoch 53/200\n",
      "219/219 [==============================] - 0s 2ms/step - loss: 0.3291 - accuracy: 0.8934 - val_loss: 0.4557 - val_accuracy: 0.8467\n",
      "Epoch 54/200\n",
      "219/219 [==============================] - 0s 2ms/step - loss: 0.3271 - accuracy: 0.8954 - val_loss: 0.4541 - val_accuracy: 0.8460\n",
      "Epoch 55/200\n",
      "219/219 [==============================] - 0s 2ms/step - loss: 0.3230 - accuracy: 0.8940 - val_loss: 0.4494 - val_accuracy: 0.8500\n",
      "Epoch 56/200\n",
      "219/219 [==============================] - 0s 2ms/step - loss: 0.3237 - accuracy: 0.8943 - val_loss: 0.4528 - val_accuracy: 0.8527\n",
      "Epoch 57/200\n",
      "219/219 [==============================] - 0s 2ms/step - loss: 0.3199 - accuracy: 0.8943 - val_loss: 0.4589 - val_accuracy: 0.8467\n",
      "Epoch 58/200\n",
      "219/219 [==============================] - 0s 2ms/step - loss: 0.3182 - accuracy: 0.8963 - val_loss: 0.4532 - val_accuracy: 0.8527\n",
      "Epoch 59/200\n",
      "219/219 [==============================] - 0s 2ms/step - loss: 0.3172 - accuracy: 0.8969 - val_loss: 0.4566 - val_accuracy: 0.8493\n",
      "Epoch 60/200\n",
      "219/219 [==============================] - 0s 2ms/step - loss: 0.3145 - accuracy: 0.8966 - val_loss: 0.4619 - val_accuracy: 0.8480\n",
      "Epoch 61/200\n",
      "219/219 [==============================] - 0s 2ms/step - loss: 0.3146 - accuracy: 0.8971 - val_loss: 0.4573 - val_accuracy: 0.8493\n",
      "Epoch 62/200\n",
      "219/219 [==============================] - 0s 2ms/step - loss: 0.3126 - accuracy: 0.8980 - val_loss: 0.4573 - val_accuracy: 0.8540\n",
      "Epoch 63/200\n",
      "219/219 [==============================] - 0s 2ms/step - loss: 0.3132 - accuracy: 0.8989 - val_loss: 0.4476 - val_accuracy: 0.8513\n",
      "Epoch 64/200\n",
      "219/219 [==============================] - 0s 2ms/step - loss: 0.3108 - accuracy: 0.8966 - val_loss: 0.4516 - val_accuracy: 0.8540\n",
      "Epoch 65/200\n",
      "219/219 [==============================] - 0s 2ms/step - loss: 0.3072 - accuracy: 0.8960 - val_loss: 0.4545 - val_accuracy: 0.8533\n",
      "Epoch 66/200\n",
      "219/219 [==============================] - 0s 2ms/step - loss: 0.3092 - accuracy: 0.8977 - val_loss: 0.4557 - val_accuracy: 0.8367\n",
      "Epoch 67/200\n",
      "219/219 [==============================] - 0s 2ms/step - loss: 0.3064 - accuracy: 0.8969 - val_loss: 0.4527 - val_accuracy: 0.8493\n",
      "Epoch 68/200\n",
      "219/219 [==============================] - 0s 2ms/step - loss: 0.3050 - accuracy: 0.8977 - val_loss: 0.4628 - val_accuracy: 0.8400\n",
      "Epoch 69/200\n",
      "219/219 [==============================] - 0s 2ms/step - loss: 0.3041 - accuracy: 0.9009 - val_loss: 0.4489 - val_accuracy: 0.8527\n",
      "Epoch 70/200\n",
      "219/219 [==============================] - 0s 2ms/step - loss: 0.3025 - accuracy: 0.9017 - val_loss: 0.4502 - val_accuracy: 0.8560\n",
      "Epoch 71/200\n",
      "219/219 [==============================] - 0s 2ms/step - loss: 0.3019 - accuracy: 0.9014 - val_loss: 0.4587 - val_accuracy: 0.8500\n",
      "Epoch 72/200\n",
      "219/219 [==============================] - 0s 2ms/step - loss: 0.2978 - accuracy: 0.9009 - val_loss: 0.4539 - val_accuracy: 0.8480\n",
      "Epoch 73/200\n",
      "219/219 [==============================] - 0s 2ms/step - loss: 0.3016 - accuracy: 0.8991 - val_loss: 0.4621 - val_accuracy: 0.8400\n",
      "Epoch 74/200\n",
      "219/219 [==============================] - 0s 2ms/step - loss: 0.2982 - accuracy: 0.8997 - val_loss: 0.4612 - val_accuracy: 0.8500\n",
      "Epoch 75/200\n",
      "219/219 [==============================] - 0s 2ms/step - loss: 0.2948 - accuracy: 0.9026 - val_loss: 0.4484 - val_accuracy: 0.8513\n",
      "Epoch 76/200\n",
      "219/219 [==============================] - 0s 2ms/step - loss: 0.2948 - accuracy: 0.9034 - val_loss: 0.4516 - val_accuracy: 0.8453\n",
      "Epoch 77/200\n",
      "219/219 [==============================] - 0s 2ms/step - loss: 0.2947 - accuracy: 0.8997 - val_loss: 0.4599 - val_accuracy: 0.8487\n",
      "Epoch 78/200\n",
      "219/219 [==============================] - 0s 2ms/step - loss: 0.2930 - accuracy: 0.9026 - val_loss: 0.4527 - val_accuracy: 0.8473\n",
      "Epoch 79/200\n",
      "219/219 [==============================] - 0s 2ms/step - loss: 0.2916 - accuracy: 0.9034 - val_loss: 0.4558 - val_accuracy: 0.8520\n",
      "Epoch 80/200\n",
      "219/219 [==============================] - 0s 2ms/step - loss: 0.2923 - accuracy: 0.9040 - val_loss: 0.4534 - val_accuracy: 0.8440\n",
      "Epoch 81/200\n",
      "219/219 [==============================] - 0s 2ms/step - loss: 0.2913 - accuracy: 0.9026 - val_loss: 0.4598 - val_accuracy: 0.8547\n",
      "Epoch 82/200\n",
      "219/219 [==============================] - 0s 2ms/step - loss: 0.2876 - accuracy: 0.9060 - val_loss: 0.4470 - val_accuracy: 0.8460\n",
      "Epoch 83/200\n",
      "219/219 [==============================] - 0s 2ms/step - loss: 0.2892 - accuracy: 0.9023 - val_loss: 0.4648 - val_accuracy: 0.8453\n",
      "Epoch 84/200\n",
      "219/219 [==============================] - 0s 2ms/step - loss: 0.2851 - accuracy: 0.9089 - val_loss: 0.4599 - val_accuracy: 0.8480\n",
      "Epoch 85/200\n",
      "219/219 [==============================] - 0s 2ms/step - loss: 0.2873 - accuracy: 0.9037 - val_loss: 0.4491 - val_accuracy: 0.8447\n",
      "Epoch 86/200\n",
      "219/219 [==============================] - 0s 2ms/step - loss: 0.2863 - accuracy: 0.9026 - val_loss: 0.4489 - val_accuracy: 0.8493\n",
      "Epoch 87/200\n",
      "219/219 [==============================] - 0s 2ms/step - loss: 0.2807 - accuracy: 0.9057 - val_loss: 0.4503 - val_accuracy: 0.8440\n",
      "Epoch 88/200\n",
      "219/219 [==============================] - 0s 2ms/step - loss: 0.2832 - accuracy: 0.9063 - val_loss: 0.4547 - val_accuracy: 0.8507\n",
      "Epoch 89/200\n",
      "219/219 [==============================] - 0s 2ms/step - loss: 0.2812 - accuracy: 0.9071 - val_loss: 0.4566 - val_accuracy: 0.8487\n",
      "Epoch 90/200\n",
      "219/219 [==============================] - 0s 2ms/step - loss: 0.2820 - accuracy: 0.9037 - val_loss: 0.4477 - val_accuracy: 0.8540\n",
      "Epoch 91/200\n",
      "219/219 [==============================] - 0s 2ms/step - loss: 0.2796 - accuracy: 0.9057 - val_loss: 0.4573 - val_accuracy: 0.8487\n",
      "Epoch 92/200\n",
      "219/219 [==============================] - 0s 2ms/step - loss: 0.2812 - accuracy: 0.9086 - val_loss: 0.4517 - val_accuracy: 0.8453\n",
      "Epoch 93/200\n",
      "219/219 [==============================] - 0s 2ms/step - loss: 0.2784 - accuracy: 0.9071 - val_loss: 0.4637 - val_accuracy: 0.8500\n",
      "Epoch 94/200\n",
      "219/219 [==============================] - 0s 2ms/step - loss: 0.2771 - accuracy: 0.9069 - val_loss: 0.4517 - val_accuracy: 0.8500\n",
      "Epoch 95/200\n",
      "219/219 [==============================] - 0s 2ms/step - loss: 0.2784 - accuracy: 0.9097 - val_loss: 0.4606 - val_accuracy: 0.8520\n",
      "Epoch 96/200\n",
      "219/219 [==============================] - 0s 2ms/step - loss: 0.2757 - accuracy: 0.9066 - val_loss: 0.4580 - val_accuracy: 0.8480\n",
      "Epoch 97/200\n",
      "219/219 [==============================] - 0s 2ms/step - loss: 0.2745 - accuracy: 0.9134 - val_loss: 0.4624 - val_accuracy: 0.8487\n",
      "Epoch 98/200\n",
      "219/219 [==============================] - 0s 2ms/step - loss: 0.2740 - accuracy: 0.9083 - val_loss: 0.4518 - val_accuracy: 0.8467\n",
      "Epoch 99/200\n",
      "219/219 [==============================] - 0s 2ms/step - loss: 0.2760 - accuracy: 0.9057 - val_loss: 0.4523 - val_accuracy: 0.8460\n",
      "Epoch 100/200\n",
      "219/219 [==============================] - 0s 2ms/step - loss: 0.2739 - accuracy: 0.9083 - val_loss: 0.4515 - val_accuracy: 0.8480\n",
      "Epoch 101/200\n",
      "219/219 [==============================] - 0s 2ms/step - loss: 0.2709 - accuracy: 0.9106 - val_loss: 0.4607 - val_accuracy: 0.8540\n",
      "Epoch 102/200\n",
      "219/219 [==============================] - 0s 2ms/step - loss: 0.2729 - accuracy: 0.9066 - val_loss: 0.4501 - val_accuracy: 0.8533\n",
      "Epoch 103/200\n",
      "219/219 [==============================] - 0s 2ms/step - loss: 0.2692 - accuracy: 0.9083 - val_loss: 0.4519 - val_accuracy: 0.8467\n",
      "Epoch 104/200\n",
      "219/219 [==============================] - 0s 2ms/step - loss: 0.2706 - accuracy: 0.9069 - val_loss: 0.4529 - val_accuracy: 0.8427\n",
      "Epoch 105/200\n",
      "219/219 [==============================] - 0s 2ms/step - loss: 0.2687 - accuracy: 0.9094 - val_loss: 0.4578 - val_accuracy: 0.8447\n",
      "Epoch 106/200\n",
      "219/219 [==============================] - 0s 2ms/step - loss: 0.2671 - accuracy: 0.9123 - val_loss: 0.4473 - val_accuracy: 0.8527\n",
      "Epoch 107/200\n",
      "219/219 [==============================] - 0s 2ms/step - loss: 0.2646 - accuracy: 0.9131 - val_loss: 0.4574 - val_accuracy: 0.8427\n",
      "Epoch 108/200\n",
      "219/219 [==============================] - 0s 2ms/step - loss: 0.2671 - accuracy: 0.9114 - val_loss: 0.4618 - val_accuracy: 0.8513\n",
      "Epoch 109/200\n",
      "219/219 [==============================] - 0s 2ms/step - loss: 0.2658 - accuracy: 0.9149 - val_loss: 0.4679 - val_accuracy: 0.8513\n",
      "Epoch 110/200\n",
      "219/219 [==============================] - 0s 2ms/step - loss: 0.2671 - accuracy: 0.9100 - val_loss: 0.4517 - val_accuracy: 0.8540\n",
      "Epoch 111/200\n",
      "219/219 [==============================] - 0s 2ms/step - loss: 0.2641 - accuracy: 0.9114 - val_loss: 0.4549 - val_accuracy: 0.8540\n",
      "Epoch 112/200\n",
      "219/219 [==============================] - 0s 2ms/step - loss: 0.2617 - accuracy: 0.9143 - val_loss: 0.4562 - val_accuracy: 0.8500\n",
      "Epoch 113/200\n",
      "219/219 [==============================] - 0s 2ms/step - loss: 0.2623 - accuracy: 0.9106 - val_loss: 0.4655 - val_accuracy: 0.8493\n",
      "Epoch 114/200\n",
      "219/219 [==============================] - 0s 2ms/step - loss: 0.2627 - accuracy: 0.9103 - val_loss: 0.4534 - val_accuracy: 0.8507\n",
      "Epoch 115/200\n",
      "219/219 [==============================] - 0s 2ms/step - loss: 0.2613 - accuracy: 0.9151 - val_loss: 0.4542 - val_accuracy: 0.8493\n",
      "Epoch 116/200\n",
      "219/219 [==============================] - 0s 2ms/step - loss: 0.2621 - accuracy: 0.9111 - val_loss: 0.4523 - val_accuracy: 0.8487\n",
      "Epoch 117/200\n",
      "219/219 [==============================] - 0s 2ms/step - loss: 0.2625 - accuracy: 0.9129 - val_loss: 0.4641 - val_accuracy: 0.8507\n",
      "Epoch 118/200\n",
      "219/219 [==============================] - 0s 2ms/step - loss: 0.2597 - accuracy: 0.9140 - val_loss: 0.4600 - val_accuracy: 0.8520\n",
      "Epoch 119/200\n",
      "219/219 [==============================] - 0s 2ms/step - loss: 0.2574 - accuracy: 0.9137 - val_loss: 0.4685 - val_accuracy: 0.8520\n",
      "Epoch 120/200\n",
      "219/219 [==============================] - 0s 2ms/step - loss: 0.2565 - accuracy: 0.9137 - val_loss: 0.4579 - val_accuracy: 0.8527\n",
      "Epoch 121/200\n",
      "219/219 [==============================] - 0s 2ms/step - loss: 0.2561 - accuracy: 0.9191 - val_loss: 0.4695 - val_accuracy: 0.8513\n",
      "Epoch 122/200\n",
      "219/219 [==============================] - 0s 2ms/step - loss: 0.2577 - accuracy: 0.9120 - val_loss: 0.4653 - val_accuracy: 0.8433\n",
      "Epoch 123/200\n",
      "219/219 [==============================] - 0s 2ms/step - loss: 0.2543 - accuracy: 0.9120 - val_loss: 0.4660 - val_accuracy: 0.8480\n",
      "Epoch 124/200\n",
      "219/219 [==============================] - 0s 2ms/step - loss: 0.2554 - accuracy: 0.9149 - val_loss: 0.4622 - val_accuracy: 0.8513\n",
      "Epoch 125/200\n",
      "219/219 [==============================] - 0s 2ms/step - loss: 0.2561 - accuracy: 0.9140 - val_loss: 0.4615 - val_accuracy: 0.8520\n",
      "Epoch 126/200\n",
      "219/219 [==============================] - 0s 2ms/step - loss: 0.2538 - accuracy: 0.9174 - val_loss: 0.4587 - val_accuracy: 0.8547\n",
      "Epoch 127/200\n",
      "219/219 [==============================] - 0s 2ms/step - loss: 0.2544 - accuracy: 0.9154 - val_loss: 0.4637 - val_accuracy: 0.8480\n",
      "Epoch 128/200\n",
      "219/219 [==============================] - 0s 2ms/step - loss: 0.2535 - accuracy: 0.9143 - val_loss: 0.4595 - val_accuracy: 0.8487\n",
      "Epoch 129/200\n",
      "219/219 [==============================] - 0s 2ms/step - loss: 0.2526 - accuracy: 0.9171 - val_loss: 0.4590 - val_accuracy: 0.8520\n",
      "Epoch 130/200\n",
      "219/219 [==============================] - 0s 2ms/step - loss: 0.2534 - accuracy: 0.9140 - val_loss: 0.4600 - val_accuracy: 0.8500\n",
      "Epoch 131/200\n",
      "219/219 [==============================] - 0s 2ms/step - loss: 0.2491 - accuracy: 0.9186 - val_loss: 0.4753 - val_accuracy: 0.8493\n",
      "Epoch 132/200\n",
      "219/219 [==============================] - 0s 2ms/step - loss: 0.2516 - accuracy: 0.9180 - val_loss: 0.4752 - val_accuracy: 0.8467\n",
      "Epoch 133/200\n",
      "219/219 [==============================] - 0s 2ms/step - loss: 0.2499 - accuracy: 0.9174 - val_loss: 0.4665 - val_accuracy: 0.8507\n",
      "Epoch 134/200\n",
      "219/219 [==============================] - 0s 2ms/step - loss: 0.2494 - accuracy: 0.9186 - val_loss: 0.4657 - val_accuracy: 0.8520\n",
      "Epoch 135/200\n",
      "219/219 [==============================] - 0s 2ms/step - loss: 0.2496 - accuracy: 0.9151 - val_loss: 0.4655 - val_accuracy: 0.8453\n",
      "Epoch 136/200\n",
      "219/219 [==============================] - 0s 2ms/step - loss: 0.2482 - accuracy: 0.9169 - val_loss: 0.4729 - val_accuracy: 0.8540\n",
      "Epoch 137/200\n",
      "219/219 [==============================] - 0s 2ms/step - loss: 0.2477 - accuracy: 0.9203 - val_loss: 0.4686 - val_accuracy: 0.8560\n",
      "Epoch 138/200\n",
      "219/219 [==============================] - 0s 2ms/step - loss: 0.2473 - accuracy: 0.9163 - val_loss: 0.4594 - val_accuracy: 0.8547\n",
      "Epoch 139/200\n",
      "219/219 [==============================] - 0s 2ms/step - loss: 0.2474 - accuracy: 0.9177 - val_loss: 0.4666 - val_accuracy: 0.8553\n",
      "Epoch 140/200\n",
      "219/219 [==============================] - 0s 2ms/step - loss: 0.2461 - accuracy: 0.9200 - val_loss: 0.4773 - val_accuracy: 0.8507\n",
      "Epoch 141/200\n",
      "219/219 [==============================] - 0s 2ms/step - loss: 0.2474 - accuracy: 0.9166 - val_loss: 0.4741 - val_accuracy: 0.8507\n",
      "Epoch 142/200\n",
      "219/219 [==============================] - 0s 2ms/step - loss: 0.2470 - accuracy: 0.9191 - val_loss: 0.4831 - val_accuracy: 0.8440\n",
      "Epoch 143/200\n",
      "219/219 [==============================] - 0s 2ms/step - loss: 0.2454 - accuracy: 0.9137 - val_loss: 0.4696 - val_accuracy: 0.8513\n",
      "Epoch 144/200\n",
      "219/219 [==============================] - 0s 2ms/step - loss: 0.2454 - accuracy: 0.9174 - val_loss: 0.4685 - val_accuracy: 0.8540\n",
      "Epoch 145/200\n",
      "219/219 [==============================] - 0s 2ms/step - loss: 0.2430 - accuracy: 0.9197 - val_loss: 0.4753 - val_accuracy: 0.8500\n",
      "Epoch 146/200\n",
      "219/219 [==============================] - 0s 2ms/step - loss: 0.2430 - accuracy: 0.9229 - val_loss: 0.4732 - val_accuracy: 0.8527\n",
      "Epoch 147/200\n",
      "219/219 [==============================] - 0s 2ms/step - loss: 0.2415 - accuracy: 0.9186 - val_loss: 0.4744 - val_accuracy: 0.8487\n",
      "Epoch 148/200\n",
      "219/219 [==============================] - 0s 2ms/step - loss: 0.2429 - accuracy: 0.9174 - val_loss: 0.4703 - val_accuracy: 0.8487\n",
      "Epoch 149/200\n",
      "219/219 [==============================] - 0s 2ms/step - loss: 0.2404 - accuracy: 0.9200 - val_loss: 0.4710 - val_accuracy: 0.8513\n",
      "Epoch 150/200\n",
      "219/219 [==============================] - 0s 2ms/step - loss: 0.2413 - accuracy: 0.9211 - val_loss: 0.4803 - val_accuracy: 0.8473\n",
      "Epoch 151/200\n",
      "219/219 [==============================] - 0s 2ms/step - loss: 0.2378 - accuracy: 0.9174 - val_loss: 0.4818 - val_accuracy: 0.8473\n",
      "Epoch 152/200\n",
      "219/219 [==============================] - 0s 2ms/step - loss: 0.2391 - accuracy: 0.9209 - val_loss: 0.4728 - val_accuracy: 0.8480\n",
      "Epoch 153/200\n",
      "219/219 [==============================] - 0s 2ms/step - loss: 0.2368 - accuracy: 0.9226 - val_loss: 0.4874 - val_accuracy: 0.8487\n",
      "Epoch 154/200\n",
      "219/219 [==============================] - 0s 2ms/step - loss: 0.2374 - accuracy: 0.9223 - val_loss: 0.4788 - val_accuracy: 0.8507\n",
      "Epoch 155/200\n",
      "219/219 [==============================] - 0s 2ms/step - loss: 0.2378 - accuracy: 0.9211 - val_loss: 0.4715 - val_accuracy: 0.8480\n",
      "Epoch 156/200\n",
      "219/219 [==============================] - 0s 2ms/step - loss: 0.2361 - accuracy: 0.9214 - val_loss: 0.4694 - val_accuracy: 0.8460\n",
      "Epoch 157/200\n",
      "219/219 [==============================] - 0s 2ms/step - loss: 0.2360 - accuracy: 0.9174 - val_loss: 0.4789 - val_accuracy: 0.8513\n",
      "Epoch 158/200\n",
      "219/219 [==============================] - 0s 2ms/step - loss: 0.2371 - accuracy: 0.9240 - val_loss: 0.4873 - val_accuracy: 0.8493\n",
      "Epoch 159/200\n",
      "219/219 [==============================] - 0s 2ms/step - loss: 0.2350 - accuracy: 0.9249 - val_loss: 0.4699 - val_accuracy: 0.8507\n",
      "Epoch 160/200\n",
      "219/219 [==============================] - 0s 2ms/step - loss: 0.2348 - accuracy: 0.9203 - val_loss: 0.4702 - val_accuracy: 0.8500\n",
      "Epoch 161/200\n",
      "219/219 [==============================] - 0s 2ms/step - loss: 0.2322 - accuracy: 0.9229 - val_loss: 0.4783 - val_accuracy: 0.8453\n",
      "Epoch 162/200\n",
      "219/219 [==============================] - 0s 2ms/step - loss: 0.2341 - accuracy: 0.9226 - val_loss: 0.4841 - val_accuracy: 0.8433\n",
      "Epoch 163/200\n",
      "219/219 [==============================] - 0s 2ms/step - loss: 0.2318 - accuracy: 0.9246 - val_loss: 0.4819 - val_accuracy: 0.8467\n",
      "Epoch 164/200\n",
      "219/219 [==============================] - 0s 2ms/step - loss: 0.2299 - accuracy: 0.9217 - val_loss: 0.4831 - val_accuracy: 0.8493\n",
      "Epoch 165/200\n",
      "219/219 [==============================] - 0s 2ms/step - loss: 0.2299 - accuracy: 0.9223 - val_loss: 0.4815 - val_accuracy: 0.8527\n",
      "Epoch 166/200\n",
      "219/219 [==============================] - 0s 2ms/step - loss: 0.2313 - accuracy: 0.9260 - val_loss: 0.5071 - val_accuracy: 0.8407\n",
      "Epoch 167/200\n",
      "219/219 [==============================] - 0s 2ms/step - loss: 0.2321 - accuracy: 0.9206 - val_loss: 0.4729 - val_accuracy: 0.8513\n",
      "Epoch 168/200\n",
      "219/219 [==============================] - 0s 2ms/step - loss: 0.2294 - accuracy: 0.9254 - val_loss: 0.4766 - val_accuracy: 0.8547\n",
      "Epoch 169/200\n",
      "219/219 [==============================] - 0s 2ms/step - loss: 0.2296 - accuracy: 0.9206 - val_loss: 0.4829 - val_accuracy: 0.8520\n",
      "Epoch 170/200\n",
      "219/219 [==============================] - 0s 2ms/step - loss: 0.2281 - accuracy: 0.9274 - val_loss: 0.4823 - val_accuracy: 0.8453\n",
      "Epoch 171/200\n",
      "219/219 [==============================] - 0s 2ms/step - loss: 0.2298 - accuracy: 0.9234 - val_loss: 0.4939 - val_accuracy: 0.8420\n",
      "Epoch 172/200\n",
      "219/219 [==============================] - 0s 2ms/step - loss: 0.2278 - accuracy: 0.9240 - val_loss: 0.4800 - val_accuracy: 0.8567\n",
      "Epoch 173/200\n",
      "219/219 [==============================] - 0s 2ms/step - loss: 0.2261 - accuracy: 0.9220 - val_loss: 0.4853 - val_accuracy: 0.8473\n",
      "Epoch 174/200\n",
      "219/219 [==============================] - 0s 2ms/step - loss: 0.2274 - accuracy: 0.9234 - val_loss: 0.4893 - val_accuracy: 0.8480\n",
      "Epoch 175/200\n",
      "219/219 [==============================] - 0s 2ms/step - loss: 0.2293 - accuracy: 0.9240 - val_loss: 0.4820 - val_accuracy: 0.8507\n",
      "Epoch 176/200\n",
      "219/219 [==============================] - 0s 2ms/step - loss: 0.2234 - accuracy: 0.9257 - val_loss: 0.5165 - val_accuracy: 0.8420\n",
      "Epoch 177/200\n",
      "219/219 [==============================] - 0s 2ms/step - loss: 0.2274 - accuracy: 0.9234 - val_loss: 0.4884 - val_accuracy: 0.8480\n",
      "Epoch 178/200\n",
      "219/219 [==============================] - 0s 2ms/step - loss: 0.2247 - accuracy: 0.9254 - val_loss: 0.4832 - val_accuracy: 0.8433\n",
      "Epoch 179/200\n",
      "219/219 [==============================] - 0s 2ms/step - loss: 0.2230 - accuracy: 0.9240 - val_loss: 0.4965 - val_accuracy: 0.8473\n",
      "Epoch 180/200\n",
      "219/219 [==============================] - 0s 2ms/step - loss: 0.2276 - accuracy: 0.9226 - val_loss: 0.4952 - val_accuracy: 0.8487\n",
      "Epoch 181/200\n",
      "219/219 [==============================] - 0s 2ms/step - loss: 0.2236 - accuracy: 0.9246 - val_loss: 0.4878 - val_accuracy: 0.8467\n",
      "Epoch 182/200\n",
      "219/219 [==============================] - 0s 2ms/step - loss: 0.2245 - accuracy: 0.9234 - val_loss: 0.5016 - val_accuracy: 0.8487\n",
      "Epoch 183/200\n",
      "219/219 [==============================] - 0s 2ms/step - loss: 0.2249 - accuracy: 0.9209 - val_loss: 0.4869 - val_accuracy: 0.8527\n",
      "Epoch 184/200\n",
      "219/219 [==============================] - 0s 2ms/step - loss: 0.2215 - accuracy: 0.9289 - val_loss: 0.4813 - val_accuracy: 0.8547\n",
      "Epoch 185/200\n",
      "219/219 [==============================] - 0s 2ms/step - loss: 0.2213 - accuracy: 0.9289 - val_loss: 0.4948 - val_accuracy: 0.8507\n",
      "Epoch 186/200\n",
      "219/219 [==============================] - 0s 2ms/step - loss: 0.2223 - accuracy: 0.9223 - val_loss: 0.4858 - val_accuracy: 0.8493\n",
      "Epoch 187/200\n",
      "219/219 [==============================] - 0s 2ms/step - loss: 0.2200 - accuracy: 0.9269 - val_loss: 0.4970 - val_accuracy: 0.8520\n",
      "Epoch 188/200\n",
      "219/219 [==============================] - 0s 2ms/step - loss: 0.2203 - accuracy: 0.9243 - val_loss: 0.4916 - val_accuracy: 0.8527\n",
      "Epoch 189/200\n",
      "219/219 [==============================] - 0s 2ms/step - loss: 0.2183 - accuracy: 0.9280 - val_loss: 0.4913 - val_accuracy: 0.8473\n",
      "Epoch 190/200\n",
      "219/219 [==============================] - 0s 2ms/step - loss: 0.2185 - accuracy: 0.9314 - val_loss: 0.4957 - val_accuracy: 0.8500\n",
      "Epoch 191/200\n",
      "219/219 [==============================] - 0s 2ms/step - loss: 0.2196 - accuracy: 0.9286 - val_loss: 0.4905 - val_accuracy: 0.8447\n",
      "Epoch 192/200\n",
      "219/219 [==============================] - 0s 2ms/step - loss: 0.2186 - accuracy: 0.9214 - val_loss: 0.5015 - val_accuracy: 0.8420\n",
      "Epoch 193/200\n",
      "219/219 [==============================] - 0s 2ms/step - loss: 0.2200 - accuracy: 0.9234 - val_loss: 0.4988 - val_accuracy: 0.8500\n",
      "Epoch 194/200\n",
      "219/219 [==============================] - 0s 2ms/step - loss: 0.2157 - accuracy: 0.9274 - val_loss: 0.5011 - val_accuracy: 0.8467\n",
      "Epoch 195/200\n",
      "219/219 [==============================] - 0s 2ms/step - loss: 0.2182 - accuracy: 0.9294 - val_loss: 0.4885 - val_accuracy: 0.8493\n",
      "Epoch 196/200\n",
      "219/219 [==============================] - 0s 2ms/step - loss: 0.2157 - accuracy: 0.9277 - val_loss: 0.4895 - val_accuracy: 0.8513\n",
      "Epoch 197/200\n",
      "219/219 [==============================] - 0s 2ms/step - loss: 0.2140 - accuracy: 0.9300 - val_loss: 0.4902 - val_accuracy: 0.8547\n",
      "Epoch 198/200\n",
      "219/219 [==============================] - 0s 2ms/step - loss: 0.2152 - accuracy: 0.9303 - val_loss: 0.4920 - val_accuracy: 0.8487\n",
      "Epoch 199/200\n",
      "219/219 [==============================] - 0s 2ms/step - loss: 0.2134 - accuracy: 0.9303 - val_loss: 0.4893 - val_accuracy: 0.8487\n",
      "Epoch 200/200\n",
      "219/219 [==============================] - 0s 2ms/step - loss: 0.2121 - accuracy: 0.9309 - val_loss: 0.4971 - val_accuracy: 0.8473\n"
     ]
    }
   ],
   "source": [
    "keras_history = model.fit(X_train, y_train , batch_size=16, epochs=200, validation_data=(X_test, y_test))"
   ]
  },
  {
   "cell_type": "markdown",
   "metadata": {
    "colab_type": "text",
    "id": "rUkigFLQcAfL"
   },
   "source": [
    "##The Keras History Object"
   ]
  },
  {
   "cell_type": "markdown",
   "metadata": {
    "colab_type": "text",
    "id": "xJRNfnw6cGaT"
   },
   "source": [
    "The Keras history object has two main attributes- \n",
    "\n",
    "1)model \n",
    "\n",
    "2)history\n",
    "\n",
    "The model contains all information about the weights, inputs, activations and so on\n",
    "\n",
    "For example, to get the weights you would code:\n",
    "\n",
    "\n",
    "```\n",
    "keras_history.model.get_weights()\n",
    "```\n",
    "\n"
   ]
  },
  {
   "cell_type": "markdown",
   "metadata": {
    "colab_type": "text",
    "id": "e1AnMOSFhg20"
   },
   "source": [
    "The history is a dictionary containing training loss, training accuracy, validation loss, validation accuracy, etc. after each epoch. Each key contains an array of the above."
   ]
  },
  {
   "cell_type": "code",
   "execution_count": 0,
   "metadata": {
    "colab": {
     "base_uri": "https://localhost:8080/",
     "height": 35
    },
    "colab_type": "code",
    "id": "vBUz_lDQh2y1",
    "outputId": "1231a5e6-58ca-4527-fa2f-000a6e648c74"
   },
   "outputs": [
    {
     "data": {
      "text/plain": [
       "dict_keys(['loss', 'accuracy', 'val_loss', 'val_accuracy'])"
      ]
     },
     "execution_count": 12,
     "metadata": {
      "tags": []
     },
     "output_type": "execute_result"
    }
   ],
   "source": [
    "keras_history.history.keys()"
   ]
  },
  {
   "cell_type": "markdown",
   "metadata": {
    "colab_type": "text",
    "id": "4vq5LXY1iyfU"
   },
   "source": [
    "## Post training analysis"
   ]
  },
  {
   "cell_type": "markdown",
   "metadata": {
    "colab_type": "text",
    "id": "OwQOaGb2jCPX"
   },
   "source": [
    "Now we plot the training and test loss with each epoch. A key observation to make is that our model is overfitting- training accuracy is 94% while test accuracy is 87%. Notice how the training loss decreases while the test loss increases after a while"
   ]
  },
  {
   "cell_type": "code",
   "execution_count": 0,
   "metadata": {
    "colab": {
     "base_uri": "https://localhost:8080/",
     "height": 297
    },
    "colab_type": "code",
    "id": "qMSG1xPvOAoI",
    "outputId": "9745afe7-ac6f-4cfa-e0af-4c3ab57f18eb"
   },
   "outputs": [
    {
     "data": {
      "text/plain": [
       "<matplotlib.legend.Legend at 0x7f685300d5f8>"
      ]
     },
     "execution_count": 13,
     "metadata": {
      "tags": []
     },
     "output_type": "execute_result"
    },
    {
     "data": {
      "image/png": "[encoded data removed]",
      "text/plain": [
       "<Figure size 432x288 with 1 Axes>"
      ]
     },
     "metadata": {
      "needs_background": "light",
      "tags": []
     },
     "output_type": "display_data"
    }
   ],
   "source": [
    "import matplotlib.pyplot as plt\n",
    "plt.plot(keras_history.history['loss'], label='Training loss')\n",
    "plt.plot(keras_history.history['val_loss'], color='red', label='Test loss')\n",
    "plt.xlabel('Epoch')\n",
    "plt.ylabel('Loss')\n",
    "plt.legend()"
   ]
  },
  {
   "cell_type": "markdown",
   "metadata": {
    "colab_type": "text",
    "id": "fkvqbRxUjewo"
   },
   "source": [
    "#**IMPROVING YOUR NEURAL NETWORK**"
   ]
  },
  {
   "cell_type": "markdown",
   "metadata": {
    "colab_type": "text",
    "id": "h96i8MOKjlPb"
   },
   "source": [
    "Great! Now you know how to build a basic artificial neural network in Keras. However, ANN's are extremely prone to overfitting, so always keep a close tab on that. We will now see how various methods are deployed in keras to prevent overfitting"
   ]
  },
  {
   "cell_type": "markdown",
   "metadata": {
    "colab_type": "text",
    "id": "KF4Hu4CVj9AK"
   },
   "source": [
    "## Regularization"
   ]
  },
  {
   "cell_type": "markdown",
   "metadata": {
    "colab_type": "text",
    "id": "g0M6IXEmkBUt"
   },
   "source": [
    "You can apply an L1, L2 or both L1 and L2 regularizers to a layer using tf.keras.regularizers. The value of $\\lambda$ is specified as an argument of the class. For example\n",
    "\n",
    "\n",
    "```\n",
    "model.add(tf.keras.layers.Dense(units=30, activation='relu', activity_regularizer=tf.keras.regularizers.l2(0.01)))\n",
    "```\n",
    "\n"
   ]
  },
  {
   "cell_type": "markdown",
   "metadata": {
    "colab_type": "text",
    "id": "c1egJo7ylNrQ"
   },
   "source": [
    "Click [here](https://keras.io/api/layers/regularizers/#l1-class) to check out the documentation"
   ]
  },
  {
   "cell_type": "markdown",
   "metadata": {
    "colab_type": "text",
    "id": "8UXYeM_PlYvj"
   },
   "source": [
    "## Batch Normalization"
   ]
  },
  {
   "cell_type": "markdown",
   "metadata": {
    "colab_type": "text",
    "id": "dwZfBan3lkgw"
   },
   "source": [
    "Nothing complicated here. Just do this:\n",
    "\n",
    "\n",
    "\n",
    "```\n",
    "model.add(tf.keras.layers.BatchNormalization())\n",
    "\n",
    "```\n",
    "\n"
   ]
  },
  {
   "cell_type": "markdown",
   "metadata": {
    "colab_type": "text",
    "id": "8Jdr1DsTlw86"
   },
   "source": [
    "[Link for BatchNorm](https://keras.io/api/layers/normalization_layers/batch_normalization/)"
   ]
  },
  {
   "cell_type": "markdown",
   "metadata": {
    "colab_type": "text",
    "id": "qa6aX97wmB2f"
   },
   "source": [
    "##Dropout"
   ]
  },
  {
   "cell_type": "markdown",
   "metadata": {
    "colab_type": "text",
    "id": "jA6A5QBRmEsi"
   },
   "source": [
    "Nothing complicated here too. The probability of a neuron being \"dropped out\" is specified. Higher the value, the \"simpler\" the neural network is. But make sure not to specify too high a dropout rate else the model will undefit\n",
    "\n",
    "\n",
    "\n",
    "```\n",
    "model.add(tf.keras.layers.Dropout(0.25))\n",
    "```\n",
    "\n"
   ]
  },
  {
   "cell_type": "markdown",
   "metadata": {
    "colab_type": "text",
    "id": "HBalrMLBnXep"
   },
   "source": [
    "#**PUTTING IT ALL TOGETHER**"
   ]
  },
  {
   "cell_type": "markdown",
   "metadata": {
    "colab_type": "text",
    "id": "zXTTGh_5nZ_M"
   },
   "source": [
    "Here is all of the concepts we have just learnt. Please note that all the abovementioned techniques to prevent overfitting have been implemented below, to get an idea of how they are used in Keras. In reality, all these are not necessary. "
   ]
  },
  {
   "cell_type": "code",
   "execution_count": 0,
   "metadata": {
    "colab": {
     "base_uri": "https://localhost:8080/",
     "height": 413
    },
    "colab_type": "code",
    "id": "dQDQMwlBjd9N",
    "outputId": "ad70f7c3-9e8d-4080-d127-b5ec83f1fed0"
   },
   "outputs": [
    {
     "name": "stdout",
     "output_type": "stream",
     "text": [
      "Model: \"sequential\"\n",
      "_________________________________________________________________\n",
      "Layer (type)                 Output Shape              Param #   \n",
      "=================================================================\n",
      "dense (Dense)                (None, 30)                330       \n",
      "_________________________________________________________________\n",
      "batch_normalization (BatchNo (None, 30)                120       \n",
      "_________________________________________________________________\n",
      "dropout (Dropout)            (None, 30)                0         \n",
      "_________________________________________________________________\n",
      "dense_1 (Dense)              (None, 15)                465       \n",
      "_________________________________________________________________\n",
      "batch_normalization_1 (Batch (None, 15)                60        \n",
      "_________________________________________________________________\n",
      "dropout_1 (Dropout)          (None, 15)                0         \n",
      "_________________________________________________________________\n",
      "dense_2 (Dense)              (None, 5)                 80        \n",
      "=================================================================\n",
      "Total params: 1,055\n",
      "Trainable params: 965\n",
      "Non-trainable params: 90\n",
      "_________________________________________________________________\n"
     ]
    }
   ],
   "source": [
    "tf.keras.backend.clear_session()\n",
    "model = tf.keras.Sequential()\n",
    "model.add(tf.keras.Input(shape=10,))\n",
    "model.add(tf.keras.layers.Dense(units=30, activation='relu', activity_regularizer=tf.keras.regularizers.l2(0.01))) \n",
    "model.add(tf.keras.layers.BatchNormalization())\n",
    "model.add(tf.keras.layers.Dropout(0.125))\n",
    "model.add(tf.keras.layers.Dense(units=15, activation='relu', activity_regularizer=tf.keras.regularizers.l2(0.01))) \n",
    "model.add(tf.keras.layers.BatchNormalization())\n",
    "model.add(tf.keras.layers.Dropout(0.25))\n",
    "model.add(tf.keras.layers.Dense(units=5, activation='softmax')) \n",
    "model.summary()"
   ]
  },
  {
   "cell_type": "code",
   "execution_count": 0,
   "metadata": {
    "colab": {
     "base_uri": "https://localhost:8080/",
     "height": 1000
    },
    "colab_type": "code",
    "id": "6b86CyX5qWB4",
    "outputId": "69944b9e-5f5f-4210-c3b0-cc229b6472d9"
   },
   "outputs": [
    {
     "name": "stdout",
     "output_type": "stream",
     "text": [
      "Epoch 1/200\n",
      "219/219 [==============================] - 1s 3ms/step - loss: 1.7178 - accuracy: 0.3863 - val_loss: 1.3750 - val_accuracy: 0.5247\n",
      "Epoch 2/200\n",
      "219/219 [==============================] - 0s 2ms/step - loss: 1.4278 - accuracy: 0.4823 - val_loss: 1.1908 - val_accuracy: 0.6013\n",
      "Epoch 3/200\n",
      "219/219 [==============================] - 0s 2ms/step - loss: 1.2819 - accuracy: 0.5369 - val_loss: 1.0934 - val_accuracy: 0.6347\n",
      "Epoch 4/200\n",
      "219/219 [==============================] - 0s 2ms/step - loss: 1.1795 - accuracy: 0.5894 - val_loss: 1.0117 - val_accuracy: 0.6720\n",
      "Epoch 5/200\n",
      "219/219 [==============================] - 0s 2ms/step - loss: 1.1363 - accuracy: 0.6071 - val_loss: 0.9604 - val_accuracy: 0.6867\n",
      "Epoch 6/200\n",
      "219/219 [==============================] - 0s 2ms/step - loss: 1.0804 - accuracy: 0.6286 - val_loss: 0.9037 - val_accuracy: 0.7080\n",
      "Epoch 7/200\n",
      "219/219 [==============================] - 0s 2ms/step - loss: 1.0463 - accuracy: 0.6326 - val_loss: 0.8625 - val_accuracy: 0.7207\n",
      "Epoch 8/200\n",
      "219/219 [==============================] - 0s 2ms/step - loss: 0.9995 - accuracy: 0.6506 - val_loss: 0.8321 - val_accuracy: 0.7220\n",
      "Epoch 9/200\n",
      "219/219 [==============================] - 0s 2ms/step - loss: 0.9787 - accuracy: 0.6586 - val_loss: 0.7949 - val_accuracy: 0.7387\n",
      "Epoch 10/200\n",
      "219/219 [==============================] - 0s 2ms/step - loss: 0.9539 - accuracy: 0.6663 - val_loss: 0.7841 - val_accuracy: 0.7360\n",
      "Epoch 11/200\n",
      "219/219 [==============================] - 0s 2ms/step - loss: 0.9322 - accuracy: 0.6720 - val_loss: 0.7500 - val_accuracy: 0.7487\n",
      "Epoch 12/200\n",
      "219/219 [==============================] - 0s 2ms/step - loss: 0.9117 - accuracy: 0.6866 - val_loss: 0.7403 - val_accuracy: 0.7507\n",
      "Epoch 13/200\n",
      "219/219 [==============================] - 0s 2ms/step - loss: 0.9220 - accuracy: 0.6794 - val_loss: 0.7248 - val_accuracy: 0.7633\n",
      "Epoch 14/200\n",
      "219/219 [==============================] - 0s 2ms/step - loss: 0.8859 - accuracy: 0.6911 - val_loss: 0.7038 - val_accuracy: 0.7613\n",
      "Epoch 15/200\n",
      "219/219 [==============================] - 0s 2ms/step - loss: 0.8730 - accuracy: 0.6911 - val_loss: 0.6945 - val_accuracy: 0.7687\n",
      "Epoch 16/200\n",
      "219/219 [==============================] - 0s 2ms/step - loss: 0.8530 - accuracy: 0.6974 - val_loss: 0.6766 - val_accuracy: 0.7693\n",
      "Epoch 17/200\n",
      "219/219 [==============================] - 0s 2ms/step - loss: 0.8550 - accuracy: 0.7023 - val_loss: 0.6601 - val_accuracy: 0.7953\n",
      "Epoch 18/200\n",
      "219/219 [==============================] - 0s 2ms/step - loss: 0.8676 - accuracy: 0.6929 - val_loss: 0.6461 - val_accuracy: 0.7927\n",
      "Epoch 19/200\n",
      "219/219 [==============================] - 1s 2ms/step - loss: 0.8251 - accuracy: 0.7117 - val_loss: 0.6339 - val_accuracy: 0.7893\n",
      "Epoch 20/200\n",
      "219/219 [==============================] - 1s 2ms/step - loss: 0.8080 - accuracy: 0.7186 - val_loss: 0.6216 - val_accuracy: 0.7993\n",
      "Epoch 21/200\n",
      "219/219 [==============================] - 0s 2ms/step - loss: 0.8264 - accuracy: 0.7114 - val_loss: 0.6200 - val_accuracy: 0.8013\n",
      "Epoch 22/200\n",
      "219/219 [==============================] - 1s 2ms/step - loss: 0.8082 - accuracy: 0.7094 - val_loss: 0.6121 - val_accuracy: 0.7960\n",
      "Epoch 23/200\n",
      "219/219 [==============================] - 1s 2ms/step - loss: 0.7891 - accuracy: 0.7243 - val_loss: 0.5973 - val_accuracy: 0.8053\n",
      "Epoch 24/200\n",
      "219/219 [==============================] - 1s 2ms/step - loss: 0.7993 - accuracy: 0.7183 - val_loss: 0.5859 - val_accuracy: 0.8093\n",
      "Epoch 25/200\n",
      "219/219 [==============================] - 0s 2ms/step - loss: 0.7827 - accuracy: 0.7263 - val_loss: 0.5823 - val_accuracy: 0.8153\n",
      "Epoch 26/200\n",
      "219/219 [==============================] - 0s 2ms/step - loss: 0.7913 - accuracy: 0.7231 - val_loss: 0.5813 - val_accuracy: 0.7993\n",
      "Epoch 27/200\n",
      "219/219 [==============================] - 0s 2ms/step - loss: 0.7703 - accuracy: 0.7297 - val_loss: 0.5676 - val_accuracy: 0.8167\n",
      "Epoch 28/200\n",
      "219/219 [==============================] - 0s 2ms/step - loss: 0.7537 - accuracy: 0.7386 - val_loss: 0.5736 - val_accuracy: 0.8013\n",
      "Epoch 29/200\n",
      "219/219 [==============================] - 0s 2ms/step - loss: 0.7417 - accuracy: 0.7294 - val_loss: 0.5668 - val_accuracy: 0.8093\n",
      "Epoch 30/200\n",
      "219/219 [==============================] - 0s 2ms/step - loss: 0.7550 - accuracy: 0.7340 - val_loss: 0.5581 - val_accuracy: 0.8160\n",
      "Epoch 31/200\n",
      "219/219 [==============================] - 0s 2ms/step - loss: 0.7556 - accuracy: 0.7337 - val_loss: 0.5689 - val_accuracy: 0.8000\n",
      "Epoch 32/200\n",
      "219/219 [==============================] - 0s 2ms/step - loss: 0.7576 - accuracy: 0.7389 - val_loss: 0.5663 - val_accuracy: 0.8133\n",
      "Epoch 33/200\n",
      "219/219 [==============================] - 0s 2ms/step - loss: 0.7625 - accuracy: 0.7263 - val_loss: 0.5537 - val_accuracy: 0.8233\n",
      "Epoch 34/200\n",
      "219/219 [==============================] - 0s 2ms/step - loss: 0.7483 - accuracy: 0.7391 - val_loss: 0.5567 - val_accuracy: 0.8107\n",
      "Epoch 35/200\n",
      "219/219 [==============================] - 0s 2ms/step - loss: 0.7372 - accuracy: 0.7431 - val_loss: 0.5487 - val_accuracy: 0.8193\n",
      "Epoch 36/200\n",
      "219/219 [==============================] - 0s 2ms/step - loss: 0.7280 - accuracy: 0.7491 - val_loss: 0.5508 - val_accuracy: 0.8073\n",
      "Epoch 37/200\n",
      "219/219 [==============================] - 0s 2ms/step - loss: 0.7563 - accuracy: 0.7334 - val_loss: 0.5478 - val_accuracy: 0.8093\n",
      "Epoch 38/200\n",
      "219/219 [==============================] - 0s 2ms/step - loss: 0.7231 - accuracy: 0.7486 - val_loss: 0.5453 - val_accuracy: 0.8053\n",
      "Epoch 39/200\n",
      "219/219 [==============================] - 0s 2ms/step - loss: 0.7298 - accuracy: 0.7429 - val_loss: 0.5470 - val_accuracy: 0.8153\n",
      "Epoch 40/200\n",
      "219/219 [==============================] - 1s 2ms/step - loss: 0.7156 - accuracy: 0.7449 - val_loss: 0.5475 - val_accuracy: 0.8100\n",
      "Epoch 41/200\n",
      "219/219 [==============================] - 0s 2ms/step - loss: 0.7233 - accuracy: 0.7443 - val_loss: 0.5444 - val_accuracy: 0.8133\n",
      "Epoch 42/200\n",
      "219/219 [==============================] - 0s 2ms/step - loss: 0.7073 - accuracy: 0.7486 - val_loss: 0.5431 - val_accuracy: 0.8180\n",
      "Epoch 43/200\n",
      "219/219 [==============================] - 0s 2ms/step - loss: 0.7261 - accuracy: 0.7420 - val_loss: 0.5393 - val_accuracy: 0.8227\n",
      "Epoch 44/200\n",
      "219/219 [==============================] - 0s 2ms/step - loss: 0.7377 - accuracy: 0.7389 - val_loss: 0.5454 - val_accuracy: 0.8093\n",
      "Epoch 45/200\n",
      "219/219 [==============================] - 0s 2ms/step - loss: 0.7221 - accuracy: 0.7454 - val_loss: 0.5264 - val_accuracy: 0.8233\n",
      "Epoch 46/200\n",
      "219/219 [==============================] - 1s 2ms/step - loss: 0.6878 - accuracy: 0.7600 - val_loss: 0.5281 - val_accuracy: 0.8127\n",
      "Epoch 47/200\n",
      "219/219 [==============================] - 0s 2ms/step - loss: 0.7277 - accuracy: 0.7400 - val_loss: 0.5299 - val_accuracy: 0.8207\n",
      "Epoch 48/200\n",
      "219/219 [==============================] - 0s 2ms/step - loss: 0.7110 - accuracy: 0.7423 - val_loss: 0.5220 - val_accuracy: 0.8220\n",
      "Epoch 49/200\n",
      "219/219 [==============================] - 0s 2ms/step - loss: 0.7048 - accuracy: 0.7529 - val_loss: 0.5185 - val_accuracy: 0.8267\n",
      "Epoch 50/200\n",
      "219/219 [==============================] - 0s 2ms/step - loss: 0.6979 - accuracy: 0.7511 - val_loss: 0.5213 - val_accuracy: 0.8213\n",
      "Epoch 51/200\n",
      "219/219 [==============================] - 1s 2ms/step - loss: 0.7050 - accuracy: 0.7560 - val_loss: 0.5165 - val_accuracy: 0.8227\n",
      "Epoch 52/200\n",
      "219/219 [==============================] - 1s 2ms/step - loss: 0.7070 - accuracy: 0.7551 - val_loss: 0.5179 - val_accuracy: 0.8220\n",
      "Epoch 53/200\n",
      "219/219 [==============================] - 0s 2ms/step - loss: 0.7041 - accuracy: 0.7583 - val_loss: 0.5205 - val_accuracy: 0.8233\n",
      "Epoch 54/200\n",
      "219/219 [==============================] - 0s 2ms/step - loss: 0.6967 - accuracy: 0.7551 - val_loss: 0.5176 - val_accuracy: 0.8240\n",
      "Epoch 55/200\n",
      "219/219 [==============================] - 0s 2ms/step - loss: 0.6907 - accuracy: 0.7614 - val_loss: 0.5187 - val_accuracy: 0.8233\n",
      "Epoch 56/200\n",
      "219/219 [==============================] - 0s 2ms/step - loss: 0.6997 - accuracy: 0.7597 - val_loss: 0.5111 - val_accuracy: 0.8273\n",
      "Epoch 57/200\n",
      "219/219 [==============================] - 0s 2ms/step - loss: 0.6709 - accuracy: 0.7686 - val_loss: 0.5111 - val_accuracy: 0.8267\n",
      "Epoch 58/200\n",
      "219/219 [==============================] - 0s 2ms/step - loss: 0.6935 - accuracy: 0.7569 - val_loss: 0.4999 - val_accuracy: 0.8273\n",
      "Epoch 59/200\n",
      "219/219 [==============================] - 0s 2ms/step - loss: 0.7019 - accuracy: 0.7566 - val_loss: 0.5175 - val_accuracy: 0.8307\n",
      "Epoch 60/200\n",
      "219/219 [==============================] - 0s 2ms/step - loss: 0.7093 - accuracy: 0.7500 - val_loss: 0.5125 - val_accuracy: 0.8333\n",
      "Epoch 61/200\n",
      "219/219 [==============================] - 0s 2ms/step - loss: 0.6995 - accuracy: 0.7571 - val_loss: 0.5217 - val_accuracy: 0.8167\n",
      "Epoch 62/200\n",
      "219/219 [==============================] - 0s 2ms/step - loss: 0.6684 - accuracy: 0.7714 - val_loss: 0.5163 - val_accuracy: 0.8253\n",
      "Epoch 63/200\n",
      "219/219 [==============================] - 1s 2ms/step - loss: 0.6686 - accuracy: 0.7589 - val_loss: 0.5148 - val_accuracy: 0.8200\n",
      "Epoch 64/200\n",
      "219/219 [==============================] - 0s 2ms/step - loss: 0.6980 - accuracy: 0.7534 - val_loss: 0.4992 - val_accuracy: 0.8333\n",
      "Epoch 65/200\n",
      "219/219 [==============================] - 0s 2ms/step - loss: 0.6856 - accuracy: 0.7597 - val_loss: 0.5179 - val_accuracy: 0.8260\n",
      "Epoch 66/200\n",
      "219/219 [==============================] - 0s 2ms/step - loss: 0.6888 - accuracy: 0.7583 - val_loss: 0.5100 - val_accuracy: 0.8280\n",
      "Epoch 67/200\n",
      "219/219 [==============================] - 0s 2ms/step - loss: 0.6750 - accuracy: 0.7543 - val_loss: 0.5148 - val_accuracy: 0.8247\n",
      "Epoch 68/200\n",
      "219/219 [==============================] - 0s 2ms/step - loss: 0.6845 - accuracy: 0.7637 - val_loss: 0.5053 - val_accuracy: 0.8287\n",
      "Epoch 69/200\n",
      "219/219 [==============================] - 0s 2ms/step - loss: 0.6841 - accuracy: 0.7563 - val_loss: 0.4985 - val_accuracy: 0.8380\n",
      "Epoch 70/200\n",
      "219/219 [==============================] - 0s 2ms/step - loss: 0.6624 - accuracy: 0.7629 - val_loss: 0.5061 - val_accuracy: 0.8333\n",
      "Epoch 71/200\n",
      "219/219 [==============================] - 0s 2ms/step - loss: 0.6642 - accuracy: 0.7689 - val_loss: 0.5124 - val_accuracy: 0.8280\n",
      "Epoch 72/200\n",
      "219/219 [==============================] - 0s 2ms/step - loss: 0.7020 - accuracy: 0.7709 - val_loss: 0.5073 - val_accuracy: 0.8313\n",
      "Epoch 73/200\n",
      "219/219 [==============================] - 0s 2ms/step - loss: 0.6771 - accuracy: 0.7531 - val_loss: 0.5088 - val_accuracy: 0.8307\n",
      "Epoch 74/200\n",
      "219/219 [==============================] - 0s 2ms/step - loss: 0.6688 - accuracy: 0.7651 - val_loss: 0.5082 - val_accuracy: 0.8367\n",
      "Epoch 75/200\n",
      "219/219 [==============================] - 0s 2ms/step - loss: 0.6716 - accuracy: 0.7657 - val_loss: 0.4915 - val_accuracy: 0.8380\n",
      "Epoch 76/200\n",
      "219/219 [==============================] - 0s 2ms/step - loss: 0.6696 - accuracy: 0.7557 - val_loss: 0.4979 - val_accuracy: 0.8373\n",
      "Epoch 77/200\n",
      "219/219 [==============================] - 0s 2ms/step - loss: 0.6629 - accuracy: 0.7697 - val_loss: 0.4933 - val_accuracy: 0.8307\n",
      "Epoch 78/200\n",
      "219/219 [==============================] - 0s 2ms/step - loss: 0.6744 - accuracy: 0.7569 - val_loss: 0.4925 - val_accuracy: 0.8360\n",
      "Epoch 79/200\n",
      "219/219 [==============================] - 0s 2ms/step - loss: 0.6749 - accuracy: 0.7657 - val_loss: 0.5023 - val_accuracy: 0.8347\n",
      "Epoch 80/200\n",
      "219/219 [==============================] - 0s 2ms/step - loss: 0.6649 - accuracy: 0.7654 - val_loss: 0.4909 - val_accuracy: 0.8373\n",
      "Epoch 81/200\n",
      "219/219 [==============================] - 0s 2ms/step - loss: 0.6711 - accuracy: 0.7717 - val_loss: 0.5042 - val_accuracy: 0.8327\n",
      "Epoch 82/200\n",
      "219/219 [==============================] - 0s 2ms/step - loss: 0.6745 - accuracy: 0.7671 - val_loss: 0.4908 - val_accuracy: 0.8347\n",
      "Epoch 83/200\n",
      "219/219 [==============================] - 0s 2ms/step - loss: 0.6755 - accuracy: 0.7611 - val_loss: 0.4979 - val_accuracy: 0.8287\n",
      "Epoch 84/200\n",
      "219/219 [==============================] - 0s 2ms/step - loss: 0.6586 - accuracy: 0.7723 - val_loss: 0.4944 - val_accuracy: 0.8347\n",
      "Epoch 85/200\n",
      "219/219 [==============================] - 1s 3ms/step - loss: 0.6605 - accuracy: 0.7700 - val_loss: 0.4935 - val_accuracy: 0.8340\n",
      "Epoch 86/200\n",
      "219/219 [==============================] - 1s 2ms/step - loss: 0.6865 - accuracy: 0.7537 - val_loss: 0.4921 - val_accuracy: 0.8367\n",
      "Epoch 87/200\n",
      "219/219 [==============================] - 0s 2ms/step - loss: 0.6550 - accuracy: 0.7694 - val_loss: 0.4979 - val_accuracy: 0.8293\n",
      "Epoch 88/200\n",
      "219/219 [==============================] - 0s 2ms/step - loss: 0.6503 - accuracy: 0.7749 - val_loss: 0.4988 - val_accuracy: 0.8293\n",
      "Epoch 89/200\n",
      "219/219 [==============================] - 0s 2ms/step - loss: 0.6507 - accuracy: 0.7809 - val_loss: 0.4942 - val_accuracy: 0.8273\n",
      "Epoch 90/200\n",
      "219/219 [==============================] - 1s 2ms/step - loss: 0.6585 - accuracy: 0.7654 - val_loss: 0.4956 - val_accuracy: 0.8333\n",
      "Epoch 91/200\n",
      "219/219 [==============================] - 1s 2ms/step - loss: 0.6635 - accuracy: 0.7583 - val_loss: 0.4941 - val_accuracy: 0.8293\n",
      "Epoch 92/200\n",
      "219/219 [==============================] - 0s 2ms/step - loss: 0.6591 - accuracy: 0.7697 - val_loss: 0.4900 - val_accuracy: 0.8360\n",
      "Epoch 93/200\n",
      "219/219 [==============================] - 0s 2ms/step - loss: 0.6811 - accuracy: 0.7680 - val_loss: 0.4996 - val_accuracy: 0.8433\n",
      "Epoch 94/200\n",
      "219/219 [==============================] - 0s 2ms/step - loss: 0.6698 - accuracy: 0.7671 - val_loss: 0.5004 - val_accuracy: 0.8300\n",
      "Epoch 95/200\n",
      "219/219 [==============================] - 0s 2ms/step - loss: 0.6364 - accuracy: 0.7751 - val_loss: 0.4835 - val_accuracy: 0.8420\n",
      "Epoch 96/200\n",
      "219/219 [==============================] - 0s 2ms/step - loss: 0.6518 - accuracy: 0.7743 - val_loss: 0.4797 - val_accuracy: 0.8373\n",
      "Epoch 97/200\n",
      "219/219 [==============================] - 0s 2ms/step - loss: 0.6715 - accuracy: 0.7597 - val_loss: 0.4838 - val_accuracy: 0.8387\n",
      "Epoch 98/200\n",
      "219/219 [==============================] - 0s 2ms/step - loss: 0.6769 - accuracy: 0.7589 - val_loss: 0.4925 - val_accuracy: 0.8360\n",
      "Epoch 99/200\n",
      "219/219 [==============================] - 0s 2ms/step - loss: 0.6547 - accuracy: 0.7674 - val_loss: 0.4897 - val_accuracy: 0.8327\n",
      "Epoch 100/200\n",
      "219/219 [==============================] - 1s 2ms/step - loss: 0.6492 - accuracy: 0.7743 - val_loss: 0.4986 - val_accuracy: 0.8240\n",
      "Epoch 101/200\n",
      "219/219 [==============================] - 0s 2ms/step - loss: 0.6689 - accuracy: 0.7671 - val_loss: 0.4847 - val_accuracy: 0.8393\n",
      "Epoch 102/200\n",
      "219/219 [==============================] - 0s 2ms/step - loss: 0.6814 - accuracy: 0.7597 - val_loss: 0.4873 - val_accuracy: 0.8460\n",
      "Epoch 103/200\n",
      "219/219 [==============================] - 0s 2ms/step - loss: 0.6531 - accuracy: 0.7746 - val_loss: 0.4955 - val_accuracy: 0.8433\n",
      "Epoch 104/200\n",
      "219/219 [==============================] - 0s 2ms/step - loss: 0.6479 - accuracy: 0.7709 - val_loss: 0.4809 - val_accuracy: 0.8367\n",
      "Epoch 105/200\n",
      "219/219 [==============================] - 0s 2ms/step - loss: 0.6696 - accuracy: 0.7629 - val_loss: 0.4772 - val_accuracy: 0.8507\n",
      "Epoch 106/200\n",
      "219/219 [==============================] - 0s 2ms/step - loss: 0.6661 - accuracy: 0.7666 - val_loss: 0.4973 - val_accuracy: 0.8247\n",
      "Epoch 107/200\n",
      "219/219 [==============================] - 0s 2ms/step - loss: 0.6456 - accuracy: 0.7657 - val_loss: 0.4763 - val_accuracy: 0.8400\n",
      "Epoch 108/200\n",
      "219/219 [==============================] - 0s 2ms/step - loss: 0.6589 - accuracy: 0.7683 - val_loss: 0.4841 - val_accuracy: 0.8347\n",
      "Epoch 109/200\n",
      "219/219 [==============================] - 0s 2ms/step - loss: 0.6715 - accuracy: 0.7640 - val_loss: 0.4966 - val_accuracy: 0.8347\n",
      "Epoch 110/200\n",
      "219/219 [==============================] - 0s 2ms/step - loss: 0.6550 - accuracy: 0.7689 - val_loss: 0.4969 - val_accuracy: 0.8320\n",
      "Epoch 111/200\n",
      "219/219 [==============================] - 0s 2ms/step - loss: 0.6658 - accuracy: 0.7611 - val_loss: 0.4796 - val_accuracy: 0.8393\n",
      "Epoch 112/200\n",
      "219/219 [==============================] - 0s 2ms/step - loss: 0.6540 - accuracy: 0.7649 - val_loss: 0.4912 - val_accuracy: 0.8300\n",
      "Epoch 113/200\n",
      "219/219 [==============================] - 0s 2ms/step - loss: 0.6437 - accuracy: 0.7766 - val_loss: 0.4845 - val_accuracy: 0.8493\n",
      "Epoch 114/200\n",
      "219/219 [==============================] - 0s 2ms/step - loss: 0.6488 - accuracy: 0.7737 - val_loss: 0.4802 - val_accuracy: 0.8440\n",
      "Epoch 115/200\n",
      "219/219 [==============================] - 0s 2ms/step - loss: 0.6451 - accuracy: 0.7740 - val_loss: 0.4867 - val_accuracy: 0.8347\n",
      "Epoch 116/200\n",
      "219/219 [==============================] - 0s 2ms/step - loss: 0.6374 - accuracy: 0.7791 - val_loss: 0.4777 - val_accuracy: 0.8460\n",
      "Epoch 117/200\n",
      "219/219 [==============================] - 0s 2ms/step - loss: 0.6484 - accuracy: 0.7726 - val_loss: 0.4748 - val_accuracy: 0.8333\n",
      "Epoch 118/200\n",
      "219/219 [==============================] - 0s 2ms/step - loss: 0.6641 - accuracy: 0.7651 - val_loss: 0.4722 - val_accuracy: 0.8460\n",
      "Epoch 119/200\n",
      "219/219 [==============================] - 0s 2ms/step - loss: 0.6670 - accuracy: 0.7620 - val_loss: 0.4783 - val_accuracy: 0.8327\n",
      "Epoch 120/200\n",
      "219/219 [==============================] - 0s 2ms/step - loss: 0.6541 - accuracy: 0.7629 - val_loss: 0.4657 - val_accuracy: 0.8427\n",
      "Epoch 121/200\n",
      "219/219 [==============================] - 0s 2ms/step - loss: 0.6275 - accuracy: 0.7820 - val_loss: 0.4788 - val_accuracy: 0.8367\n",
      "Epoch 122/200\n",
      "219/219 [==============================] - 0s 2ms/step - loss: 0.6690 - accuracy: 0.7689 - val_loss: 0.4912 - val_accuracy: 0.8393\n",
      "Epoch 123/200\n",
      "219/219 [==============================] - 0s 2ms/step - loss: 0.6693 - accuracy: 0.7600 - val_loss: 0.4786 - val_accuracy: 0.8393\n",
      "Epoch 124/200\n",
      "219/219 [==============================] - 1s 2ms/step - loss: 0.6428 - accuracy: 0.7751 - val_loss: 0.4816 - val_accuracy: 0.8380\n",
      "Epoch 125/200\n",
      "219/219 [==============================] - 0s 2ms/step - loss: 0.6538 - accuracy: 0.7626 - val_loss: 0.4973 - val_accuracy: 0.8347\n",
      "Epoch 126/200\n",
      "219/219 [==============================] - 0s 2ms/step - loss: 0.6467 - accuracy: 0.7737 - val_loss: 0.4767 - val_accuracy: 0.8367\n",
      "Epoch 127/200\n",
      "219/219 [==============================] - 0s 2ms/step - loss: 0.6595 - accuracy: 0.7646 - val_loss: 0.4748 - val_accuracy: 0.8427\n",
      "Epoch 128/200\n",
      "219/219 [==============================] - 0s 2ms/step - loss: 0.6407 - accuracy: 0.7743 - val_loss: 0.4786 - val_accuracy: 0.8327\n",
      "Epoch 129/200\n",
      "219/219 [==============================] - 1s 2ms/step - loss: 0.6581 - accuracy: 0.7649 - val_loss: 0.4923 - val_accuracy: 0.8273\n",
      "Epoch 130/200\n",
      "219/219 [==============================] - 1s 2ms/step - loss: 0.6698 - accuracy: 0.7631 - val_loss: 0.4824 - val_accuracy: 0.8340\n",
      "Epoch 131/200\n",
      "219/219 [==============================] - 0s 2ms/step - loss: 0.6435 - accuracy: 0.7731 - val_loss: 0.4785 - val_accuracy: 0.8347\n",
      "Epoch 132/200\n",
      "219/219 [==============================] - 0s 2ms/step - loss: 0.6475 - accuracy: 0.7700 - val_loss: 0.4871 - val_accuracy: 0.8287\n",
      "Epoch 133/200\n",
      "219/219 [==============================] - 0s 2ms/step - loss: 0.6535 - accuracy: 0.7683 - val_loss: 0.4803 - val_accuracy: 0.8347\n",
      "Epoch 134/200\n",
      "219/219 [==============================] - 0s 2ms/step - loss: 0.6490 - accuracy: 0.7697 - val_loss: 0.4776 - val_accuracy: 0.8340\n",
      "Epoch 135/200\n",
      "219/219 [==============================] - 0s 2ms/step - loss: 0.6496 - accuracy: 0.7711 - val_loss: 0.4881 - val_accuracy: 0.8267\n",
      "Epoch 136/200\n",
      "219/219 [==============================] - 0s 2ms/step - loss: 0.6808 - accuracy: 0.7637 - val_loss: 0.4796 - val_accuracy: 0.8293\n",
      "Epoch 137/200\n",
      "219/219 [==============================] - 0s 2ms/step - loss: 0.6500 - accuracy: 0.7774 - val_loss: 0.4822 - val_accuracy: 0.8353\n",
      "Epoch 138/200\n",
      "219/219 [==============================] - 0s 2ms/step - loss: 0.6577 - accuracy: 0.7654 - val_loss: 0.4763 - val_accuracy: 0.8387\n",
      "Epoch 139/200\n",
      "219/219 [==============================] - 0s 2ms/step - loss: 0.6335 - accuracy: 0.7769 - val_loss: 0.4755 - val_accuracy: 0.8340\n",
      "Epoch 140/200\n",
      "219/219 [==============================] - 1s 2ms/step - loss: 0.6381 - accuracy: 0.7740 - val_loss: 0.4826 - val_accuracy: 0.8353\n",
      "Epoch 141/200\n",
      "219/219 [==============================] - 0s 2ms/step - loss: 0.6441 - accuracy: 0.7669 - val_loss: 0.4790 - val_accuracy: 0.8353\n",
      "Epoch 142/200\n",
      "219/219 [==============================] - 1s 2ms/step - loss: 0.6521 - accuracy: 0.7791 - val_loss: 0.4745 - val_accuracy: 0.8407\n",
      "Epoch 143/200\n",
      "219/219 [==============================] - 0s 2ms/step - loss: 0.6745 - accuracy: 0.7600 - val_loss: 0.4769 - val_accuracy: 0.8420\n",
      "Epoch 144/200\n",
      "219/219 [==============================] - 0s 2ms/step - loss: 0.6558 - accuracy: 0.7726 - val_loss: 0.4901 - val_accuracy: 0.8320\n",
      "Epoch 145/200\n",
      "219/219 [==============================] - 1s 2ms/step - loss: 0.6460 - accuracy: 0.7749 - val_loss: 0.4717 - val_accuracy: 0.8433\n",
      "Epoch 146/200\n",
      "219/219 [==============================] - 0s 2ms/step - loss: 0.6475 - accuracy: 0.7689 - val_loss: 0.4822 - val_accuracy: 0.8253\n",
      "Epoch 147/200\n",
      "219/219 [==============================] - 0s 2ms/step - loss: 0.6437 - accuracy: 0.7789 - val_loss: 0.4814 - val_accuracy: 0.8327\n",
      "Epoch 148/200\n",
      "219/219 [==============================] - 1s 2ms/step - loss: 0.6594 - accuracy: 0.7671 - val_loss: 0.4825 - val_accuracy: 0.8380\n",
      "Epoch 149/200\n",
      "219/219 [==============================] - 0s 2ms/step - loss: 0.6486 - accuracy: 0.7703 - val_loss: 0.4767 - val_accuracy: 0.8320\n",
      "Epoch 150/200\n",
      "219/219 [==============================] - 0s 2ms/step - loss: 0.6548 - accuracy: 0.7711 - val_loss: 0.4784 - val_accuracy: 0.8393\n",
      "Epoch 151/200\n",
      "219/219 [==============================] - 0s 2ms/step - loss: 0.6329 - accuracy: 0.7786 - val_loss: 0.4841 - val_accuracy: 0.8347\n",
      "Epoch 152/200\n",
      "219/219 [==============================] - 0s 2ms/step - loss: 0.6458 - accuracy: 0.7709 - val_loss: 0.4850 - val_accuracy: 0.8347\n",
      "Epoch 153/200\n",
      "219/219 [==============================] - 0s 2ms/step - loss: 0.6412 - accuracy: 0.7757 - val_loss: 0.4862 - val_accuracy: 0.8340\n",
      "Epoch 154/200\n",
      "219/219 [==============================] - 1s 2ms/step - loss: 0.6506 - accuracy: 0.7751 - val_loss: 0.4818 - val_accuracy: 0.8360\n",
      "Epoch 155/200\n",
      "219/219 [==============================] - 0s 2ms/step - loss: 0.6362 - accuracy: 0.7751 - val_loss: 0.4874 - val_accuracy: 0.8293\n",
      "Epoch 156/200\n",
      "219/219 [==============================] - 0s 2ms/step - loss: 0.6390 - accuracy: 0.7706 - val_loss: 0.4682 - val_accuracy: 0.8433\n",
      "Epoch 157/200\n",
      "219/219 [==============================] - 0s 2ms/step - loss: 0.6461 - accuracy: 0.7611 - val_loss: 0.4817 - val_accuracy: 0.8333\n",
      "Epoch 158/200\n",
      "219/219 [==============================] - 0s 2ms/step - loss: 0.6491 - accuracy: 0.7729 - val_loss: 0.4780 - val_accuracy: 0.8320\n",
      "Epoch 159/200\n",
      "219/219 [==============================] - 1s 2ms/step - loss: 0.6261 - accuracy: 0.7851 - val_loss: 0.4814 - val_accuracy: 0.8400\n",
      "Epoch 160/200\n",
      "219/219 [==============================] - 1s 2ms/step - loss: 0.6356 - accuracy: 0.7697 - val_loss: 0.4668 - val_accuracy: 0.8373\n",
      "Epoch 161/200\n",
      "219/219 [==============================] - 0s 2ms/step - loss: 0.6300 - accuracy: 0.7769 - val_loss: 0.4699 - val_accuracy: 0.8387\n",
      "Epoch 162/200\n",
      "219/219 [==============================] - 0s 2ms/step - loss: 0.6166 - accuracy: 0.7820 - val_loss: 0.4702 - val_accuracy: 0.8413\n",
      "Epoch 163/200\n",
      "219/219 [==============================] - 0s 2ms/step - loss: 0.6550 - accuracy: 0.7677 - val_loss: 0.4777 - val_accuracy: 0.8420\n",
      "Epoch 164/200\n",
      "219/219 [==============================] - 0s 2ms/step - loss: 0.6448 - accuracy: 0.7749 - val_loss: 0.4707 - val_accuracy: 0.8413\n",
      "Epoch 165/200\n",
      "219/219 [==============================] - 0s 2ms/step - loss: 0.6448 - accuracy: 0.7717 - val_loss: 0.4701 - val_accuracy: 0.8393\n",
      "Epoch 166/200\n",
      "219/219 [==============================] - 0s 2ms/step - loss: 0.6323 - accuracy: 0.7751 - val_loss: 0.4602 - val_accuracy: 0.8420\n",
      "Epoch 167/200\n",
      "219/219 [==============================] - 0s 2ms/step - loss: 0.6490 - accuracy: 0.7654 - val_loss: 0.4688 - val_accuracy: 0.8427\n",
      "Epoch 168/200\n",
      "219/219 [==============================] - 0s 2ms/step - loss: 0.6287 - accuracy: 0.7763 - val_loss: 0.4609 - val_accuracy: 0.8460\n",
      "Epoch 169/200\n",
      "219/219 [==============================] - 0s 2ms/step - loss: 0.6554 - accuracy: 0.7654 - val_loss: 0.4651 - val_accuracy: 0.8460\n",
      "Epoch 170/200\n",
      "219/219 [==============================] - 0s 2ms/step - loss: 0.6473 - accuracy: 0.7717 - val_loss: 0.4863 - val_accuracy: 0.8320\n",
      "Epoch 171/200\n",
      "219/219 [==============================] - 0s 2ms/step - loss: 0.6402 - accuracy: 0.7714 - val_loss: 0.4727 - val_accuracy: 0.8440\n",
      "Epoch 172/200\n",
      "219/219 [==============================] - 0s 2ms/step - loss: 0.6543 - accuracy: 0.7749 - val_loss: 0.4879 - val_accuracy: 0.8360\n",
      "Epoch 173/200\n",
      "219/219 [==============================] - 0s 2ms/step - loss: 0.6435 - accuracy: 0.7714 - val_loss: 0.4864 - val_accuracy: 0.8393\n",
      "Epoch 174/200\n",
      "219/219 [==============================] - 0s 2ms/step - loss: 0.6356 - accuracy: 0.7766 - val_loss: 0.4966 - val_accuracy: 0.8187\n",
      "Epoch 175/200\n",
      "219/219 [==============================] - 0s 2ms/step - loss: 0.6470 - accuracy: 0.7691 - val_loss: 0.4770 - val_accuracy: 0.8253\n",
      "Epoch 176/200\n",
      "219/219 [==============================] - 0s 2ms/step - loss: 0.6224 - accuracy: 0.7774 - val_loss: 0.4697 - val_accuracy: 0.8400\n",
      "Epoch 177/200\n",
      "219/219 [==============================] - 0s 2ms/step - loss: 0.6636 - accuracy: 0.7617 - val_loss: 0.4805 - val_accuracy: 0.8373\n",
      "Epoch 178/200\n",
      "219/219 [==============================] - 0s 2ms/step - loss: 0.6493 - accuracy: 0.7723 - val_loss: 0.4861 - val_accuracy: 0.8340\n",
      "Epoch 179/200\n",
      "219/219 [==============================] - 0s 2ms/step - loss: 0.6249 - accuracy: 0.7863 - val_loss: 0.4684 - val_accuracy: 0.8460\n",
      "Epoch 180/200\n",
      "219/219 [==============================] - 0s 2ms/step - loss: 0.6380 - accuracy: 0.7723 - val_loss: 0.4808 - val_accuracy: 0.8353\n",
      "Epoch 181/200\n",
      "219/219 [==============================] - 0s 2ms/step - loss: 0.6390 - accuracy: 0.7783 - val_loss: 0.4682 - val_accuracy: 0.8373\n",
      "Epoch 182/200\n",
      "219/219 [==============================] - 0s 2ms/step - loss: 0.6131 - accuracy: 0.7797 - val_loss: 0.4752 - val_accuracy: 0.8300\n",
      "Epoch 183/200\n",
      "219/219 [==============================] - 0s 2ms/step - loss: 0.6225 - accuracy: 0.7766 - val_loss: 0.4715 - val_accuracy: 0.8340\n",
      "Epoch 184/200\n",
      "219/219 [==============================] - 0s 2ms/step - loss: 0.6540 - accuracy: 0.7680 - val_loss: 0.4769 - val_accuracy: 0.8313\n",
      "Epoch 185/200\n",
      "219/219 [==============================] - 0s 2ms/step - loss: 0.6461 - accuracy: 0.7737 - val_loss: 0.4627 - val_accuracy: 0.8433\n",
      "Epoch 186/200\n",
      "219/219 [==============================] - 0s 2ms/step - loss: 0.6448 - accuracy: 0.7774 - val_loss: 0.4608 - val_accuracy: 0.8527\n",
      "Epoch 187/200\n",
      "219/219 [==============================] - 0s 2ms/step - loss: 0.6369 - accuracy: 0.7791 - val_loss: 0.4892 - val_accuracy: 0.8320\n",
      "Epoch 188/200\n",
      "219/219 [==============================] - 0s 2ms/step - loss: 0.6280 - accuracy: 0.7729 - val_loss: 0.4601 - val_accuracy: 0.8453\n",
      "Epoch 189/200\n",
      "219/219 [==============================] - 0s 2ms/step - loss: 0.6386 - accuracy: 0.7771 - val_loss: 0.4728 - val_accuracy: 0.8420\n",
      "Epoch 190/200\n",
      "219/219 [==============================] - 0s 2ms/step - loss: 0.6421 - accuracy: 0.7689 - val_loss: 0.4766 - val_accuracy: 0.8347\n",
      "Epoch 191/200\n",
      "219/219 [==============================] - 1s 2ms/step - loss: 0.6274 - accuracy: 0.7846 - val_loss: 0.4696 - val_accuracy: 0.8340\n",
      "Epoch 192/200\n",
      "219/219 [==============================] - 0s 2ms/step - loss: 0.6258 - accuracy: 0.7831 - val_loss: 0.4805 - val_accuracy: 0.8347\n",
      "Epoch 193/200\n",
      "219/219 [==============================] - 0s 2ms/step - loss: 0.6229 - accuracy: 0.7877 - val_loss: 0.4847 - val_accuracy: 0.8333\n",
      "Epoch 194/200\n",
      "219/219 [==============================] - 0s 2ms/step - loss: 0.6375 - accuracy: 0.7769 - val_loss: 0.4734 - val_accuracy: 0.8360\n",
      "Epoch 195/200\n",
      "219/219 [==============================] - 0s 2ms/step - loss: 0.6434 - accuracy: 0.7723 - val_loss: 0.4892 - val_accuracy: 0.8340\n",
      "Epoch 196/200\n",
      "219/219 [==============================] - 0s 2ms/step - loss: 0.6181 - accuracy: 0.7811 - val_loss: 0.4782 - val_accuracy: 0.8347\n",
      "Epoch 197/200\n",
      "219/219 [==============================] - 1s 3ms/step - loss: 0.6379 - accuracy: 0.7706 - val_loss: 0.4719 - val_accuracy: 0.8460\n",
      "Epoch 198/200\n",
      "219/219 [==============================] - 0s 2ms/step - loss: 0.6331 - accuracy: 0.7834 - val_loss: 0.4736 - val_accuracy: 0.8327\n",
      "Epoch 199/200\n",
      "219/219 [==============================] - 0s 2ms/step - loss: 0.6466 - accuracy: 0.7657 - val_loss: 0.4797 - val_accuracy: 0.8313\n",
      "Epoch 200/200\n",
      "219/219 [==============================] - 0s 2ms/step - loss: 0.6510 - accuracy: 0.7746 - val_loss: 0.4863 - val_accuracy: 0.8320\n"
     ]
    }
   ],
   "source": [
    "model.compile(loss='categorical_crossentropy', optimizer='adam', metrics=['accuracy'])\n",
    "keras_history = model.fit(X_train, y_train , batch_size=16, epochs=200, validation_data=(X_test, y_test))"
   ]
  },
  {
   "cell_type": "code",
   "execution_count": 0,
   "metadata": {
    "colab": {
     "base_uri": "https://localhost:8080/",
     "height": 283
    },
    "colab_type": "code",
    "id": "1BpghfAMqcEW",
    "outputId": "fc570e9a-d05f-447c-a698-3c80d651104d"
   },
   "outputs": [
    {
     "data": {
      "text/plain": [
       "<matplotlib.legend.Legend at 0x7f68530b0ef0>"
      ]
     },
     "execution_count": 16,
     "metadata": {
      "tags": []
     },
     "output_type": "execute_result"
    },
    {
     "data": {
      "image/png": "[encoded data removed]",
      "text/plain": [
       "<Figure size 432x288 with 1 Axes>"
      ]
     },
     "metadata": {
      "needs_background": "light",
      "tags": []
     },
     "output_type": "display_data"
    }
   ],
   "source": [
    "import matplotlib.pyplot as plt\n",
    "plt.plot(keras_history.history['loss'], label='Training loss')\n",
    "plt.plot(keras_history.history['val_loss'], color='red', label='Test loss')\n",
    "plt.legend()"
   ]
  },
  {
   "cell_type": "markdown",
   "metadata": {
    "colab_type": "text",
    "id": "-1B1b4YcoMoY"
   },
   "source": [
    "**We now urge you to tweak various hyperparamers, such as the learning rate,  dropout rate, regularization parameter, batch size, number of layers, number of neurons, etc. to get an idea of how the model performs with such changes**"
   ]
  },
  {
   "cell_type": "code",
   "execution_count": 0,
   "metadata": {
    "colab": {},
    "colab_type": "code",
    "id": "xNvrOIEypT9v"
   },
   "outputs": [],
   "source": []
  },
  {
   "cell_type": "code",
   "execution_count": 0,
   "metadata": {
    "colab": {},
    "colab_type": "code",
    "id": "biJIIaHWpUCw"
   },
   "outputs": [],
   "source": []
  },
  {
   "cell_type": "markdown",
   "metadata": {
    "colab_type": "text",
    "id": "MHgbYB8QpUk5"
   },
   "source": [
    "Awesome! Hope you've gotten the gist of how to use Keras and how simple and straightforward it is to use."
   ]
  }
 ],
 "metadata": {
  "colab": {
   "collapsed_sections": [],
   "name": "KerasIntro",
   "provenance": [],
   "toc_visible": true
  },
  "kernelspec": {
   "display_name": "Python 3",
   "language": "python",
   "name": "python3"
  },
  "language_info": {
   "codemirror_mode": {
    "name": "ipython",
    "version": 3
   },
   "file_extension": ".py",
   "mimetype": "text/x-python",
   "name": "python",
   "nbconvert_exporter": "python",
   "pygments_lexer": "ipython3",
   "version": "3.7.6"
  },
  "toc": {
   "base_numbering": 1,
   "nav_menu": {},
   "number_sections": true,
   "sideBar": true,
   "skip_h1_title": false,
   "title_cell": "Table of Contents",
   "title_sidebar": "Contents",
   "toc_cell": false,
   "toc_position": {},
   "toc_section_display": true,
   "toc_window_display": false
  },
  "varInspector": {
   "cols": {
    "lenName": 16,
    "lenType": 16,
    "lenVar": 40
   },
   "kernels_config": {
    "python": {
     "delete_cmd_postfix": "",
     "delete_cmd_prefix": "del ",
     "library": "var_list.py",
     "varRefreshCmd": "print(var_dic_list())"
    },
    "r": {
     "delete_cmd_postfix": ") ",
     "delete_cmd_prefix": "rm(",
     "library": "var_list.r",
     "varRefreshCmd": "cat(var_dic_list()) "
    }
   },
   "types_to_exclude": [
    "module",
    "function",
    "builtin_function_or_method",
    "instance",
    "_Feature"
   ],
   "window_display": false
  }
 },
 "nbformat": 4,
 "nbformat_minor": 1
}
