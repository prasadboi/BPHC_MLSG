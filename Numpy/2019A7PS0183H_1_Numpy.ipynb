{
  "nbformat": 4,
  "nbformat_minor": 0,
  "metadata": {
    "colab": {
      "name": "1. Numpy.ipynb",
      "provenance": [],
      "collapsed_sections": []
    },
    "kernelspec": {
      "name": "python3",
      "display_name": "Python 3"
    }
  },
  "cells": [
    {
      "cell_type": "markdown",
      "metadata": {
        "id": "Bx0w-X-r7jMy",
        "colab_type": "text"
      },
      "source": [
        "# NumPy\n",
        "\n",
        "Numpy is a python library primarily used for fast array manipulations. It has inbuilt methods for various linear algebra functions that we will be needing throughtout the course. \n",
        "\n",
        "The speed of NumPy is primarily because the array data structure of Numpy, `numpy.ndarray` or 'N dimensional array', are stored at one continuous place in memory unlike lists, so processes can access and manipulate them very efficiently. These arrays are approximately 50x faster than traditional lists in pyhton\n",
        "\n",
        "> Note: Whenever Array is used in this notebook, we mean an ndarray\n",
        "\n"
      ]
    },
    {
      "cell_type": "markdown",
      "metadata": {
        "id": "QA4rhNfaXn4L",
        "colab_type": "text"
      },
      "source": [
        "# Installation Instructions\n",
        "Anaconda normally comes with libraries like numpy, pandas, matplotlib, etc pre installed.\n",
        "\n",
        "In case you are running a miniconda install, or don't have numpy installed you can do it as follows: in your desired conda virtual environment, run the following command on your terminal\n",
        "\n",
        "```\n",
        "conda install numpy\n",
        "```\n",
        "\n",
        "or the following on your jupyter notebook:\n",
        "```\n",
        "!conda install numpy\n",
        "```"
      ]
    },
    {
      "cell_type": "code",
      "metadata": {
        "id": "0XbGa4oC7kr5",
        "colab_type": "code",
        "colab": {}
      },
      "source": [
        "import numpy as np"
      ],
      "execution_count": 0,
      "outputs": []
    },
    {
      "cell_type": "markdown",
      "metadata": {
        "id": "-Ol7ZqUU-z7t",
        "colab_type": "text"
      },
      "source": [
        "## Axes of a matrix\n",
        "\n",
        "In numpy, the dimensions are called axes.\n",
        "\n",
        "For example,\n",
        "\n",
        "- Array with 1 axis that has 3 elements (ie length 3)\n",
        "```\n",
        "[1.0, 2.0, 13.73]\n",
        "```\n",
        "\n",
        "- Array with 2 dimensions of length 2 and 3 respectively:\n",
        "```\n",
        "[[ 1., 0., 0.], \n",
        "[ 0., 1., 2.]]\n",
        "```"
      ]
    },
    {
      "cell_type": "markdown",
      "metadata": {
        "id": "WWEW0zMH7mbV",
        "colab_type": "text"
      },
      "source": [
        "## Basics of NumPy Array\n",
        "\n",
        "The Multidimesnional array in numpy is a table with the following commonly used properties\n"
      ]
    },
    {
      "cell_type": "code",
      "metadata": {
        "id": "VWnRw07t9r6x",
        "colab_type": "code",
        "outputId": "deb5d3d2-0789-49ff-bd10-7cfedce03208",
        "colab": {
          "base_uri": "https://localhost:8080/",
          "height": 102
        }
      },
      "source": [
        "arr = np.array(\n",
        "    [[ 1., 0., 0.], \n",
        "     [ 0., 1., 2.]]\n",
        ")\n",
        "\n",
        "print(f\"Type: {type(arr)}\")\n",
        "print(f\"Dimesnions: {arr.ndim}\")\n",
        "print(f\"Shape: {arr.shape}\") # Returns tuple (r, c), for matrix with r rows and c columms\n",
        "print(f\"Type: {arr.dtype}\")\n",
        "print(f\"Size: {arr.size}\") # Returns total number of elements in array"
      ],
      "execution_count": 0,
      "outputs": [
        {
          "output_type": "stream",
          "text": [
            "Type: <class 'numpy.ndarray'>\n",
            "Dimesnions: 2\n",
            "Shape: (2, 3)\n",
            "Type: float64\n",
            "Size: 6\n"
          ],
          "name": "stdout"
        }
      ]
    },
    {
      "cell_type": "markdown",
      "metadata": {
        "id": "WgiKNDVw7rNc",
        "colab_type": "text"
      },
      "source": [
        "## Array Creation\n",
        "\n",
        "There are various methods for creating numpy Arrays:"
      ]
    },
    {
      "cell_type": "code",
      "metadata": {
        "id": "UmIA1DEiBT6h",
        "colab_type": "code",
        "outputId": "57f3061f-30ad-4dea-a6c6-6ab050a3fa3e",
        "colab": {
          "base_uri": "https://localhost:8080/",
          "height": 34
        }
      },
      "source": [
        "# Creating from list\n",
        "arr = np.array([2., 3., 4.])\n",
        "print(arr)"
      ],
      "execution_count": 0,
      "outputs": [
        {
          "output_type": "stream",
          "text": [
            "[2. 3. 4.]\n"
          ],
          "name": "stdout"
        }
      ]
    },
    {
      "cell_type": "code",
      "metadata": {
        "id": "BL0Ee7MyxjXT",
        "colab_type": "code",
        "outputId": "01df5c90-aa38-4264-e279-71a9f758d791",
        "colab": {
          "base_uri": "https://localhost:8080/",
          "height": 51
        }
      },
      "source": [
        "# Array of integers in a given range\n",
        "print(np.arange(10))\n",
        "print(np.arange(start=5, stop=20, step=5))"
      ],
      "execution_count": 0,
      "outputs": [
        {
          "output_type": "stream",
          "text": [
            "[0 1 2 3 4 5 6 7 8 9]\n",
            "[ 5 10 15]\n"
          ],
          "name": "stdout"
        }
      ]
    },
    {
      "cell_type": "code",
      "metadata": {
        "id": "S8pYn8iRxm6f",
        "colab_type": "code",
        "outputId": "53d59385-fbc8-4b0d-e2ae-4a84c7f4955a",
        "colab": {
          "base_uri": "https://localhost:8080/",
          "height": 85
        }
      },
      "source": [
        "# Empty Array of given shape\n",
        "print(np.empty((4, 3))) # Creates an array of garbage values with given shape"
      ],
      "execution_count": 0,
      "outputs": [
        {
          "output_type": "stream",
          "text": [
            "[[2.95311495e-316 0.00000000e+000 4.27366784e-321]\n",
            " [2.01294834e-316 6.92722490e-310 6.92722490e-310]\n",
            " [6.92722490e-310 6.92722490e-310 2.95311495e-316]\n",
            " [4.94065646e-324 1.90979621e-313 0.00000000e+000]]\n"
          ],
          "name": "stdout"
        }
      ]
    },
    {
      "cell_type": "code",
      "metadata": {
        "id": "83KSNvqDxo9x",
        "colab_type": "code",
        "outputId": "171339aa-0d66-4f87-9f4f-55e0897ad9c6",
        "colab": {
          "base_uri": "https://localhost:8080/",
          "height": 85
        }
      },
      "source": [
        "print(np.zeros((2, 5))) # Array of Zeros\n",
        "print(np.ones((2, 4))) # Array of Ones"
      ],
      "execution_count": 0,
      "outputs": [
        {
          "output_type": "stream",
          "text": [
            "[[0. 0. 0. 0. 0.]\n",
            " [0. 0. 0. 0. 0.]]\n",
            "[[1. 1. 1. 1.]\n",
            " [1. 1. 1. 1.]]\n"
          ],
          "name": "stdout"
        }
      ]
    },
    {
      "cell_type": "code",
      "metadata": {
        "id": "nOh-n72FxrcK",
        "colab_type": "code",
        "outputId": "820df939-35ab-400f-a498-a1c06a6099cc",
        "colab": {
          "base_uri": "https://localhost:8080/",
          "height": 68
        }
      },
      "source": [
        "# Identity matrix\n",
        "print(np.eye(3))"
      ],
      "execution_count": 0,
      "outputs": [
        {
          "output_type": "stream",
          "text": [
            "[[1. 0. 0.]\n",
            " [0. 1. 0.]\n",
            " [0. 0. 1.]]\n"
          ],
          "name": "stdout"
        }
      ]
    },
    {
      "cell_type": "code",
      "metadata": {
        "id": "ILhTPb07xsxg",
        "colab_type": "code",
        "outputId": "bfabe905-81a1-49b3-cae2-38955f0dd427",
        "colab": {
          "base_uri": "https://localhost:8080/",
          "height": 68
        }
      },
      "source": [
        "# Diagonal Arry\n",
        "print(np.diag([2, 3, 5]))"
      ],
      "execution_count": 0,
      "outputs": [
        {
          "output_type": "stream",
          "text": [
            "[[2 0 0]\n",
            " [0 3 0]\n",
            " [0 0 5]]\n"
          ],
          "name": "stdout"
        }
      ]
    },
    {
      "cell_type": "code",
      "metadata": {
        "id": "emjil22oxuiT",
        "colab_type": "code",
        "outputId": "7e60e700-9d90-45b9-e2b6-c59e9ba7c7c5",
        "colab": {
          "base_uri": "https://localhost:8080/",
          "height": 170
        }
      },
      "source": [
        "# Randomly Initialized arrays:\n",
        "print(np.random.rand(2, 3), end='\\n\\n') # Array of given shape, with uniform sample over [0,1)\n",
        "print(np.random.uniform(-1, 1, 5), end='\\n\\n') # Array of size 5, with uniform sample over (-1, 1)\n",
        "print(np.random.randn(3, 1), end='\\n\\n') # Array of shape (3, 1) with standard normal sample"
      ],
      "execution_count": 0,
      "outputs": [
        {
          "output_type": "stream",
          "text": [
            "[[0.81735212 0.675865   0.38725118]\n",
            " [0.62905501 0.78678513 0.16011976]]\n",
            "\n",
            "[-0.47665861  0.07952054 -0.60297088 -0.34510386  0.98753692]\n",
            "\n",
            "[[-0.63702399]\n",
            " [-1.53344392]\n",
            " [ 0.24684941]]\n",
            "\n"
          ],
          "name": "stdout"
        }
      ]
    },
    {
      "cell_type": "markdown",
      "metadata": {
        "id": "rrK4UK-67tV5",
        "colab_type": "text"
      },
      "source": [
        "## Indexing, Slicing, Iterating\n",
        "\n",
        "\n"
      ]
    },
    {
      "cell_type": "markdown",
      "metadata": {
        "id": "tdnsJqoU25yv",
        "colab_type": "text"
      },
      "source": [
        "\n",
        "### One dimensional Arrays\n",
        "Indexing, Slicing, Iterating is much like the operations on lists"
      ]
    },
    {
      "cell_type": "code",
      "metadata": {
        "id": "9_IjK2t7Ek-h",
        "colab_type": "code",
        "outputId": "b08cee89-2c72-4a0f-ab59-29809a873f20",
        "colab": {
          "base_uri": "https://localhost:8080/",
          "height": 187
        }
      },
      "source": [
        "a = np.arange(10) ** 2 # Numpy array containinng first 10 squares\n",
        "\n",
        "print(a, end='\\n\\n')\n",
        "print(a[2], end='\\n\\n') # Index based Selection\n",
        "print(a[3:8], end='\\n\\n') # Range based Selection\n",
        "\n",
        "a[:6:2] = -10\n",
        "print(a, end='\\n\\n')\n",
        "\n",
        "print(a[::-1], end='\\n\\n') # Reversed List"
      ],
      "execution_count": 0,
      "outputs": [
        {
          "output_type": "stream",
          "text": [
            "[ 0  1  4  9 16 25 36 49 64 81]\n",
            "\n",
            "4\n",
            "\n",
            "[ 9 16 25 36 49]\n",
            "\n",
            "[-10   1 -10   9 -10  25  36  49  64  81]\n",
            "\n",
            "[ 81  64  49  36  25 -10   9 -10   1 -10]\n",
            "\n"
          ],
          "name": "stdout"
        }
      ]
    },
    {
      "cell_type": "markdown",
      "metadata": {
        "id": "ymgUZO6aGMuC",
        "colab_type": "text"
      },
      "source": [
        "### Multidimensional Arrays\n",
        "\n",
        "These arrays have one index per axis, given in a tuple, separated by commas:"
      ]
    },
    {
      "cell_type": "code",
      "metadata": {
        "id": "BPWLBkYZGlQz",
        "colab_type": "code",
        "outputId": "5a5f9f73-8526-4694-a602-6f2d16dbc58a",
        "colab": {
          "base_uri": "https://localhost:8080/",
          "height": 170
        }
      },
      "source": [
        "arr = np.arange(24).reshape(3, 8)\n",
        "\n",
        "print(arr, end='\\n\\n')\n",
        "\n",
        "print(arr[2, 2], end='\\n\\n')\n",
        "\n",
        "print(arr[2], end='\\n\\n') # is the same as arr[2, :], and arr[2, 0:8]\n",
        "\n",
        "print(arr[1:3, -1]) # Last column of rows indexed 1, 2"
      ],
      "execution_count": 0,
      "outputs": [
        {
          "output_type": "stream",
          "text": [
            "[[ 0  1  2  3  4  5  6  7]\n",
            " [ 8  9 10 11 12 13 14 15]\n",
            " [16 17 18 19 20 21 22 23]]\n",
            "\n",
            "18\n",
            "\n",
            "[16 17 18 19 20 21 22 23]\n",
            "\n",
            "[15 23]\n"
          ],
          "name": "stdout"
        }
      ]
    },
    {
      "cell_type": "markdown",
      "metadata": {
        "id": "m9v-psGj7zuO",
        "colab_type": "text"
      },
      "source": [
        "## Shape Manipulation\n",
        "\n",
        "An array has a shape determine by the length of each axis.\n"
      ]
    },
    {
      "cell_type": "code",
      "metadata": {
        "id": "AyFUMe4GlXM_",
        "colab_type": "code",
        "outputId": "e6b9f296-2f50-4b17-bfa2-888fe77e3209",
        "colab": {
          "base_uri": "https://localhost:8080/",
          "height": 85
        }
      },
      "source": [
        "arr = np.random.randn(3, 4)\n",
        "print(arr)\n",
        "print(f\"Shape: {arr.shape}\")"
      ],
      "execution_count": 0,
      "outputs": [
        {
          "output_type": "stream",
          "text": [
            "[[-0.93596265  0.35834686  0.22090765 -1.81324082]\n",
            " [ 0.81597095  0.2005792   0.90400042  0.19316658]\n",
            " [ 0.31328302 -0.70835043 -1.17410895 -1.29044735]]\n",
            "Shape: (3, 4)\n"
          ],
          "name": "stdout"
        }
      ]
    },
    {
      "cell_type": "code",
      "metadata": {
        "id": "TRcCedwMqPiq",
        "colab_type": "code",
        "outputId": "c8c3d78d-e0a0-4bb1-94bc-952707356dcb",
        "colab": {
          "base_uri": "https://localhost:8080/",
          "height": 51
        }
      },
      "source": [
        "print(arr.ravel()) # ndarray.ravel() Flattens the array"
      ],
      "execution_count": 0,
      "outputs": [
        {
          "output_type": "stream",
          "text": [
            "[-0.93596265  0.35834686  0.22090765 -1.81324082  0.81597095  0.2005792\n",
            "  0.90400042  0.19316658  0.31328302 -0.70835043 -1.17410895 -1.29044735]\n"
          ],
          "name": "stdout"
        }
      ]
    },
    {
      "cell_type": "code",
      "metadata": {
        "id": "_L0f-6EjqRrB",
        "colab_type": "code",
        "outputId": "83e73137-664d-4f68-cbcf-736eb66d6ecb",
        "colab": {
          "base_uri": "https://localhost:8080/",
          "height": 85
        }
      },
      "source": [
        "print(arr.T) # Transpose of the array"
      ],
      "execution_count": 0,
      "outputs": [
        {
          "output_type": "stream",
          "text": [
            "[[-0.93596265  0.81597095  0.31328302]\n",
            " [ 0.35834686  0.2005792  -0.70835043]\n",
            " [ 0.22090765  0.90400042 -1.17410895]\n",
            " [-1.81324082  0.19316658 -1.29044735]]\n"
          ],
          "name": "stdout"
        }
      ]
    },
    {
      "cell_type": "code",
      "metadata": {
        "id": "NqFuhHVQqW36",
        "colab_type": "code",
        "outputId": "2c33e1e2-2995-4362-af42-453b048f76e7",
        "colab": {
          "base_uri": "https://localhost:8080/",
          "height": 119
        }
      },
      "source": [
        "print(arr.reshape(2, 6), end=\"\\n\\n\") # Returns reshaped array with given shape\n",
        "\n",
        "# The argument of -1 is used to automatically calculate the dimension according \n",
        "# to the size of the array\n",
        "arr_mod = arr.reshape(1, -1)\n",
        "print(arr_mod)\n",
        "print(arr_mod.shape)"
      ],
      "execution_count": 0,
      "outputs": [
        {
          "output_type": "stream",
          "text": [
            "[[-0.93596265  0.35834686  0.22090765 -1.81324082  0.81597095  0.2005792 ]\n",
            " [ 0.90400042  0.19316658  0.31328302 -0.70835043 -1.17410895 -1.29044735]]\n",
            "\n",
            "[[-0.93596265  0.35834686  0.22090765 -1.81324082  0.81597095  0.2005792\n",
            "   0.90400042  0.19316658  0.31328302 -0.70835043 -1.17410895 -1.29044735]]\n",
            "(1, 12)\n"
          ],
          "name": "stdout"
        }
      ]
    },
    {
      "cell_type": "markdown",
      "metadata": {
        "id": "qQO0JOKR72B-",
        "colab_type": "text"
      },
      "source": [
        "## Views and Copies\n",
        "When operating and manipulating arrays, their data is sometimes copied into a new array and sometimes not. There are three cases:\n",
        "\n"
      ]
    },
    {
      "cell_type": "markdown",
      "metadata": {
        "id": "6VfT43xc3AvM",
        "colab_type": "text"
      },
      "source": [
        "\n",
        "### 1. No Copy at all\n",
        "- Simple assignments does not create copies of the ndarray object"
      ]
    },
    {
      "cell_type": "code",
      "metadata": {
        "id": "TzSFutQFrs6f",
        "colab_type": "code",
        "outputId": "a6adf60e-ae3b-465c-bdf3-5f0bc345e1b6",
        "colab": {
          "base_uri": "https://localhost:8080/",
          "height": 51
        }
      },
      "source": [
        "a = np.arange(5)\n",
        "print(a)\n",
        "\n",
        "b = a \n",
        "print(b is a)"
      ],
      "execution_count": 0,
      "outputs": [
        {
          "output_type": "stream",
          "text": [
            "[0 1 2 3 4]\n",
            "True\n"
          ],
          "name": "stdout"
        }
      ]
    },
    {
      "cell_type": "markdown",
      "metadata": {
        "id": "Hh6wYqb1tZh5",
        "colab_type": "text"
      },
      "source": [
        "- Python passes mutable objects as references, so function calls make no copy.\n",
        "\n",
        "> Mutable objects are those which can be modified after creating, whereas immutable objects can't.\n",
        "> For example, a list is a mutable object whereas a tuple is immutable"
      ]
    },
    {
      "cell_type": "code",
      "metadata": {
        "id": "hUX7olmUsAHt",
        "colab_type": "code",
        "outputId": "59e71aa0-d20e-412e-abe3-0a61986b4056",
        "colab": {
          "base_uri": "https://localhost:8080/",
          "height": 51
        }
      },
      "source": [
        "def f(x):\n",
        "    return x\n",
        "\n",
        "b = f(a)\n",
        "print(f\"a: {id(a)}\")\n",
        "print(f\"b: {id(b)}\")\n"
      ],
      "execution_count": 0,
      "outputs": [
        {
          "output_type": "stream",
          "text": [
            "a: 140208935376976\n",
            "b: 140208935376976\n"
          ],
          "name": "stdout"
        }
      ]
    },
    {
      "cell_type": "markdown",
      "metadata": {
        "id": "Bw6eMTeksi_z",
        "colab_type": "text"
      },
      "source": [
        "### 2. Shallow Copy or View\n",
        "Different array objects can share the same data. -\n",
        "The view method creates a new array object that looks at the same data. This means that, modifying one, changes the other as well. "
      ]
    },
    {
      "cell_type": "code",
      "metadata": {
        "id": "er71FoLzsseI",
        "colab_type": "code",
        "outputId": "f407c51a-2992-4395-834f-37f5ca8bbbf3",
        "colab": {
          "base_uri": "https://localhost:8080/",
          "height": 34
        }
      },
      "source": [
        "c = a.view()\n",
        "print(c is a)"
      ],
      "execution_count": 0,
      "outputs": [
        {
          "output_type": "stream",
          "text": [
            "False\n"
          ],
          "name": "stdout"
        }
      ]
    },
    {
      "cell_type": "code",
      "metadata": {
        "id": "jPXN3GStsyWS",
        "colab_type": "code",
        "outputId": "f38c1470-f08c-4080-9ac6-d4c81c6166ba",
        "colab": {
          "base_uri": "https://localhost:8080/",
          "height": 34
        }
      },
      "source": [
        "c[3] = 16\n",
        "print(a)"
      ],
      "execution_count": 0,
      "outputs": [
        {
          "output_type": "stream",
          "text": [
            "[ 0  1  2 16  4]\n"
          ],
          "name": "stdout"
        }
      ]
    },
    {
      "cell_type": "markdown",
      "metadata": {
        "id": "lb3NE56AteYX",
        "colab_type": "text"
      },
      "source": [
        "- Slicing an array returns a view of *it*"
      ]
    },
    {
      "cell_type": "code",
      "metadata": {
        "id": "K9y-HITFtmoX",
        "colab_type": "code",
        "outputId": "5b6e1f16-e226-49af-b6e2-646407509314",
        "colab": {
          "base_uri": "https://localhost:8080/",
          "height": 34
        }
      },
      "source": [
        "s = a[:3]\n",
        "s[2] = 9\n",
        "print(a)"
      ],
      "execution_count": 0,
      "outputs": [
        {
          "output_type": "stream",
          "text": [
            "[ 0  1  9 16  4]\n"
          ],
          "name": "stdout"
        }
      ]
    },
    {
      "cell_type": "markdown",
      "metadata": {
        "id": "G2vjOP0Bt1Cm",
        "colab_type": "text"
      },
      "source": [
        "### 3. Deep Copy\n",
        "The copy method makes a complete copy of the array and its data. This means that modifying one has no effect on the other.\n",
        "\n",
        "Note: Call `copy` after slicing, if original array is not required anymore"
      ]
    },
    {
      "cell_type": "code",
      "metadata": {
        "id": "Epg7aLeYt9_F",
        "colab_type": "code",
        "outputId": "9aba59d7-a389-4480-c820-e994572bafc3",
        "colab": {
          "base_uri": "https://localhost:8080/",
          "height": 34
        }
      },
      "source": [
        "d = a.copy()\n",
        "\n",
        "print(d is a)"
      ],
      "execution_count": 0,
      "outputs": [
        {
          "output_type": "stream",
          "text": [
            "False\n"
          ],
          "name": "stdout"
        }
      ]
    },
    {
      "cell_type": "code",
      "metadata": {
        "id": "2WXwWy7JuFZg",
        "colab_type": "code",
        "outputId": "d74c0ea9-13c9-4743-aeb8-a6cc2e386c0b",
        "colab": {
          "base_uri": "https://localhost:8080/",
          "height": 51
        }
      },
      "source": [
        "d[0] = 99\n",
        "print(a)\n",
        "print(d)"
      ],
      "execution_count": 0,
      "outputs": [
        {
          "output_type": "stream",
          "text": [
            "[ 0  1  9 16  4]\n",
            "[99  1  9 16  4]\n"
          ],
          "name": "stdout"
        }
      ]
    },
    {
      "cell_type": "markdown",
      "metadata": {
        "id": "n_QS_IkbDcAg",
        "colab_type": "text"
      },
      "source": [
        "## Mathematics on Arrays\n",
        "\n",
        "Various Mathematical Functions have efficient implementations in NumPy"
      ]
    },
    {
      "cell_type": "markdown",
      "metadata": {
        "id": "DZVR_zEYd8Vm",
        "colab_type": "text"
      },
      "source": [
        "### 1. Basic Operations\n",
        "\n",
        "Operations such as addition among arrays using `+`, multiplication of two arrays `*`, division with a scalar using `/`, exponentiation with a scalar are performed element wise. "
      ]
    },
    {
      "cell_type": "code",
      "metadata": {
        "id": "HIbHbEpsd18c",
        "colab_type": "code",
        "outputId": "6b384ef9-4c98-461d-b51a-eb059b14d260",
        "colab": {
          "base_uri": "https://localhost:8080/",
          "height": 119
        }
      },
      "source": [
        "a = np.arange(9).reshape(3, -1)\n",
        "b = np.arange(10, 19).reshape(3, -1)\n",
        "\n",
        "print(a)\n",
        "print(b)"
      ],
      "execution_count": 0,
      "outputs": [
        {
          "output_type": "stream",
          "text": [
            "[[0 1 2]\n",
            " [3 4 5]\n",
            " [6 7 8]]\n",
            "[[10 11 12]\n",
            " [13 14 15]\n",
            " [16 17 18]]\n"
          ],
          "name": "stdout"
        }
      ]
    },
    {
      "cell_type": "code",
      "metadata": {
        "id": "YyM5uWPCeWpi",
        "colab_type": "code",
        "outputId": "9fbbff68-8d54-4453-e403-d7336b888d5a",
        "colab": {
          "base_uri": "https://localhost:8080/",
          "height": 68
        }
      },
      "source": [
        "a * b"
      ],
      "execution_count": 0,
      "outputs": [
        {
          "output_type": "execute_result",
          "data": {
            "text/plain": [
              "array([[  0,  11,  24],\n",
              "       [ 39,  56,  75],\n",
              "       [ 96, 119, 144]])"
            ]
          },
          "metadata": {
            "tags": []
          },
          "execution_count": 7
        }
      ]
    },
    {
      "cell_type": "code",
      "metadata": {
        "id": "XgH2dgCAeY-e",
        "colab_type": "code",
        "outputId": "7822d839-270f-4c52-ee91-2ad2e10b5ba5",
        "colab": {
          "base_uri": "https://localhost:8080/",
          "height": 68
        }
      },
      "source": [
        "a ** 3"
      ],
      "execution_count": 0,
      "outputs": [
        {
          "output_type": "execute_result",
          "data": {
            "text/plain": [
              "array([[  0,   1,   8],\n",
              "       [ 27,  64, 125],\n",
              "       [216, 343, 512]])"
            ]
          },
          "metadata": {
            "tags": []
          },
          "execution_count": 8
        }
      ]
    },
    {
      "cell_type": "markdown",
      "metadata": {
        "id": "Aiq4b_0hvKVB",
        "colab_type": "text"
      },
      "source": [
        "### 2. Sum of Arrays\n",
        "Used to find the sum of elements"
      ]
    },
    {
      "cell_type": "code",
      "metadata": {
        "id": "1RLJanW-fCj2",
        "colab_type": "code",
        "outputId": "8c0d8190-9d76-4777-d221-b92955130b53",
        "colab": {
          "base_uri": "https://localhost:8080/",
          "height": 85
        }
      },
      "source": [
        "arr = np.arange(24).reshape(4, -1)\n",
        "print(arr)"
      ],
      "execution_count": 0,
      "outputs": [
        {
          "output_type": "stream",
          "text": [
            "[[ 0  1  2  3  4  5]\n",
            " [ 6  7  8  9 10 11]\n",
            " [12 13 14 15 16 17]\n",
            " [18 19 20 21 22 23]]\n"
          ],
          "name": "stdout"
        }
      ]
    },
    {
      "cell_type": "code",
      "metadata": {
        "id": "clS91V6Zu8TL",
        "colab_type": "code",
        "outputId": "f05cf9b3-2595-44bc-9b22-d4a7c09c77c3",
        "colab": {
          "base_uri": "https://localhost:8080/",
          "height": 34
        }
      },
      "source": [
        "# Sum of all elements in the array\n",
        "print(arr.sum())"
      ],
      "execution_count": 0,
      "outputs": [
        {
          "output_type": "stream",
          "text": [
            "276\n"
          ],
          "name": "stdout"
        }
      ]
    },
    {
      "cell_type": "markdown",
      "metadata": {
        "id": "TzQ9jbCBvuWm",
        "colab_type": "text"
      },
      "source": [
        "Sum can be used to calculate sums of the axes"
      ]
    },
    {
      "cell_type": "code",
      "metadata": {
        "id": "XEW853I6viuK",
        "colab_type": "code",
        "outputId": "a43dac74-4e8f-4321-cf2a-f936016cf14c",
        "colab": {
          "base_uri": "https://localhost:8080/",
          "height": 51
        }
      },
      "source": [
        "print(arr.sum(axis=0)) # Sum of axis 0, ie row\n",
        "print(arr.sum(axis=1)) # Sum of axis 1, ie columns"
      ],
      "execution_count": 0,
      "outputs": [
        {
          "output_type": "stream",
          "text": [
            "[36 40 44 48 52 56]\n",
            "[ 15  51  87 123]\n"
          ],
          "name": "stdout"
        }
      ]
    },
    {
      "cell_type": "markdown",
      "metadata": {
        "id": "I2-fAoj7wLRh",
        "colab_type": "text"
      },
      "source": [
        "### 3. Universal Functions\n",
        "Functions like log, exp, sqrt, etc are defined in the library to calculate them for all the elements efficiently\n"
      ]
    },
    {
      "cell_type": "code",
      "metadata": {
        "id": "jMw2k3o5wZrv",
        "colab_type": "code",
        "outputId": "40087851-8118-4ac8-fbf8-bad41b5c7a79",
        "colab": {
          "base_uri": "https://localhost:8080/",
          "height": 153
        }
      },
      "source": [
        "print(np.exp(arr)) # Used to calculate exponential of the elements"
      ],
      "execution_count": 0,
      "outputs": [
        {
          "output_type": "stream",
          "text": [
            "[[1.00000000e+00 2.71828183e+00 7.38905610e+00 2.00855369e+01\n",
            "  5.45981500e+01 1.48413159e+02]\n",
            " [4.03428793e+02 1.09663316e+03 2.98095799e+03 8.10308393e+03\n",
            "  2.20264658e+04 5.98741417e+04]\n",
            " [1.62754791e+05 4.42413392e+05 1.20260428e+06 3.26901737e+06\n",
            "  8.88611052e+06 2.41549528e+07]\n",
            " [6.56599691e+07 1.78482301e+08 4.85165195e+08 1.31881573e+09\n",
            "  3.58491285e+09 9.74480345e+09]]\n"
          ],
          "name": "stdout"
        }
      ]
    },
    {
      "cell_type": "markdown",
      "metadata": {
        "id": "MAQWGvElzfhC",
        "colab_type": "text"
      },
      "source": [
        "### 4. The Dot Product\n",
        "The Dot product is also a universal function, but with a few caveats. \n",
        "\n",
        "Note: It is behaves like matrix multiplication for multidimensional arrays"
      ]
    },
    {
      "cell_type": "code",
      "metadata": {
        "id": "z0jDxn9V0DiB",
        "colab_type": "code",
        "outputId": "b9055ebc-b4f2-4edc-8e71-02f9d39dd137",
        "colab": {
          "base_uri": "https://localhost:8080/",
          "height": 102
        }
      },
      "source": [
        "a = np.arange(6).reshape(2, 3)\n",
        "b = np.arange(12).reshape(3, 4)\n",
        "\n",
        "print(a)\n",
        "print(b)"
      ],
      "execution_count": 0,
      "outputs": [
        {
          "output_type": "stream",
          "text": [
            "[[0 1 2]\n",
            " [3 4 5]]\n",
            "[[ 0  1  2  3]\n",
            " [ 4  5  6  7]\n",
            " [ 8  9 10 11]]\n"
          ],
          "name": "stdout"
        }
      ]
    },
    {
      "cell_type": "code",
      "metadata": {
        "id": "PXYl0K1J0Qh0",
        "colab_type": "code",
        "outputId": "0f65158b-0476-476a-833a-00127148bd65",
        "colab": {
          "base_uri": "https://localhost:8080/",
          "height": 51
        }
      },
      "source": [
        "print(np.dot(a, b))"
      ],
      "execution_count": 0,
      "outputs": [
        {
          "output_type": "stream",
          "text": [
            "[[20 23 26 29]\n",
            " [56 68 80 92]]\n"
          ],
          "name": "stdout"
        }
      ]
    },
    {
      "cell_type": "code",
      "metadata": {
        "id": "eojUHiHY0YKM",
        "colab_type": "code",
        "outputId": "6c3e3a8d-074f-4eba-ee8d-3c8784175c07",
        "colab": {
          "base_uri": "https://localhost:8080/",
          "height": 51
        }
      },
      "source": [
        "print(a.dot(b))"
      ],
      "execution_count": 0,
      "outputs": [
        {
          "output_type": "stream",
          "text": [
            "[[20 23 26 29]\n",
            " [56 68 80 92]]\n"
          ],
          "name": "stdout"
        }
      ]
    },
    {
      "cell_type": "code",
      "metadata": {
        "id": "zK-vrfwz0aAs",
        "colab_type": "code",
        "outputId": "b1e2a84e-9be9-4c14-bbc0-f4a937536c7b",
        "colab": {
          "base_uri": "https://localhost:8080/",
          "height": 51
        }
      },
      "source": [
        "print(a @ b)"
      ],
      "execution_count": 0,
      "outputs": [
        {
          "output_type": "stream",
          "text": [
            "[[20 23 26 29]\n",
            " [56 68 80 92]]\n"
          ],
          "name": "stdout"
        }
      ]
    },
    {
      "cell_type": "markdown",
      "metadata": {
        "id": "6SxD_NrW0fkg",
        "colab_type": "text"
      },
      "source": [
        "For x1 @ x2 to make sense for multidimensional arrays, we require that:\n",
        "\n",
        "**length of axis 1 of x1 == length of axis 0 of x2**\n",
        "\n",
        "Otherwise, the following error is thrown:"
      ]
    },
    {
      "cell_type": "code",
      "metadata": {
        "id": "gdbYiUDr0dF0",
        "colab_type": "code",
        "outputId": "6a71ee76-8f4e-4b73-f541-010f4dbff25a",
        "colab": {
          "base_uri": "https://localhost:8080/",
          "height": 197
        }
      },
      "source": [
        "print(np.dot(b, a))"
      ],
      "execution_count": 0,
      "outputs": [
        {
          "output_type": "error",
          "ename": "ValueError",
          "evalue": "ignored",
          "traceback": [
            "\u001b[0;31m---------------------------------------------------------------------------\u001b[0m",
            "\u001b[0;31mValueError\u001b[0m                                Traceback (most recent call last)",
            "\u001b[0;32m<ipython-input-83-11663ab089df>\u001b[0m in \u001b[0;36m<module>\u001b[0;34m()\u001b[0m\n\u001b[0;32m----> 1\u001b[0;31m \u001b[0mprint\u001b[0m\u001b[0;34m(\u001b[0m\u001b[0mnp\u001b[0m\u001b[0;34m.\u001b[0m\u001b[0mdot\u001b[0m\u001b[0;34m(\u001b[0m\u001b[0mb\u001b[0m\u001b[0;34m,\u001b[0m \u001b[0ma\u001b[0m\u001b[0;34m)\u001b[0m\u001b[0;34m)\u001b[0m\u001b[0;34m\u001b[0m\u001b[0;34m\u001b[0m\u001b[0m\n\u001b[0m",
            "\u001b[0;32m<__array_function__ internals>\u001b[0m in \u001b[0;36mdot\u001b[0;34m(*args, **kwargs)\u001b[0m\n",
            "\u001b[0;31mValueError\u001b[0m: shapes (3,4) and (2,3) not aligned: 4 (dim 1) != 2 (dim 0)"
          ]
        }
      ]
    },
    {
      "cell_type": "code",
      "metadata": {
        "id": "NKAXAZZw1H5x",
        "colab_type": "code",
        "outputId": "52c1d257-acc0-46bd-c7d6-2dafd0fdc932",
        "colab": {
          "base_uri": "https://localhost:8080/",
          "height": 163
        }
      },
      "source": [
        "print(b @ a)"
      ],
      "execution_count": 0,
      "outputs": [
        {
          "output_type": "error",
          "ename": "ValueError",
          "evalue": "ignored",
          "traceback": [
            "\u001b[0;31m---------------------------------------------------------------------------\u001b[0m",
            "\u001b[0;31mValueError\u001b[0m                                Traceback (most recent call last)",
            "\u001b[0;32m<ipython-input-84-0d9e00b11c54>\u001b[0m in \u001b[0;36m<module>\u001b[0;34m()\u001b[0m\n\u001b[0;32m----> 1\u001b[0;31m \u001b[0mprint\u001b[0m\u001b[0;34m(\u001b[0m\u001b[0mb\u001b[0m \u001b[0;34m@\u001b[0m \u001b[0ma\u001b[0m\u001b[0;34m)\u001b[0m\u001b[0;34m\u001b[0m\u001b[0;34m\u001b[0m\u001b[0m\n\u001b[0m",
            "\u001b[0;31mValueError\u001b[0m: matmul: Input operand 1 has a mismatch in its core dimension 0, with gufunc signature (n?,k),(k,m?)->(n?,m?) (size 2 is different from 4)"
          ]
        }
      ]
    }
  ]
}
