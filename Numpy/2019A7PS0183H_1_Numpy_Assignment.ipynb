{
 "cells": [
  {
   "cell_type": "code",
   "execution_count": 12,
   "metadata": {
    "colab": {},
    "colab_type": "code",
    "id": "K1Oq7GQpDyfk"
   },
   "outputs": [],
   "source": [
    "import numpy as np"
   ]
  },
  {
   "cell_type": "code",
   "execution_count": 7,
   "metadata": {
    "scrolled": true
   },
   "outputs": [
    {
     "name": "stdout",
     "output_type": "stream",
     "text": [
      "Available Themes: \r\n",
      "   chesterish\r\n",
      "   grade3\r\n",
      "   gruvboxd\r\n",
      "   gruvboxl\r\n",
      "   monokai\r\n",
      "   oceans16\r\n",
      "   onedork\r\n",
      "   solarizedd\r\n",
      "   solarizedl\r\n"
     ]
    }
   ],
   "source": [
    "!jt -l"
   ]
  },
  {
   "cell_type": "markdown",
   "metadata": {
    "colab_type": "text",
    "id": "aYKL_KnCD5qj"
   },
   "source": [
    "# Instructions:\n",
    "1. Only edit YOUR CODE HERE\n",
    "2. Each question is of 5 Marks total (4.1 and 4.2 are 5 marks each) for a total of 35 marks\n",
    "3. Marks are given for Clarity, Conciseness and accuracy of your code"
   ]
  },
  {
   "cell_type": "markdown",
   "metadata": {
    "colab_type": "text",
    "id": "Pi3b6wsBFZQF"
   },
   "source": [
    "## 1. Windows and Strides \n",
    "Given a 1D array, and parameters window_len and stride_len, do the following:\n",
    "1. Divide the 1D array into smaller arrays of size window len starting at index 0\n",
    "2. Move the starting index by step size stride_len eachh time\n",
    "3. Return all windows as a 2D numpy array\n",
    "\n",
    "Eg:\n",
    "```python\n",
    "arr = [1, 2, 3, 4, 5, 6, 7, 8]\n",
    "stride_len = 2\n",
    "window_len = 4\n",
    "```\n",
    "```\n",
    "gen_strides(arr, stride_len, window_len) -> \n",
    "                                [[1, 2, 3, 4],\n",
    "                                 [3, 4, 5, 6],\n",
    "                                 [5, 6, 7, 8]]\n",
    "```"
   ]
  },
  {
   "cell_type": "code",
   "execution_count": 13,
   "metadata": {
    "colab": {},
    "colab_type": "code",
    "id": "HB5jC7h3Gglq"
   },
   "outputs": [],
   "source": [
    "def gen_strides(arr, stride_len, window_len):\n",
    "    \"\"\"\n",
    "    Input:\n",
    "        arr: Numpy array of 1 dimension\n",
    "        stride_len: int, stride length\n",
    "        window_len: int, window length\n",
    "    Output:\n",
    "        window_strides: Numpy array of 2 dimensions containing windowed strides\n",
    "    \"\"\"\n",
    "    window_strides = [arr[i:i+4] for i in range(0,arr.size- 4,stride_len)]\n",
    "\n",
    "    return window_strides\n",
    "#array_eg = np.array([1,2,3,4,5,6,7,8,9])\n",
    "#gen_strides(array_eg , 2 , 4)"
   ]
  },
  {
   "cell_type": "markdown",
   "metadata": {
    "colab_type": "text",
    "id": "RBpIUPEQIje5"
   },
   "source": [
    "## 2. Shuffle\n",
    "Given a numpy array of arbitrary dimensions ($\\ge1$), shuffle its rows randomly \n",
    "\n",
    "Eg:\n",
    "```\n",
    "arr = [[1, 2, 3],\n",
    "       [4, 5, 6],\n",
    "       [7, 8, 9]]\n",
    "```\n",
    "then,\n",
    "\n",
    "```\n",
    "shuf(arr) -> [[7, 8, 9],\n",
    "              [1, 2, 3],\n",
    "              [4, 5, 6]]\n",
    "```"
   ]
  },
  {
   "cell_type": "code",
   "execution_count": 14,
   "metadata": {
    "colab": {},
    "colab_type": "code",
    "id": "0GVMkDqIKkLf"
   },
   "outputs": [],
   "source": [
    "def shuf(arr):\n",
    "    \"\"\"\n",
    "    Input:\n",
    "        arr: Numpy array of arbitrary number of dimensions\n",
    "    Output:\n",
    "        shuffled_arr: numpy array of same shape as arr but with rows shuffled\n",
    "    \"\"\"\n",
    "\n",
    "    shuffled_arr = np.random.shuffle(arr)\n",
    "\n",
    "\n",
    "    return shuffled_arr\n",
    "\n",
    "#X = np.array([[1 , 2 , 3],[4 , 6 , 8],[10 , 13 , 16]])\n",
    "#np.random.shuffle(X)\n",
    "#X"
   ]
  },
  {
   "cell_type": "markdown",
   "metadata": {
    "colab_type": "text",
    "id": "LY5CNZrLShfJ"
   },
   "source": [
    "### 3. Match\n",
    "\n",
    "Get the indices corresponding to the matching elements of array a and array b\n",
    "\n",
    "Eg:\n",
    "```python\n",
    "a = [1, 2, 3, 4, 5, 6, 7, 8, 9]\n",
    "b = [0, 2, 4, 8, 7, 6, 7, 9, 8]\n",
    "```\n",
    "\n",
    "Then,\n",
    "```\n",
    "match(a, b) -> [1, 5, 6]\n",
    "```"
   ]
  },
  {
   "cell_type": "code",
   "execution_count": 15,
   "metadata": {
    "colab": {},
    "colab_type": "code",
    "id": "G8gUM8xsTKC_"
   },
   "outputs": [
    {
     "data": {
      "text/plain": [
       "'a = np.array([1 , 2,3,4,5,6,7,8,9])\\nb = np.array([0,2,4,8,7,6,7,9,8])\\nmatch(a , b)'"
      ]
     },
     "execution_count": 15,
     "metadata": {},
     "output_type": "execute_result"
    }
   ],
   "source": [
    "\n",
    "def match(a, b):\n",
    "    \"\"\"\n",
    "    Inputs:\n",
    "        a: Numpy array of one dimension\n",
    "        b: Numpy array of one dimension\n",
    "    Output:\n",
    "        matched_idx: List containing indices where both arrays have same elements\n",
    "\"\"\"\n",
    "\n",
    "    matched_idx = np.where(a == b )\n",
    "    return matched_idx\n",
    "    \n",
    "'''a = np.array([1 , 2,3,4,5,6,7,8,9])\n",
    "b = np.array([0,2,4,8,7,6,7,9,8])\n",
    "match(a , b)'''\n"
   ]
  },
  {
   "cell_type": "code",
   "execution_count": null,
   "metadata": {},
   "outputs": [],
   "source": []
  },
  {
   "cell_type": "markdown",
   "metadata": {
    "colab_type": "text",
    "id": "1Iuj8NqMUoCO"
   },
   "source": [
    "### 4.1 Minor of a matrix\n",
    "\n",
    "Given a numpy array of shape `(n, n)` and an index i, find the minor of element at row 0, column i of the matrix\n",
    "\n",
    "Eg:\n",
    "```python\n",
    "mat = [[1, 2, 3],\n",
    "       [4, 5, 6],\n",
    "       [7, 8, 9]]\n",
    "```\n",
    "\n",
    "Then,\n",
    "```\n",
    "minor(mat, 1) -> [[4, 6],\n",
    "                  [7, 9]]\n",
    "```"
   ]
  },
  {
   "cell_type": "code",
   "execution_count": 16,
   "metadata": {},
   "outputs": [],
   "source": [
    "def minor(mat, i):\n",
    "    \"\"\"\n",
    "    Inputs:\n",
    "        mat: A numpy array of shape (n, n)\n",
    "        i: int, Column of which minor is to be found\n",
    "    Outputs:\n",
    "        mat_minor: A numpy array of shape (n - 1, n - 1) containing minor of mat\n",
    "    \"\"\"\n",
    "    minor_mat = [x[:i] + x[i+1:] for x in (mat[1:])]\n",
    "    return minor_mat \n",
    "#mat = [[1,2,3],[4,5,6],[7,8,9]]\n",
    "#minor(mat , 1)"
   ]
  },
  {
   "cell_type": "markdown",
   "metadata": {
    "colab": {},
    "colab_type": "code",
    "id": "JMIYjpC1VWIU"
   },
   "source": [
    "def minor(mat, i):\n",
    "    \"\"\"\n",
    "    Inputs:\n",
    "        mat: A numpy array of shape (n, n)\n",
    "        i: int, Column of which minor is to be found\n",
    "    Outputs:\n",
    "        mat_minor: A numpy array of shape (n - 1, n - 1) containing minor of mat\n",
    "    \"\"\"\n",
    "    return "
   ]
  },
  {
   "cell_type": "markdown",
   "metadata": {
    "colab_type": "text",
    "id": "9oX_EJquXttt"
   },
   "source": [
    "### 4.2 Determinant of a matrix\n",
    "Given a numpy array of shape (n, n) find its determinant"
   ]
  },
  {
   "cell_type": "code",
   "execution_count": 17,
   "metadata": {
    "colab": {},
    "colab_type": "code",
    "id": "SRvikvhQX4h9"
   },
   "outputs": [],
   "source": [
    "def det(mat):\n",
    "    \"\"\"\n",
    "    Inputs: \n",
    "        mat: A numpy array of shape (n, n)\n",
    "    Outputs:\n",
    "        det_mat: Determinant of mat\n",
    "    \"\"\"\n",
    "    det_mat = np.linalg.det(mat)\n",
    "\n",
    "    return det_mat"
   ]
  },
  {
   "cell_type": "markdown",
   "metadata": {
    "colab_type": "text",
    "id": "irZMP8_4T5yv"
   },
   "source": [
    "### 5. Inverse of Array\n",
    "Given a numpy array with shape `(n, n)` find its inverse"
   ]
  },
  {
   "cell_type": "code",
   "execution_count": 18,
   "metadata": {
    "colab": {},
    "colab_type": "code",
    "id": "VB2qPuFXUKuV"
   },
   "outputs": [],
   "source": [
    "def inv(mat):\n",
    "    \"\"\"\n",
    "    Inputs:\n",
    "        mat: Numpy array of shape (n, n)\n",
    "    Outputs:\n",
    "        mat_inv: Inverse of mat\n",
    "    \"\"\"\n",
    "    mat_inv = np.linalg.inv(mat)\n",
    "\n",
    "    return mat_inv"
   ]
  },
  {
   "cell_type": "markdown",
   "metadata": {
    "colab_type": "text",
    "id": "U2Vn00V9Ugdi"
   },
   "source": [
    "### 6. Rank Array\n",
    "Rank the items in a multidimensional array.\n",
    "the rank of an item is its index in the sorted list of all items in arr (starting from 0)\n",
    "\n",
    "Eg:\n",
    "```\n",
    "mat = [[9, 11, 1],\n",
    "       [4, 2, 0],\n",
    "       [5, 7, 12]]\n",
    "```\n",
    "Then,\n",
    "```\n",
    "rank(mat) -> [[6, 7, 1],\n",
    "              [3, 2, 0],\n",
    "              [4, 5, 8]]\n",
    "```"
   ]
  },
  {
   "cell_type": "code",
   "execution_count": 38,
   "metadata": {
    "colab": {},
    "colab_type": "code",
    "id": "PCITYkusY7UO"
   },
   "outputs": [
    {
     "data": {
      "text/plain": [
       "array([[5, 2, 4],\n",
       "       [3, 6, 7],\n",
       "       [0, 1, 8]])"
      ]
     },
     "execution_count": 38,
     "metadata": {},
     "output_type": "execute_result"
    }
   ],
   "source": [
    "def rank(arr):\n",
    "    \"\"\"\n",
    "    Inputs:\n",
    "        arr: n dimensional Numpy array\n",
    "    Outputs:\n",
    "        ranked_arr: Numpy array containing ranks, with same shape as arr\n",
    "    \"\"\" \n",
    "    lin_arr = arr.reshape(1,arr.size)\n",
    "    lin_arr_ranks = np.argsort(lin_arr)\n",
    "    return lin_arr_ranks\n",
    "#mat = np.array([[9 , 11 , 1] , [4 , 2 , 0] , [5 , 7 ,12]])\n",
    "#rank(mat)"
   ]
  },
  {
   "cell_type": "code",
   "execution_count": 3,
   "metadata": {},
   "outputs": [
    {
     "name": "stdout",
     "output_type": "stream",
     "text": [
      "Requirement already satisfied: jupyterthemes in /home/arjun/anaconda3/lib/python3.7/site-packages (0.20.0)\n",
      "Requirement already satisfied: lesscpy>=0.11.2 in /home/arjun/anaconda3/lib/python3.7/site-packages (from jupyterthemes) (0.14.0)\n",
      "Requirement already satisfied: notebook>=5.6.0 in /home/arjun/anaconda3/lib/python3.7/site-packages (from jupyterthemes) (6.0.3)\n",
      "Requirement already satisfied: matplotlib>=1.4.3 in /home/arjun/anaconda3/lib/python3.7/site-packages (from jupyterthemes) (3.1.3)\n",
      "Requirement already satisfied: jupyter-core in /home/arjun/anaconda3/lib/python3.7/site-packages (from jupyterthemes) (4.6.1)\n",
      "Requirement already satisfied: ipython>=5.4.1 in /home/arjun/anaconda3/lib/python3.7/site-packages (from jupyterthemes) (7.12.0)\n",
      "Requirement already satisfied: six in /home/arjun/anaconda3/lib/python3.7/site-packages (from lesscpy>=0.11.2->jupyterthemes) (1.14.0)\n",
      "Requirement already satisfied: ply in /home/arjun/anaconda3/lib/python3.7/site-packages (from lesscpy>=0.11.2->jupyterthemes) (3.11)\n",
      "Requirement already satisfied: jupyter-client>=5.3.4 in /home/arjun/anaconda3/lib/python3.7/site-packages (from notebook>=5.6.0->jupyterthemes) (5.3.4)\n",
      "Requirement already satisfied: nbconvert in /home/arjun/anaconda3/lib/python3.7/site-packages (from notebook>=5.6.0->jupyterthemes) (5.6.1)\n",
      "Requirement already satisfied: jinja2 in /home/arjun/anaconda3/lib/python3.7/site-packages (from notebook>=5.6.0->jupyterthemes) (2.11.1)\n",
      "Requirement already satisfied: terminado>=0.8.1 in /home/arjun/anaconda3/lib/python3.7/site-packages (from notebook>=5.6.0->jupyterthemes) (0.8.3)\n",
      "Requirement already satisfied: ipython-genutils in /home/arjun/anaconda3/lib/python3.7/site-packages (from notebook>=5.6.0->jupyterthemes) (0.2.0)\n",
      "Requirement already satisfied: tornado>=5.0 in /home/arjun/anaconda3/lib/python3.7/site-packages (from notebook>=5.6.0->jupyterthemes) (6.0.3)\n",
      "Requirement already satisfied: traitlets>=4.2.1 in /home/arjun/anaconda3/lib/python3.7/site-packages (from notebook>=5.6.0->jupyterthemes) (4.3.3)\n",
      "Requirement already satisfied: ipykernel in /home/arjun/anaconda3/lib/python3.7/site-packages (from notebook>=5.6.0->jupyterthemes) (5.1.4)\n",
      "Requirement already satisfied: nbformat in /home/arjun/anaconda3/lib/python3.7/site-packages (from notebook>=5.6.0->jupyterthemes) (5.0.4)\n",
      "Requirement already satisfied: Send2Trash in /home/arjun/anaconda3/lib/python3.7/site-packages (from notebook>=5.6.0->jupyterthemes) (1.5.0)\n",
      "Requirement already satisfied: prometheus-client in /home/arjun/anaconda3/lib/python3.7/site-packages (from notebook>=5.6.0->jupyterthemes) (0.7.1)\n",
      "Requirement already satisfied: pyzmq>=17 in /home/arjun/anaconda3/lib/python3.7/site-packages (from notebook>=5.6.0->jupyterthemes) (18.1.1)\n",
      "Requirement already satisfied: numpy>=1.11 in /home/arjun/anaconda3/lib/python3.7/site-packages (from matplotlib>=1.4.3->jupyterthemes) (1.18.1)\n",
      "Requirement already satisfied: cycler>=0.10 in /home/arjun/anaconda3/lib/python3.7/site-packages (from matplotlib>=1.4.3->jupyterthemes) (0.10.0)\n",
      "Requirement already satisfied: kiwisolver>=1.0.1 in /home/arjun/anaconda3/lib/python3.7/site-packages (from matplotlib>=1.4.3->jupyterthemes) (1.1.0)\n",
      "Requirement already satisfied: pyparsing!=2.0.4,!=2.1.2,!=2.1.6,>=2.0.1 in /home/arjun/anaconda3/lib/python3.7/site-packages (from matplotlib>=1.4.3->jupyterthemes) (2.4.6)\n",
      "Requirement already satisfied: python-dateutil>=2.1 in /home/arjun/anaconda3/lib/python3.7/site-packages (from matplotlib>=1.4.3->jupyterthemes) (2.8.1)\n",
      "Requirement already satisfied: pygments in /home/arjun/anaconda3/lib/python3.7/site-packages (from ipython>=5.4.1->jupyterthemes) (2.5.2)\n",
      "Requirement already satisfied: prompt-toolkit!=3.0.0,!=3.0.1,<3.1.0,>=2.0.0 in /home/arjun/anaconda3/lib/python3.7/site-packages (from ipython>=5.4.1->jupyterthemes) (3.0.3)\n",
      "Requirement already satisfied: backcall in /home/arjun/anaconda3/lib/python3.7/site-packages (from ipython>=5.4.1->jupyterthemes) (0.1.0)\n",
      "Requirement already satisfied: pickleshare in /home/arjun/anaconda3/lib/python3.7/site-packages (from ipython>=5.4.1->jupyterthemes) (0.7.5)\n",
      "Requirement already satisfied: decorator in /home/arjun/anaconda3/lib/python3.7/site-packages (from ipython>=5.4.1->jupyterthemes) (4.4.1)\n",
      "Requirement already satisfied: jedi>=0.10 in /home/arjun/anaconda3/lib/python3.7/site-packages (from ipython>=5.4.1->jupyterthemes) (0.14.1)\n",
      "Requirement already satisfied: pexpect; sys_platform != \"win32\" in /home/arjun/anaconda3/lib/python3.7/site-packages (from ipython>=5.4.1->jupyterthemes) (4.8.0)\n",
      "Requirement already satisfied: setuptools>=18.5 in /home/arjun/anaconda3/lib/python3.7/site-packages (from ipython>=5.4.1->jupyterthemes) (45.2.0.post20200210)\n",
      "Requirement already satisfied: pandocfilters>=1.4.1 in /home/arjun/anaconda3/lib/python3.7/site-packages (from nbconvert->notebook>=5.6.0->jupyterthemes) (1.4.2)\n",
      "Requirement already satisfied: testpath in /home/arjun/anaconda3/lib/python3.7/site-packages (from nbconvert->notebook>=5.6.0->jupyterthemes) (0.4.4)\n",
      "Requirement already satisfied: mistune<2,>=0.8.1 in /home/arjun/anaconda3/lib/python3.7/site-packages (from nbconvert->notebook>=5.6.0->jupyterthemes) (0.8.4)\n",
      "Requirement already satisfied: defusedxml in /home/arjun/anaconda3/lib/python3.7/site-packages (from nbconvert->notebook>=5.6.0->jupyterthemes) (0.6.0)\n",
      "Requirement already satisfied: entrypoints>=0.2.2 in /home/arjun/anaconda3/lib/python3.7/site-packages (from nbconvert->notebook>=5.6.0->jupyterthemes) (0.3)\n",
      "Requirement already satisfied: bleach in /home/arjun/anaconda3/lib/python3.7/site-packages (from nbconvert->notebook>=5.6.0->jupyterthemes) (3.1.0)\n",
      "Requirement already satisfied: MarkupSafe>=0.23 in /home/arjun/anaconda3/lib/python3.7/site-packages (from jinja2->notebook>=5.6.0->jupyterthemes) (1.1.1)\n",
      "Requirement already satisfied: jsonschema!=2.5.0,>=2.4 in /home/arjun/anaconda3/lib/python3.7/site-packages (from nbformat->notebook>=5.6.0->jupyterthemes) (3.2.0)\n",
      "Requirement already satisfied: wcwidth in /home/arjun/anaconda3/lib/python3.7/site-packages (from prompt-toolkit!=3.0.0,!=3.0.1,<3.1.0,>=2.0.0->ipython>=5.4.1->jupyterthemes) (0.1.8)\n",
      "Requirement already satisfied: parso>=0.5.0 in /home/arjun/anaconda3/lib/python3.7/site-packages (from jedi>=0.10->ipython>=5.4.1->jupyterthemes) (0.5.2)\n",
      "Requirement already satisfied: ptyprocess>=0.5 in /home/arjun/anaconda3/lib/python3.7/site-packages (from pexpect; sys_platform != \"win32\"->ipython>=5.4.1->jupyterthemes) (0.6.0)\n",
      "Requirement already satisfied: webencodings in /home/arjun/anaconda3/lib/python3.7/site-packages (from bleach->nbconvert->notebook>=5.6.0->jupyterthemes) (0.5.1)\n",
      "Requirement already satisfied: importlib-metadata; python_version < \"3.8\" in /home/arjun/anaconda3/lib/python3.7/site-packages (from jsonschema!=2.5.0,>=2.4->nbformat->notebook>=5.6.0->jupyterthemes) (1.5.0)\n",
      "Requirement already satisfied: attrs>=17.4.0 in /home/arjun/anaconda3/lib/python3.7/site-packages (from jsonschema!=2.5.0,>=2.4->nbformat->notebook>=5.6.0->jupyterthemes) (19.3.0)\n",
      "Requirement already satisfied: pyrsistent>=0.14.0 in /home/arjun/anaconda3/lib/python3.7/site-packages (from jsonschema!=2.5.0,>=2.4->nbformat->notebook>=5.6.0->jupyterthemes) (0.15.7)\n",
      "Requirement already satisfied: zipp>=0.5 in /home/arjun/anaconda3/lib/python3.7/site-packages (from importlib-metadata; python_version < \"3.8\"->jsonschema!=2.5.0,>=2.4->nbformat->notebook>=5.6.0->jupyterthemes) (2.2.0)\n",
      "Note: you may need to restart the kernel to use updated packages.\n"
     ]
    }
   ],
   "source": [
    "pip install jupyterthemes\n"
   ]
  },
  {
   "cell_type": "code",
   "execution_count": 4,
   "metadata": {},
   "outputs": [
    {
     "ename": "NameError",
     "evalue": "name 'jupyterthemes' is not defined",
     "output_type": "error",
     "traceback": [
      "\u001b[0;31m---------------------------------------------------------------------------\u001b[0m",
      "\u001b[0;31mNameError\u001b[0m                                 Traceback (most recent call last)",
      "\u001b[0;32m<ipython-input-4-0fc9e7d6bee9>\u001b[0m in \u001b[0;36m<module>\u001b[0;34m\u001b[0m\n\u001b[0;32m----> 1\u001b[0;31m \u001b[0mjupyterthemes\u001b[0m \u001b[0;34m-\u001b[0m\u001b[0;36m1\u001b[0m\u001b[0;34m\u001b[0m\u001b[0;34m\u001b[0m\u001b[0m\n\u001b[0m",
      "\u001b[0;31mNameError\u001b[0m: name 'jupyterthemes' is not defined"
     ]
    }
   ],
   "source": [
    "jupyterthemes -1\n"
   ]
  },
  {
   "cell_type": "code",
   "execution_count": 3,
   "metadata": {},
   "outputs": [],
   "source": [
    "!jt -t monokai"
   ]
  },
  {
   "cell_type": "code",
   "execution_count": null,
   "metadata": {},
   "outputs": [],
   "source": []
  },
  {
   "cell_type": "code",
   "execution_count": null,
   "metadata": {},
   "outputs": [],
   "source": []
  }
 ],
 "metadata": {
  "colab": {
   "collapsed_sections": [],
   "name": "1 Numpy Assignment.ipynb",
   "private_outputs": true,
   "provenance": []
  },
  "kernelspec": {
   "display_name": "Python 3",
   "language": "python",
   "name": "python3"
  },
  "language_info": {
   "codemirror_mode": {
    "name": "ipython",
    "version": 3
   },
   "file_extension": ".py",
   "mimetype": "text/x-python",
   "name": "python",
   "nbconvert_exporter": "python",
   "pygments_lexer": "ipython3",
   "version": "3.7.6"
  }
 },
 "nbformat": 4,
 "nbformat_minor": 1
}
