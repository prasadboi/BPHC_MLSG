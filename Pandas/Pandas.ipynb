{
 "cells": [
  {
   "cell_type": "code",
   "execution_count": 1,
   "metadata": {
    "ExecuteTime": {
     "end_time": "2020-05-14T13:08:40.835155Z",
     "start_time": "2020-05-14T13:08:40.832220Z"
    }
   },
   "outputs": [],
   "source": [
    "#Colab users uncomment this code\n",
    "#File for this notebook is census.csv"
   ]
  },
  {
   "cell_type": "code",
   "execution_count": 2,
   "metadata": {
    "ExecuteTime": {
     "end_time": "2020-05-14T13:08:40.954719Z",
     "start_time": "2020-05-14T13:08:40.837507Z"
    }
   },
   "outputs": [
    {
     "data": {
      "text/plain": [
       "'\\n!pip install -U -q PyDrive\\nfrom pydrive.auth import GoogleAuth\\nfrom pydrive.drive import GoogleDrive\\nfrom google.colab import auth\\nfrom oauth2client.client import GoogleCredentials\\n'"
      ]
     },
     "execution_count": 2,
     "metadata": {},
     "output_type": "execute_result"
    }
   ],
   "source": [
    "\"\"\"\n",
    "!pip install -U -q PyDrive\n",
    "from pydrive.auth import GoogleAuth\n",
    "from pydrive.drive import GoogleDrive\n",
    "from google.colab import auth\n",
    "from oauth2client.client import GoogleCredentials\n",
    "\"\"\""
   ]
  },
  {
   "cell_type": "code",
   "execution_count": 3,
   "metadata": {
    "ExecuteTime": {
     "end_time": "2020-05-14T13:08:41.029654Z",
     "start_time": "2020-05-14T13:08:40.958120Z"
    }
   },
   "outputs": [
    {
     "data": {
      "text/plain": [
       "'\\nauth.authenticate_user()\\ngauth = GoogleAuth()\\ngauth.credentials = GoogleCredentials.get_application_default()\\ndrive = GoogleDrive(gauth)\\n'"
      ]
     },
     "execution_count": 3,
     "metadata": {},
     "output_type": "execute_result"
    }
   ],
   "source": [
    "\"\"\"\n",
    "auth.authenticate_user()\n",
    "gauth = GoogleAuth()\n",
    "gauth.credentials = GoogleCredentials.get_application_default()\n",
    "drive = GoogleDrive(gauth)\n",
    "\"\"\""
   ]
  },
  {
   "cell_type": "code",
   "execution_count": 4,
   "metadata": {
    "ExecuteTime": {
     "end_time": "2020-05-14T13:08:41.114540Z",
     "start_time": "2020-05-14T13:08:41.031347Z"
    }
   },
   "outputs": [
    {
     "data": {
      "text/plain": [
       "\"\\ndownloaded = drive.CreateFile({'id':'1R9vW5dmox7i8OGOoDql_r9yUrvAJgvhD'}) # replace the id with id of file you want to access\\ndownloaded.GetContentFile('census.csv')\\n\""
      ]
     },
     "execution_count": 4,
     "metadata": {},
     "output_type": "execute_result"
    }
   ],
   "source": [
    "\"\"\"\n",
    "downloaded = drive.CreateFile({'id':'1R9vW5dmox7i8OGOoDql_r9yUrvAJgvhD'}) # replace the id with id of file you want to access\n",
    "downloaded.GetContentFile('census.csv')\n",
    "\"\"\""
   ]
  },
  {
   "cell_type": "markdown",
   "metadata": {},
   "source": [
    "# PANDAS\n",
    "<hr style=\"height:5px;border-width:2;color:gray\">"
   ]
  },
  {
   "cell_type": "markdown",
   "metadata": {
    "heading_collapsed": true
   },
   "source": [
    "## What is pandas and why do we need it?"
   ]
  },
  {
   "cell_type": "markdown",
   "metadata": {
    "hidden": true
   },
   "source": [
    "<p>Of the three important data analysis libraries, this is the second and probably the most important, pandas. Hope you have a basic understanding of numpy by now. Pandas is an open source software library written for Python for data manipulation and analysis. It contains data structures and data manipulation tools designed to make data cleaning and analysis fast and easy in Python. It is often used with numpy and other libraries which we will deal in the future.</p>\n",
    "    \n",
    "<p>While pandas adopts many coding idioms from NumPy, the biggest difference is that pandas is designed for working with tabular or heterogeneous data. NumPy, by contrast, is best suited for working with homogeneous numerical array data.</p>"
   ]
  },
  {
   "cell_type": "markdown",
   "metadata": {
    "hidden": true
   },
   "source": [
    "<div class=\"alert alert-block alert-info\">\n",
    "    <b>Here are some important points to keep in mind:</b>\n",
    "    <ul>\n",
    "        <li>Even though this notebook might look like (and it is) containing a lot of info, this notebook barely scratches the surface of pandas. But in most of the cases this much knowledge is more than enough.</li>\n",
    "        <li>You'll be learning a lot of functions here and <del>you need to memorize all of them by the end of this notebook</del> you don't need to remember every one of them. All you need to focus is on <b>understanding what the function does</b> and <b>remember that there exists a function in pandas that does this job.</b></li>\n",
    "        <li>Feel free to conduct as many experiments as you want with what you know. When you have doubts like what would happen if I write 'this' instead of 'this', just create a new cell and write your code and click run.</li>\n",
    "        <li>Google and Stack Overflow are your greatest friends. If you forget the syntax or want to know more about any function just google it. If you encounter a problem and are not able to solve it no matter what, you are totally allowed to take help from the internet.<b> Never ever hesitate to Google something that you do not know and want to learn about</b>.</li>\n",
    "        <li>Links directing to documentation and other resources will be provided here and there. You don't need to learn whatever is in the links. Just take a look at them once and use them for your reference whenever required.</li>\n",
    "        <li>pandas might seem overwhelming at times. It is not a reason to give up. Just take a short break and continue. But make sure that you are able to understand what's going on. If you are stuck anywhere feel free to PM any of us.</li>\n",
    "</div>"
   ]
  },
  {
   "cell_type": "markdown",
   "metadata": {},
   "source": [
    "## Contents\n",
    "<ul style=\"list-style-type:circle\">\n",
    "    <li><b>Introduction</b></li>\n",
    "    <li><b>Series</b></li>\n",
    "    <li><b>DataFrame</b>\n",
    "        <ul style=\"list-style-type:square\">\n",
    "            <li>Basic concepts</li>\n",
    "            <li>Some not so basic concepts</li>\n",
    "            <li>Cleaning data</li>\n",
    "            <li>Merging DataFrames</li>\n",
    "        </ul>\n",
    "    </li>\n",
    "</ul>"
   ]
  },
  {
   "attachments": {
    "panda.jpg": {
     "image/jpeg": "[encoded data removed]"
    }
   },
   "cell_type": "markdown",
   "metadata": {},
   "source": [
    "#### Now here is a picture of a cute panda to get you motivated :)\n",
    "![panda.jpg](attachment:panda.jpg)"
   ]
  },
  {
   "cell_type": "markdown",
   "metadata": {},
   "source": [
    "<hr style=\"height:2px;border-width:2;color:gray\">"
   ]
  },
  {
   "cell_type": "markdown",
   "metadata": {
    "heading_collapsed": true
   },
   "source": [
    "## INTRODUCTION"
   ]
  },
  {
   "cell_type": "markdown",
   "metadata": {
    "hidden": true
   },
   "source": [
    "Pandas like other libraries like numpy already comes with Anaconda. Hence we can readily import it into our notebook. Generally people import pandas with an alias pd.\n",
    "<div class=\"alert alert-block alert-info\">\n",
    "    In case you are using miniconda or are not able to import the library,<br>\n",
    "    In your desired conda virtual environment, run the following command on your terminal:<br><br>\n",
    "    <code>conda install pandas</code><br><br>\n",
    "    or the following code in your notebook:<br><br>\n",
    "    <code>!conda install pandas</code>\n",
    "</div>"
   ]
  },
  {
   "cell_type": "code",
   "execution_count": 5,
   "metadata": {
    "ExecuteTime": {
     "end_time": "2020-05-14T13:08:41.514815Z",
     "start_time": "2020-05-14T13:08:41.117152Z"
    },
    "hidden": true
   },
   "outputs": [],
   "source": [
    "import pandas as pd\n",
    "import numpy as np"
   ]
  },
  {
   "cell_type": "markdown",
   "metadata": {
    "hidden": true
   },
   "source": [
    "Pandas has two main data structures:\n",
    "<ol>\n",
    "    <li><b>Series</b>: 1-Dimensional</li>\n",
    "    <li><b>DataFrame</b>: 2-Dimensional</li>\n",
    "</ol>"
   ]
  },
  {
   "cell_type": "markdown",
   "metadata": {
    "hidden": true
   },
   "source": [
    "<hr style=\"height:2px;border-width:2;color:gray\">"
   ]
  },
  {
   "cell_type": "markdown",
   "metadata": {
    "heading_collapsed": true
   },
   "source": [
    "## SERIES"
   ]
  },
  {
   "cell_type": "markdown",
   "metadata": {
    "hidden": true
   },
   "source": [
    "A Series is a one-dimensional array-like object containing a sequence of values (of similar types to NumPy types) and an associated array of data labels, called its index"
   ]
  },
  {
   "cell_type": "markdown",
   "metadata": {
    "hidden": true
   },
   "source": [
    "### Creating a series"
   ]
  },
  {
   "cell_type": "markdown",
   "metadata": {
    "hidden": true
   },
   "source": [
    "A series can be created using pd.Series() function."
   ]
  },
  {
   "cell_type": "code",
   "execution_count": 6,
   "metadata": {
    "ExecuteTime": {
     "end_time": "2020-05-14T13:08:41.523447Z",
     "start_time": "2020-05-14T13:08:41.516353Z"
    },
    "hidden": true
   },
   "outputs": [
    {
     "data": {
      "text/plain": [
       "0    5\n",
       "1    3\n",
       "2    7\n",
       "3    8\n",
       "dtype: int64"
      ]
     },
     "execution_count": 6,
     "metadata": {},
     "output_type": "execute_result"
    }
   ],
   "source": [
    "#Using a python list to create a series\n",
    "lst = [5, 3, 7, 8]\n",
    "s = pd.Series(lst)\n",
    "s"
   ]
  },
  {
   "cell_type": "markdown",
   "metadata": {
    "hidden": true
   },
   "source": [
    "The left column is index and the right column is values. Since we did not specify the index, the values were assigned their corresponding indices in the list."
   ]
  },
  {
   "cell_type": "code",
   "execution_count": 7,
   "metadata": {
    "ExecuteTime": {
     "end_time": "2020-05-14T13:08:41.664199Z",
     "start_time": "2020-05-14T13:08:41.526851Z"
    },
    "hidden": true
   },
   "outputs": [
    {
     "data": {
      "text/plain": [
       "a    5\n",
       "b    3\n",
       "c    7\n",
       "d    8\n",
       "dtype: int64"
      ]
     },
     "execution_count": 7,
     "metadata": {},
     "output_type": "execute_result"
    }
   ],
   "source": [
    "#Assigning index while creating a series using index argument\n",
    "lst = [5, 3, 7, 8] #From next time variables already declared in previous cells will be reused\n",
    "s = pd.Series(lst, index = ['a', 'b', 'c', 'd'])\n",
    "s"
   ]
  },
  {
   "cell_type": "markdown",
   "metadata": {
    "hidden": true
   },
   "source": [
    "Now 5, 3, 7 and 8 have indices a, b, c and d respectively.\n",
    "\n",
    "To get the indices of a series, the Series.index method can be used. It returns an index object."
   ]
  },
  {
   "cell_type": "code",
   "execution_count": 8,
   "metadata": {
    "ExecuteTime": {
     "end_time": "2020-05-14T13:08:41.730023Z",
     "start_time": "2020-05-14T13:08:41.665721Z"
    },
    "hidden": true
   },
   "outputs": [
    {
     "data": {
      "text/plain": [
       "Index(['a', 'b', 'c', 'd'], dtype='object')"
      ]
     },
     "execution_count": 8,
     "metadata": {},
     "output_type": "execute_result"
    }
   ],
   "source": [
    "s.index"
   ]
  },
  {
   "cell_type": "markdown",
   "metadata": {
    "hidden": true
   },
   "source": [
    "Another way of creating a series is using python dictionaries. The key of the dictionary is treated as index."
   ]
  },
  {
   "cell_type": "code",
   "execution_count": 9,
   "metadata": {
    "ExecuteTime": {
     "end_time": "2020-05-14T13:08:41.796818Z",
     "start_time": "2020-05-14T13:08:41.731771Z"
    },
    "hidden": true
   },
   "outputs": [
    {
     "data": {
      "text/plain": [
       "p     6\n",
       "q     7\n",
       "r     3\n",
       "s    11\n",
       "dtype: int64"
      ]
     },
     "execution_count": 9,
     "metadata": {},
     "output_type": "execute_result"
    }
   ],
   "source": [
    "data = {'p' : 6, 'q' : 7, 'r' : 3, 's' : 11}\n",
    "s = pd.Series(data)\n",
    "s"
   ]
  },
  {
   "cell_type": "markdown",
   "metadata": {
    "hidden": true
   },
   "source": [
    "### Querying a series"
   ]
  },
  {
   "cell_type": "markdown",
   "metadata": {
    "hidden": true
   },
   "source": [
    "A series can be queried using the indexing operators loc and iloc. <b>loc</b> is used to query using the label indices in the series while <b>iloc</b> queries using integer indices."
   ]
  },
  {
   "cell_type": "code",
   "execution_count": 10,
   "metadata": {
    "ExecuteTime": {
     "end_time": "2020-05-14T13:08:41.869643Z",
     "start_time": "2020-05-14T13:08:41.798320Z"
    },
    "hidden": true
   },
   "outputs": [
    {
     "data": {
      "text/plain": [
       "7"
      ]
     },
     "execution_count": 10,
     "metadata": {},
     "output_type": "execute_result"
    }
   ],
   "source": [
    "s.loc['q'] #Selects value associated with index q in the series"
   ]
  },
  {
   "cell_type": "code",
   "execution_count": 11,
   "metadata": {
    "ExecuteTime": {
     "end_time": "2020-05-14T13:08:41.928444Z",
     "start_time": "2020-05-14T13:08:41.871830Z"
    },
    "hidden": true
   },
   "outputs": [
    {
     "data": {
      "text/plain": [
       "11"
      ]
     },
     "execution_count": 11,
     "metadata": {},
     "output_type": "execute_result"
    }
   ],
   "source": [
    "s.iloc[3] #Selects value that is stored in 4th position (index 3) i.e element corresponding to index s"
   ]
  },
  {
   "cell_type": "code",
   "execution_count": 12,
   "metadata": {
    "ExecuteTime": {
     "end_time": "2020-05-14T13:08:41.993186Z",
     "start_time": "2020-05-14T13:08:41.930393Z"
    },
    "hidden": true
   },
   "outputs": [
    {
     "data": {
      "text/plain": [
       "7"
      ]
     },
     "execution_count": 12,
     "metadata": {},
     "output_type": "execute_result"
    }
   ],
   "source": [
    "s['q'] #Shorthand for s.loc[]"
   ]
  },
  {
   "cell_type": "code",
   "execution_count": 13,
   "metadata": {
    "ExecuteTime": {
     "end_time": "2020-05-14T13:08:42.082205Z",
     "start_time": "2020-05-14T13:08:41.998449Z"
    },
    "hidden": true
   },
   "outputs": [
    {
     "data": {
      "text/plain": [
       "11"
      ]
     },
     "execution_count": 13,
     "metadata": {},
     "output_type": "execute_result"
    }
   ],
   "source": [
    "s[3] #Shorthand for s.iloc[]"
   ]
  },
  {
   "cell_type": "markdown",
   "metadata": {
    "hidden": true
   },
   "source": [
    "<div class=\"alert alert-block alert-warning\">\n",
    "    <b>Note:</b> It is generally better to use loc and iloc instead of shorthand operators to prevent ambiguity in case of the series having integer indices. But in most cases we'll be using non-integer indices and hence shorthand [] can be used.\n",
    "    For more information check out <b>Indexers</b> section in <a href = \"https://www.oreilly.com/content/data-indexing-and-selection/\">Indexer link</a>\n",
    "</div>"
   ]
  },
  {
   "cell_type": "markdown",
   "metadata": {
    "hidden": true
   },
   "source": [
    "### Modifying a Series"
   ]
  },
  {
   "cell_type": "code",
   "execution_count": 14,
   "metadata": {
    "ExecuteTime": {
     "end_time": "2020-05-14T13:08:42.171000Z",
     "start_time": "2020-05-14T13:08:42.084180Z"
    },
    "hidden": true
   },
   "outputs": [
    {
     "data": {
      "text/plain": [
       "p     6\n",
       "q     7\n",
       "r     3\n",
       "s    11\n",
       "dtype: int64"
      ]
     },
     "execution_count": 14,
     "metadata": {},
     "output_type": "execute_result"
    }
   ],
   "source": [
    "s"
   ]
  },
  {
   "cell_type": "code",
   "execution_count": 15,
   "metadata": {
    "ExecuteTime": {
     "end_time": "2020-05-14T13:08:42.225603Z",
     "start_time": "2020-05-14T13:08:42.173404Z"
    },
    "hidden": true
   },
   "outputs": [
    {
     "data": {
      "text/plain": [
       "p     6\n",
       "q     7\n",
       "r     3\n",
       "s    11\n",
       "dtype: int64"
      ]
     },
     "execution_count": 15,
     "metadata": {},
     "output_type": "execute_result"
    }
   ],
   "source": [
    "s['q'] = 7 #Changing values with index q from 5 to 7\n",
    "s"
   ]
  },
  {
   "cell_type": "markdown",
   "metadata": {
    "hidden": true
   },
   "source": [
    "The index of a series can be altered by using in place assignment"
   ]
  },
  {
   "cell_type": "code",
   "execution_count": 16,
   "metadata": {
    "ExecuteTime": {
     "end_time": "2020-05-14T13:08:42.281283Z",
     "start_time": "2020-05-14T13:08:42.227438Z"
    },
    "hidden": true
   },
   "outputs": [
    {
     "data": {
      "text/plain": [
       "A     6\n",
       "B     7\n",
       "C     3\n",
       "D    11\n",
       "dtype: int64"
      ]
     },
     "execution_count": 16,
     "metadata": {},
     "output_type": "execute_result"
    }
   ],
   "source": [
    "s.index = [\"A\", \"B\", \"C\", \"D\"]\n",
    "s"
   ]
  },
  {
   "cell_type": "markdown",
   "metadata": {
    "hidden": true
   },
   "source": [
    "### Boolean masking"
   ]
  },
  {
   "cell_type": "code",
   "execution_count": 17,
   "metadata": {
    "ExecuteTime": {
     "end_time": "2020-05-14T13:08:42.364104Z",
     "start_time": "2020-05-14T13:08:42.282754Z"
    },
    "hidden": true
   },
   "outputs": [
    {
     "data": {
      "text/plain": [
       "a     2\n",
       "b     7\n",
       "c     5\n",
       "d    10\n",
       "dtype: int64"
      ]
     },
     "execution_count": 17,
     "metadata": {},
     "output_type": "execute_result"
    }
   ],
   "source": [
    "s1 = pd.Series({'a':2, 'b':7, 'c':5, 'd':10})\n",
    "s1"
   ]
  },
  {
   "cell_type": "code",
   "execution_count": 18,
   "metadata": {
    "ExecuteTime": {
     "end_time": "2020-05-14T13:08:42.438179Z",
     "start_time": "2020-05-14T13:08:42.365911Z"
    },
    "hidden": true
   },
   "outputs": [
    {
     "data": {
      "text/plain": [
       "a    False\n",
       "b     True\n",
       "c    False\n",
       "d     True\n",
       "dtype: bool"
      ]
     },
     "execution_count": 18,
     "metadata": {},
     "output_type": "execute_result"
    }
   ],
   "source": [
    "(s1 > 5) #This returns a boolean series (with same indices) by elementwise comparison"
   ]
  },
  {
   "cell_type": "code",
   "execution_count": 19,
   "metadata": {
    "ExecuteTime": {
     "end_time": "2020-05-14T13:08:42.516872Z",
     "start_time": "2020-05-14T13:08:42.440336Z"
    },
    "hidden": true
   },
   "outputs": [
    {
     "data": {
      "text/plain": [
       "a     3\n",
       "b     5\n",
       "c     5\n",
       "d    11\n",
       "dtype: int64"
      ]
     },
     "execution_count": 19,
     "metadata": {},
     "output_type": "execute_result"
    }
   ],
   "source": [
    "s2 = pd.Series({'a':3, 'b':5, 'c':5, 'd':11})\n",
    "s2"
   ]
  },
  {
   "cell_type": "code",
   "execution_count": 20,
   "metadata": {
    "ExecuteTime": {
     "end_time": "2020-05-14T13:08:42.605136Z",
     "start_time": "2020-05-14T13:08:42.518950Z"
    },
    "hidden": true
   },
   "outputs": [
    {
     "data": {
      "text/plain": [
       "a     True\n",
       "b    False\n",
       "c     True\n",
       "d     True\n",
       "dtype: bool"
      ]
     },
     "execution_count": 20,
     "metadata": {},
     "output_type": "execute_result"
    }
   ],
   "source": [
    "(s1 <= s2) #Two series can be compared element wise if they are identically labeled"
   ]
  },
  {
   "cell_type": "markdown",
   "metadata": {
    "hidden": true
   },
   "source": [
    "Now this boolean series can be used to apply a boolean mask to another series with same dimensions. When we apply a boolean mask it will print only that data in which we pass a boolean value True. Again the rule of indentically labeled must be followed."
   ]
  },
  {
   "cell_type": "code",
   "execution_count": 21,
   "metadata": {
    "ExecuteTime": {
     "end_time": "2020-05-14T13:08:42.677098Z",
     "start_time": "2020-05-14T13:08:42.607214Z"
    },
    "hidden": true
   },
   "outputs": [
    {
     "data": {
      "text/plain": [
       "b     7\n",
       "d    10\n",
       "dtype: int64"
      ]
     },
     "execution_count": 21,
     "metadata": {},
     "output_type": "execute_result"
    }
   ],
   "source": [
    "s1[s1 > 5] #Returns all the values in s1 that are greater than 5"
   ]
  },
  {
   "cell_type": "code",
   "execution_count": 22,
   "metadata": {
    "ExecuteTime": {
     "end_time": "2020-05-14T13:08:42.754849Z",
     "start_time": "2020-05-14T13:08:42.679796Z"
    },
    "hidden": true
   },
   "outputs": [
    {
     "data": {
      "text/plain": [
       "a     2\n",
       "c     5\n",
       "d    10\n",
       "dtype: int64"
      ]
     },
     "execution_count": 22,
     "metadata": {},
     "output_type": "execute_result"
    }
   ],
   "source": [
    "s1[s1 <= s2] #Returns all the values in s1 that are less than or equal to corresponding values in s2"
   ]
  },
  {
   "cell_type": "markdown",
   "metadata": {
    "hidden": true
   },
   "source": [
    "### Functions and operations on series\n",
    "It is important to note that operators and functions that work on numpy arrays work on pandas series too"
   ]
  },
  {
   "cell_type": "code",
   "execution_count": 23,
   "metadata": {
    "ExecuteTime": {
     "end_time": "2020-05-14T13:08:42.865508Z",
     "start_time": "2020-05-14T13:08:42.757290Z"
    },
    "hidden": true
   },
   "outputs": [
    {
     "data": {
      "text/plain": [
       "a     2\n",
       "b     7\n",
       "c     5\n",
       "d    10\n",
       "dtype: int64"
      ]
     },
     "execution_count": 23,
     "metadata": {},
     "output_type": "execute_result"
    }
   ],
   "source": [
    "s1"
   ]
  },
  {
   "cell_type": "code",
   "execution_count": 24,
   "metadata": {
    "ExecuteTime": {
     "end_time": "2020-05-14T13:08:42.936289Z",
     "start_time": "2020-05-14T13:08:42.867330Z"
    },
    "hidden": true
   },
   "outputs": [
    {
     "data": {
      "text/plain": [
       "a     3\n",
       "b     5\n",
       "c     5\n",
       "d    11\n",
       "dtype: int64"
      ]
     },
     "execution_count": 24,
     "metadata": {},
     "output_type": "execute_result"
    }
   ],
   "source": [
    "s2"
   ]
  },
  {
   "cell_type": "code",
   "execution_count": 25,
   "metadata": {
    "ExecuteTime": {
     "end_time": "2020-05-14T13:08:43.012928Z",
     "start_time": "2020-05-14T13:08:42.937686Z"
    },
    "hidden": true
   },
   "outputs": [
    {
     "data": {
      "text/plain": [
       "a     4\n",
       "b     9\n",
       "c     7\n",
       "d    12\n",
       "dtype: int64"
      ]
     },
     "execution_count": 25,
     "metadata": {},
     "output_type": "execute_result"
    }
   ],
   "source": [
    "s1 + 2 #Adding a scalar to a series"
   ]
  },
  {
   "cell_type": "code",
   "execution_count": 26,
   "metadata": {
    "ExecuteTime": {
     "end_time": "2020-05-14T13:08:43.074142Z",
     "start_time": "2020-05-14T13:08:43.014923Z"
    },
    "hidden": true
   },
   "outputs": [
    {
     "data": {
      "text/plain": [
       "a     5\n",
       "b    12\n",
       "c    10\n",
       "d    21\n",
       "dtype: int64"
      ]
     },
     "execution_count": 26,
     "metadata": {},
     "output_type": "execute_result"
    }
   ],
   "source": [
    "s1 + s2 #Adding corresponding elements of two series"
   ]
  },
  {
   "cell_type": "code",
   "execution_count": 27,
   "metadata": {
    "ExecuteTime": {
     "end_time": "2020-05-14T13:08:43.137782Z",
     "start_time": "2020-05-14T13:08:43.077507Z"
    },
    "hidden": true
   },
   "outputs": [
    {
     "data": {
      "text/plain": [
       "24"
      ]
     },
     "execution_count": 27,
     "metadata": {},
     "output_type": "execute_result"
    }
   ],
   "source": [
    "np.sum(s1) "
   ]
  },
  {
   "cell_type": "code",
   "execution_count": 28,
   "metadata": {
    "ExecuteTime": {
     "end_time": "2020-05-14T13:08:43.204437Z",
     "start_time": "2020-05-14T13:08:43.140626Z"
    },
    "hidden": true
   },
   "outputs": [
    {
     "data": {
      "text/plain": [
       "6.0"
      ]
     },
     "execution_count": 28,
     "metadata": {},
     "output_type": "execute_result"
    }
   ],
   "source": [
    "np.mean(s2)"
   ]
  },
  {
   "cell_type": "markdown",
   "metadata": {
    "hidden": true
   },
   "source": [
    "Equivalently these can be written as"
   ]
  },
  {
   "cell_type": "code",
   "execution_count": 29,
   "metadata": {
    "ExecuteTime": {
     "end_time": "2020-05-14T13:08:43.269281Z",
     "start_time": "2020-05-14T13:08:43.205713Z"
    },
    "hidden": true
   },
   "outputs": [
    {
     "data": {
      "text/plain": [
       "24"
      ]
     },
     "execution_count": 29,
     "metadata": {},
     "output_type": "execute_result"
    }
   ],
   "source": [
    "s1.sum()"
   ]
  },
  {
   "cell_type": "code",
   "execution_count": 30,
   "metadata": {
    "ExecuteTime": {
     "end_time": "2020-05-14T13:08:43.338373Z",
     "start_time": "2020-05-14T13:08:43.271922Z"
    },
    "hidden": true
   },
   "outputs": [
    {
     "data": {
      "text/plain": [
       "6.0"
      ]
     },
     "execution_count": 30,
     "metadata": {},
     "output_type": "execute_result"
    }
   ],
   "source": [
    "s1.mean()"
   ]
  },
  {
   "cell_type": "markdown",
   "metadata": {
    "hidden": true
   },
   "source": [
    "So that's it for the Series data structure as of now. Next we'll head on to the 2-Dimensional data structure DataFrame."
   ]
  },
  {
   "cell_type": "markdown",
   "metadata": {
    "hidden": true
   },
   "source": [
    "<hr style=\"height:2px;border-width:2;color:gray\">"
   ]
  },
  {
   "cell_type": "markdown",
   "metadata": {},
   "source": [
    "## DATAFRAMES"
   ]
  },
  {
   "cell_type": "markdown",
   "metadata": {},
   "source": [
    "A DataFrame represents a rectangular table of data and contains an ordered collection of columns, each of which can be a different value type (numeric, string, boolean, etc.). The DataFrame has both a row and column index; it can be thought of as a dictionary of Series all sharing the same index. Under the hood, the data is stored as one or more two-dimensional blocks rather than a list, dict, or some other collection of one-dimensional arrays. <br><br>\n",
    "Most functions that are applied to DataFrames can also be applied to Series.<br><br>\n",
    "A dataframe has two axes.<br>\n",
    "axis = 0 refers to the vertical axis. It refers to rows of the dataframe. <code>index</code> refers to row index in atrributes of a function.<br>\n",
    "axis = 1 refers to the horizontal axis. It refers to columns of the dataframe. <code>columns</code> refers to column indices (or column names) on attributes of a function"
   ]
  },
  {
   "cell_type": "markdown",
   "metadata": {},
   "source": [
    "### SOME BASIC CONCEPTS"
   ]
  },
  {
   "cell_type": "markdown",
   "metadata": {
    "heading_collapsed": true
   },
   "source": [
    "### Creating a DataFrame\n",
    "Pandas Dataframes can be created using <code>pd.DataFrame()</code>. One of the most common ways of creating a dataframe is from a dictionary of equal-length lists or NumPy arrays. The keys are treated as column names."
   ]
  },
  {
   "cell_type": "code",
   "execution_count": 31,
   "metadata": {
    "ExecuteTime": {
     "end_time": "2020-05-14T13:08:43.466729Z",
     "start_time": "2020-05-14T13:08:43.341818Z"
    },
    "hidden": true
   },
   "outputs": [
    {
     "data": {
      "text/html": [
       "<div>\n",
       "<style scoped>\n",
       "    .dataframe tbody tr th:only-of-type {\n",
       "        vertical-align: middle;\n",
       "    }\n",
       "\n",
       "    .dataframe tbody tr th {\n",
       "        vertical-align: top;\n",
       "    }\n",
       "\n",
       "    .dataframe thead th {\n",
       "        text-align: right;\n",
       "    }\n",
       "</style>\n",
       "<table border=\"1\" class=\"dataframe\">\n",
       "  <thead>\n",
       "    <tr style=\"text-align: right;\">\n",
       "      <th></th>\n",
       "      <th>state</th>\n",
       "      <th>year</th>\n",
       "      <th>pop</th>\n",
       "    </tr>\n",
       "  </thead>\n",
       "  <tbody>\n",
       "    <tr>\n",
       "      <th>0</th>\n",
       "      <td>Ohio</td>\n",
       "      <td>2000</td>\n",
       "      <td>1.5</td>\n",
       "    </tr>\n",
       "    <tr>\n",
       "      <th>1</th>\n",
       "      <td>Ohio</td>\n",
       "      <td>2001</td>\n",
       "      <td>1.7</td>\n",
       "    </tr>\n",
       "    <tr>\n",
       "      <th>2</th>\n",
       "      <td>Ohio</td>\n",
       "      <td>2002</td>\n",
       "      <td>3.6</td>\n",
       "    </tr>\n",
       "    <tr>\n",
       "      <th>3</th>\n",
       "      <td>Nevada</td>\n",
       "      <td>2001</td>\n",
       "      <td>2.4</td>\n",
       "    </tr>\n",
       "    <tr>\n",
       "      <th>4</th>\n",
       "      <td>Nevada</td>\n",
       "      <td>2002</td>\n",
       "      <td>2.9</td>\n",
       "    </tr>\n",
       "    <tr>\n",
       "      <th>5</th>\n",
       "      <td>Nevada</td>\n",
       "      <td>2003</td>\n",
       "      <td>3.2</td>\n",
       "    </tr>\n",
       "  </tbody>\n",
       "</table>\n",
       "</div>"
      ],
      "text/plain": [
       "    state  year  pop\n",
       "0    Ohio  2000  1.5\n",
       "1    Ohio  2001  1.7\n",
       "2    Ohio  2002  3.6\n",
       "3  Nevada  2001  2.4\n",
       "4  Nevada  2002  2.9\n",
       "5  Nevada  2003  3.2"
      ]
     },
     "execution_count": 31,
     "metadata": {},
     "output_type": "execute_result"
    }
   ],
   "source": [
    "data = {'state': ['Ohio', 'Ohio', 'Ohio', 'Nevada', 'Nevada', 'Nevada'], \n",
    "        'year': [2000, 2001, 2002, 2001, 2002, 2003],\n",
    "        'pop': [1.5, 1.7, 3.6, 2.4, 2.9, 3.2]}\n",
    "df = pd.DataFrame(data)\n",
    "df"
   ]
  },
  {
   "cell_type": "markdown",
   "metadata": {
    "hidden": true
   },
   "source": [
    "Similar to a series, since we did not specify an index for the rows, default integer indices were assigned.<br><br>\n",
    "Another way to create a dataframe is using a series for each row."
   ]
  },
  {
   "cell_type": "code",
   "execution_count": 32,
   "metadata": {
    "ExecuteTime": {
     "end_time": "2020-05-14T13:08:43.554898Z",
     "start_time": "2020-05-14T13:08:43.468646Z"
    },
    "hidden": true
   },
   "outputs": [
    {
     "data": {
      "text/html": [
       "<div>\n",
       "<style scoped>\n",
       "    .dataframe tbody tr th:only-of-type {\n",
       "        vertical-align: middle;\n",
       "    }\n",
       "\n",
       "    .dataframe tbody tr th {\n",
       "        vertical-align: top;\n",
       "    }\n",
       "\n",
       "    .dataframe thead th {\n",
       "        text-align: right;\n",
       "    }\n",
       "</style>\n",
       "<table border=\"1\" class=\"dataframe\">\n",
       "  <thead>\n",
       "    <tr style=\"text-align: right;\">\n",
       "      <th></th>\n",
       "      <th>Name</th>\n",
       "      <th>Item Purchased</th>\n",
       "      <th>Cost</th>\n",
       "    </tr>\n",
       "  </thead>\n",
       "  <tbody>\n",
       "    <tr>\n",
       "      <th>Store 1</th>\n",
       "      <td>Chris</td>\n",
       "      <td>Dog Food</td>\n",
       "      <td>22.5</td>\n",
       "    </tr>\n",
       "    <tr>\n",
       "      <th>Store 1</th>\n",
       "      <td>Kevyn</td>\n",
       "      <td>Kitty Litter</td>\n",
       "      <td>2.5</td>\n",
       "    </tr>\n",
       "    <tr>\n",
       "      <th>Store 2</th>\n",
       "      <td>Vinod</td>\n",
       "      <td>Bird Seed</td>\n",
       "      <td>5.0</td>\n",
       "    </tr>\n",
       "  </tbody>\n",
       "</table>\n",
       "</div>"
      ],
      "text/plain": [
       "          Name Item Purchased  Cost\n",
       "Store 1  Chris       Dog Food  22.5\n",
       "Store 1  Kevyn   Kitty Litter   2.5\n",
       "Store 2  Vinod      Bird Seed   5.0"
      ]
     },
     "execution_count": 32,
     "metadata": {},
     "output_type": "execute_result"
    }
   ],
   "source": [
    "purchase_1 = pd.Series({'Name': 'Chris',\n",
    "                        'Item Purchased': 'Dog Food',\n",
    "                        'Cost': 22.50})\n",
    "purchase_2 = pd.Series({'Name': 'Kevyn',\n",
    "                        'Item Purchased': 'Kitty Litter',\n",
    "                        'Cost': 2.50})\n",
    "purchase_3 = pd.Series({'Name': 'Vinod',\n",
    "                        'Item Purchased': 'Bird Seed',\n",
    "                        'Cost': 5.00})\n",
    "df = pd.DataFrame([purchase_1, purchase_2, purchase_3], index=['Store 1', 'Store 1', 'Store 2'])\n",
    "df"
   ]
  },
  {
   "cell_type": "markdown",
   "metadata": {
    "hidden": true
   },
   "source": [
    "Make sure to notice the differences between the two methods."
   ]
  },
  {
   "cell_type": "markdown",
   "metadata": {
    "heading_collapsed": true
   },
   "source": [
    "### Some basic functions on dataframes"
   ]
  },
  {
   "cell_type": "code",
   "execution_count": 33,
   "metadata": {
    "ExecuteTime": {
     "end_time": "2020-05-14T13:08:43.634486Z",
     "start_time": "2020-05-14T13:08:43.556421Z"
    },
    "hidden": true
   },
   "outputs": [
    {
     "data": {
      "text/html": [
       "<div>\n",
       "<style scoped>\n",
       "    .dataframe tbody tr th:only-of-type {\n",
       "        vertical-align: middle;\n",
       "    }\n",
       "\n",
       "    .dataframe tbody tr th {\n",
       "        vertical-align: top;\n",
       "    }\n",
       "\n",
       "    .dataframe thead th {\n",
       "        text-align: right;\n",
       "    }\n",
       "</style>\n",
       "<table border=\"1\" class=\"dataframe\">\n",
       "  <thead>\n",
       "    <tr style=\"text-align: right;\">\n",
       "      <th></th>\n",
       "      <th>Val 1</th>\n",
       "      <th>Val 2</th>\n",
       "      <th>Val 3</th>\n",
       "    </tr>\n",
       "  </thead>\n",
       "  <tbody>\n",
       "    <tr>\n",
       "      <th>0</th>\n",
       "      <td>5</td>\n",
       "      <td>3</td>\n",
       "      <td>2</td>\n",
       "    </tr>\n",
       "    <tr>\n",
       "      <th>1</th>\n",
       "      <td>8</td>\n",
       "      <td>7</td>\n",
       "      <td>9</td>\n",
       "    </tr>\n",
       "    <tr>\n",
       "      <th>2</th>\n",
       "      <td>7</td>\n",
       "      <td>9</td>\n",
       "      <td>12</td>\n",
       "    </tr>\n",
       "    <tr>\n",
       "      <th>3</th>\n",
       "      <td>6</td>\n",
       "      <td>2</td>\n",
       "      <td>17</td>\n",
       "    </tr>\n",
       "    <tr>\n",
       "      <th>4</th>\n",
       "      <td>5</td>\n",
       "      <td>9</td>\n",
       "      <td>8</td>\n",
       "    </tr>\n",
       "    <tr>\n",
       "      <th>5</th>\n",
       "      <td>3</td>\n",
       "      <td>1</td>\n",
       "      <td>4</td>\n",
       "    </tr>\n",
       "    <tr>\n",
       "      <th>6</th>\n",
       "      <td>9</td>\n",
       "      <td>11</td>\n",
       "      <td>23</td>\n",
       "    </tr>\n",
       "  </tbody>\n",
       "</table>\n",
       "</div>"
      ],
      "text/plain": [
       "   Val 1  Val 2  Val 3\n",
       "0      5      3      2\n",
       "1      8      7      9\n",
       "2      7      9     12\n",
       "3      6      2     17\n",
       "4      5      9      8\n",
       "5      3      1      4\n",
       "6      9     11     23"
      ]
     },
     "execution_count": 33,
     "metadata": {},
     "output_type": "execute_result"
    }
   ],
   "source": [
    "#Creating a suitable dataframe\n",
    "data = {'Val 1': [5, 8, 7, 6,  5, 3, 9],\n",
    "        'Val 2': [3, 7, 9, 2, 9 , 1, 11],\n",
    "        'Val 3': [2, 9, 12, 17, 8, 4, 23]}\n",
    "df = pd.DataFrame(data)\n",
    "df"
   ]
  },
  {
   "cell_type": "markdown",
   "metadata": {
    "hidden": true
   },
   "source": [
    "<code>df.head(n)</code> returns first n rows of a dataframe and <code>df.tail(n)</code> returns the last n rows of a dataframe. These are used mainly in case of large dataframes with hundreds of rows and we need to get an idea about the structure of the dataframe. If n is not specified first 5 or last 5 rows are returned."
   ]
  },
  {
   "cell_type": "code",
   "execution_count": 34,
   "metadata": {
    "ExecuteTime": {
     "end_time": "2020-05-14T13:08:43.716831Z",
     "start_time": "2020-05-14T13:08:43.636844Z"
    },
    "hidden": true
   },
   "outputs": [
    {
     "data": {
      "text/html": [
       "<div>\n",
       "<style scoped>\n",
       "    .dataframe tbody tr th:only-of-type {\n",
       "        vertical-align: middle;\n",
       "    }\n",
       "\n",
       "    .dataframe tbody tr th {\n",
       "        vertical-align: top;\n",
       "    }\n",
       "\n",
       "    .dataframe thead th {\n",
       "        text-align: right;\n",
       "    }\n",
       "</style>\n",
       "<table border=\"1\" class=\"dataframe\">\n",
       "  <thead>\n",
       "    <tr style=\"text-align: right;\">\n",
       "      <th></th>\n",
       "      <th>Val 1</th>\n",
       "      <th>Val 2</th>\n",
       "      <th>Val 3</th>\n",
       "    </tr>\n",
       "  </thead>\n",
       "  <tbody>\n",
       "    <tr>\n",
       "      <th>0</th>\n",
       "      <td>5</td>\n",
       "      <td>3</td>\n",
       "      <td>2</td>\n",
       "    </tr>\n",
       "    <tr>\n",
       "      <th>1</th>\n",
       "      <td>8</td>\n",
       "      <td>7</td>\n",
       "      <td>9</td>\n",
       "    </tr>\n",
       "    <tr>\n",
       "      <th>2</th>\n",
       "      <td>7</td>\n",
       "      <td>9</td>\n",
       "      <td>12</td>\n",
       "    </tr>\n",
       "    <tr>\n",
       "      <th>3</th>\n",
       "      <td>6</td>\n",
       "      <td>2</td>\n",
       "      <td>17</td>\n",
       "    </tr>\n",
       "    <tr>\n",
       "      <th>4</th>\n",
       "      <td>5</td>\n",
       "      <td>9</td>\n",
       "      <td>8</td>\n",
       "    </tr>\n",
       "  </tbody>\n",
       "</table>\n",
       "</div>"
      ],
      "text/plain": [
       "   Val 1  Val 2  Val 3\n",
       "0      5      3      2\n",
       "1      8      7      9\n",
       "2      7      9     12\n",
       "3      6      2     17\n",
       "4      5      9      8"
      ]
     },
     "execution_count": 34,
     "metadata": {},
     "output_type": "execute_result"
    }
   ],
   "source": [
    "df.head()"
   ]
  },
  {
   "cell_type": "code",
   "execution_count": 35,
   "metadata": {
    "ExecuteTime": {
     "end_time": "2020-05-14T13:08:43.784280Z",
     "start_time": "2020-05-14T13:08:43.721652Z"
    },
    "hidden": true
   },
   "outputs": [
    {
     "data": {
      "text/html": [
       "<div>\n",
       "<style scoped>\n",
       "    .dataframe tbody tr th:only-of-type {\n",
       "        vertical-align: middle;\n",
       "    }\n",
       "\n",
       "    .dataframe tbody tr th {\n",
       "        vertical-align: top;\n",
       "    }\n",
       "\n",
       "    .dataframe thead th {\n",
       "        text-align: right;\n",
       "    }\n",
       "</style>\n",
       "<table border=\"1\" class=\"dataframe\">\n",
       "  <thead>\n",
       "    <tr style=\"text-align: right;\">\n",
       "      <th></th>\n",
       "      <th>Val 1</th>\n",
       "      <th>Val 2</th>\n",
       "      <th>Val 3</th>\n",
       "    </tr>\n",
       "  </thead>\n",
       "  <tbody>\n",
       "    <tr>\n",
       "      <th>4</th>\n",
       "      <td>5</td>\n",
       "      <td>9</td>\n",
       "      <td>8</td>\n",
       "    </tr>\n",
       "    <tr>\n",
       "      <th>5</th>\n",
       "      <td>3</td>\n",
       "      <td>1</td>\n",
       "      <td>4</td>\n",
       "    </tr>\n",
       "    <tr>\n",
       "      <th>6</th>\n",
       "      <td>9</td>\n",
       "      <td>11</td>\n",
       "      <td>23</td>\n",
       "    </tr>\n",
       "  </tbody>\n",
       "</table>\n",
       "</div>"
      ],
      "text/plain": [
       "   Val 1  Val 2  Val 3\n",
       "4      5      9      8\n",
       "5      3      1      4\n",
       "6      9     11     23"
      ]
     },
     "execution_count": 35,
     "metadata": {},
     "output_type": "execute_result"
    }
   ],
   "source": [
    "df.tail(3)"
   ]
  },
  {
   "cell_type": "markdown",
   "metadata": {
    "hidden": true
   },
   "source": [
    "<code>df.describe()</code> is a function that gives the statistical summary of the dataframe."
   ]
  },
  {
   "cell_type": "code",
   "execution_count": 36,
   "metadata": {
    "ExecuteTime": {
     "end_time": "2020-05-14T13:08:43.861298Z",
     "start_time": "2020-05-14T13:08:43.786067Z"
    },
    "hidden": true
   },
   "outputs": [
    {
     "data": {
      "text/html": [
       "<div>\n",
       "<style scoped>\n",
       "    .dataframe tbody tr th:only-of-type {\n",
       "        vertical-align: middle;\n",
       "    }\n",
       "\n",
       "    .dataframe tbody tr th {\n",
       "        vertical-align: top;\n",
       "    }\n",
       "\n",
       "    .dataframe thead th {\n",
       "        text-align: right;\n",
       "    }\n",
       "</style>\n",
       "<table border=\"1\" class=\"dataframe\">\n",
       "  <thead>\n",
       "    <tr style=\"text-align: right;\">\n",
       "      <th></th>\n",
       "      <th>Val 1</th>\n",
       "      <th>Val 2</th>\n",
       "      <th>Val 3</th>\n",
       "    </tr>\n",
       "  </thead>\n",
       "  <tbody>\n",
       "    <tr>\n",
       "      <th>count</th>\n",
       "      <td>7.000000</td>\n",
       "      <td>7.000000</td>\n",
       "      <td>7.000000</td>\n",
       "    </tr>\n",
       "    <tr>\n",
       "      <th>mean</th>\n",
       "      <td>6.142857</td>\n",
       "      <td>6.000000</td>\n",
       "      <td>10.714286</td>\n",
       "    </tr>\n",
       "    <tr>\n",
       "      <th>std</th>\n",
       "      <td>2.035401</td>\n",
       "      <td>3.958114</td>\n",
       "      <td>7.341986</td>\n",
       "    </tr>\n",
       "    <tr>\n",
       "      <th>min</th>\n",
       "      <td>3.000000</td>\n",
       "      <td>1.000000</td>\n",
       "      <td>2.000000</td>\n",
       "    </tr>\n",
       "    <tr>\n",
       "      <th>25%</th>\n",
       "      <td>5.000000</td>\n",
       "      <td>2.500000</td>\n",
       "      <td>6.000000</td>\n",
       "    </tr>\n",
       "    <tr>\n",
       "      <th>50%</th>\n",
       "      <td>6.000000</td>\n",
       "      <td>7.000000</td>\n",
       "      <td>9.000000</td>\n",
       "    </tr>\n",
       "    <tr>\n",
       "      <th>75%</th>\n",
       "      <td>7.500000</td>\n",
       "      <td>9.000000</td>\n",
       "      <td>14.500000</td>\n",
       "    </tr>\n",
       "    <tr>\n",
       "      <th>max</th>\n",
       "      <td>9.000000</td>\n",
       "      <td>11.000000</td>\n",
       "      <td>23.000000</td>\n",
       "    </tr>\n",
       "  </tbody>\n",
       "</table>\n",
       "</div>"
      ],
      "text/plain": [
       "          Val 1      Val 2      Val 3\n",
       "count  7.000000   7.000000   7.000000\n",
       "mean   6.142857   6.000000  10.714286\n",
       "std    2.035401   3.958114   7.341986\n",
       "min    3.000000   1.000000   2.000000\n",
       "25%    5.000000   2.500000   6.000000\n",
       "50%    6.000000   7.000000   9.000000\n",
       "75%    7.500000   9.000000  14.500000\n",
       "max    9.000000  11.000000  23.000000"
      ]
     },
     "execution_count": 36,
     "metadata": {},
     "output_type": "execute_result"
    }
   ],
   "source": [
    "df.describe()"
   ]
  },
  {
   "cell_type": "markdown",
   "metadata": {
    "hidden": true
   },
   "source": [
    "<code>df.info()</code> prints a concise summary of a DataFrame"
   ]
  },
  {
   "cell_type": "code",
   "execution_count": 37,
   "metadata": {
    "ExecuteTime": {
     "end_time": "2020-05-14T13:08:43.916769Z",
     "start_time": "2020-05-14T13:08:43.867140Z"
    },
    "hidden": true
   },
   "outputs": [
    {
     "name": "stdout",
     "output_type": "stream",
     "text": [
      "<class 'pandas.core.frame.DataFrame'>\n",
      "RangeIndex: 7 entries, 0 to 6\n",
      "Data columns (total 3 columns):\n",
      " #   Column  Non-Null Count  Dtype\n",
      "---  ------  --------------  -----\n",
      " 0   Val 1   7 non-null      int64\n",
      " 1   Val 2   7 non-null      int64\n",
      " 2   Val 3   7 non-null      int64\n",
      "dtypes: int64(3)\n",
      "memory usage: 296.0 bytes\n"
     ]
    }
   ],
   "source": [
    "df.info()"
   ]
  },
  {
   "cell_type": "markdown",
   "metadata": {
    "hidden": true
   },
   "source": [
    "<code>df.T</code> is used to get the transpose of a dataframe"
   ]
  },
  {
   "cell_type": "code",
   "execution_count": 38,
   "metadata": {
    "ExecuteTime": {
     "end_time": "2020-05-14T13:08:44.018644Z",
     "start_time": "2020-05-14T13:08:43.920729Z"
    },
    "hidden": true
   },
   "outputs": [
    {
     "data": {
      "text/html": [
       "<div>\n",
       "<style scoped>\n",
       "    .dataframe tbody tr th:only-of-type {\n",
       "        vertical-align: middle;\n",
       "    }\n",
       "\n",
       "    .dataframe tbody tr th {\n",
       "        vertical-align: top;\n",
       "    }\n",
       "\n",
       "    .dataframe thead th {\n",
       "        text-align: right;\n",
       "    }\n",
       "</style>\n",
       "<table border=\"1\" class=\"dataframe\">\n",
       "  <thead>\n",
       "    <tr style=\"text-align: right;\">\n",
       "      <th></th>\n",
       "      <th>0</th>\n",
       "      <th>1</th>\n",
       "      <th>2</th>\n",
       "      <th>3</th>\n",
       "      <th>4</th>\n",
       "      <th>5</th>\n",
       "      <th>6</th>\n",
       "    </tr>\n",
       "  </thead>\n",
       "  <tbody>\n",
       "    <tr>\n",
       "      <th>Val 1</th>\n",
       "      <td>5</td>\n",
       "      <td>8</td>\n",
       "      <td>7</td>\n",
       "      <td>6</td>\n",
       "      <td>5</td>\n",
       "      <td>3</td>\n",
       "      <td>9</td>\n",
       "    </tr>\n",
       "    <tr>\n",
       "      <th>Val 2</th>\n",
       "      <td>3</td>\n",
       "      <td>7</td>\n",
       "      <td>9</td>\n",
       "      <td>2</td>\n",
       "      <td>9</td>\n",
       "      <td>1</td>\n",
       "      <td>11</td>\n",
       "    </tr>\n",
       "    <tr>\n",
       "      <th>Val 3</th>\n",
       "      <td>2</td>\n",
       "      <td>9</td>\n",
       "      <td>12</td>\n",
       "      <td>17</td>\n",
       "      <td>8</td>\n",
       "      <td>4</td>\n",
       "      <td>23</td>\n",
       "    </tr>\n",
       "  </tbody>\n",
       "</table>\n",
       "</div>"
      ],
      "text/plain": [
       "       0  1   2   3  4  5   6\n",
       "Val 1  5  8   7   6  5  3   9\n",
       "Val 2  3  7   9   2  9  1  11\n",
       "Val 3  2  9  12  17  8  4  23"
      ]
     },
     "execution_count": 38,
     "metadata": {},
     "output_type": "execute_result"
    }
   ],
   "source": [
    "df.T"
   ]
  },
  {
   "cell_type": "code",
   "execution_count": 39,
   "metadata": {
    "ExecuteTime": {
     "end_time": "2020-05-14T13:08:44.096054Z",
     "start_time": "2020-05-14T13:08:44.020795Z"
    },
    "hidden": true
   },
   "outputs": [
    {
     "data": {
      "text/html": [
       "<div>\n",
       "<style scoped>\n",
       "    .dataframe tbody tr th:only-of-type {\n",
       "        vertical-align: middle;\n",
       "    }\n",
       "\n",
       "    .dataframe tbody tr th {\n",
       "        vertical-align: top;\n",
       "    }\n",
       "\n",
       "    .dataframe thead th {\n",
       "        text-align: right;\n",
       "    }\n",
       "</style>\n",
       "<table border=\"1\" class=\"dataframe\">\n",
       "  <thead>\n",
       "    <tr style=\"text-align: right;\">\n",
       "      <th></th>\n",
       "      <th>Val 1</th>\n",
       "      <th>Val 2</th>\n",
       "      <th>Val 3</th>\n",
       "    </tr>\n",
       "  </thead>\n",
       "  <tbody>\n",
       "    <tr>\n",
       "      <th>0</th>\n",
       "      <td>5</td>\n",
       "      <td>3</td>\n",
       "      <td>2</td>\n",
       "    </tr>\n",
       "    <tr>\n",
       "      <th>1</th>\n",
       "      <td>8</td>\n",
       "      <td>7</td>\n",
       "      <td>9</td>\n",
       "    </tr>\n",
       "    <tr>\n",
       "      <th>2</th>\n",
       "      <td>7</td>\n",
       "      <td>9</td>\n",
       "      <td>12</td>\n",
       "    </tr>\n",
       "    <tr>\n",
       "      <th>3</th>\n",
       "      <td>6</td>\n",
       "      <td>2</td>\n",
       "      <td>17</td>\n",
       "    </tr>\n",
       "    <tr>\n",
       "      <th>4</th>\n",
       "      <td>5</td>\n",
       "      <td>9</td>\n",
       "      <td>8</td>\n",
       "    </tr>\n",
       "    <tr>\n",
       "      <th>5</th>\n",
       "      <td>3</td>\n",
       "      <td>1</td>\n",
       "      <td>4</td>\n",
       "    </tr>\n",
       "    <tr>\n",
       "      <th>6</th>\n",
       "      <td>9</td>\n",
       "      <td>11</td>\n",
       "      <td>23</td>\n",
       "    </tr>\n",
       "  </tbody>\n",
       "</table>\n",
       "</div>"
      ],
      "text/plain": [
       "   Val 1  Val 2  Val 3\n",
       "0      5      3      2\n",
       "1      8      7      9\n",
       "2      7      9     12\n",
       "3      6      2     17\n",
       "4      5      9      8\n",
       "5      3      1      4\n",
       "6      9     11     23"
      ]
     },
     "execution_count": 39,
     "metadata": {},
     "output_type": "execute_result"
    }
   ],
   "source": [
    "df #Keep in mind that df.T doesn't change the original dataframe but creates a new dataframe"
   ]
  },
  {
   "cell_type": "markdown",
   "metadata": {
    "heading_collapsed": true
   },
   "source": [
    "### Querying"
   ]
  },
  {
   "cell_type": "markdown",
   "metadata": {
    "hidden": true
   },
   "source": [
    "A dataframe is queried in similar manner to a series"
   ]
  },
  {
   "cell_type": "code",
   "execution_count": 40,
   "metadata": {
    "ExecuteTime": {
     "end_time": "2020-05-14T13:08:44.165463Z",
     "start_time": "2020-05-14T13:08:44.098328Z"
    },
    "hidden": true
   },
   "outputs": [
    {
     "data": {
      "text/html": [
       "<div>\n",
       "<style scoped>\n",
       "    .dataframe tbody tr th:only-of-type {\n",
       "        vertical-align: middle;\n",
       "    }\n",
       "\n",
       "    .dataframe tbody tr th {\n",
       "        vertical-align: top;\n",
       "    }\n",
       "\n",
       "    .dataframe thead th {\n",
       "        text-align: right;\n",
       "    }\n",
       "</style>\n",
       "<table border=\"1\" class=\"dataframe\">\n",
       "  <thead>\n",
       "    <tr style=\"text-align: right;\">\n",
       "      <th></th>\n",
       "      <th>state</th>\n",
       "      <th>year</th>\n",
       "      <th>pop</th>\n",
       "    </tr>\n",
       "  </thead>\n",
       "  <tbody>\n",
       "    <tr>\n",
       "      <th>A</th>\n",
       "      <td>Ohio</td>\n",
       "      <td>2000</td>\n",
       "      <td>1.5</td>\n",
       "    </tr>\n",
       "    <tr>\n",
       "      <th>B</th>\n",
       "      <td>Ohio</td>\n",
       "      <td>2001</td>\n",
       "      <td>1.7</td>\n",
       "    </tr>\n",
       "    <tr>\n",
       "      <th>C</th>\n",
       "      <td>Ohio</td>\n",
       "      <td>2002</td>\n",
       "      <td>3.6</td>\n",
       "    </tr>\n",
       "    <tr>\n",
       "      <th>D</th>\n",
       "      <td>Nevada</td>\n",
       "      <td>2001</td>\n",
       "      <td>2.4</td>\n",
       "    </tr>\n",
       "    <tr>\n",
       "      <th>E</th>\n",
       "      <td>Nevada</td>\n",
       "      <td>2002</td>\n",
       "      <td>2.9</td>\n",
       "    </tr>\n",
       "    <tr>\n",
       "      <th>F</th>\n",
       "      <td>Nevada</td>\n",
       "      <td>2003</td>\n",
       "      <td>3.2</td>\n",
       "    </tr>\n",
       "  </tbody>\n",
       "</table>\n",
       "</div>"
      ],
      "text/plain": [
       "    state  year  pop\n",
       "A    Ohio  2000  1.5\n",
       "B    Ohio  2001  1.7\n",
       "C    Ohio  2002  3.6\n",
       "D  Nevada  2001  2.4\n",
       "E  Nevada  2002  2.9\n",
       "F  Nevada  2003  3.2"
      ]
     },
     "execution_count": 40,
     "metadata": {},
     "output_type": "execute_result"
    }
   ],
   "source": [
    "data = {'state': ['Ohio', 'Ohio', 'Ohio', 'Nevada', 'Nevada', 'Nevada'], \n",
    "        'year': [2000, 2001, 2002, 2001, 2002, 2003],\n",
    "        'pop': [1.5, 1.7, 3.6, 2.4, 2.9, 3.2]}\n",
    "df = pd.DataFrame(data, index = ['A', 'B', 'C', 'D', 'E', 'F'])\n",
    "df"
   ]
  },
  {
   "cell_type": "code",
   "execution_count": 41,
   "metadata": {
    "ExecuteTime": {
     "end_time": "2020-05-14T13:08:44.249404Z",
     "start_time": "2020-05-14T13:08:44.166730Z"
    },
    "hidden": true
   },
   "outputs": [
    {
     "data": {
      "text/plain": [
       "state    Ohio\n",
       "pop       3.6\n",
       "Name: C, dtype: object"
      ]
     },
     "execution_count": 41,
     "metadata": {},
     "output_type": "execute_result"
    }
   ],
   "source": [
    "df.loc['C', ['state', 'pop']] #The state and pop values of row C are returned in the form of a series"
   ]
  },
  {
   "cell_type": "code",
   "execution_count": 42,
   "metadata": {
    "ExecuteTime": {
     "end_time": "2020-05-14T13:08:44.330394Z",
     "start_time": "2020-05-14T13:08:44.251238Z"
    },
    "hidden": true
   },
   "outputs": [
    {
     "data": {
      "text/html": [
       "<div>\n",
       "<style scoped>\n",
       "    .dataframe tbody tr th:only-of-type {\n",
       "        vertical-align: middle;\n",
       "    }\n",
       "\n",
       "    .dataframe tbody tr th {\n",
       "        vertical-align: top;\n",
       "    }\n",
       "\n",
       "    .dataframe thead th {\n",
       "        text-align: right;\n",
       "    }\n",
       "</style>\n",
       "<table border=\"1\" class=\"dataframe\">\n",
       "  <thead>\n",
       "    <tr style=\"text-align: right;\">\n",
       "      <th></th>\n",
       "      <th>state</th>\n",
       "      <th>pop</th>\n",
       "    </tr>\n",
       "  </thead>\n",
       "  <tbody>\n",
       "    <tr>\n",
       "      <th>A</th>\n",
       "      <td>Ohio</td>\n",
       "      <td>1.5</td>\n",
       "    </tr>\n",
       "    <tr>\n",
       "      <th>B</th>\n",
       "      <td>Ohio</td>\n",
       "      <td>1.7</td>\n",
       "    </tr>\n",
       "    <tr>\n",
       "      <th>C</th>\n",
       "      <td>Ohio</td>\n",
       "      <td>3.6</td>\n",
       "    </tr>\n",
       "    <tr>\n",
       "      <th>D</th>\n",
       "      <td>Nevada</td>\n",
       "      <td>2.4</td>\n",
       "    </tr>\n",
       "    <tr>\n",
       "      <th>E</th>\n",
       "      <td>Nevada</td>\n",
       "      <td>2.9</td>\n",
       "    </tr>\n",
       "    <tr>\n",
       "      <th>F</th>\n",
       "      <td>Nevada</td>\n",
       "      <td>3.2</td>\n",
       "    </tr>\n",
       "  </tbody>\n",
       "</table>\n",
       "</div>"
      ],
      "text/plain": [
       "    state  pop\n",
       "A    Ohio  1.5\n",
       "B    Ohio  1.7\n",
       "C    Ohio  3.6\n",
       "D  Nevada  2.4\n",
       "E  Nevada  2.9\n",
       "F  Nevada  3.2"
      ]
     },
     "execution_count": 42,
     "metadata": {},
     "output_type": "execute_result"
    }
   ],
   "source": [
    "df.loc[:, ['state', 'pop']] #The state and pop values of all rows are returned in the form of a dataframe"
   ]
  },
  {
   "cell_type": "code",
   "execution_count": 43,
   "metadata": {
    "ExecuteTime": {
     "end_time": "2020-05-14T13:08:44.405357Z",
     "start_time": "2020-05-14T13:08:44.332321Z"
    },
    "hidden": true
   },
   "outputs": [
    {
     "data": {
      "text/plain": [
       "3.6"
      ]
     },
     "execution_count": 43,
     "metadata": {},
     "output_type": "execute_result"
    }
   ],
   "source": [
    "df.iloc[2, 2] #Simalarly iloc also can be used"
   ]
  },
  {
   "cell_type": "code",
   "execution_count": 44,
   "metadata": {
    "ExecuteTime": {
     "end_time": "2020-05-14T13:08:44.482242Z",
     "start_time": "2020-05-14T13:08:44.407321Z"
    },
    "hidden": true
   },
   "outputs": [
    {
     "data": {
      "text/plain": [
       "A      Ohio\n",
       "B      Ohio\n",
       "C      Ohio\n",
       "D    Nevada\n",
       "E    Nevada\n",
       "F    Nevada\n",
       "Name: state, dtype: object"
      ]
     },
     "execution_count": 44,
     "metadata": {},
     "output_type": "execute_result"
    }
   ],
   "source": [
    "df['state'] #Querying a column using shorthand []"
   ]
  },
  {
   "cell_type": "code",
   "execution_count": 45,
   "metadata": {
    "ExecuteTime": {
     "end_time": "2020-05-14T13:08:44.557017Z",
     "start_time": "2020-05-14T13:08:44.484456Z"
    },
    "hidden": true
   },
   "outputs": [
    {
     "data": {
      "text/html": [
       "<div>\n",
       "<style scoped>\n",
       "    .dataframe tbody tr th:only-of-type {\n",
       "        vertical-align: middle;\n",
       "    }\n",
       "\n",
       "    .dataframe tbody tr th {\n",
       "        vertical-align: top;\n",
       "    }\n",
       "\n",
       "    .dataframe thead th {\n",
       "        text-align: right;\n",
       "    }\n",
       "</style>\n",
       "<table border=\"1\" class=\"dataframe\">\n",
       "  <thead>\n",
       "    <tr style=\"text-align: right;\">\n",
       "      <th></th>\n",
       "      <th>year</th>\n",
       "      <th>pop</th>\n",
       "    </tr>\n",
       "  </thead>\n",
       "  <tbody>\n",
       "    <tr>\n",
       "      <th>A</th>\n",
       "      <td>2000</td>\n",
       "      <td>1.5</td>\n",
       "    </tr>\n",
       "    <tr>\n",
       "      <th>B</th>\n",
       "      <td>2001</td>\n",
       "      <td>1.7</td>\n",
       "    </tr>\n",
       "    <tr>\n",
       "      <th>C</th>\n",
       "      <td>2002</td>\n",
       "      <td>3.6</td>\n",
       "    </tr>\n",
       "    <tr>\n",
       "      <th>D</th>\n",
       "      <td>2001</td>\n",
       "      <td>2.4</td>\n",
       "    </tr>\n",
       "    <tr>\n",
       "      <th>E</th>\n",
       "      <td>2002</td>\n",
       "      <td>2.9</td>\n",
       "    </tr>\n",
       "    <tr>\n",
       "      <th>F</th>\n",
       "      <td>2003</td>\n",
       "      <td>3.2</td>\n",
       "    </tr>\n",
       "  </tbody>\n",
       "</table>\n",
       "</div>"
      ],
      "text/plain": [
       "   year  pop\n",
       "A  2000  1.5\n",
       "B  2001  1.7\n",
       "C  2002  3.6\n",
       "D  2001  2.4\n",
       "E  2002  2.9\n",
       "F  2003  3.2"
      ]
     },
     "execution_count": 45,
     "metadata": {},
     "output_type": "execute_result"
    }
   ],
   "source": [
    "df[['year', 'pop']] #Querying a set of columns"
   ]
  },
  {
   "cell_type": "markdown",
   "metadata": {
    "hidden": true
   },
   "source": [
    "Boolean masking works on a dataframe just like it does in a series"
   ]
  },
  {
   "cell_type": "code",
   "execution_count": 46,
   "metadata": {
    "ExecuteTime": {
     "end_time": "2020-05-14T13:08:44.634823Z",
     "start_time": "2020-05-14T13:08:44.559716Z"
    },
    "hidden": true
   },
   "outputs": [
    {
     "data": {
      "text/html": [
       "<div>\n",
       "<style scoped>\n",
       "    .dataframe tbody tr th:only-of-type {\n",
       "        vertical-align: middle;\n",
       "    }\n",
       "\n",
       "    .dataframe tbody tr th {\n",
       "        vertical-align: top;\n",
       "    }\n",
       "\n",
       "    .dataframe thead th {\n",
       "        text-align: right;\n",
       "    }\n",
       "</style>\n",
       "<table border=\"1\" class=\"dataframe\">\n",
       "  <thead>\n",
       "    <tr style=\"text-align: right;\">\n",
       "      <th></th>\n",
       "      <th>state</th>\n",
       "      <th>year</th>\n",
       "      <th>pop</th>\n",
       "    </tr>\n",
       "  </thead>\n",
       "  <tbody>\n",
       "    <tr>\n",
       "      <th>C</th>\n",
       "      <td>Ohio</td>\n",
       "      <td>2002</td>\n",
       "      <td>3.6</td>\n",
       "    </tr>\n",
       "    <tr>\n",
       "      <th>D</th>\n",
       "      <td>Nevada</td>\n",
       "      <td>2001</td>\n",
       "      <td>2.4</td>\n",
       "    </tr>\n",
       "    <tr>\n",
       "      <th>E</th>\n",
       "      <td>Nevada</td>\n",
       "      <td>2002</td>\n",
       "      <td>2.9</td>\n",
       "    </tr>\n",
       "    <tr>\n",
       "      <th>F</th>\n",
       "      <td>Nevada</td>\n",
       "      <td>2003</td>\n",
       "      <td>3.2</td>\n",
       "    </tr>\n",
       "  </tbody>\n",
       "</table>\n",
       "</div>"
      ],
      "text/plain": [
       "    state  year  pop\n",
       "C    Ohio  2002  3.6\n",
       "D  Nevada  2001  2.4\n",
       "E  Nevada  2002  2.9\n",
       "F  Nevada  2003  3.2"
      ]
     },
     "execution_count": 46,
     "metadata": {},
     "output_type": "execute_result"
    }
   ],
   "source": [
    "df[df['pop'] > 2] #Selecting rows with population greater than 2"
   ]
  },
  {
   "cell_type": "code",
   "execution_count": 47,
   "metadata": {
    "ExecuteTime": {
     "end_time": "2020-05-14T13:08:44.704421Z",
     "start_time": "2020-05-14T13:08:44.636900Z"
    },
    "hidden": true
   },
   "outputs": [
    {
     "data": {
      "text/plain": [
       "C      Ohio\n",
       "F    Nevada\n",
       "Name: state, dtype: object"
      ]
     },
     "execution_count": 47,
     "metadata": {},
     "output_type": "execute_result"
    }
   ],
   "source": [
    "df[df['pop']>3]['state'] #Querying names of states with population greater than 2"
   ]
  },
  {
   "cell_type": "markdown",
   "metadata": {},
   "source": [
    "### Manipulation"
   ]
  },
  {
   "cell_type": "code",
   "execution_count": 48,
   "metadata": {
    "ExecuteTime": {
     "end_time": "2020-05-14T13:08:44.779976Z",
     "start_time": "2020-05-14T13:08:44.705776Z"
    }
   },
   "outputs": [
    {
     "data": {
      "text/html": [
       "<div>\n",
       "<style scoped>\n",
       "    .dataframe tbody tr th:only-of-type {\n",
       "        vertical-align: middle;\n",
       "    }\n",
       "\n",
       "    .dataframe tbody tr th {\n",
       "        vertical-align: top;\n",
       "    }\n",
       "\n",
       "    .dataframe thead th {\n",
       "        text-align: right;\n",
       "    }\n",
       "</style>\n",
       "<table border=\"1\" class=\"dataframe\">\n",
       "  <thead>\n",
       "    <tr style=\"text-align: right;\">\n",
       "      <th></th>\n",
       "      <th>state</th>\n",
       "      <th>year</th>\n",
       "      <th>pop</th>\n",
       "    </tr>\n",
       "  </thead>\n",
       "  <tbody>\n",
       "    <tr>\n",
       "      <th>A</th>\n",
       "      <td>Ohio</td>\n",
       "      <td>2000</td>\n",
       "      <td>1.5</td>\n",
       "    </tr>\n",
       "    <tr>\n",
       "      <th>B</th>\n",
       "      <td>Ohio</td>\n",
       "      <td>2001</td>\n",
       "      <td>1.7</td>\n",
       "    </tr>\n",
       "    <tr>\n",
       "      <th>C</th>\n",
       "      <td>Ohio</td>\n",
       "      <td>2002</td>\n",
       "      <td>3.6</td>\n",
       "    </tr>\n",
       "    <tr>\n",
       "      <th>D</th>\n",
       "      <td>Nevada</td>\n",
       "      <td>2001</td>\n",
       "      <td>2.4</td>\n",
       "    </tr>\n",
       "    <tr>\n",
       "      <th>E</th>\n",
       "      <td>Nevada</td>\n",
       "      <td>2002</td>\n",
       "      <td>2.9</td>\n",
       "    </tr>\n",
       "    <tr>\n",
       "      <th>F</th>\n",
       "      <td>Nevada</td>\n",
       "      <td>2003</td>\n",
       "      <td>3.2</td>\n",
       "    </tr>\n",
       "  </tbody>\n",
       "</table>\n",
       "</div>"
      ],
      "text/plain": [
       "    state  year  pop\n",
       "A    Ohio  2000  1.5\n",
       "B    Ohio  2001  1.7\n",
       "C    Ohio  2002  3.6\n",
       "D  Nevada  2001  2.4\n",
       "E  Nevada  2002  2.9\n",
       "F  Nevada  2003  3.2"
      ]
     },
     "execution_count": 48,
     "metadata": {},
     "output_type": "execute_result"
    }
   ],
   "source": [
    "df"
   ]
  },
  {
   "cell_type": "code",
   "execution_count": 49,
   "metadata": {
    "ExecuteTime": {
     "end_time": "2020-05-14T13:08:44.836381Z",
     "start_time": "2020-05-14T13:08:44.782195Z"
    }
   },
   "outputs": [
    {
     "data": {
      "text/plain": [
       "Index(['A', 'B', 'C', 'D', 'E', 'F'], dtype='object')"
      ]
     },
     "execution_count": 49,
     "metadata": {},
     "output_type": "execute_result"
    }
   ],
   "source": [
    "df.index #Returns an index objext of all rows"
   ]
  },
  {
   "cell_type": "code",
   "execution_count": 50,
   "metadata": {
    "ExecuteTime": {
     "end_time": "2020-05-14T13:08:44.905491Z",
     "start_time": "2020-05-14T13:08:44.837848Z"
    }
   },
   "outputs": [
    {
     "data": {
      "text/plain": [
       "Index(['state', 'year', 'pop'], dtype='object')"
      ]
     },
     "execution_count": 50,
     "metadata": {},
     "output_type": "execute_result"
    }
   ],
   "source": [
    "df.columns #Returns an index object of all columns"
   ]
  },
  {
   "cell_type": "code",
   "execution_count": 51,
   "metadata": {
    "ExecuteTime": {
     "end_time": "2020-05-14T13:08:44.973329Z",
     "start_time": "2020-05-14T13:08:44.906840Z"
    }
   },
   "outputs": [
    {
     "data": {
      "text/html": [
       "<div>\n",
       "<style scoped>\n",
       "    .dataframe tbody tr th:only-of-type {\n",
       "        vertical-align: middle;\n",
       "    }\n",
       "\n",
       "    .dataframe tbody tr th {\n",
       "        vertical-align: top;\n",
       "    }\n",
       "\n",
       "    .dataframe thead th {\n",
       "        text-align: right;\n",
       "    }\n",
       "</style>\n",
       "<table border=\"1\" class=\"dataframe\">\n",
       "  <thead>\n",
       "    <tr style=\"text-align: right;\">\n",
       "      <th></th>\n",
       "      <th>State</th>\n",
       "      <th>year</th>\n",
       "      <th>population</th>\n",
       "    </tr>\n",
       "  </thead>\n",
       "  <tbody>\n",
       "    <tr>\n",
       "      <th>A</th>\n",
       "      <td>Ohio</td>\n",
       "      <td>2000</td>\n",
       "      <td>1.5</td>\n",
       "    </tr>\n",
       "    <tr>\n",
       "      <th>B</th>\n",
       "      <td>Ohio</td>\n",
       "      <td>2001</td>\n",
       "      <td>1.7</td>\n",
       "    </tr>\n",
       "    <tr>\n",
       "      <th>C</th>\n",
       "      <td>Ohio</td>\n",
       "      <td>2002</td>\n",
       "      <td>3.6</td>\n",
       "    </tr>\n",
       "    <tr>\n",
       "      <th>D</th>\n",
       "      <td>Nevada</td>\n",
       "      <td>2001</td>\n",
       "      <td>2.4</td>\n",
       "    </tr>\n",
       "    <tr>\n",
       "      <th>E</th>\n",
       "      <td>Nevada</td>\n",
       "      <td>2002</td>\n",
       "      <td>2.9</td>\n",
       "    </tr>\n",
       "    <tr>\n",
       "      <th>F</th>\n",
       "      <td>Nevada</td>\n",
       "      <td>2003</td>\n",
       "      <td>3.2</td>\n",
       "    </tr>\n",
       "  </tbody>\n",
       "</table>\n",
       "</div>"
      ],
      "text/plain": [
       "    State  year  population\n",
       "A    Ohio  2000         1.5\n",
       "B    Ohio  2001         1.7\n",
       "C    Ohio  2002         3.6\n",
       "D  Nevada  2001         2.4\n",
       "E  Nevada  2002         2.9\n",
       "F  Nevada  2003         3.2"
      ]
     },
     "execution_count": 51,
     "metadata": {},
     "output_type": "execute_result"
    }
   ],
   "source": [
    "#Renaming column name pop to population and state to State\n",
    "df.rename(columns = {'pop': 'population', 'state': 'State'}, inplace = True)\n",
    "df"
   ]
  },
  {
   "cell_type": "markdown",
   "metadata": {},
   "source": [
    "<code>inplace = True</code> makes all the manipulations to the original dataframe itself. Most of the functions don't modify the dataframe if you don't specify inplace as True. So if you want to modify the orginal dataframe, either set <code>inplace = True</code> or reassign the new dataframe to the old variable like,<br><br>\n",
    "<code>df = df.rename(columns = {'pop': 'population', 'state': 'State'})</code>\n",
    "<br><br>\n",
    "Also note that df.rename can also be used to rename indices"
   ]
  },
  {
   "cell_type": "markdown",
   "metadata": {},
   "source": [
    "A column can be added the way you would add it to a dictionary"
   ]
  },
  {
   "cell_type": "code",
   "execution_count": 52,
   "metadata": {
    "ExecuteTime": {
     "end_time": "2020-05-14T13:08:45.096715Z",
     "start_time": "2020-05-14T13:08:44.979198Z"
    }
   },
   "outputs": [
    {
     "data": {
      "text/html": [
       "<div>\n",
       "<style scoped>\n",
       "    .dataframe tbody tr th:only-of-type {\n",
       "        vertical-align: middle;\n",
       "    }\n",
       "\n",
       "    .dataframe tbody tr th {\n",
       "        vertical-align: top;\n",
       "    }\n",
       "\n",
       "    .dataframe thead th {\n",
       "        text-align: right;\n",
       "    }\n",
       "</style>\n",
       "<table border=\"1\" class=\"dataframe\">\n",
       "  <thead>\n",
       "    <tr style=\"text-align: right;\">\n",
       "      <th></th>\n",
       "      <th>State</th>\n",
       "      <th>year</th>\n",
       "      <th>population</th>\n",
       "      <th>GDP</th>\n",
       "    </tr>\n",
       "  </thead>\n",
       "  <tbody>\n",
       "    <tr>\n",
       "      <th>A</th>\n",
       "      <td>Ohio</td>\n",
       "      <td>2000</td>\n",
       "      <td>1.5</td>\n",
       "      <td>7.4</td>\n",
       "    </tr>\n",
       "    <tr>\n",
       "      <th>B</th>\n",
       "      <td>Ohio</td>\n",
       "      <td>2001</td>\n",
       "      <td>1.7</td>\n",
       "      <td>2.3</td>\n",
       "    </tr>\n",
       "    <tr>\n",
       "      <th>C</th>\n",
       "      <td>Ohio</td>\n",
       "      <td>2002</td>\n",
       "      <td>3.6</td>\n",
       "      <td>4.5</td>\n",
       "    </tr>\n",
       "    <tr>\n",
       "      <th>D</th>\n",
       "      <td>Nevada</td>\n",
       "      <td>2001</td>\n",
       "      <td>2.4</td>\n",
       "      <td>1.2</td>\n",
       "    </tr>\n",
       "    <tr>\n",
       "      <th>E</th>\n",
       "      <td>Nevada</td>\n",
       "      <td>2002</td>\n",
       "      <td>2.9</td>\n",
       "      <td>3.9</td>\n",
       "    </tr>\n",
       "    <tr>\n",
       "      <th>F</th>\n",
       "      <td>Nevada</td>\n",
       "      <td>2003</td>\n",
       "      <td>3.2</td>\n",
       "      <td>2.5</td>\n",
       "    </tr>\n",
       "  </tbody>\n",
       "</table>\n",
       "</div>"
      ],
      "text/plain": [
       "    State  year  population  GDP\n",
       "A    Ohio  2000         1.5  7.4\n",
       "B    Ohio  2001         1.7  2.3\n",
       "C    Ohio  2002         3.6  4.5\n",
       "D  Nevada  2001         2.4  1.2\n",
       "E  Nevada  2002         2.9  3.9\n",
       "F  Nevada  2003         3.2  2.5"
      ]
     },
     "execution_count": 52,
     "metadata": {},
     "output_type": "execute_result"
    }
   ],
   "source": [
    "df['GDP'] = [7.4, 2.3, 4.5, 1.2, 3.9, 2.5]\n",
    "df"
   ]
  },
  {
   "cell_type": "markdown",
   "metadata": {},
   "source": [
    "A new column can hold values determined by existing columns"
   ]
  },
  {
   "cell_type": "code",
   "execution_count": 53,
   "metadata": {
    "ExecuteTime": {
     "end_time": "2020-05-14T13:08:45.168839Z",
     "start_time": "2020-05-14T13:08:45.098799Z"
    }
   },
   "outputs": [
    {
     "data": {
      "text/html": [
       "<div>\n",
       "<style scoped>\n",
       "    .dataframe tbody tr th:only-of-type {\n",
       "        vertical-align: middle;\n",
       "    }\n",
       "\n",
       "    .dataframe tbody tr th {\n",
       "        vertical-align: top;\n",
       "    }\n",
       "\n",
       "    .dataframe thead th {\n",
       "        text-align: right;\n",
       "    }\n",
       "</style>\n",
       "<table border=\"1\" class=\"dataframe\">\n",
       "  <thead>\n",
       "    <tr style=\"text-align: right;\">\n",
       "      <th></th>\n",
       "      <th>State</th>\n",
       "      <th>year</th>\n",
       "      <th>population</th>\n",
       "      <th>GDP</th>\n",
       "      <th>GDP per capita</th>\n",
       "    </tr>\n",
       "  </thead>\n",
       "  <tbody>\n",
       "    <tr>\n",
       "      <th>A</th>\n",
       "      <td>Ohio</td>\n",
       "      <td>2000</td>\n",
       "      <td>1.5</td>\n",
       "      <td>7.4</td>\n",
       "      <td>4.933333</td>\n",
       "    </tr>\n",
       "    <tr>\n",
       "      <th>B</th>\n",
       "      <td>Ohio</td>\n",
       "      <td>2001</td>\n",
       "      <td>1.7</td>\n",
       "      <td>2.3</td>\n",
       "      <td>1.352941</td>\n",
       "    </tr>\n",
       "    <tr>\n",
       "      <th>C</th>\n",
       "      <td>Ohio</td>\n",
       "      <td>2002</td>\n",
       "      <td>3.6</td>\n",
       "      <td>4.5</td>\n",
       "      <td>1.250000</td>\n",
       "    </tr>\n",
       "    <tr>\n",
       "      <th>D</th>\n",
       "      <td>Nevada</td>\n",
       "      <td>2001</td>\n",
       "      <td>2.4</td>\n",
       "      <td>1.2</td>\n",
       "      <td>0.500000</td>\n",
       "    </tr>\n",
       "    <tr>\n",
       "      <th>E</th>\n",
       "      <td>Nevada</td>\n",
       "      <td>2002</td>\n",
       "      <td>2.9</td>\n",
       "      <td>3.9</td>\n",
       "      <td>1.344828</td>\n",
       "    </tr>\n",
       "    <tr>\n",
       "      <th>F</th>\n",
       "      <td>Nevada</td>\n",
       "      <td>2003</td>\n",
       "      <td>3.2</td>\n",
       "      <td>2.5</td>\n",
       "      <td>0.781250</td>\n",
       "    </tr>\n",
       "  </tbody>\n",
       "</table>\n",
       "</div>"
      ],
      "text/plain": [
       "    State  year  population  GDP  GDP per capita\n",
       "A    Ohio  2000         1.5  7.4        4.933333\n",
       "B    Ohio  2001         1.7  2.3        1.352941\n",
       "C    Ohio  2002         3.6  4.5        1.250000\n",
       "D  Nevada  2001         2.4  1.2        0.500000\n",
       "E  Nevada  2002         2.9  3.9        1.344828\n",
       "F  Nevada  2003         3.2  2.5        0.781250"
      ]
     },
     "execution_count": 53,
     "metadata": {},
     "output_type": "execute_result"
    }
   ],
   "source": [
    "df['GDP per capita'] = (df['GDP']/ df['population'])\n",
    "df"
   ]
  },
  {
   "cell_type": "code",
   "execution_count": 54,
   "metadata": {
    "ExecuteTime": {
     "end_time": "2020-05-14T13:08:45.263601Z",
     "start_time": "2020-05-14T13:08:45.170486Z"
    }
   },
   "outputs": [
    {
     "data": {
      "text/html": [
       "<div>\n",
       "<style scoped>\n",
       "    .dataframe tbody tr th:only-of-type {\n",
       "        vertical-align: middle;\n",
       "    }\n",
       "\n",
       "    .dataframe tbody tr th {\n",
       "        vertical-align: top;\n",
       "    }\n",
       "\n",
       "    .dataframe thead th {\n",
       "        text-align: right;\n",
       "    }\n",
       "</style>\n",
       "<table border=\"1\" class=\"dataframe\">\n",
       "  <thead>\n",
       "    <tr style=\"text-align: right;\">\n",
       "      <th></th>\n",
       "      <th>State</th>\n",
       "      <th>year</th>\n",
       "      <th>population</th>\n",
       "      <th>GDP</th>\n",
       "      <th>GDP per capita</th>\n",
       "    </tr>\n",
       "  </thead>\n",
       "  <tbody>\n",
       "    <tr>\n",
       "      <th>A</th>\n",
       "      <td>Ohio</td>\n",
       "      <td>2000</td>\n",
       "      <td>1.5</td>\n",
       "      <td>7.4</td>\n",
       "      <td>4.933333</td>\n",
       "    </tr>\n",
       "    <tr>\n",
       "      <th>B</th>\n",
       "      <td>Ohio</td>\n",
       "      <td>2001</td>\n",
       "      <td>1.7</td>\n",
       "      <td>2.3</td>\n",
       "      <td>1.352941</td>\n",
       "    </tr>\n",
       "    <tr>\n",
       "      <th>C</th>\n",
       "      <td>Ohio</td>\n",
       "      <td>2002</td>\n",
       "      <td>3.6</td>\n",
       "      <td>4.5</td>\n",
       "      <td>1.250000</td>\n",
       "    </tr>\n",
       "    <tr>\n",
       "      <th>D</th>\n",
       "      <td>Nevada</td>\n",
       "      <td>2001</td>\n",
       "      <td>2.4</td>\n",
       "      <td>1.2</td>\n",
       "      <td>0.500000</td>\n",
       "    </tr>\n",
       "    <tr>\n",
       "      <th>E</th>\n",
       "      <td>Nevada</td>\n",
       "      <td>2002</td>\n",
       "      <td>2.9</td>\n",
       "      <td>3.9</td>\n",
       "      <td>1.344828</td>\n",
       "    </tr>\n",
       "    <tr>\n",
       "      <th>F</th>\n",
       "      <td>Nevada</td>\n",
       "      <td>2003</td>\n",
       "      <td>3.2</td>\n",
       "      <td>2.5</td>\n",
       "      <td>0.781250</td>\n",
       "    </tr>\n",
       "    <tr>\n",
       "      <th>G</th>\n",
       "      <td>Texas</td>\n",
       "      <td>2001</td>\n",
       "      <td>2.5</td>\n",
       "      <td>4.2</td>\n",
       "      <td>1.680000</td>\n",
       "    </tr>\n",
       "  </tbody>\n",
       "</table>\n",
       "</div>"
      ],
      "text/plain": [
       "    State  year  population  GDP  GDP per capita\n",
       "A    Ohio  2000         1.5  7.4        4.933333\n",
       "B    Ohio  2001         1.7  2.3        1.352941\n",
       "C    Ohio  2002         3.6  4.5        1.250000\n",
       "D  Nevada  2001         2.4  1.2        0.500000\n",
       "E  Nevada  2002         2.9  3.9        1.344828\n",
       "F  Nevada  2003         3.2  2.5        0.781250\n",
       "G   Texas  2001         2.5  4.2        1.680000"
      ]
     },
     "execution_count": 54,
     "metadata": {},
     "output_type": "execute_result"
    }
   ],
   "source": [
    "#Adding a new row to the dataframe can be done in a similar way\n",
    "df.loc['G'] = ['Texas', '2001', 2.5, 4.2, 1.68]\n",
    "df"
   ]
  },
  {
   "cell_type": "markdown",
   "metadata": {},
   "source": [
    "### df.drop()"
   ]
  },
  {
   "cell_type": "code",
   "execution_count": 55,
   "metadata": {
    "ExecuteTime": {
     "end_time": "2020-05-14T13:08:45.354029Z",
     "start_time": "2020-05-14T13:08:45.266291Z"
    }
   },
   "outputs": [
    {
     "data": {
      "text/html": [
       "<div>\n",
       "<style scoped>\n",
       "    .dataframe tbody tr th:only-of-type {\n",
       "        vertical-align: middle;\n",
       "    }\n",
       "\n",
       "    .dataframe tbody tr th {\n",
       "        vertical-align: top;\n",
       "    }\n",
       "\n",
       "    .dataframe thead th {\n",
       "        text-align: right;\n",
       "    }\n",
       "</style>\n",
       "<table border=\"1\" class=\"dataframe\">\n",
       "  <thead>\n",
       "    <tr style=\"text-align: right;\">\n",
       "      <th></th>\n",
       "      <th>State</th>\n",
       "      <th>year</th>\n",
       "      <th>population</th>\n",
       "    </tr>\n",
       "  </thead>\n",
       "  <tbody>\n",
       "    <tr>\n",
       "      <th>A</th>\n",
       "      <td>Ohio</td>\n",
       "      <td>2000</td>\n",
       "      <td>1.5</td>\n",
       "    </tr>\n",
       "    <tr>\n",
       "      <th>B</th>\n",
       "      <td>Ohio</td>\n",
       "      <td>2001</td>\n",
       "      <td>1.7</td>\n",
       "    </tr>\n",
       "    <tr>\n",
       "      <th>C</th>\n",
       "      <td>Ohio</td>\n",
       "      <td>2002</td>\n",
       "      <td>3.6</td>\n",
       "    </tr>\n",
       "    <tr>\n",
       "      <th>D</th>\n",
       "      <td>Nevada</td>\n",
       "      <td>2001</td>\n",
       "      <td>2.4</td>\n",
       "    </tr>\n",
       "    <tr>\n",
       "      <th>E</th>\n",
       "      <td>Nevada</td>\n",
       "      <td>2002</td>\n",
       "      <td>2.9</td>\n",
       "    </tr>\n",
       "    <tr>\n",
       "      <th>F</th>\n",
       "      <td>Nevada</td>\n",
       "      <td>2003</td>\n",
       "      <td>3.2</td>\n",
       "    </tr>\n",
       "    <tr>\n",
       "      <th>G</th>\n",
       "      <td>Texas</td>\n",
       "      <td>2001</td>\n",
       "      <td>2.5</td>\n",
       "    </tr>\n",
       "  </tbody>\n",
       "</table>\n",
       "</div>"
      ],
      "text/plain": [
       "    State  year  population\n",
       "A    Ohio  2000         1.5\n",
       "B    Ohio  2001         1.7\n",
       "C    Ohio  2002         3.6\n",
       "D  Nevada  2001         2.4\n",
       "E  Nevada  2002         2.9\n",
       "F  Nevada  2003         3.2\n",
       "G   Texas  2001         2.5"
      ]
     },
     "execution_count": 55,
     "metadata": {},
     "output_type": "execute_result"
    }
   ],
   "source": [
    "#Drops columns GDP and GDP per capita\n",
    "df.drop(columns = ['GDP', 'GDP per capita'], inplace = True)\n",
    "df"
   ]
  },
  {
   "cell_type": "code",
   "execution_count": 56,
   "metadata": {
    "ExecuteTime": {
     "end_time": "2020-05-14T13:08:45.434249Z",
     "start_time": "2020-05-14T13:08:45.356011Z"
    }
   },
   "outputs": [
    {
     "data": {
      "text/html": [
       "<div>\n",
       "<style scoped>\n",
       "    .dataframe tbody tr th:only-of-type {\n",
       "        vertical-align: middle;\n",
       "    }\n",
       "\n",
       "    .dataframe tbody tr th {\n",
       "        vertical-align: top;\n",
       "    }\n",
       "\n",
       "    .dataframe thead th {\n",
       "        text-align: right;\n",
       "    }\n",
       "</style>\n",
       "<table border=\"1\" class=\"dataframe\">\n",
       "  <thead>\n",
       "    <tr style=\"text-align: right;\">\n",
       "      <th></th>\n",
       "      <th>State</th>\n",
       "      <th>year</th>\n",
       "      <th>population</th>\n",
       "    </tr>\n",
       "  </thead>\n",
       "  <tbody>\n",
       "    <tr>\n",
       "      <th>A</th>\n",
       "      <td>Ohio</td>\n",
       "      <td>2000</td>\n",
       "      <td>1.5</td>\n",
       "    </tr>\n",
       "    <tr>\n",
       "      <th>B</th>\n",
       "      <td>Ohio</td>\n",
       "      <td>2001</td>\n",
       "      <td>1.7</td>\n",
       "    </tr>\n",
       "    <tr>\n",
       "      <th>C</th>\n",
       "      <td>Ohio</td>\n",
       "      <td>2002</td>\n",
       "      <td>3.6</td>\n",
       "    </tr>\n",
       "    <tr>\n",
       "      <th>D</th>\n",
       "      <td>Nevada</td>\n",
       "      <td>2001</td>\n",
       "      <td>2.4</td>\n",
       "    </tr>\n",
       "    <tr>\n",
       "      <th>E</th>\n",
       "      <td>Nevada</td>\n",
       "      <td>2002</td>\n",
       "      <td>2.9</td>\n",
       "    </tr>\n",
       "    <tr>\n",
       "      <th>F</th>\n",
       "      <td>Nevada</td>\n",
       "      <td>2003</td>\n",
       "      <td>3.2</td>\n",
       "    </tr>\n",
       "  </tbody>\n",
       "</table>\n",
       "</div>"
      ],
      "text/plain": [
       "    State  year  population\n",
       "A    Ohio  2000         1.5\n",
       "B    Ohio  2001         1.7\n",
       "C    Ohio  2002         3.6\n",
       "D  Nevada  2001         2.4\n",
       "E  Nevada  2002         2.9\n",
       "F  Nevada  2003         3.2"
      ]
     },
     "execution_count": 56,
     "metadata": {},
     "output_type": "execute_result"
    }
   ],
   "source": [
    "#Drops row 'G'\n",
    "df.drop(index = 'G')"
   ]
  },
  {
   "cell_type": "code",
   "execution_count": 57,
   "metadata": {
    "ExecuteTime": {
     "end_time": "2020-05-14T13:08:45.512576Z",
     "start_time": "2020-05-14T13:08:45.435763Z"
    }
   },
   "outputs": [
    {
     "data": {
      "text/html": [
       "<div>\n",
       "<style scoped>\n",
       "    .dataframe tbody tr th:only-of-type {\n",
       "        vertical-align: middle;\n",
       "    }\n",
       "\n",
       "    .dataframe tbody tr th {\n",
       "        vertical-align: top;\n",
       "    }\n",
       "\n",
       "    .dataframe thead th {\n",
       "        text-align: right;\n",
       "    }\n",
       "</style>\n",
       "<table border=\"1\" class=\"dataframe\">\n",
       "  <thead>\n",
       "    <tr style=\"text-align: right;\">\n",
       "      <th></th>\n",
       "      <th>State</th>\n",
       "      <th>year</th>\n",
       "      <th>population</th>\n",
       "    </tr>\n",
       "  </thead>\n",
       "  <tbody>\n",
       "    <tr>\n",
       "      <th>A</th>\n",
       "      <td>Ohio</td>\n",
       "      <td>2000</td>\n",
       "      <td>1.5</td>\n",
       "    </tr>\n",
       "    <tr>\n",
       "      <th>B</th>\n",
       "      <td>Ohio</td>\n",
       "      <td>2001</td>\n",
       "      <td>1.7</td>\n",
       "    </tr>\n",
       "    <tr>\n",
       "      <th>C</th>\n",
       "      <td>Ohio</td>\n",
       "      <td>2002</td>\n",
       "      <td>3.6</td>\n",
       "    </tr>\n",
       "    <tr>\n",
       "      <th>D</th>\n",
       "      <td>Nevada</td>\n",
       "      <td>2001</td>\n",
       "      <td>2.4</td>\n",
       "    </tr>\n",
       "    <tr>\n",
       "      <th>E</th>\n",
       "      <td>Nevada</td>\n",
       "      <td>2002</td>\n",
       "      <td>2.9</td>\n",
       "    </tr>\n",
       "    <tr>\n",
       "      <th>F</th>\n",
       "      <td>Nevada</td>\n",
       "      <td>2003</td>\n",
       "      <td>3.2</td>\n",
       "    </tr>\n",
       "    <tr>\n",
       "      <th>G</th>\n",
       "      <td>Texas</td>\n",
       "      <td>2001</td>\n",
       "      <td>2.5</td>\n",
       "    </tr>\n",
       "  </tbody>\n",
       "</table>\n",
       "</div>"
      ],
      "text/plain": [
       "    State  year  population\n",
       "A    Ohio  2000         1.5\n",
       "B    Ohio  2001         1.7\n",
       "C    Ohio  2002         3.6\n",
       "D  Nevada  2001         2.4\n",
       "E  Nevada  2002         2.9\n",
       "F  Nevada  2003         3.2\n",
       "G   Texas  2001         2.5"
      ]
     },
     "execution_count": 57,
     "metadata": {},
     "output_type": "execute_result"
    }
   ],
   "source": [
    "df"
   ]
  },
  {
   "cell_type": "markdown",
   "metadata": {},
   "source": [
    "Since <code>inplace</code> is <code>False</code> by default, the row still exists in the dataframe"
   ]
  },
  {
   "cell_type": "markdown",
   "metadata": {},
   "source": [
    "## SOME NOT SO BASIC CONCEPTS"
   ]
  },
  {
   "cell_type": "markdown",
   "metadata": {},
   "source": [
    "### Reading from files\n",
    "In Data Science and ML, the data is obtained in files like csv, excel, text etc.<br>\n",
    "One of the most common kind of file is csv or comma separated values.<br><br>\n",
    "There should be a file called <code>census.csv</code> in the current folder. Go ahead and open it in notepad to get an idea how csv files exist.<br><br>\n",
    "Now I'd like to make you familiar with the pandas documentaion as you'll be using it a lot in the future. Go ahead and open this <a href = \"https://pandas.pydata.org/pandas-docs/stable/reference/api/pandas.read_csv.html\">link</a> and check out the function we are going to use. The documentation has the information about the function and all its attributes.<br><br>\n",
    "<code>pd.read_csv()</code> has a lot of attributes and gives us a lot of control on how to read our csv file into a dataframe.\n",
    "<br><br>\n",
    "You can also get help inside the notebook regarding a function like this. Make sure to close it before moving on"
   ]
  },
  {
   "cell_type": "code",
   "execution_count": 58,
   "metadata": {
    "ExecuteTime": {
     "end_time": "2020-05-14T13:08:45.642058Z",
     "start_time": "2020-05-14T13:08:45.514594Z"
    }
   },
   "outputs": [],
   "source": [
    "pd.read_csv?"
   ]
  },
  {
   "cell_type": "code",
   "execution_count": 59,
   "metadata": {
    "ExecuteTime": {
     "end_time": "2020-05-14T13:08:45.781465Z",
     "start_time": "2020-05-14T13:08:45.644311Z"
    }
   },
   "outputs": [
    {
     "data": {
      "text/html": [
       "<div>\n",
       "<style scoped>\n",
       "    .dataframe tbody tr th:only-of-type {\n",
       "        vertical-align: middle;\n",
       "    }\n",
       "\n",
       "    .dataframe tbody tr th {\n",
       "        vertical-align: top;\n",
       "    }\n",
       "\n",
       "    .dataframe thead th {\n",
       "        text-align: right;\n",
       "    }\n",
       "</style>\n",
       "<table border=\"1\" class=\"dataframe\">\n",
       "  <thead>\n",
       "    <tr style=\"text-align: right;\">\n",
       "      <th></th>\n",
       "      <th>SUMLEV</th>\n",
       "      <th>REGION</th>\n",
       "      <th>DIVISION</th>\n",
       "      <th>STATE</th>\n",
       "      <th>COUNTY</th>\n",
       "      <th>STNAME</th>\n",
       "      <th>CTYNAME</th>\n",
       "      <th>CENSUS2010POP</th>\n",
       "      <th>ESTIMATESBASE2010</th>\n",
       "      <th>POPESTIMATE2010</th>\n",
       "      <th>...</th>\n",
       "      <th>RDOMESTICMIG2011</th>\n",
       "      <th>RDOMESTICMIG2012</th>\n",
       "      <th>RDOMESTICMIG2013</th>\n",
       "      <th>RDOMESTICMIG2014</th>\n",
       "      <th>RDOMESTICMIG2015</th>\n",
       "      <th>RNETMIG2011</th>\n",
       "      <th>RNETMIG2012</th>\n",
       "      <th>RNETMIG2013</th>\n",
       "      <th>RNETMIG2014</th>\n",
       "      <th>RNETMIG2015</th>\n",
       "    </tr>\n",
       "  </thead>\n",
       "  <tbody>\n",
       "    <tr>\n",
       "      <th>0</th>\n",
       "      <td>40</td>\n",
       "      <td>3</td>\n",
       "      <td>6</td>\n",
       "      <td>1</td>\n",
       "      <td>0</td>\n",
       "      <td>Alabama</td>\n",
       "      <td>Alabama</td>\n",
       "      <td>4779736</td>\n",
       "      <td>4780127</td>\n",
       "      <td>4785161</td>\n",
       "      <td>...</td>\n",
       "      <td>0.002295</td>\n",
       "      <td>-0.193196</td>\n",
       "      <td>0.381066</td>\n",
       "      <td>0.582002</td>\n",
       "      <td>-0.467369</td>\n",
       "      <td>1.030015</td>\n",
       "      <td>0.826644</td>\n",
       "      <td>1.383282</td>\n",
       "      <td>1.724718</td>\n",
       "      <td>0.712594</td>\n",
       "    </tr>\n",
       "    <tr>\n",
       "      <th>1</th>\n",
       "      <td>50</td>\n",
       "      <td>3</td>\n",
       "      <td>6</td>\n",
       "      <td>1</td>\n",
       "      <td>1</td>\n",
       "      <td>Alabama</td>\n",
       "      <td>Autauga County</td>\n",
       "      <td>54571</td>\n",
       "      <td>54571</td>\n",
       "      <td>54660</td>\n",
       "      <td>...</td>\n",
       "      <td>7.242091</td>\n",
       "      <td>-2.915927</td>\n",
       "      <td>-3.012349</td>\n",
       "      <td>2.265971</td>\n",
       "      <td>-2.530799</td>\n",
       "      <td>7.606016</td>\n",
       "      <td>-2.626146</td>\n",
       "      <td>-2.722002</td>\n",
       "      <td>2.592270</td>\n",
       "      <td>-2.187333</td>\n",
       "    </tr>\n",
       "    <tr>\n",
       "      <th>2</th>\n",
       "      <td>50</td>\n",
       "      <td>3</td>\n",
       "      <td>6</td>\n",
       "      <td>1</td>\n",
       "      <td>3</td>\n",
       "      <td>Alabama</td>\n",
       "      <td>Baldwin County</td>\n",
       "      <td>182265</td>\n",
       "      <td>182265</td>\n",
       "      <td>183193</td>\n",
       "      <td>...</td>\n",
       "      <td>14.832960</td>\n",
       "      <td>17.647293</td>\n",
       "      <td>21.845705</td>\n",
       "      <td>19.243287</td>\n",
       "      <td>17.197872</td>\n",
       "      <td>15.844176</td>\n",
       "      <td>18.559627</td>\n",
       "      <td>22.727626</td>\n",
       "      <td>20.317142</td>\n",
       "      <td>18.293499</td>\n",
       "    </tr>\n",
       "    <tr>\n",
       "      <th>3</th>\n",
       "      <td>50</td>\n",
       "      <td>3</td>\n",
       "      <td>6</td>\n",
       "      <td>1</td>\n",
       "      <td>5</td>\n",
       "      <td>Alabama</td>\n",
       "      <td>Barbour County</td>\n",
       "      <td>27457</td>\n",
       "      <td>27457</td>\n",
       "      <td>27341</td>\n",
       "      <td>...</td>\n",
       "      <td>-4.728132</td>\n",
       "      <td>-2.500690</td>\n",
       "      <td>-7.056824</td>\n",
       "      <td>-3.904217</td>\n",
       "      <td>-10.543299</td>\n",
       "      <td>-4.874741</td>\n",
       "      <td>-2.758113</td>\n",
       "      <td>-7.167664</td>\n",
       "      <td>-3.978583</td>\n",
       "      <td>-10.543299</td>\n",
       "    </tr>\n",
       "    <tr>\n",
       "      <th>4</th>\n",
       "      <td>50</td>\n",
       "      <td>3</td>\n",
       "      <td>6</td>\n",
       "      <td>1</td>\n",
       "      <td>7</td>\n",
       "      <td>Alabama</td>\n",
       "      <td>Bibb County</td>\n",
       "      <td>22915</td>\n",
       "      <td>22919</td>\n",
       "      <td>22861</td>\n",
       "      <td>...</td>\n",
       "      <td>-5.527043</td>\n",
       "      <td>-5.068871</td>\n",
       "      <td>-6.201001</td>\n",
       "      <td>-0.177537</td>\n",
       "      <td>0.177258</td>\n",
       "      <td>-5.088389</td>\n",
       "      <td>-4.363636</td>\n",
       "      <td>-5.403729</td>\n",
       "      <td>0.754533</td>\n",
       "      <td>1.107861</td>\n",
       "    </tr>\n",
       "    <tr>\n",
       "      <th>...</th>\n",
       "      <td>...</td>\n",
       "      <td>...</td>\n",
       "      <td>...</td>\n",
       "      <td>...</td>\n",
       "      <td>...</td>\n",
       "      <td>...</td>\n",
       "      <td>...</td>\n",
       "      <td>...</td>\n",
       "      <td>...</td>\n",
       "      <td>...</td>\n",
       "      <td>...</td>\n",
       "      <td>...</td>\n",
       "      <td>...</td>\n",
       "      <td>...</td>\n",
       "      <td>...</td>\n",
       "      <td>...</td>\n",
       "      <td>...</td>\n",
       "      <td>...</td>\n",
       "      <td>...</td>\n",
       "      <td>...</td>\n",
       "      <td>...</td>\n",
       "    </tr>\n",
       "    <tr>\n",
       "      <th>3188</th>\n",
       "      <td>50</td>\n",
       "      <td>4</td>\n",
       "      <td>8</td>\n",
       "      <td>56</td>\n",
       "      <td>37</td>\n",
       "      <td>Wyoming</td>\n",
       "      <td>Sweetwater County</td>\n",
       "      <td>43806</td>\n",
       "      <td>43806</td>\n",
       "      <td>43593</td>\n",
       "      <td>...</td>\n",
       "      <td>1.072643</td>\n",
       "      <td>16.243199</td>\n",
       "      <td>-5.339774</td>\n",
       "      <td>-14.252889</td>\n",
       "      <td>-14.248864</td>\n",
       "      <td>1.255221</td>\n",
       "      <td>16.243199</td>\n",
       "      <td>-5.295460</td>\n",
       "      <td>-14.075283</td>\n",
       "      <td>-14.070195</td>\n",
       "    </tr>\n",
       "    <tr>\n",
       "      <th>3189</th>\n",
       "      <td>50</td>\n",
       "      <td>4</td>\n",
       "      <td>8</td>\n",
       "      <td>56</td>\n",
       "      <td>39</td>\n",
       "      <td>Wyoming</td>\n",
       "      <td>Teton County</td>\n",
       "      <td>21294</td>\n",
       "      <td>21294</td>\n",
       "      <td>21297</td>\n",
       "      <td>...</td>\n",
       "      <td>-1.589565</td>\n",
       "      <td>0.972695</td>\n",
       "      <td>19.525929</td>\n",
       "      <td>14.143021</td>\n",
       "      <td>-0.564849</td>\n",
       "      <td>0.654527</td>\n",
       "      <td>2.408578</td>\n",
       "      <td>21.160658</td>\n",
       "      <td>16.308671</td>\n",
       "      <td>1.520747</td>\n",
       "    </tr>\n",
       "    <tr>\n",
       "      <th>3190</th>\n",
       "      <td>50</td>\n",
       "      <td>4</td>\n",
       "      <td>8</td>\n",
       "      <td>56</td>\n",
       "      <td>41</td>\n",
       "      <td>Wyoming</td>\n",
       "      <td>Uinta County</td>\n",
       "      <td>21118</td>\n",
       "      <td>21118</td>\n",
       "      <td>21102</td>\n",
       "      <td>...</td>\n",
       "      <td>-17.755986</td>\n",
       "      <td>-4.916350</td>\n",
       "      <td>-6.902954</td>\n",
       "      <td>-14.215862</td>\n",
       "      <td>-12.127022</td>\n",
       "      <td>-18.136812</td>\n",
       "      <td>-5.536861</td>\n",
       "      <td>-7.521840</td>\n",
       "      <td>-14.740608</td>\n",
       "      <td>-12.606351</td>\n",
       "    </tr>\n",
       "    <tr>\n",
       "      <th>3191</th>\n",
       "      <td>50</td>\n",
       "      <td>4</td>\n",
       "      <td>8</td>\n",
       "      <td>56</td>\n",
       "      <td>43</td>\n",
       "      <td>Wyoming</td>\n",
       "      <td>Washakie County</td>\n",
       "      <td>8533</td>\n",
       "      <td>8533</td>\n",
       "      <td>8545</td>\n",
       "      <td>...</td>\n",
       "      <td>-11.637475</td>\n",
       "      <td>-0.827815</td>\n",
       "      <td>-2.013502</td>\n",
       "      <td>-17.781491</td>\n",
       "      <td>1.682288</td>\n",
       "      <td>-11.990126</td>\n",
       "      <td>-1.182592</td>\n",
       "      <td>-2.250385</td>\n",
       "      <td>-18.020168</td>\n",
       "      <td>1.441961</td>\n",
       "    </tr>\n",
       "    <tr>\n",
       "      <th>3192</th>\n",
       "      <td>50</td>\n",
       "      <td>4</td>\n",
       "      <td>8</td>\n",
       "      <td>56</td>\n",
       "      <td>45</td>\n",
       "      <td>Wyoming</td>\n",
       "      <td>Weston County</td>\n",
       "      <td>7208</td>\n",
       "      <td>7208</td>\n",
       "      <td>7181</td>\n",
       "      <td>...</td>\n",
       "      <td>-11.752361</td>\n",
       "      <td>-8.040059</td>\n",
       "      <td>12.372583</td>\n",
       "      <td>1.533635</td>\n",
       "      <td>6.935294</td>\n",
       "      <td>-12.032179</td>\n",
       "      <td>-8.040059</td>\n",
       "      <td>12.372583</td>\n",
       "      <td>1.533635</td>\n",
       "      <td>6.935294</td>\n",
       "    </tr>\n",
       "  </tbody>\n",
       "</table>\n",
       "<p>3193 rows × 100 columns</p>\n",
       "</div>"
      ],
      "text/plain": [
       "      SUMLEV  REGION  DIVISION  STATE  COUNTY   STNAME            CTYNAME  \\\n",
       "0         40       3         6      1       0  Alabama            Alabama   \n",
       "1         50       3         6      1       1  Alabama     Autauga County   \n",
       "2         50       3         6      1       3  Alabama     Baldwin County   \n",
       "3         50       3         6      1       5  Alabama     Barbour County   \n",
       "4         50       3         6      1       7  Alabama        Bibb County   \n",
       "...      ...     ...       ...    ...     ...      ...                ...   \n",
       "3188      50       4         8     56      37  Wyoming  Sweetwater County   \n",
       "3189      50       4         8     56      39  Wyoming       Teton County   \n",
       "3190      50       4         8     56      41  Wyoming       Uinta County   \n",
       "3191      50       4         8     56      43  Wyoming    Washakie County   \n",
       "3192      50       4         8     56      45  Wyoming      Weston County   \n",
       "\n",
       "      CENSUS2010POP  ESTIMATESBASE2010  POPESTIMATE2010  ...  \\\n",
       "0           4779736            4780127          4785161  ...   \n",
       "1             54571              54571            54660  ...   \n",
       "2            182265             182265           183193  ...   \n",
       "3             27457              27457            27341  ...   \n",
       "4             22915              22919            22861  ...   \n",
       "...             ...                ...              ...  ...   \n",
       "3188          43806              43806            43593  ...   \n",
       "3189          21294              21294            21297  ...   \n",
       "3190          21118              21118            21102  ...   \n",
       "3191           8533               8533             8545  ...   \n",
       "3192           7208               7208             7181  ...   \n",
       "\n",
       "      RDOMESTICMIG2011  RDOMESTICMIG2012  RDOMESTICMIG2013  RDOMESTICMIG2014  \\\n",
       "0             0.002295         -0.193196          0.381066          0.582002   \n",
       "1             7.242091         -2.915927         -3.012349          2.265971   \n",
       "2            14.832960         17.647293         21.845705         19.243287   \n",
       "3            -4.728132         -2.500690         -7.056824         -3.904217   \n",
       "4            -5.527043         -5.068871         -6.201001         -0.177537   \n",
       "...                ...               ...               ...               ...   \n",
       "3188          1.072643         16.243199         -5.339774        -14.252889   \n",
       "3189         -1.589565          0.972695         19.525929         14.143021   \n",
       "3190        -17.755986         -4.916350         -6.902954        -14.215862   \n",
       "3191        -11.637475         -0.827815         -2.013502        -17.781491   \n",
       "3192        -11.752361         -8.040059         12.372583          1.533635   \n",
       "\n",
       "      RDOMESTICMIG2015  RNETMIG2011  RNETMIG2012  RNETMIG2013  RNETMIG2014  \\\n",
       "0            -0.467369     1.030015     0.826644     1.383282     1.724718   \n",
       "1            -2.530799     7.606016    -2.626146    -2.722002     2.592270   \n",
       "2            17.197872    15.844176    18.559627    22.727626    20.317142   \n",
       "3           -10.543299    -4.874741    -2.758113    -7.167664    -3.978583   \n",
       "4             0.177258    -5.088389    -4.363636    -5.403729     0.754533   \n",
       "...                ...          ...          ...          ...          ...   \n",
       "3188        -14.248864     1.255221    16.243199    -5.295460   -14.075283   \n",
       "3189         -0.564849     0.654527     2.408578    21.160658    16.308671   \n",
       "3190        -12.127022   -18.136812    -5.536861    -7.521840   -14.740608   \n",
       "3191          1.682288   -11.990126    -1.182592    -2.250385   -18.020168   \n",
       "3192          6.935294   -12.032179    -8.040059    12.372583     1.533635   \n",
       "\n",
       "      RNETMIG2015  \n",
       "0        0.712594  \n",
       "1       -2.187333  \n",
       "2       18.293499  \n",
       "3      -10.543299  \n",
       "4        1.107861  \n",
       "...           ...  \n",
       "3188   -14.070195  \n",
       "3189     1.520747  \n",
       "3190   -12.606351  \n",
       "3191     1.441961  \n",
       "3192     6.935294  \n",
       "\n",
       "[3193 rows x 100 columns]"
      ]
     },
     "execution_count": 59,
     "metadata": {},
     "output_type": "execute_result"
    }
   ],
   "source": [
    "#Reading census.csv into dataframe df\n",
    "df = pd.read_csv(\"census.csv\")\n",
    "df"
   ]
  },
  {
   "cell_type": "markdown",
   "metadata": {},
   "source": [
    "<div class=\"alert alert-block alert-warning\">\n",
    "    <b>Note:</b> If the file to read is stored in current folder, only filename is enough to read it. If it is saved in some other folder, entire file path must be given.\n",
    "</div>"
   ]
  },
  {
   "cell_type": "markdown",
   "metadata": {},
   "source": [
    "One of the most important attributes is <code>skiprows</code> which skips rows in the csv file. Read the documentation attribute description to see how it exactly works."
   ]
  },
  {
   "cell_type": "code",
   "execution_count": 60,
   "metadata": {
    "ExecuteTime": {
     "end_time": "2020-05-14T13:08:45.866771Z",
     "start_time": "2020-05-14T13:08:45.783173Z"
    }
   },
   "outputs": [
    {
     "data": {
      "text/html": [
       "<div>\n",
       "<style scoped>\n",
       "    .dataframe tbody tr th:only-of-type {\n",
       "        vertical-align: middle;\n",
       "    }\n",
       "\n",
       "    .dataframe tbody tr th {\n",
       "        vertical-align: top;\n",
       "    }\n",
       "\n",
       "    .dataframe thead th {\n",
       "        text-align: right;\n",
       "    }\n",
       "</style>\n",
       "<table border=\"1\" class=\"dataframe\">\n",
       "  <thead>\n",
       "    <tr style=\"text-align: right;\">\n",
       "      <th></th>\n",
       "      <th>SUMLEV</th>\n",
       "      <th>REGION</th>\n",
       "      <th>DIVISION</th>\n",
       "      <th>STATE</th>\n",
       "      <th>COUNTY</th>\n",
       "      <th>STNAME</th>\n",
       "      <th>CTYNAME</th>\n",
       "      <th>CENSUS2010POP</th>\n",
       "      <th>ESTIMATESBASE2010</th>\n",
       "      <th>POPESTIMATE2010</th>\n",
       "      <th>...</th>\n",
       "      <th>RDOMESTICMIG2011</th>\n",
       "      <th>RDOMESTICMIG2012</th>\n",
       "      <th>RDOMESTICMIG2013</th>\n",
       "      <th>RDOMESTICMIG2014</th>\n",
       "      <th>RDOMESTICMIG2015</th>\n",
       "      <th>RNETMIG2011</th>\n",
       "      <th>RNETMIG2012</th>\n",
       "      <th>RNETMIG2013</th>\n",
       "      <th>RNETMIG2014</th>\n",
       "      <th>RNETMIG2015</th>\n",
       "    </tr>\n",
       "  </thead>\n",
       "  <tbody>\n",
       "    <tr>\n",
       "      <th>0</th>\n",
       "      <td>50</td>\n",
       "      <td>3</td>\n",
       "      <td>6</td>\n",
       "      <td>1</td>\n",
       "      <td>5</td>\n",
       "      <td>Alabama</td>\n",
       "      <td>Barbour County</td>\n",
       "      <td>27457</td>\n",
       "      <td>27457</td>\n",
       "      <td>27341</td>\n",
       "      <td>...</td>\n",
       "      <td>-4.728132</td>\n",
       "      <td>-2.500690</td>\n",
       "      <td>-7.056824</td>\n",
       "      <td>-3.904217</td>\n",
       "      <td>-10.543299</td>\n",
       "      <td>-4.874741</td>\n",
       "      <td>-2.758113</td>\n",
       "      <td>-7.167664</td>\n",
       "      <td>-3.978583</td>\n",
       "      <td>-10.543299</td>\n",
       "    </tr>\n",
       "    <tr>\n",
       "      <th>1</th>\n",
       "      <td>50</td>\n",
       "      <td>3</td>\n",
       "      <td>6</td>\n",
       "      <td>1</td>\n",
       "      <td>7</td>\n",
       "      <td>Alabama</td>\n",
       "      <td>Bibb County</td>\n",
       "      <td>22915</td>\n",
       "      <td>22919</td>\n",
       "      <td>22861</td>\n",
       "      <td>...</td>\n",
       "      <td>-5.527043</td>\n",
       "      <td>-5.068871</td>\n",
       "      <td>-6.201001</td>\n",
       "      <td>-0.177537</td>\n",
       "      <td>0.177258</td>\n",
       "      <td>-5.088389</td>\n",
       "      <td>-4.363636</td>\n",
       "      <td>-5.403729</td>\n",
       "      <td>0.754533</td>\n",
       "      <td>1.107861</td>\n",
       "    </tr>\n",
       "    <tr>\n",
       "      <th>2</th>\n",
       "      <td>50</td>\n",
       "      <td>3</td>\n",
       "      <td>6</td>\n",
       "      <td>1</td>\n",
       "      <td>9</td>\n",
       "      <td>Alabama</td>\n",
       "      <td>Blount County</td>\n",
       "      <td>57322</td>\n",
       "      <td>57322</td>\n",
       "      <td>57373</td>\n",
       "      <td>...</td>\n",
       "      <td>1.807375</td>\n",
       "      <td>-1.177622</td>\n",
       "      <td>-1.748766</td>\n",
       "      <td>-2.062535</td>\n",
       "      <td>-1.369970</td>\n",
       "      <td>1.859511</td>\n",
       "      <td>-0.848580</td>\n",
       "      <td>-1.402476</td>\n",
       "      <td>-1.577232</td>\n",
       "      <td>-0.884411</td>\n",
       "    </tr>\n",
       "    <tr>\n",
       "      <th>3</th>\n",
       "      <td>50</td>\n",
       "      <td>3</td>\n",
       "      <td>6</td>\n",
       "      <td>1</td>\n",
       "      <td>11</td>\n",
       "      <td>Alabama</td>\n",
       "      <td>Bullock County</td>\n",
       "      <td>10914</td>\n",
       "      <td>10915</td>\n",
       "      <td>10887</td>\n",
       "      <td>...</td>\n",
       "      <td>-30.953709</td>\n",
       "      <td>-5.180127</td>\n",
       "      <td>-1.130263</td>\n",
       "      <td>14.354290</td>\n",
       "      <td>-16.167247</td>\n",
       "      <td>-29.001673</td>\n",
       "      <td>-2.825524</td>\n",
       "      <td>1.507017</td>\n",
       "      <td>17.243790</td>\n",
       "      <td>-13.193961</td>\n",
       "    </tr>\n",
       "    <tr>\n",
       "      <th>4</th>\n",
       "      <td>50</td>\n",
       "      <td>3</td>\n",
       "      <td>6</td>\n",
       "      <td>1</td>\n",
       "      <td>13</td>\n",
       "      <td>Alabama</td>\n",
       "      <td>Butler County</td>\n",
       "      <td>20947</td>\n",
       "      <td>20946</td>\n",
       "      <td>20944</td>\n",
       "      <td>...</td>\n",
       "      <td>-14.032727</td>\n",
       "      <td>-11.684234</td>\n",
       "      <td>-5.655413</td>\n",
       "      <td>1.085428</td>\n",
       "      <td>-6.529805</td>\n",
       "      <td>-13.936612</td>\n",
       "      <td>-11.586865</td>\n",
       "      <td>-5.557058</td>\n",
       "      <td>1.184103</td>\n",
       "      <td>-6.430868</td>\n",
       "    </tr>\n",
       "    <tr>\n",
       "      <th>...</th>\n",
       "      <td>...</td>\n",
       "      <td>...</td>\n",
       "      <td>...</td>\n",
       "      <td>...</td>\n",
       "      <td>...</td>\n",
       "      <td>...</td>\n",
       "      <td>...</td>\n",
       "      <td>...</td>\n",
       "      <td>...</td>\n",
       "      <td>...</td>\n",
       "      <td>...</td>\n",
       "      <td>...</td>\n",
       "      <td>...</td>\n",
       "      <td>...</td>\n",
       "      <td>...</td>\n",
       "      <td>...</td>\n",
       "      <td>...</td>\n",
       "      <td>...</td>\n",
       "      <td>...</td>\n",
       "      <td>...</td>\n",
       "      <td>...</td>\n",
       "    </tr>\n",
       "    <tr>\n",
       "      <th>3185</th>\n",
       "      <td>50</td>\n",
       "      <td>4</td>\n",
       "      <td>8</td>\n",
       "      <td>56</td>\n",
       "      <td>37</td>\n",
       "      <td>Wyoming</td>\n",
       "      <td>Sweetwater County</td>\n",
       "      <td>43806</td>\n",
       "      <td>43806</td>\n",
       "      <td>43593</td>\n",
       "      <td>...</td>\n",
       "      <td>1.072643</td>\n",
       "      <td>16.243199</td>\n",
       "      <td>-5.339774</td>\n",
       "      <td>-14.252889</td>\n",
       "      <td>-14.248864</td>\n",
       "      <td>1.255221</td>\n",
       "      <td>16.243199</td>\n",
       "      <td>-5.295460</td>\n",
       "      <td>-14.075283</td>\n",
       "      <td>-14.070195</td>\n",
       "    </tr>\n",
       "    <tr>\n",
       "      <th>3186</th>\n",
       "      <td>50</td>\n",
       "      <td>4</td>\n",
       "      <td>8</td>\n",
       "      <td>56</td>\n",
       "      <td>39</td>\n",
       "      <td>Wyoming</td>\n",
       "      <td>Teton County</td>\n",
       "      <td>21294</td>\n",
       "      <td>21294</td>\n",
       "      <td>21297</td>\n",
       "      <td>...</td>\n",
       "      <td>-1.589565</td>\n",
       "      <td>0.972695</td>\n",
       "      <td>19.525929</td>\n",
       "      <td>14.143021</td>\n",
       "      <td>-0.564849</td>\n",
       "      <td>0.654527</td>\n",
       "      <td>2.408578</td>\n",
       "      <td>21.160658</td>\n",
       "      <td>16.308671</td>\n",
       "      <td>1.520747</td>\n",
       "    </tr>\n",
       "    <tr>\n",
       "      <th>3187</th>\n",
       "      <td>50</td>\n",
       "      <td>4</td>\n",
       "      <td>8</td>\n",
       "      <td>56</td>\n",
       "      <td>41</td>\n",
       "      <td>Wyoming</td>\n",
       "      <td>Uinta County</td>\n",
       "      <td>21118</td>\n",
       "      <td>21118</td>\n",
       "      <td>21102</td>\n",
       "      <td>...</td>\n",
       "      <td>-17.755986</td>\n",
       "      <td>-4.916350</td>\n",
       "      <td>-6.902954</td>\n",
       "      <td>-14.215862</td>\n",
       "      <td>-12.127022</td>\n",
       "      <td>-18.136812</td>\n",
       "      <td>-5.536861</td>\n",
       "      <td>-7.521840</td>\n",
       "      <td>-14.740608</td>\n",
       "      <td>-12.606351</td>\n",
       "    </tr>\n",
       "    <tr>\n",
       "      <th>3188</th>\n",
       "      <td>50</td>\n",
       "      <td>4</td>\n",
       "      <td>8</td>\n",
       "      <td>56</td>\n",
       "      <td>43</td>\n",
       "      <td>Wyoming</td>\n",
       "      <td>Washakie County</td>\n",
       "      <td>8533</td>\n",
       "      <td>8533</td>\n",
       "      <td>8545</td>\n",
       "      <td>...</td>\n",
       "      <td>-11.637475</td>\n",
       "      <td>-0.827815</td>\n",
       "      <td>-2.013502</td>\n",
       "      <td>-17.781491</td>\n",
       "      <td>1.682288</td>\n",
       "      <td>-11.990126</td>\n",
       "      <td>-1.182592</td>\n",
       "      <td>-2.250385</td>\n",
       "      <td>-18.020168</td>\n",
       "      <td>1.441961</td>\n",
       "    </tr>\n",
       "    <tr>\n",
       "      <th>3189</th>\n",
       "      <td>50</td>\n",
       "      <td>4</td>\n",
       "      <td>8</td>\n",
       "      <td>56</td>\n",
       "      <td>45</td>\n",
       "      <td>Wyoming</td>\n",
       "      <td>Weston County</td>\n",
       "      <td>7208</td>\n",
       "      <td>7208</td>\n",
       "      <td>7181</td>\n",
       "      <td>...</td>\n",
       "      <td>-11.752361</td>\n",
       "      <td>-8.040059</td>\n",
       "      <td>12.372583</td>\n",
       "      <td>1.533635</td>\n",
       "      <td>6.935294</td>\n",
       "      <td>-12.032179</td>\n",
       "      <td>-8.040059</td>\n",
       "      <td>12.372583</td>\n",
       "      <td>1.533635</td>\n",
       "      <td>6.935294</td>\n",
       "    </tr>\n",
       "  </tbody>\n",
       "</table>\n",
       "<p>3190 rows × 100 columns</p>\n",
       "</div>"
      ],
      "text/plain": [
       "      SUMLEV  REGION  DIVISION  STATE  COUNTY   STNAME            CTYNAME  \\\n",
       "0         50       3         6      1       5  Alabama     Barbour County   \n",
       "1         50       3         6      1       7  Alabama        Bibb County   \n",
       "2         50       3         6      1       9  Alabama      Blount County   \n",
       "3         50       3         6      1      11  Alabama     Bullock County   \n",
       "4         50       3         6      1      13  Alabama      Butler County   \n",
       "...      ...     ...       ...    ...     ...      ...                ...   \n",
       "3185      50       4         8     56      37  Wyoming  Sweetwater County   \n",
       "3186      50       4         8     56      39  Wyoming       Teton County   \n",
       "3187      50       4         8     56      41  Wyoming       Uinta County   \n",
       "3188      50       4         8     56      43  Wyoming    Washakie County   \n",
       "3189      50       4         8     56      45  Wyoming      Weston County   \n",
       "\n",
       "      CENSUS2010POP  ESTIMATESBASE2010  POPESTIMATE2010  ...  \\\n",
       "0             27457              27457            27341  ...   \n",
       "1             22915              22919            22861  ...   \n",
       "2             57322              57322            57373  ...   \n",
       "3             10914              10915            10887  ...   \n",
       "4             20947              20946            20944  ...   \n",
       "...             ...                ...              ...  ...   \n",
       "3185          43806              43806            43593  ...   \n",
       "3186          21294              21294            21297  ...   \n",
       "3187          21118              21118            21102  ...   \n",
       "3188           8533               8533             8545  ...   \n",
       "3189           7208               7208             7181  ...   \n",
       "\n",
       "      RDOMESTICMIG2011  RDOMESTICMIG2012  RDOMESTICMIG2013  RDOMESTICMIG2014  \\\n",
       "0            -4.728132         -2.500690         -7.056824         -3.904217   \n",
       "1            -5.527043         -5.068871         -6.201001         -0.177537   \n",
       "2             1.807375         -1.177622         -1.748766         -2.062535   \n",
       "3           -30.953709         -5.180127         -1.130263         14.354290   \n",
       "4           -14.032727        -11.684234         -5.655413          1.085428   \n",
       "...                ...               ...               ...               ...   \n",
       "3185          1.072643         16.243199         -5.339774        -14.252889   \n",
       "3186         -1.589565          0.972695         19.525929         14.143021   \n",
       "3187        -17.755986         -4.916350         -6.902954        -14.215862   \n",
       "3188        -11.637475         -0.827815         -2.013502        -17.781491   \n",
       "3189        -11.752361         -8.040059         12.372583          1.533635   \n",
       "\n",
       "      RDOMESTICMIG2015  RNETMIG2011  RNETMIG2012  RNETMIG2013  RNETMIG2014  \\\n",
       "0           -10.543299    -4.874741    -2.758113    -7.167664    -3.978583   \n",
       "1             0.177258    -5.088389    -4.363636    -5.403729     0.754533   \n",
       "2            -1.369970     1.859511    -0.848580    -1.402476    -1.577232   \n",
       "3           -16.167247   -29.001673    -2.825524     1.507017    17.243790   \n",
       "4            -6.529805   -13.936612   -11.586865    -5.557058     1.184103   \n",
       "...                ...          ...          ...          ...          ...   \n",
       "3185        -14.248864     1.255221    16.243199    -5.295460   -14.075283   \n",
       "3186         -0.564849     0.654527     2.408578    21.160658    16.308671   \n",
       "3187        -12.127022   -18.136812    -5.536861    -7.521840   -14.740608   \n",
       "3188          1.682288   -11.990126    -1.182592    -2.250385   -18.020168   \n",
       "3189          6.935294   -12.032179    -8.040059    12.372583     1.533635   \n",
       "\n",
       "      RNETMIG2015  \n",
       "0      -10.543299  \n",
       "1        1.107861  \n",
       "2       -0.884411  \n",
       "3      -13.193961  \n",
       "4       -6.430868  \n",
       "...           ...  \n",
       "3185   -14.070195  \n",
       "3186     1.520747  \n",
       "3187   -12.606351  \n",
       "3188     1.441961  \n",
       "3189     6.935294  \n",
       "\n",
       "[3190 rows x 100 columns]"
      ]
     },
     "execution_count": 60,
     "metadata": {},
     "output_type": "execute_result"
    }
   ],
   "source": [
    "#Skipping rows with inidices 1 to 3\n",
    "df = pd.read_csv(\"census.csv\", skiprows = range(1,4))\n",
    "df"
   ]
  },
  {
   "cell_type": "markdown",
   "metadata": {},
   "source": [
    "### Reindexing and Hierarchical indexing"
   ]
  },
  {
   "cell_type": "code",
   "execution_count": 61,
   "metadata": {
    "ExecuteTime": {
     "end_time": "2020-05-14T13:08:45.970188Z",
     "start_time": "2020-05-14T13:08:45.868727Z"
    }
   },
   "outputs": [
    {
     "data": {
      "text/html": [
       "<div>\n",
       "<style scoped>\n",
       "    .dataframe tbody tr th:only-of-type {\n",
       "        vertical-align: middle;\n",
       "    }\n",
       "\n",
       "    .dataframe tbody tr th {\n",
       "        vertical-align: top;\n",
       "    }\n",
       "\n",
       "    .dataframe thead th {\n",
       "        text-align: right;\n",
       "    }\n",
       "</style>\n",
       "<table border=\"1\" class=\"dataframe\">\n",
       "  <thead>\n",
       "    <tr style=\"text-align: right;\">\n",
       "      <th></th>\n",
       "      <th>SUMLEV</th>\n",
       "      <th>REGION</th>\n",
       "      <th>DIVISION</th>\n",
       "      <th>STATE</th>\n",
       "      <th>COUNTY</th>\n",
       "      <th>STNAME</th>\n",
       "      <th>CTYNAME</th>\n",
       "      <th>CENSUS2010POP</th>\n",
       "      <th>ESTIMATESBASE2010</th>\n",
       "      <th>POPESTIMATE2010</th>\n",
       "      <th>...</th>\n",
       "      <th>RDOMESTICMIG2011</th>\n",
       "      <th>RDOMESTICMIG2012</th>\n",
       "      <th>RDOMESTICMIG2013</th>\n",
       "      <th>RDOMESTICMIG2014</th>\n",
       "      <th>RDOMESTICMIG2015</th>\n",
       "      <th>RNETMIG2011</th>\n",
       "      <th>RNETMIG2012</th>\n",
       "      <th>RNETMIG2013</th>\n",
       "      <th>RNETMIG2014</th>\n",
       "      <th>RNETMIG2015</th>\n",
       "    </tr>\n",
       "  </thead>\n",
       "  <tbody>\n",
       "    <tr>\n",
       "      <th>0</th>\n",
       "      <td>40</td>\n",
       "      <td>3</td>\n",
       "      <td>6</td>\n",
       "      <td>1</td>\n",
       "      <td>0</td>\n",
       "      <td>Alabama</td>\n",
       "      <td>Alabama</td>\n",
       "      <td>4779736</td>\n",
       "      <td>4780127</td>\n",
       "      <td>4785161</td>\n",
       "      <td>...</td>\n",
       "      <td>0.002295</td>\n",
       "      <td>-0.193196</td>\n",
       "      <td>0.381066</td>\n",
       "      <td>0.582002</td>\n",
       "      <td>-0.467369</td>\n",
       "      <td>1.030015</td>\n",
       "      <td>0.826644</td>\n",
       "      <td>1.383282</td>\n",
       "      <td>1.724718</td>\n",
       "      <td>0.712594</td>\n",
       "    </tr>\n",
       "    <tr>\n",
       "      <th>1</th>\n",
       "      <td>50</td>\n",
       "      <td>3</td>\n",
       "      <td>6</td>\n",
       "      <td>1</td>\n",
       "      <td>1</td>\n",
       "      <td>Alabama</td>\n",
       "      <td>Autauga County</td>\n",
       "      <td>54571</td>\n",
       "      <td>54571</td>\n",
       "      <td>54660</td>\n",
       "      <td>...</td>\n",
       "      <td>7.242091</td>\n",
       "      <td>-2.915927</td>\n",
       "      <td>-3.012349</td>\n",
       "      <td>2.265971</td>\n",
       "      <td>-2.530799</td>\n",
       "      <td>7.606016</td>\n",
       "      <td>-2.626146</td>\n",
       "      <td>-2.722002</td>\n",
       "      <td>2.592270</td>\n",
       "      <td>-2.187333</td>\n",
       "    </tr>\n",
       "    <tr>\n",
       "      <th>2</th>\n",
       "      <td>50</td>\n",
       "      <td>3</td>\n",
       "      <td>6</td>\n",
       "      <td>1</td>\n",
       "      <td>3</td>\n",
       "      <td>Alabama</td>\n",
       "      <td>Baldwin County</td>\n",
       "      <td>182265</td>\n",
       "      <td>182265</td>\n",
       "      <td>183193</td>\n",
       "      <td>...</td>\n",
       "      <td>14.832960</td>\n",
       "      <td>17.647293</td>\n",
       "      <td>21.845705</td>\n",
       "      <td>19.243287</td>\n",
       "      <td>17.197872</td>\n",
       "      <td>15.844176</td>\n",
       "      <td>18.559627</td>\n",
       "      <td>22.727626</td>\n",
       "      <td>20.317142</td>\n",
       "      <td>18.293499</td>\n",
       "    </tr>\n",
       "    <tr>\n",
       "      <th>3</th>\n",
       "      <td>50</td>\n",
       "      <td>3</td>\n",
       "      <td>6</td>\n",
       "      <td>1</td>\n",
       "      <td>5</td>\n",
       "      <td>Alabama</td>\n",
       "      <td>Barbour County</td>\n",
       "      <td>27457</td>\n",
       "      <td>27457</td>\n",
       "      <td>27341</td>\n",
       "      <td>...</td>\n",
       "      <td>-4.728132</td>\n",
       "      <td>-2.500690</td>\n",
       "      <td>-7.056824</td>\n",
       "      <td>-3.904217</td>\n",
       "      <td>-10.543299</td>\n",
       "      <td>-4.874741</td>\n",
       "      <td>-2.758113</td>\n",
       "      <td>-7.167664</td>\n",
       "      <td>-3.978583</td>\n",
       "      <td>-10.543299</td>\n",
       "    </tr>\n",
       "    <tr>\n",
       "      <th>4</th>\n",
       "      <td>50</td>\n",
       "      <td>3</td>\n",
       "      <td>6</td>\n",
       "      <td>1</td>\n",
       "      <td>7</td>\n",
       "      <td>Alabama</td>\n",
       "      <td>Bibb County</td>\n",
       "      <td>22915</td>\n",
       "      <td>22919</td>\n",
       "      <td>22861</td>\n",
       "      <td>...</td>\n",
       "      <td>-5.527043</td>\n",
       "      <td>-5.068871</td>\n",
       "      <td>-6.201001</td>\n",
       "      <td>-0.177537</td>\n",
       "      <td>0.177258</td>\n",
       "      <td>-5.088389</td>\n",
       "      <td>-4.363636</td>\n",
       "      <td>-5.403729</td>\n",
       "      <td>0.754533</td>\n",
       "      <td>1.107861</td>\n",
       "    </tr>\n",
       "  </tbody>\n",
       "</table>\n",
       "<p>5 rows × 100 columns</p>\n",
       "</div>"
      ],
      "text/plain": [
       "   SUMLEV  REGION  DIVISION  STATE  COUNTY   STNAME         CTYNAME  \\\n",
       "0      40       3         6      1       0  Alabama         Alabama   \n",
       "1      50       3         6      1       1  Alabama  Autauga County   \n",
       "2      50       3         6      1       3  Alabama  Baldwin County   \n",
       "3      50       3         6      1       5  Alabama  Barbour County   \n",
       "4      50       3         6      1       7  Alabama     Bibb County   \n",
       "\n",
       "   CENSUS2010POP  ESTIMATESBASE2010  POPESTIMATE2010  ...  RDOMESTICMIG2011  \\\n",
       "0        4779736            4780127          4785161  ...          0.002295   \n",
       "1          54571              54571            54660  ...          7.242091   \n",
       "2         182265             182265           183193  ...         14.832960   \n",
       "3          27457              27457            27341  ...         -4.728132   \n",
       "4          22915              22919            22861  ...         -5.527043   \n",
       "\n",
       "   RDOMESTICMIG2012  RDOMESTICMIG2013  RDOMESTICMIG2014  RDOMESTICMIG2015  \\\n",
       "0         -0.193196          0.381066          0.582002         -0.467369   \n",
       "1         -2.915927         -3.012349          2.265971         -2.530799   \n",
       "2         17.647293         21.845705         19.243287         17.197872   \n",
       "3         -2.500690         -7.056824         -3.904217        -10.543299   \n",
       "4         -5.068871         -6.201001         -0.177537          0.177258   \n",
       "\n",
       "   RNETMIG2011  RNETMIG2012  RNETMIG2013  RNETMIG2014  RNETMIG2015  \n",
       "0     1.030015     0.826644     1.383282     1.724718     0.712594  \n",
       "1     7.606016    -2.626146    -2.722002     2.592270    -2.187333  \n",
       "2    15.844176    18.559627    22.727626    20.317142    18.293499  \n",
       "3    -4.874741    -2.758113    -7.167664    -3.978583   -10.543299  \n",
       "4    -5.088389    -4.363636    -5.403729     0.754533     1.107861  \n",
       "\n",
       "[5 rows x 100 columns]"
      ]
     },
     "execution_count": 61,
     "metadata": {},
     "output_type": "execute_result"
    }
   ],
   "source": [
    "df = pd.read_csv('census.csv')\n",
    "df.head()"
   ]
  },
  {
   "cell_type": "markdown",
   "metadata": {},
   "source": [
    "Reindexing is the process of changing the index of a dataframe to one or more columns. A particular column or columns can be set as index using <code>df.set_index()</code>."
   ]
  },
  {
   "cell_type": "code",
   "execution_count": 62,
   "metadata": {
    "ExecuteTime": {
     "end_time": "2020-05-14T13:08:46.020628Z",
     "start_time": "2020-05-14T13:08:45.972924Z"
    }
   },
   "outputs": [
    {
     "data": {
      "text/html": [
       "<div>\n",
       "<style scoped>\n",
       "    .dataframe tbody tr th:only-of-type {\n",
       "        vertical-align: middle;\n",
       "    }\n",
       "\n",
       "    .dataframe tbody tr th {\n",
       "        vertical-align: top;\n",
       "    }\n",
       "\n",
       "    .dataframe thead th {\n",
       "        text-align: right;\n",
       "    }\n",
       "</style>\n",
       "<table border=\"1\" class=\"dataframe\">\n",
       "  <thead>\n",
       "    <tr style=\"text-align: right;\">\n",
       "      <th></th>\n",
       "      <th>SUMLEV</th>\n",
       "      <th>REGION</th>\n",
       "      <th>DIVISION</th>\n",
       "      <th>STATE</th>\n",
       "      <th>COUNTY</th>\n",
       "      <th>CTYNAME</th>\n",
       "      <th>CENSUS2010POP</th>\n",
       "      <th>ESTIMATESBASE2010</th>\n",
       "      <th>POPESTIMATE2010</th>\n",
       "      <th>POPESTIMATE2011</th>\n",
       "      <th>...</th>\n",
       "      <th>RDOMESTICMIG2011</th>\n",
       "      <th>RDOMESTICMIG2012</th>\n",
       "      <th>RDOMESTICMIG2013</th>\n",
       "      <th>RDOMESTICMIG2014</th>\n",
       "      <th>RDOMESTICMIG2015</th>\n",
       "      <th>RNETMIG2011</th>\n",
       "      <th>RNETMIG2012</th>\n",
       "      <th>RNETMIG2013</th>\n",
       "      <th>RNETMIG2014</th>\n",
       "      <th>RNETMIG2015</th>\n",
       "    </tr>\n",
       "    <tr>\n",
       "      <th>STNAME</th>\n",
       "      <th></th>\n",
       "      <th></th>\n",
       "      <th></th>\n",
       "      <th></th>\n",
       "      <th></th>\n",
       "      <th></th>\n",
       "      <th></th>\n",
       "      <th></th>\n",
       "      <th></th>\n",
       "      <th></th>\n",
       "      <th></th>\n",
       "      <th></th>\n",
       "      <th></th>\n",
       "      <th></th>\n",
       "      <th></th>\n",
       "      <th></th>\n",
       "      <th></th>\n",
       "      <th></th>\n",
       "      <th></th>\n",
       "      <th></th>\n",
       "      <th></th>\n",
       "    </tr>\n",
       "  </thead>\n",
       "  <tbody>\n",
       "    <tr>\n",
       "      <th>Alabama</th>\n",
       "      <td>40</td>\n",
       "      <td>3</td>\n",
       "      <td>6</td>\n",
       "      <td>1</td>\n",
       "      <td>0</td>\n",
       "      <td>Alabama</td>\n",
       "      <td>4779736</td>\n",
       "      <td>4780127</td>\n",
       "      <td>4785161</td>\n",
       "      <td>4801108</td>\n",
       "      <td>...</td>\n",
       "      <td>0.002295</td>\n",
       "      <td>-0.193196</td>\n",
       "      <td>0.381066</td>\n",
       "      <td>0.582002</td>\n",
       "      <td>-0.467369</td>\n",
       "      <td>1.030015</td>\n",
       "      <td>0.826644</td>\n",
       "      <td>1.383282</td>\n",
       "      <td>1.724718</td>\n",
       "      <td>0.712594</td>\n",
       "    </tr>\n",
       "    <tr>\n",
       "      <th>Alabama</th>\n",
       "      <td>50</td>\n",
       "      <td>3</td>\n",
       "      <td>6</td>\n",
       "      <td>1</td>\n",
       "      <td>1</td>\n",
       "      <td>Autauga County</td>\n",
       "      <td>54571</td>\n",
       "      <td>54571</td>\n",
       "      <td>54660</td>\n",
       "      <td>55253</td>\n",
       "      <td>...</td>\n",
       "      <td>7.242091</td>\n",
       "      <td>-2.915927</td>\n",
       "      <td>-3.012349</td>\n",
       "      <td>2.265971</td>\n",
       "      <td>-2.530799</td>\n",
       "      <td>7.606016</td>\n",
       "      <td>-2.626146</td>\n",
       "      <td>-2.722002</td>\n",
       "      <td>2.592270</td>\n",
       "      <td>-2.187333</td>\n",
       "    </tr>\n",
       "    <tr>\n",
       "      <th>Alabama</th>\n",
       "      <td>50</td>\n",
       "      <td>3</td>\n",
       "      <td>6</td>\n",
       "      <td>1</td>\n",
       "      <td>3</td>\n",
       "      <td>Baldwin County</td>\n",
       "      <td>182265</td>\n",
       "      <td>182265</td>\n",
       "      <td>183193</td>\n",
       "      <td>186659</td>\n",
       "      <td>...</td>\n",
       "      <td>14.832960</td>\n",
       "      <td>17.647293</td>\n",
       "      <td>21.845705</td>\n",
       "      <td>19.243287</td>\n",
       "      <td>17.197872</td>\n",
       "      <td>15.844176</td>\n",
       "      <td>18.559627</td>\n",
       "      <td>22.727626</td>\n",
       "      <td>20.317142</td>\n",
       "      <td>18.293499</td>\n",
       "    </tr>\n",
       "    <tr>\n",
       "      <th>Alabama</th>\n",
       "      <td>50</td>\n",
       "      <td>3</td>\n",
       "      <td>6</td>\n",
       "      <td>1</td>\n",
       "      <td>5</td>\n",
       "      <td>Barbour County</td>\n",
       "      <td>27457</td>\n",
       "      <td>27457</td>\n",
       "      <td>27341</td>\n",
       "      <td>27226</td>\n",
       "      <td>...</td>\n",
       "      <td>-4.728132</td>\n",
       "      <td>-2.500690</td>\n",
       "      <td>-7.056824</td>\n",
       "      <td>-3.904217</td>\n",
       "      <td>-10.543299</td>\n",
       "      <td>-4.874741</td>\n",
       "      <td>-2.758113</td>\n",
       "      <td>-7.167664</td>\n",
       "      <td>-3.978583</td>\n",
       "      <td>-10.543299</td>\n",
       "    </tr>\n",
       "    <tr>\n",
       "      <th>Alabama</th>\n",
       "      <td>50</td>\n",
       "      <td>3</td>\n",
       "      <td>6</td>\n",
       "      <td>1</td>\n",
       "      <td>7</td>\n",
       "      <td>Bibb County</td>\n",
       "      <td>22915</td>\n",
       "      <td>22919</td>\n",
       "      <td>22861</td>\n",
       "      <td>22733</td>\n",
       "      <td>...</td>\n",
       "      <td>-5.527043</td>\n",
       "      <td>-5.068871</td>\n",
       "      <td>-6.201001</td>\n",
       "      <td>-0.177537</td>\n",
       "      <td>0.177258</td>\n",
       "      <td>-5.088389</td>\n",
       "      <td>-4.363636</td>\n",
       "      <td>-5.403729</td>\n",
       "      <td>0.754533</td>\n",
       "      <td>1.107861</td>\n",
       "    </tr>\n",
       "    <tr>\n",
       "      <th>...</th>\n",
       "      <td>...</td>\n",
       "      <td>...</td>\n",
       "      <td>...</td>\n",
       "      <td>...</td>\n",
       "      <td>...</td>\n",
       "      <td>...</td>\n",
       "      <td>...</td>\n",
       "      <td>...</td>\n",
       "      <td>...</td>\n",
       "      <td>...</td>\n",
       "      <td>...</td>\n",
       "      <td>...</td>\n",
       "      <td>...</td>\n",
       "      <td>...</td>\n",
       "      <td>...</td>\n",
       "      <td>...</td>\n",
       "      <td>...</td>\n",
       "      <td>...</td>\n",
       "      <td>...</td>\n",
       "      <td>...</td>\n",
       "      <td>...</td>\n",
       "    </tr>\n",
       "    <tr>\n",
       "      <th>Wyoming</th>\n",
       "      <td>50</td>\n",
       "      <td>4</td>\n",
       "      <td>8</td>\n",
       "      <td>56</td>\n",
       "      <td>37</td>\n",
       "      <td>Sweetwater County</td>\n",
       "      <td>43806</td>\n",
       "      <td>43806</td>\n",
       "      <td>43593</td>\n",
       "      <td>44041</td>\n",
       "      <td>...</td>\n",
       "      <td>1.072643</td>\n",
       "      <td>16.243199</td>\n",
       "      <td>-5.339774</td>\n",
       "      <td>-14.252889</td>\n",
       "      <td>-14.248864</td>\n",
       "      <td>1.255221</td>\n",
       "      <td>16.243199</td>\n",
       "      <td>-5.295460</td>\n",
       "      <td>-14.075283</td>\n",
       "      <td>-14.070195</td>\n",
       "    </tr>\n",
       "    <tr>\n",
       "      <th>Wyoming</th>\n",
       "      <td>50</td>\n",
       "      <td>4</td>\n",
       "      <td>8</td>\n",
       "      <td>56</td>\n",
       "      <td>39</td>\n",
       "      <td>Teton County</td>\n",
       "      <td>21294</td>\n",
       "      <td>21294</td>\n",
       "      <td>21297</td>\n",
       "      <td>21482</td>\n",
       "      <td>...</td>\n",
       "      <td>-1.589565</td>\n",
       "      <td>0.972695</td>\n",
       "      <td>19.525929</td>\n",
       "      <td>14.143021</td>\n",
       "      <td>-0.564849</td>\n",
       "      <td>0.654527</td>\n",
       "      <td>2.408578</td>\n",
       "      <td>21.160658</td>\n",
       "      <td>16.308671</td>\n",
       "      <td>1.520747</td>\n",
       "    </tr>\n",
       "    <tr>\n",
       "      <th>Wyoming</th>\n",
       "      <td>50</td>\n",
       "      <td>4</td>\n",
       "      <td>8</td>\n",
       "      <td>56</td>\n",
       "      <td>41</td>\n",
       "      <td>Uinta County</td>\n",
       "      <td>21118</td>\n",
       "      <td>21118</td>\n",
       "      <td>21102</td>\n",
       "      <td>20912</td>\n",
       "      <td>...</td>\n",
       "      <td>-17.755986</td>\n",
       "      <td>-4.916350</td>\n",
       "      <td>-6.902954</td>\n",
       "      <td>-14.215862</td>\n",
       "      <td>-12.127022</td>\n",
       "      <td>-18.136812</td>\n",
       "      <td>-5.536861</td>\n",
       "      <td>-7.521840</td>\n",
       "      <td>-14.740608</td>\n",
       "      <td>-12.606351</td>\n",
       "    </tr>\n",
       "    <tr>\n",
       "      <th>Wyoming</th>\n",
       "      <td>50</td>\n",
       "      <td>4</td>\n",
       "      <td>8</td>\n",
       "      <td>56</td>\n",
       "      <td>43</td>\n",
       "      <td>Washakie County</td>\n",
       "      <td>8533</td>\n",
       "      <td>8533</td>\n",
       "      <td>8545</td>\n",
       "      <td>8469</td>\n",
       "      <td>...</td>\n",
       "      <td>-11.637475</td>\n",
       "      <td>-0.827815</td>\n",
       "      <td>-2.013502</td>\n",
       "      <td>-17.781491</td>\n",
       "      <td>1.682288</td>\n",
       "      <td>-11.990126</td>\n",
       "      <td>-1.182592</td>\n",
       "      <td>-2.250385</td>\n",
       "      <td>-18.020168</td>\n",
       "      <td>1.441961</td>\n",
       "    </tr>\n",
       "    <tr>\n",
       "      <th>Wyoming</th>\n",
       "      <td>50</td>\n",
       "      <td>4</td>\n",
       "      <td>8</td>\n",
       "      <td>56</td>\n",
       "      <td>45</td>\n",
       "      <td>Weston County</td>\n",
       "      <td>7208</td>\n",
       "      <td>7208</td>\n",
       "      <td>7181</td>\n",
       "      <td>7114</td>\n",
       "      <td>...</td>\n",
       "      <td>-11.752361</td>\n",
       "      <td>-8.040059</td>\n",
       "      <td>12.372583</td>\n",
       "      <td>1.533635</td>\n",
       "      <td>6.935294</td>\n",
       "      <td>-12.032179</td>\n",
       "      <td>-8.040059</td>\n",
       "      <td>12.372583</td>\n",
       "      <td>1.533635</td>\n",
       "      <td>6.935294</td>\n",
       "    </tr>\n",
       "  </tbody>\n",
       "</table>\n",
       "<p>3193 rows × 99 columns</p>\n",
       "</div>"
      ],
      "text/plain": [
       "         SUMLEV  REGION  DIVISION  STATE  COUNTY            CTYNAME  \\\n",
       "STNAME                                                                \n",
       "Alabama      40       3         6      1       0            Alabama   \n",
       "Alabama      50       3         6      1       1     Autauga County   \n",
       "Alabama      50       3         6      1       3     Baldwin County   \n",
       "Alabama      50       3         6      1       5     Barbour County   \n",
       "Alabama      50       3         6      1       7        Bibb County   \n",
       "...         ...     ...       ...    ...     ...                ...   \n",
       "Wyoming      50       4         8     56      37  Sweetwater County   \n",
       "Wyoming      50       4         8     56      39       Teton County   \n",
       "Wyoming      50       4         8     56      41       Uinta County   \n",
       "Wyoming      50       4         8     56      43    Washakie County   \n",
       "Wyoming      50       4         8     56      45      Weston County   \n",
       "\n",
       "         CENSUS2010POP  ESTIMATESBASE2010  POPESTIMATE2010  POPESTIMATE2011  \\\n",
       "STNAME                                                                        \n",
       "Alabama        4779736            4780127          4785161          4801108   \n",
       "Alabama          54571              54571            54660            55253   \n",
       "Alabama         182265             182265           183193           186659   \n",
       "Alabama          27457              27457            27341            27226   \n",
       "Alabama          22915              22919            22861            22733   \n",
       "...                ...                ...              ...              ...   \n",
       "Wyoming          43806              43806            43593            44041   \n",
       "Wyoming          21294              21294            21297            21482   \n",
       "Wyoming          21118              21118            21102            20912   \n",
       "Wyoming           8533               8533             8545             8469   \n",
       "Wyoming           7208               7208             7181             7114   \n",
       "\n",
       "         ...  RDOMESTICMIG2011  RDOMESTICMIG2012  RDOMESTICMIG2013  \\\n",
       "STNAME   ...                                                         \n",
       "Alabama  ...          0.002295         -0.193196          0.381066   \n",
       "Alabama  ...          7.242091         -2.915927         -3.012349   \n",
       "Alabama  ...         14.832960         17.647293         21.845705   \n",
       "Alabama  ...         -4.728132         -2.500690         -7.056824   \n",
       "Alabama  ...         -5.527043         -5.068871         -6.201001   \n",
       "...      ...               ...               ...               ...   \n",
       "Wyoming  ...          1.072643         16.243199         -5.339774   \n",
       "Wyoming  ...         -1.589565          0.972695         19.525929   \n",
       "Wyoming  ...        -17.755986         -4.916350         -6.902954   \n",
       "Wyoming  ...        -11.637475         -0.827815         -2.013502   \n",
       "Wyoming  ...        -11.752361         -8.040059         12.372583   \n",
       "\n",
       "         RDOMESTICMIG2014  RDOMESTICMIG2015  RNETMIG2011  RNETMIG2012  \\\n",
       "STNAME                                                                  \n",
       "Alabama          0.582002         -0.467369     1.030015     0.826644   \n",
       "Alabama          2.265971         -2.530799     7.606016    -2.626146   \n",
       "Alabama         19.243287         17.197872    15.844176    18.559627   \n",
       "Alabama         -3.904217        -10.543299    -4.874741    -2.758113   \n",
       "Alabama         -0.177537          0.177258    -5.088389    -4.363636   \n",
       "...                   ...               ...          ...          ...   \n",
       "Wyoming        -14.252889        -14.248864     1.255221    16.243199   \n",
       "Wyoming         14.143021         -0.564849     0.654527     2.408578   \n",
       "Wyoming        -14.215862        -12.127022   -18.136812    -5.536861   \n",
       "Wyoming        -17.781491          1.682288   -11.990126    -1.182592   \n",
       "Wyoming          1.533635          6.935294   -12.032179    -8.040059   \n",
       "\n",
       "         RNETMIG2013  RNETMIG2014  RNETMIG2015  \n",
       "STNAME                                          \n",
       "Alabama     1.383282     1.724718     0.712594  \n",
       "Alabama    -2.722002     2.592270    -2.187333  \n",
       "Alabama    22.727626    20.317142    18.293499  \n",
       "Alabama    -7.167664    -3.978583   -10.543299  \n",
       "Alabama    -5.403729     0.754533     1.107861  \n",
       "...              ...          ...          ...  \n",
       "Wyoming    -5.295460   -14.075283   -14.070195  \n",
       "Wyoming    21.160658    16.308671     1.520747  \n",
       "Wyoming    -7.521840   -14.740608   -12.606351  \n",
       "Wyoming    -2.250385   -18.020168     1.441961  \n",
       "Wyoming    12.372583     1.533635     6.935294  \n",
       "\n",
       "[3193 rows x 99 columns]"
      ]
     },
     "execution_count": 62,
     "metadata": {},
     "output_type": "execute_result"
    }
   ],
   "source": [
    "df = df.set_index('STNAME') \n",
    "#df.set_index() creates a new dataframe and hence to reflect changes it is assigned to same dataframe\n",
    "df"
   ]
  },
  {
   "cell_type": "markdown",
   "metadata": {},
   "source": [
    "<code>df.reset_index()</code> does the opposite of <code>df.set_index()</code> and sets the index of dataframe back to integer indices"
   ]
  },
  {
   "cell_type": "code",
   "execution_count": 63,
   "metadata": {
    "ExecuteTime": {
     "end_time": "2020-05-14T13:08:46.073837Z",
     "start_time": "2020-05-14T13:08:46.022102Z"
    }
   },
   "outputs": [
    {
     "data": {
      "text/html": [
       "<div>\n",
       "<style scoped>\n",
       "    .dataframe tbody tr th:only-of-type {\n",
       "        vertical-align: middle;\n",
       "    }\n",
       "\n",
       "    .dataframe tbody tr th {\n",
       "        vertical-align: top;\n",
       "    }\n",
       "\n",
       "    .dataframe thead th {\n",
       "        text-align: right;\n",
       "    }\n",
       "</style>\n",
       "<table border=\"1\" class=\"dataframe\">\n",
       "  <thead>\n",
       "    <tr style=\"text-align: right;\">\n",
       "      <th></th>\n",
       "      <th>STNAME</th>\n",
       "      <th>SUMLEV</th>\n",
       "      <th>REGION</th>\n",
       "      <th>DIVISION</th>\n",
       "      <th>STATE</th>\n",
       "      <th>COUNTY</th>\n",
       "      <th>CTYNAME</th>\n",
       "      <th>CENSUS2010POP</th>\n",
       "      <th>ESTIMATESBASE2010</th>\n",
       "      <th>POPESTIMATE2010</th>\n",
       "      <th>...</th>\n",
       "      <th>RDOMESTICMIG2011</th>\n",
       "      <th>RDOMESTICMIG2012</th>\n",
       "      <th>RDOMESTICMIG2013</th>\n",
       "      <th>RDOMESTICMIG2014</th>\n",
       "      <th>RDOMESTICMIG2015</th>\n",
       "      <th>RNETMIG2011</th>\n",
       "      <th>RNETMIG2012</th>\n",
       "      <th>RNETMIG2013</th>\n",
       "      <th>RNETMIG2014</th>\n",
       "      <th>RNETMIG2015</th>\n",
       "    </tr>\n",
       "  </thead>\n",
       "  <tbody>\n",
       "    <tr>\n",
       "      <th>0</th>\n",
       "      <td>Alabama</td>\n",
       "      <td>40</td>\n",
       "      <td>3</td>\n",
       "      <td>6</td>\n",
       "      <td>1</td>\n",
       "      <td>0</td>\n",
       "      <td>Alabama</td>\n",
       "      <td>4779736</td>\n",
       "      <td>4780127</td>\n",
       "      <td>4785161</td>\n",
       "      <td>...</td>\n",
       "      <td>0.002295</td>\n",
       "      <td>-0.193196</td>\n",
       "      <td>0.381066</td>\n",
       "      <td>0.582002</td>\n",
       "      <td>-0.467369</td>\n",
       "      <td>1.030015</td>\n",
       "      <td>0.826644</td>\n",
       "      <td>1.383282</td>\n",
       "      <td>1.724718</td>\n",
       "      <td>0.712594</td>\n",
       "    </tr>\n",
       "    <tr>\n",
       "      <th>1</th>\n",
       "      <td>Alabama</td>\n",
       "      <td>50</td>\n",
       "      <td>3</td>\n",
       "      <td>6</td>\n",
       "      <td>1</td>\n",
       "      <td>1</td>\n",
       "      <td>Autauga County</td>\n",
       "      <td>54571</td>\n",
       "      <td>54571</td>\n",
       "      <td>54660</td>\n",
       "      <td>...</td>\n",
       "      <td>7.242091</td>\n",
       "      <td>-2.915927</td>\n",
       "      <td>-3.012349</td>\n",
       "      <td>2.265971</td>\n",
       "      <td>-2.530799</td>\n",
       "      <td>7.606016</td>\n",
       "      <td>-2.626146</td>\n",
       "      <td>-2.722002</td>\n",
       "      <td>2.592270</td>\n",
       "      <td>-2.187333</td>\n",
       "    </tr>\n",
       "    <tr>\n",
       "      <th>2</th>\n",
       "      <td>Alabama</td>\n",
       "      <td>50</td>\n",
       "      <td>3</td>\n",
       "      <td>6</td>\n",
       "      <td>1</td>\n",
       "      <td>3</td>\n",
       "      <td>Baldwin County</td>\n",
       "      <td>182265</td>\n",
       "      <td>182265</td>\n",
       "      <td>183193</td>\n",
       "      <td>...</td>\n",
       "      <td>14.832960</td>\n",
       "      <td>17.647293</td>\n",
       "      <td>21.845705</td>\n",
       "      <td>19.243287</td>\n",
       "      <td>17.197872</td>\n",
       "      <td>15.844176</td>\n",
       "      <td>18.559627</td>\n",
       "      <td>22.727626</td>\n",
       "      <td>20.317142</td>\n",
       "      <td>18.293499</td>\n",
       "    </tr>\n",
       "    <tr>\n",
       "      <th>3</th>\n",
       "      <td>Alabama</td>\n",
       "      <td>50</td>\n",
       "      <td>3</td>\n",
       "      <td>6</td>\n",
       "      <td>1</td>\n",
       "      <td>5</td>\n",
       "      <td>Barbour County</td>\n",
       "      <td>27457</td>\n",
       "      <td>27457</td>\n",
       "      <td>27341</td>\n",
       "      <td>...</td>\n",
       "      <td>-4.728132</td>\n",
       "      <td>-2.500690</td>\n",
       "      <td>-7.056824</td>\n",
       "      <td>-3.904217</td>\n",
       "      <td>-10.543299</td>\n",
       "      <td>-4.874741</td>\n",
       "      <td>-2.758113</td>\n",
       "      <td>-7.167664</td>\n",
       "      <td>-3.978583</td>\n",
       "      <td>-10.543299</td>\n",
       "    </tr>\n",
       "    <tr>\n",
       "      <th>4</th>\n",
       "      <td>Alabama</td>\n",
       "      <td>50</td>\n",
       "      <td>3</td>\n",
       "      <td>6</td>\n",
       "      <td>1</td>\n",
       "      <td>7</td>\n",
       "      <td>Bibb County</td>\n",
       "      <td>22915</td>\n",
       "      <td>22919</td>\n",
       "      <td>22861</td>\n",
       "      <td>...</td>\n",
       "      <td>-5.527043</td>\n",
       "      <td>-5.068871</td>\n",
       "      <td>-6.201001</td>\n",
       "      <td>-0.177537</td>\n",
       "      <td>0.177258</td>\n",
       "      <td>-5.088389</td>\n",
       "      <td>-4.363636</td>\n",
       "      <td>-5.403729</td>\n",
       "      <td>0.754533</td>\n",
       "      <td>1.107861</td>\n",
       "    </tr>\n",
       "    <tr>\n",
       "      <th>...</th>\n",
       "      <td>...</td>\n",
       "      <td>...</td>\n",
       "      <td>...</td>\n",
       "      <td>...</td>\n",
       "      <td>...</td>\n",
       "      <td>...</td>\n",
       "      <td>...</td>\n",
       "      <td>...</td>\n",
       "      <td>...</td>\n",
       "      <td>...</td>\n",
       "      <td>...</td>\n",
       "      <td>...</td>\n",
       "      <td>...</td>\n",
       "      <td>...</td>\n",
       "      <td>...</td>\n",
       "      <td>...</td>\n",
       "      <td>...</td>\n",
       "      <td>...</td>\n",
       "      <td>...</td>\n",
       "      <td>...</td>\n",
       "      <td>...</td>\n",
       "    </tr>\n",
       "    <tr>\n",
       "      <th>3188</th>\n",
       "      <td>Wyoming</td>\n",
       "      <td>50</td>\n",
       "      <td>4</td>\n",
       "      <td>8</td>\n",
       "      <td>56</td>\n",
       "      <td>37</td>\n",
       "      <td>Sweetwater County</td>\n",
       "      <td>43806</td>\n",
       "      <td>43806</td>\n",
       "      <td>43593</td>\n",
       "      <td>...</td>\n",
       "      <td>1.072643</td>\n",
       "      <td>16.243199</td>\n",
       "      <td>-5.339774</td>\n",
       "      <td>-14.252889</td>\n",
       "      <td>-14.248864</td>\n",
       "      <td>1.255221</td>\n",
       "      <td>16.243199</td>\n",
       "      <td>-5.295460</td>\n",
       "      <td>-14.075283</td>\n",
       "      <td>-14.070195</td>\n",
       "    </tr>\n",
       "    <tr>\n",
       "      <th>3189</th>\n",
       "      <td>Wyoming</td>\n",
       "      <td>50</td>\n",
       "      <td>4</td>\n",
       "      <td>8</td>\n",
       "      <td>56</td>\n",
       "      <td>39</td>\n",
       "      <td>Teton County</td>\n",
       "      <td>21294</td>\n",
       "      <td>21294</td>\n",
       "      <td>21297</td>\n",
       "      <td>...</td>\n",
       "      <td>-1.589565</td>\n",
       "      <td>0.972695</td>\n",
       "      <td>19.525929</td>\n",
       "      <td>14.143021</td>\n",
       "      <td>-0.564849</td>\n",
       "      <td>0.654527</td>\n",
       "      <td>2.408578</td>\n",
       "      <td>21.160658</td>\n",
       "      <td>16.308671</td>\n",
       "      <td>1.520747</td>\n",
       "    </tr>\n",
       "    <tr>\n",
       "      <th>3190</th>\n",
       "      <td>Wyoming</td>\n",
       "      <td>50</td>\n",
       "      <td>4</td>\n",
       "      <td>8</td>\n",
       "      <td>56</td>\n",
       "      <td>41</td>\n",
       "      <td>Uinta County</td>\n",
       "      <td>21118</td>\n",
       "      <td>21118</td>\n",
       "      <td>21102</td>\n",
       "      <td>...</td>\n",
       "      <td>-17.755986</td>\n",
       "      <td>-4.916350</td>\n",
       "      <td>-6.902954</td>\n",
       "      <td>-14.215862</td>\n",
       "      <td>-12.127022</td>\n",
       "      <td>-18.136812</td>\n",
       "      <td>-5.536861</td>\n",
       "      <td>-7.521840</td>\n",
       "      <td>-14.740608</td>\n",
       "      <td>-12.606351</td>\n",
       "    </tr>\n",
       "    <tr>\n",
       "      <th>3191</th>\n",
       "      <td>Wyoming</td>\n",
       "      <td>50</td>\n",
       "      <td>4</td>\n",
       "      <td>8</td>\n",
       "      <td>56</td>\n",
       "      <td>43</td>\n",
       "      <td>Washakie County</td>\n",
       "      <td>8533</td>\n",
       "      <td>8533</td>\n",
       "      <td>8545</td>\n",
       "      <td>...</td>\n",
       "      <td>-11.637475</td>\n",
       "      <td>-0.827815</td>\n",
       "      <td>-2.013502</td>\n",
       "      <td>-17.781491</td>\n",
       "      <td>1.682288</td>\n",
       "      <td>-11.990126</td>\n",
       "      <td>-1.182592</td>\n",
       "      <td>-2.250385</td>\n",
       "      <td>-18.020168</td>\n",
       "      <td>1.441961</td>\n",
       "    </tr>\n",
       "    <tr>\n",
       "      <th>3192</th>\n",
       "      <td>Wyoming</td>\n",
       "      <td>50</td>\n",
       "      <td>4</td>\n",
       "      <td>8</td>\n",
       "      <td>56</td>\n",
       "      <td>45</td>\n",
       "      <td>Weston County</td>\n",
       "      <td>7208</td>\n",
       "      <td>7208</td>\n",
       "      <td>7181</td>\n",
       "      <td>...</td>\n",
       "      <td>-11.752361</td>\n",
       "      <td>-8.040059</td>\n",
       "      <td>12.372583</td>\n",
       "      <td>1.533635</td>\n",
       "      <td>6.935294</td>\n",
       "      <td>-12.032179</td>\n",
       "      <td>-8.040059</td>\n",
       "      <td>12.372583</td>\n",
       "      <td>1.533635</td>\n",
       "      <td>6.935294</td>\n",
       "    </tr>\n",
       "  </tbody>\n",
       "</table>\n",
       "<p>3193 rows × 100 columns</p>\n",
       "</div>"
      ],
      "text/plain": [
       "       STNAME  SUMLEV  REGION  DIVISION  STATE  COUNTY            CTYNAME  \\\n",
       "0     Alabama      40       3         6      1       0            Alabama   \n",
       "1     Alabama      50       3         6      1       1     Autauga County   \n",
       "2     Alabama      50       3         6      1       3     Baldwin County   \n",
       "3     Alabama      50       3         6      1       5     Barbour County   \n",
       "4     Alabama      50       3         6      1       7        Bibb County   \n",
       "...       ...     ...     ...       ...    ...     ...                ...   \n",
       "3188  Wyoming      50       4         8     56      37  Sweetwater County   \n",
       "3189  Wyoming      50       4         8     56      39       Teton County   \n",
       "3190  Wyoming      50       4         8     56      41       Uinta County   \n",
       "3191  Wyoming      50       4         8     56      43    Washakie County   \n",
       "3192  Wyoming      50       4         8     56      45      Weston County   \n",
       "\n",
       "      CENSUS2010POP  ESTIMATESBASE2010  POPESTIMATE2010  ...  \\\n",
       "0           4779736            4780127          4785161  ...   \n",
       "1             54571              54571            54660  ...   \n",
       "2            182265             182265           183193  ...   \n",
       "3             27457              27457            27341  ...   \n",
       "4             22915              22919            22861  ...   \n",
       "...             ...                ...              ...  ...   \n",
       "3188          43806              43806            43593  ...   \n",
       "3189          21294              21294            21297  ...   \n",
       "3190          21118              21118            21102  ...   \n",
       "3191           8533               8533             8545  ...   \n",
       "3192           7208               7208             7181  ...   \n",
       "\n",
       "      RDOMESTICMIG2011  RDOMESTICMIG2012  RDOMESTICMIG2013  RDOMESTICMIG2014  \\\n",
       "0             0.002295         -0.193196          0.381066          0.582002   \n",
       "1             7.242091         -2.915927         -3.012349          2.265971   \n",
       "2            14.832960         17.647293         21.845705         19.243287   \n",
       "3            -4.728132         -2.500690         -7.056824         -3.904217   \n",
       "4            -5.527043         -5.068871         -6.201001         -0.177537   \n",
       "...                ...               ...               ...               ...   \n",
       "3188          1.072643         16.243199         -5.339774        -14.252889   \n",
       "3189         -1.589565          0.972695         19.525929         14.143021   \n",
       "3190        -17.755986         -4.916350         -6.902954        -14.215862   \n",
       "3191        -11.637475         -0.827815         -2.013502        -17.781491   \n",
       "3192        -11.752361         -8.040059         12.372583          1.533635   \n",
       "\n",
       "      RDOMESTICMIG2015  RNETMIG2011  RNETMIG2012  RNETMIG2013  RNETMIG2014  \\\n",
       "0            -0.467369     1.030015     0.826644     1.383282     1.724718   \n",
       "1            -2.530799     7.606016    -2.626146    -2.722002     2.592270   \n",
       "2            17.197872    15.844176    18.559627    22.727626    20.317142   \n",
       "3           -10.543299    -4.874741    -2.758113    -7.167664    -3.978583   \n",
       "4             0.177258    -5.088389    -4.363636    -5.403729     0.754533   \n",
       "...                ...          ...          ...          ...          ...   \n",
       "3188        -14.248864     1.255221    16.243199    -5.295460   -14.075283   \n",
       "3189         -0.564849     0.654527     2.408578    21.160658    16.308671   \n",
       "3190        -12.127022   -18.136812    -5.536861    -7.521840   -14.740608   \n",
       "3191          1.682288   -11.990126    -1.182592    -2.250385   -18.020168   \n",
       "3192          6.935294   -12.032179    -8.040059    12.372583     1.533635   \n",
       "\n",
       "      RNETMIG2015  \n",
       "0        0.712594  \n",
       "1       -2.187333  \n",
       "2       18.293499  \n",
       "3      -10.543299  \n",
       "4        1.107861  \n",
       "...           ...  \n",
       "3188   -14.070195  \n",
       "3189     1.520747  \n",
       "3190   -12.606351  \n",
       "3191     1.441961  \n",
       "3192     6.935294  \n",
       "\n",
       "[3193 rows x 100 columns]"
      ]
     },
     "execution_count": 63,
     "metadata": {},
     "output_type": "execute_result"
    }
   ],
   "source": [
    "df = df.reset_index()\n",
    "df"
   ]
  },
  {
   "cell_type": "markdown",
   "metadata": {},
   "source": [
    "When two or more columns are given as a list to <code>df.set_index()</code>, hierarchical indexing can be observed."
   ]
  },
  {
   "cell_type": "code",
   "execution_count": 64,
   "metadata": {
    "ExecuteTime": {
     "end_time": "2020-05-14T13:08:46.152610Z",
     "start_time": "2020-05-14T13:08:46.078828Z"
    }
   },
   "outputs": [
    {
     "data": {
      "text/html": [
       "<div>\n",
       "<style scoped>\n",
       "    .dataframe tbody tr th:only-of-type {\n",
       "        vertical-align: middle;\n",
       "    }\n",
       "\n",
       "    .dataframe tbody tr th {\n",
       "        vertical-align: top;\n",
       "    }\n",
       "\n",
       "    .dataframe thead th {\n",
       "        text-align: right;\n",
       "    }\n",
       "</style>\n",
       "<table border=\"1\" class=\"dataframe\">\n",
       "  <thead>\n",
       "    <tr style=\"text-align: right;\">\n",
       "      <th></th>\n",
       "      <th></th>\n",
       "      <th>SUMLEV</th>\n",
       "      <th>REGION</th>\n",
       "      <th>DIVISION</th>\n",
       "      <th>STATE</th>\n",
       "      <th>COUNTY</th>\n",
       "      <th>CENSUS2010POP</th>\n",
       "      <th>ESTIMATESBASE2010</th>\n",
       "      <th>POPESTIMATE2010</th>\n",
       "      <th>POPESTIMATE2011</th>\n",
       "      <th>POPESTIMATE2012</th>\n",
       "      <th>...</th>\n",
       "      <th>RDOMESTICMIG2011</th>\n",
       "      <th>RDOMESTICMIG2012</th>\n",
       "      <th>RDOMESTICMIG2013</th>\n",
       "      <th>RDOMESTICMIG2014</th>\n",
       "      <th>RDOMESTICMIG2015</th>\n",
       "      <th>RNETMIG2011</th>\n",
       "      <th>RNETMIG2012</th>\n",
       "      <th>RNETMIG2013</th>\n",
       "      <th>RNETMIG2014</th>\n",
       "      <th>RNETMIG2015</th>\n",
       "    </tr>\n",
       "    <tr>\n",
       "      <th>STNAME</th>\n",
       "      <th>CTYNAME</th>\n",
       "      <th></th>\n",
       "      <th></th>\n",
       "      <th></th>\n",
       "      <th></th>\n",
       "      <th></th>\n",
       "      <th></th>\n",
       "      <th></th>\n",
       "      <th></th>\n",
       "      <th></th>\n",
       "      <th></th>\n",
       "      <th></th>\n",
       "      <th></th>\n",
       "      <th></th>\n",
       "      <th></th>\n",
       "      <th></th>\n",
       "      <th></th>\n",
       "      <th></th>\n",
       "      <th></th>\n",
       "      <th></th>\n",
       "      <th></th>\n",
       "      <th></th>\n",
       "    </tr>\n",
       "  </thead>\n",
       "  <tbody>\n",
       "    <tr>\n",
       "      <th rowspan=\"5\" valign=\"top\">Alabama</th>\n",
       "      <th>Alabama</th>\n",
       "      <td>40</td>\n",
       "      <td>3</td>\n",
       "      <td>6</td>\n",
       "      <td>1</td>\n",
       "      <td>0</td>\n",
       "      <td>4779736</td>\n",
       "      <td>4780127</td>\n",
       "      <td>4785161</td>\n",
       "      <td>4801108</td>\n",
       "      <td>4816089</td>\n",
       "      <td>...</td>\n",
       "      <td>0.002295</td>\n",
       "      <td>-0.193196</td>\n",
       "      <td>0.381066</td>\n",
       "      <td>0.582002</td>\n",
       "      <td>-0.467369</td>\n",
       "      <td>1.030015</td>\n",
       "      <td>0.826644</td>\n",
       "      <td>1.383282</td>\n",
       "      <td>1.724718</td>\n",
       "      <td>0.712594</td>\n",
       "    </tr>\n",
       "    <tr>\n",
       "      <th>Autauga County</th>\n",
       "      <td>50</td>\n",
       "      <td>3</td>\n",
       "      <td>6</td>\n",
       "      <td>1</td>\n",
       "      <td>1</td>\n",
       "      <td>54571</td>\n",
       "      <td>54571</td>\n",
       "      <td>54660</td>\n",
       "      <td>55253</td>\n",
       "      <td>55175</td>\n",
       "      <td>...</td>\n",
       "      <td>7.242091</td>\n",
       "      <td>-2.915927</td>\n",
       "      <td>-3.012349</td>\n",
       "      <td>2.265971</td>\n",
       "      <td>-2.530799</td>\n",
       "      <td>7.606016</td>\n",
       "      <td>-2.626146</td>\n",
       "      <td>-2.722002</td>\n",
       "      <td>2.592270</td>\n",
       "      <td>-2.187333</td>\n",
       "    </tr>\n",
       "    <tr>\n",
       "      <th>Baldwin County</th>\n",
       "      <td>50</td>\n",
       "      <td>3</td>\n",
       "      <td>6</td>\n",
       "      <td>1</td>\n",
       "      <td>3</td>\n",
       "      <td>182265</td>\n",
       "      <td>182265</td>\n",
       "      <td>183193</td>\n",
       "      <td>186659</td>\n",
       "      <td>190396</td>\n",
       "      <td>...</td>\n",
       "      <td>14.832960</td>\n",
       "      <td>17.647293</td>\n",
       "      <td>21.845705</td>\n",
       "      <td>19.243287</td>\n",
       "      <td>17.197872</td>\n",
       "      <td>15.844176</td>\n",
       "      <td>18.559627</td>\n",
       "      <td>22.727626</td>\n",
       "      <td>20.317142</td>\n",
       "      <td>18.293499</td>\n",
       "    </tr>\n",
       "    <tr>\n",
       "      <th>Barbour County</th>\n",
       "      <td>50</td>\n",
       "      <td>3</td>\n",
       "      <td>6</td>\n",
       "      <td>1</td>\n",
       "      <td>5</td>\n",
       "      <td>27457</td>\n",
       "      <td>27457</td>\n",
       "      <td>27341</td>\n",
       "      <td>27226</td>\n",
       "      <td>27159</td>\n",
       "      <td>...</td>\n",
       "      <td>-4.728132</td>\n",
       "      <td>-2.500690</td>\n",
       "      <td>-7.056824</td>\n",
       "      <td>-3.904217</td>\n",
       "      <td>-10.543299</td>\n",
       "      <td>-4.874741</td>\n",
       "      <td>-2.758113</td>\n",
       "      <td>-7.167664</td>\n",
       "      <td>-3.978583</td>\n",
       "      <td>-10.543299</td>\n",
       "    </tr>\n",
       "    <tr>\n",
       "      <th>Bibb County</th>\n",
       "      <td>50</td>\n",
       "      <td>3</td>\n",
       "      <td>6</td>\n",
       "      <td>1</td>\n",
       "      <td>7</td>\n",
       "      <td>22915</td>\n",
       "      <td>22919</td>\n",
       "      <td>22861</td>\n",
       "      <td>22733</td>\n",
       "      <td>22642</td>\n",
       "      <td>...</td>\n",
       "      <td>-5.527043</td>\n",
       "      <td>-5.068871</td>\n",
       "      <td>-6.201001</td>\n",
       "      <td>-0.177537</td>\n",
       "      <td>0.177258</td>\n",
       "      <td>-5.088389</td>\n",
       "      <td>-4.363636</td>\n",
       "      <td>-5.403729</td>\n",
       "      <td>0.754533</td>\n",
       "      <td>1.107861</td>\n",
       "    </tr>\n",
       "    <tr>\n",
       "      <th>...</th>\n",
       "      <th>...</th>\n",
       "      <td>...</td>\n",
       "      <td>...</td>\n",
       "      <td>...</td>\n",
       "      <td>...</td>\n",
       "      <td>...</td>\n",
       "      <td>...</td>\n",
       "      <td>...</td>\n",
       "      <td>...</td>\n",
       "      <td>...</td>\n",
       "      <td>...</td>\n",
       "      <td>...</td>\n",
       "      <td>...</td>\n",
       "      <td>...</td>\n",
       "      <td>...</td>\n",
       "      <td>...</td>\n",
       "      <td>...</td>\n",
       "      <td>...</td>\n",
       "      <td>...</td>\n",
       "      <td>...</td>\n",
       "      <td>...</td>\n",
       "      <td>...</td>\n",
       "    </tr>\n",
       "    <tr>\n",
       "      <th rowspan=\"5\" valign=\"top\">Wyoming</th>\n",
       "      <th>Sweetwater County</th>\n",
       "      <td>50</td>\n",
       "      <td>4</td>\n",
       "      <td>8</td>\n",
       "      <td>56</td>\n",
       "      <td>37</td>\n",
       "      <td>43806</td>\n",
       "      <td>43806</td>\n",
       "      <td>43593</td>\n",
       "      <td>44041</td>\n",
       "      <td>45104</td>\n",
       "      <td>...</td>\n",
       "      <td>1.072643</td>\n",
       "      <td>16.243199</td>\n",
       "      <td>-5.339774</td>\n",
       "      <td>-14.252889</td>\n",
       "      <td>-14.248864</td>\n",
       "      <td>1.255221</td>\n",
       "      <td>16.243199</td>\n",
       "      <td>-5.295460</td>\n",
       "      <td>-14.075283</td>\n",
       "      <td>-14.070195</td>\n",
       "    </tr>\n",
       "    <tr>\n",
       "      <th>Teton County</th>\n",
       "      <td>50</td>\n",
       "      <td>4</td>\n",
       "      <td>8</td>\n",
       "      <td>56</td>\n",
       "      <td>39</td>\n",
       "      <td>21294</td>\n",
       "      <td>21294</td>\n",
       "      <td>21297</td>\n",
       "      <td>21482</td>\n",
       "      <td>21697</td>\n",
       "      <td>...</td>\n",
       "      <td>-1.589565</td>\n",
       "      <td>0.972695</td>\n",
       "      <td>19.525929</td>\n",
       "      <td>14.143021</td>\n",
       "      <td>-0.564849</td>\n",
       "      <td>0.654527</td>\n",
       "      <td>2.408578</td>\n",
       "      <td>21.160658</td>\n",
       "      <td>16.308671</td>\n",
       "      <td>1.520747</td>\n",
       "    </tr>\n",
       "    <tr>\n",
       "      <th>Uinta County</th>\n",
       "      <td>50</td>\n",
       "      <td>4</td>\n",
       "      <td>8</td>\n",
       "      <td>56</td>\n",
       "      <td>41</td>\n",
       "      <td>21118</td>\n",
       "      <td>21118</td>\n",
       "      <td>21102</td>\n",
       "      <td>20912</td>\n",
       "      <td>20989</td>\n",
       "      <td>...</td>\n",
       "      <td>-17.755986</td>\n",
       "      <td>-4.916350</td>\n",
       "      <td>-6.902954</td>\n",
       "      <td>-14.215862</td>\n",
       "      <td>-12.127022</td>\n",
       "      <td>-18.136812</td>\n",
       "      <td>-5.536861</td>\n",
       "      <td>-7.521840</td>\n",
       "      <td>-14.740608</td>\n",
       "      <td>-12.606351</td>\n",
       "    </tr>\n",
       "    <tr>\n",
       "      <th>Washakie County</th>\n",
       "      <td>50</td>\n",
       "      <td>4</td>\n",
       "      <td>8</td>\n",
       "      <td>56</td>\n",
       "      <td>43</td>\n",
       "      <td>8533</td>\n",
       "      <td>8533</td>\n",
       "      <td>8545</td>\n",
       "      <td>8469</td>\n",
       "      <td>8443</td>\n",
       "      <td>...</td>\n",
       "      <td>-11.637475</td>\n",
       "      <td>-0.827815</td>\n",
       "      <td>-2.013502</td>\n",
       "      <td>-17.781491</td>\n",
       "      <td>1.682288</td>\n",
       "      <td>-11.990126</td>\n",
       "      <td>-1.182592</td>\n",
       "      <td>-2.250385</td>\n",
       "      <td>-18.020168</td>\n",
       "      <td>1.441961</td>\n",
       "    </tr>\n",
       "    <tr>\n",
       "      <th>Weston County</th>\n",
       "      <td>50</td>\n",
       "      <td>4</td>\n",
       "      <td>8</td>\n",
       "      <td>56</td>\n",
       "      <td>45</td>\n",
       "      <td>7208</td>\n",
       "      <td>7208</td>\n",
       "      <td>7181</td>\n",
       "      <td>7114</td>\n",
       "      <td>7065</td>\n",
       "      <td>...</td>\n",
       "      <td>-11.752361</td>\n",
       "      <td>-8.040059</td>\n",
       "      <td>12.372583</td>\n",
       "      <td>1.533635</td>\n",
       "      <td>6.935294</td>\n",
       "      <td>-12.032179</td>\n",
       "      <td>-8.040059</td>\n",
       "      <td>12.372583</td>\n",
       "      <td>1.533635</td>\n",
       "      <td>6.935294</td>\n",
       "    </tr>\n",
       "  </tbody>\n",
       "</table>\n",
       "<p>3193 rows × 98 columns</p>\n",
       "</div>"
      ],
      "text/plain": [
       "                           SUMLEV  REGION  DIVISION  STATE  COUNTY  \\\n",
       "STNAME  CTYNAME                                                      \n",
       "Alabama Alabama                40       3         6      1       0   \n",
       "        Autauga County         50       3         6      1       1   \n",
       "        Baldwin County         50       3         6      1       3   \n",
       "        Barbour County         50       3         6      1       5   \n",
       "        Bibb County            50       3         6      1       7   \n",
       "...                           ...     ...       ...    ...     ...   \n",
       "Wyoming Sweetwater County      50       4         8     56      37   \n",
       "        Teton County           50       4         8     56      39   \n",
       "        Uinta County           50       4         8     56      41   \n",
       "        Washakie County        50       4         8     56      43   \n",
       "        Weston County          50       4         8     56      45   \n",
       "\n",
       "                           CENSUS2010POP  ESTIMATESBASE2010  POPESTIMATE2010  \\\n",
       "STNAME  CTYNAME                                                                \n",
       "Alabama Alabama                  4779736            4780127          4785161   \n",
       "        Autauga County             54571              54571            54660   \n",
       "        Baldwin County            182265             182265           183193   \n",
       "        Barbour County             27457              27457            27341   \n",
       "        Bibb County                22915              22919            22861   \n",
       "...                                  ...                ...              ...   \n",
       "Wyoming Sweetwater County          43806              43806            43593   \n",
       "        Teton County               21294              21294            21297   \n",
       "        Uinta County               21118              21118            21102   \n",
       "        Washakie County             8533               8533             8545   \n",
       "        Weston County               7208               7208             7181   \n",
       "\n",
       "                           POPESTIMATE2011  POPESTIMATE2012  ...  \\\n",
       "STNAME  CTYNAME                                              ...   \n",
       "Alabama Alabama                    4801108          4816089  ...   \n",
       "        Autauga County               55253            55175  ...   \n",
       "        Baldwin County              186659           190396  ...   \n",
       "        Barbour County               27226            27159  ...   \n",
       "        Bibb County                  22733            22642  ...   \n",
       "...                                    ...              ...  ...   \n",
       "Wyoming Sweetwater County            44041            45104  ...   \n",
       "        Teton County                 21482            21697  ...   \n",
       "        Uinta County                 20912            20989  ...   \n",
       "        Washakie County               8469             8443  ...   \n",
       "        Weston County                 7114             7065  ...   \n",
       "\n",
       "                           RDOMESTICMIG2011  RDOMESTICMIG2012  \\\n",
       "STNAME  CTYNAME                                                 \n",
       "Alabama Alabama                    0.002295         -0.193196   \n",
       "        Autauga County             7.242091         -2.915927   \n",
       "        Baldwin County            14.832960         17.647293   \n",
       "        Barbour County            -4.728132         -2.500690   \n",
       "        Bibb County               -5.527043         -5.068871   \n",
       "...                                     ...               ...   \n",
       "Wyoming Sweetwater County          1.072643         16.243199   \n",
       "        Teton County              -1.589565          0.972695   \n",
       "        Uinta County             -17.755986         -4.916350   \n",
       "        Washakie County          -11.637475         -0.827815   \n",
       "        Weston County            -11.752361         -8.040059   \n",
       "\n",
       "                           RDOMESTICMIG2013  RDOMESTICMIG2014  \\\n",
       "STNAME  CTYNAME                                                 \n",
       "Alabama Alabama                    0.381066          0.582002   \n",
       "        Autauga County            -3.012349          2.265971   \n",
       "        Baldwin County            21.845705         19.243287   \n",
       "        Barbour County            -7.056824         -3.904217   \n",
       "        Bibb County               -6.201001         -0.177537   \n",
       "...                                     ...               ...   \n",
       "Wyoming Sweetwater County         -5.339774        -14.252889   \n",
       "        Teton County              19.525929         14.143021   \n",
       "        Uinta County              -6.902954        -14.215862   \n",
       "        Washakie County           -2.013502        -17.781491   \n",
       "        Weston County             12.372583          1.533635   \n",
       "\n",
       "                           RDOMESTICMIG2015  RNETMIG2011  RNETMIG2012  \\\n",
       "STNAME  CTYNAME                                                         \n",
       "Alabama Alabama                   -0.467369     1.030015     0.826644   \n",
       "        Autauga County            -2.530799     7.606016    -2.626146   \n",
       "        Baldwin County            17.197872    15.844176    18.559627   \n",
       "        Barbour County           -10.543299    -4.874741    -2.758113   \n",
       "        Bibb County                0.177258    -5.088389    -4.363636   \n",
       "...                                     ...          ...          ...   \n",
       "Wyoming Sweetwater County        -14.248864     1.255221    16.243199   \n",
       "        Teton County              -0.564849     0.654527     2.408578   \n",
       "        Uinta County             -12.127022   -18.136812    -5.536861   \n",
       "        Washakie County            1.682288   -11.990126    -1.182592   \n",
       "        Weston County              6.935294   -12.032179    -8.040059   \n",
       "\n",
       "                           RNETMIG2013  RNETMIG2014  RNETMIG2015  \n",
       "STNAME  CTYNAME                                                   \n",
       "Alabama Alabama               1.383282     1.724718     0.712594  \n",
       "        Autauga County       -2.722002     2.592270    -2.187333  \n",
       "        Baldwin County       22.727626    20.317142    18.293499  \n",
       "        Barbour County       -7.167664    -3.978583   -10.543299  \n",
       "        Bibb County          -5.403729     0.754533     1.107861  \n",
       "...                                ...          ...          ...  \n",
       "Wyoming Sweetwater County    -5.295460   -14.075283   -14.070195  \n",
       "        Teton County         21.160658    16.308671     1.520747  \n",
       "        Uinta County         -7.521840   -14.740608   -12.606351  \n",
       "        Washakie County      -2.250385   -18.020168     1.441961  \n",
       "        Weston County        12.372583     1.533635     6.935294  \n",
       "\n",
       "[3193 rows x 98 columns]"
      ]
     },
     "execution_count": 64,
     "metadata": {},
     "output_type": "execute_result"
    }
   ],
   "source": [
    "df = df.set_index(['STNAME', 'CTYNAME'])\n",
    "df"
   ]
  },
  {
   "cell_type": "markdown",
   "metadata": {},
   "source": [
    "### df.apply()\n",
    "<code>df.apply()</code> applies a function along an axis of a dataframe."
   ]
  },
  {
   "cell_type": "code",
   "execution_count": 65,
   "metadata": {
    "ExecuteTime": {
     "end_time": "2020-05-14T13:08:46.221409Z",
     "start_time": "2020-05-14T13:08:46.154424Z"
    }
   },
   "outputs": [
    {
     "data": {
      "text/html": [
       "<div>\n",
       "<style scoped>\n",
       "    .dataframe tbody tr th:only-of-type {\n",
       "        vertical-align: middle;\n",
       "    }\n",
       "\n",
       "    .dataframe tbody tr th {\n",
       "        vertical-align: top;\n",
       "    }\n",
       "\n",
       "    .dataframe thead th {\n",
       "        text-align: right;\n",
       "    }\n",
       "</style>\n",
       "<table border=\"1\" class=\"dataframe\">\n",
       "  <thead>\n",
       "    <tr style=\"text-align: right;\">\n",
       "      <th></th>\n",
       "      <th></th>\n",
       "      <th>SUMLEV</th>\n",
       "      <th>REGION</th>\n",
       "      <th>DIVISION</th>\n",
       "      <th>STATE</th>\n",
       "      <th>COUNTY</th>\n",
       "      <th>CENSUS2010POP</th>\n",
       "      <th>ESTIMATESBASE2010</th>\n",
       "      <th>POPESTIMATE2010</th>\n",
       "      <th>POPESTIMATE2011</th>\n",
       "      <th>POPESTIMATE2012</th>\n",
       "      <th>...</th>\n",
       "      <th>RDOMESTICMIG2011</th>\n",
       "      <th>RDOMESTICMIG2012</th>\n",
       "      <th>RDOMESTICMIG2013</th>\n",
       "      <th>RDOMESTICMIG2014</th>\n",
       "      <th>RDOMESTICMIG2015</th>\n",
       "      <th>RNETMIG2011</th>\n",
       "      <th>RNETMIG2012</th>\n",
       "      <th>RNETMIG2013</th>\n",
       "      <th>RNETMIG2014</th>\n",
       "      <th>RNETMIG2015</th>\n",
       "    </tr>\n",
       "    <tr>\n",
       "      <th>STNAME</th>\n",
       "      <th>CTYNAME</th>\n",
       "      <th></th>\n",
       "      <th></th>\n",
       "      <th></th>\n",
       "      <th></th>\n",
       "      <th></th>\n",
       "      <th></th>\n",
       "      <th></th>\n",
       "      <th></th>\n",
       "      <th></th>\n",
       "      <th></th>\n",
       "      <th></th>\n",
       "      <th></th>\n",
       "      <th></th>\n",
       "      <th></th>\n",
       "      <th></th>\n",
       "      <th></th>\n",
       "      <th></th>\n",
       "      <th></th>\n",
       "      <th></th>\n",
       "      <th></th>\n",
       "      <th></th>\n",
       "    </tr>\n",
       "  </thead>\n",
       "  <tbody>\n",
       "    <tr>\n",
       "      <th rowspan=\"5\" valign=\"top\">Alabama</th>\n",
       "      <th>Alabama</th>\n",
       "      <td>40</td>\n",
       "      <td>3</td>\n",
       "      <td>6</td>\n",
       "      <td>1</td>\n",
       "      <td>0</td>\n",
       "      <td>4779736</td>\n",
       "      <td>4780127</td>\n",
       "      <td>4785161</td>\n",
       "      <td>4801108</td>\n",
       "      <td>4816089</td>\n",
       "      <td>...</td>\n",
       "      <td>0.002295</td>\n",
       "      <td>-0.193196</td>\n",
       "      <td>0.381066</td>\n",
       "      <td>0.582002</td>\n",
       "      <td>-0.467369</td>\n",
       "      <td>1.030015</td>\n",
       "      <td>0.826644</td>\n",
       "      <td>1.383282</td>\n",
       "      <td>1.724718</td>\n",
       "      <td>0.712594</td>\n",
       "    </tr>\n",
       "    <tr>\n",
       "      <th>Autauga County</th>\n",
       "      <td>50</td>\n",
       "      <td>3</td>\n",
       "      <td>6</td>\n",
       "      <td>1</td>\n",
       "      <td>1</td>\n",
       "      <td>54571</td>\n",
       "      <td>54571</td>\n",
       "      <td>54660</td>\n",
       "      <td>55253</td>\n",
       "      <td>55175</td>\n",
       "      <td>...</td>\n",
       "      <td>7.242091</td>\n",
       "      <td>-2.915927</td>\n",
       "      <td>-3.012349</td>\n",
       "      <td>2.265971</td>\n",
       "      <td>-2.530799</td>\n",
       "      <td>7.606016</td>\n",
       "      <td>-2.626146</td>\n",
       "      <td>-2.722002</td>\n",
       "      <td>2.592270</td>\n",
       "      <td>-2.187333</td>\n",
       "    </tr>\n",
       "    <tr>\n",
       "      <th>Baldwin County</th>\n",
       "      <td>50</td>\n",
       "      <td>3</td>\n",
       "      <td>6</td>\n",
       "      <td>1</td>\n",
       "      <td>3</td>\n",
       "      <td>182265</td>\n",
       "      <td>182265</td>\n",
       "      <td>183193</td>\n",
       "      <td>186659</td>\n",
       "      <td>190396</td>\n",
       "      <td>...</td>\n",
       "      <td>14.832960</td>\n",
       "      <td>17.647293</td>\n",
       "      <td>21.845705</td>\n",
       "      <td>19.243287</td>\n",
       "      <td>17.197872</td>\n",
       "      <td>15.844176</td>\n",
       "      <td>18.559627</td>\n",
       "      <td>22.727626</td>\n",
       "      <td>20.317142</td>\n",
       "      <td>18.293499</td>\n",
       "    </tr>\n",
       "    <tr>\n",
       "      <th>Barbour County</th>\n",
       "      <td>50</td>\n",
       "      <td>3</td>\n",
       "      <td>6</td>\n",
       "      <td>1</td>\n",
       "      <td>5</td>\n",
       "      <td>27457</td>\n",
       "      <td>27457</td>\n",
       "      <td>27341</td>\n",
       "      <td>27226</td>\n",
       "      <td>27159</td>\n",
       "      <td>...</td>\n",
       "      <td>-4.728132</td>\n",
       "      <td>-2.500690</td>\n",
       "      <td>-7.056824</td>\n",
       "      <td>-3.904217</td>\n",
       "      <td>-10.543299</td>\n",
       "      <td>-4.874741</td>\n",
       "      <td>-2.758113</td>\n",
       "      <td>-7.167664</td>\n",
       "      <td>-3.978583</td>\n",
       "      <td>-10.543299</td>\n",
       "    </tr>\n",
       "    <tr>\n",
       "      <th>Bibb County</th>\n",
       "      <td>50</td>\n",
       "      <td>3</td>\n",
       "      <td>6</td>\n",
       "      <td>1</td>\n",
       "      <td>7</td>\n",
       "      <td>22915</td>\n",
       "      <td>22919</td>\n",
       "      <td>22861</td>\n",
       "      <td>22733</td>\n",
       "      <td>22642</td>\n",
       "      <td>...</td>\n",
       "      <td>-5.527043</td>\n",
       "      <td>-5.068871</td>\n",
       "      <td>-6.201001</td>\n",
       "      <td>-0.177537</td>\n",
       "      <td>0.177258</td>\n",
       "      <td>-5.088389</td>\n",
       "      <td>-4.363636</td>\n",
       "      <td>-5.403729</td>\n",
       "      <td>0.754533</td>\n",
       "      <td>1.107861</td>\n",
       "    </tr>\n",
       "    <tr>\n",
       "      <th>...</th>\n",
       "      <th>...</th>\n",
       "      <td>...</td>\n",
       "      <td>...</td>\n",
       "      <td>...</td>\n",
       "      <td>...</td>\n",
       "      <td>...</td>\n",
       "      <td>...</td>\n",
       "      <td>...</td>\n",
       "      <td>...</td>\n",
       "      <td>...</td>\n",
       "      <td>...</td>\n",
       "      <td>...</td>\n",
       "      <td>...</td>\n",
       "      <td>...</td>\n",
       "      <td>...</td>\n",
       "      <td>...</td>\n",
       "      <td>...</td>\n",
       "      <td>...</td>\n",
       "      <td>...</td>\n",
       "      <td>...</td>\n",
       "      <td>...</td>\n",
       "      <td>...</td>\n",
       "    </tr>\n",
       "    <tr>\n",
       "      <th rowspan=\"5\" valign=\"top\">Wyoming</th>\n",
       "      <th>Sweetwater County</th>\n",
       "      <td>50</td>\n",
       "      <td>4</td>\n",
       "      <td>8</td>\n",
       "      <td>56</td>\n",
       "      <td>37</td>\n",
       "      <td>43806</td>\n",
       "      <td>43806</td>\n",
       "      <td>43593</td>\n",
       "      <td>44041</td>\n",
       "      <td>45104</td>\n",
       "      <td>...</td>\n",
       "      <td>1.072643</td>\n",
       "      <td>16.243199</td>\n",
       "      <td>-5.339774</td>\n",
       "      <td>-14.252889</td>\n",
       "      <td>-14.248864</td>\n",
       "      <td>1.255221</td>\n",
       "      <td>16.243199</td>\n",
       "      <td>-5.295460</td>\n",
       "      <td>-14.075283</td>\n",
       "      <td>-14.070195</td>\n",
       "    </tr>\n",
       "    <tr>\n",
       "      <th>Teton County</th>\n",
       "      <td>50</td>\n",
       "      <td>4</td>\n",
       "      <td>8</td>\n",
       "      <td>56</td>\n",
       "      <td>39</td>\n",
       "      <td>21294</td>\n",
       "      <td>21294</td>\n",
       "      <td>21297</td>\n",
       "      <td>21482</td>\n",
       "      <td>21697</td>\n",
       "      <td>...</td>\n",
       "      <td>-1.589565</td>\n",
       "      <td>0.972695</td>\n",
       "      <td>19.525929</td>\n",
       "      <td>14.143021</td>\n",
       "      <td>-0.564849</td>\n",
       "      <td>0.654527</td>\n",
       "      <td>2.408578</td>\n",
       "      <td>21.160658</td>\n",
       "      <td>16.308671</td>\n",
       "      <td>1.520747</td>\n",
       "    </tr>\n",
       "    <tr>\n",
       "      <th>Uinta County</th>\n",
       "      <td>50</td>\n",
       "      <td>4</td>\n",
       "      <td>8</td>\n",
       "      <td>56</td>\n",
       "      <td>41</td>\n",
       "      <td>21118</td>\n",
       "      <td>21118</td>\n",
       "      <td>21102</td>\n",
       "      <td>20912</td>\n",
       "      <td>20989</td>\n",
       "      <td>...</td>\n",
       "      <td>-17.755986</td>\n",
       "      <td>-4.916350</td>\n",
       "      <td>-6.902954</td>\n",
       "      <td>-14.215862</td>\n",
       "      <td>-12.127022</td>\n",
       "      <td>-18.136812</td>\n",
       "      <td>-5.536861</td>\n",
       "      <td>-7.521840</td>\n",
       "      <td>-14.740608</td>\n",
       "      <td>-12.606351</td>\n",
       "    </tr>\n",
       "    <tr>\n",
       "      <th>Washakie County</th>\n",
       "      <td>50</td>\n",
       "      <td>4</td>\n",
       "      <td>8</td>\n",
       "      <td>56</td>\n",
       "      <td>43</td>\n",
       "      <td>8533</td>\n",
       "      <td>8533</td>\n",
       "      <td>8545</td>\n",
       "      <td>8469</td>\n",
       "      <td>8443</td>\n",
       "      <td>...</td>\n",
       "      <td>-11.637475</td>\n",
       "      <td>-0.827815</td>\n",
       "      <td>-2.013502</td>\n",
       "      <td>-17.781491</td>\n",
       "      <td>1.682288</td>\n",
       "      <td>-11.990126</td>\n",
       "      <td>-1.182592</td>\n",
       "      <td>-2.250385</td>\n",
       "      <td>-18.020168</td>\n",
       "      <td>1.441961</td>\n",
       "    </tr>\n",
       "    <tr>\n",
       "      <th>Weston County</th>\n",
       "      <td>50</td>\n",
       "      <td>4</td>\n",
       "      <td>8</td>\n",
       "      <td>56</td>\n",
       "      <td>45</td>\n",
       "      <td>7208</td>\n",
       "      <td>7208</td>\n",
       "      <td>7181</td>\n",
       "      <td>7114</td>\n",
       "      <td>7065</td>\n",
       "      <td>...</td>\n",
       "      <td>-11.752361</td>\n",
       "      <td>-8.040059</td>\n",
       "      <td>12.372583</td>\n",
       "      <td>1.533635</td>\n",
       "      <td>6.935294</td>\n",
       "      <td>-12.032179</td>\n",
       "      <td>-8.040059</td>\n",
       "      <td>12.372583</td>\n",
       "      <td>1.533635</td>\n",
       "      <td>6.935294</td>\n",
       "    </tr>\n",
       "  </tbody>\n",
       "</table>\n",
       "<p>3193 rows × 98 columns</p>\n",
       "</div>"
      ],
      "text/plain": [
       "                           SUMLEV  REGION  DIVISION  STATE  COUNTY  \\\n",
       "STNAME  CTYNAME                                                      \n",
       "Alabama Alabama                40       3         6      1       0   \n",
       "        Autauga County         50       3         6      1       1   \n",
       "        Baldwin County         50       3         6      1       3   \n",
       "        Barbour County         50       3         6      1       5   \n",
       "        Bibb County            50       3         6      1       7   \n",
       "...                           ...     ...       ...    ...     ...   \n",
       "Wyoming Sweetwater County      50       4         8     56      37   \n",
       "        Teton County           50       4         8     56      39   \n",
       "        Uinta County           50       4         8     56      41   \n",
       "        Washakie County        50       4         8     56      43   \n",
       "        Weston County          50       4         8     56      45   \n",
       "\n",
       "                           CENSUS2010POP  ESTIMATESBASE2010  POPESTIMATE2010  \\\n",
       "STNAME  CTYNAME                                                                \n",
       "Alabama Alabama                  4779736            4780127          4785161   \n",
       "        Autauga County             54571              54571            54660   \n",
       "        Baldwin County            182265             182265           183193   \n",
       "        Barbour County             27457              27457            27341   \n",
       "        Bibb County                22915              22919            22861   \n",
       "...                                  ...                ...              ...   \n",
       "Wyoming Sweetwater County          43806              43806            43593   \n",
       "        Teton County               21294              21294            21297   \n",
       "        Uinta County               21118              21118            21102   \n",
       "        Washakie County             8533               8533             8545   \n",
       "        Weston County               7208               7208             7181   \n",
       "\n",
       "                           POPESTIMATE2011  POPESTIMATE2012  ...  \\\n",
       "STNAME  CTYNAME                                              ...   \n",
       "Alabama Alabama                    4801108          4816089  ...   \n",
       "        Autauga County               55253            55175  ...   \n",
       "        Baldwin County              186659           190396  ...   \n",
       "        Barbour County               27226            27159  ...   \n",
       "        Bibb County                  22733            22642  ...   \n",
       "...                                    ...              ...  ...   \n",
       "Wyoming Sweetwater County            44041            45104  ...   \n",
       "        Teton County                 21482            21697  ...   \n",
       "        Uinta County                 20912            20989  ...   \n",
       "        Washakie County               8469             8443  ...   \n",
       "        Weston County                 7114             7065  ...   \n",
       "\n",
       "                           RDOMESTICMIG2011  RDOMESTICMIG2012  \\\n",
       "STNAME  CTYNAME                                                 \n",
       "Alabama Alabama                    0.002295         -0.193196   \n",
       "        Autauga County             7.242091         -2.915927   \n",
       "        Baldwin County            14.832960         17.647293   \n",
       "        Barbour County            -4.728132         -2.500690   \n",
       "        Bibb County               -5.527043         -5.068871   \n",
       "...                                     ...               ...   \n",
       "Wyoming Sweetwater County          1.072643         16.243199   \n",
       "        Teton County              -1.589565          0.972695   \n",
       "        Uinta County             -17.755986         -4.916350   \n",
       "        Washakie County          -11.637475         -0.827815   \n",
       "        Weston County            -11.752361         -8.040059   \n",
       "\n",
       "                           RDOMESTICMIG2013  RDOMESTICMIG2014  \\\n",
       "STNAME  CTYNAME                                                 \n",
       "Alabama Alabama                    0.381066          0.582002   \n",
       "        Autauga County            -3.012349          2.265971   \n",
       "        Baldwin County            21.845705         19.243287   \n",
       "        Barbour County            -7.056824         -3.904217   \n",
       "        Bibb County               -6.201001         -0.177537   \n",
       "...                                     ...               ...   \n",
       "Wyoming Sweetwater County         -5.339774        -14.252889   \n",
       "        Teton County              19.525929         14.143021   \n",
       "        Uinta County              -6.902954        -14.215862   \n",
       "        Washakie County           -2.013502        -17.781491   \n",
       "        Weston County             12.372583          1.533635   \n",
       "\n",
       "                           RDOMESTICMIG2015  RNETMIG2011  RNETMIG2012  \\\n",
       "STNAME  CTYNAME                                                         \n",
       "Alabama Alabama                   -0.467369     1.030015     0.826644   \n",
       "        Autauga County            -2.530799     7.606016    -2.626146   \n",
       "        Baldwin County            17.197872    15.844176    18.559627   \n",
       "        Barbour County           -10.543299    -4.874741    -2.758113   \n",
       "        Bibb County                0.177258    -5.088389    -4.363636   \n",
       "...                                     ...          ...          ...   \n",
       "Wyoming Sweetwater County        -14.248864     1.255221    16.243199   \n",
       "        Teton County              -0.564849     0.654527     2.408578   \n",
       "        Uinta County             -12.127022   -18.136812    -5.536861   \n",
       "        Washakie County            1.682288   -11.990126    -1.182592   \n",
       "        Weston County              6.935294   -12.032179    -8.040059   \n",
       "\n",
       "                           RNETMIG2013  RNETMIG2014  RNETMIG2015  \n",
       "STNAME  CTYNAME                                                   \n",
       "Alabama Alabama               1.383282     1.724718     0.712594  \n",
       "        Autauga County       -2.722002     2.592270    -2.187333  \n",
       "        Baldwin County       22.727626    20.317142    18.293499  \n",
       "        Barbour County       -7.167664    -3.978583   -10.543299  \n",
       "        Bibb County          -5.403729     0.754533     1.107861  \n",
       "...                                ...          ...          ...  \n",
       "Wyoming Sweetwater County    -5.295460   -14.075283   -14.070195  \n",
       "        Teton County         21.160658    16.308671     1.520747  \n",
       "        Uinta County         -7.521840   -14.740608   -12.606351  \n",
       "        Washakie County      -2.250385   -18.020168     1.441961  \n",
       "        Weston County        12.372583     1.533635     6.935294  \n",
       "\n",
       "[3193 rows x 98 columns]"
      ]
     },
     "execution_count": 65,
     "metadata": {},
     "output_type": "execute_result"
    }
   ],
   "source": [
    "df"
   ]
  },
  {
   "cell_type": "code",
   "execution_count": 66,
   "metadata": {
    "ExecuteTime": {
     "end_time": "2020-05-14T13:08:46.347966Z",
     "start_time": "2020-05-14T13:08:46.223334Z"
    }
   },
   "outputs": [
    {
     "data": {
      "text/plain": [
       "SUMLEV         159140.000000\n",
       "REGION           8521.000000\n",
       "DIVISION        16576.000000\n",
       "STATE           96617.000000\n",
       "COUNTY         325426.000000\n",
       "                   ...      \n",
       "RNETMIG2011     -2092.070943\n",
       "RNETMIG2012     -4616.358019\n",
       "RNETMIG2013      -639.938676\n",
       "RNETMIG2014     -3317.398704\n",
       "RNETMIG2015      -308.949947\n",
       "Length: 98, dtype: float64"
      ]
     },
     "execution_count": 66,
     "metadata": {},
     "output_type": "execute_result"
    }
   ],
   "source": [
    "df_sum = df.apply(sum, axis = 0) #Sum along 0 axis (vertical axis)\n",
    "df_sum"
   ]
  },
  {
   "cell_type": "markdown",
   "metadata": {},
   "source": [
    "Generally python lambda functions as custom created functions. Read more about lambda functions <a href = \"https://www.geeksforgeeks.org/python-lambda/\">here</a> and further applications of <code>df.apply()</code> <a href = \"https://www.w3resource.com/pandas/dataframe/dataframe-apply.php\">here</a>."
   ]
  },
  {
   "cell_type": "markdown",
   "metadata": {},
   "source": [
    "### Sorting\n",
    "A dataframe can be sorted in two ways.<br>\n",
    "1. <code>sort_index()</code> : Sorts the rows or columns of a dataframe by index.\n",
    "2. <code>sort_values()</code> : Sorts the rows by values of one or more columns."
   ]
  },
  {
   "cell_type": "code",
   "execution_count": 67,
   "metadata": {
    "ExecuteTime": {
     "end_time": "2020-05-14T13:08:46.401565Z",
     "start_time": "2020-05-14T13:08:46.350031Z"
    }
   },
   "outputs": [
    {
     "data": {
      "text/html": [
       "<div>\n",
       "<style scoped>\n",
       "    .dataframe tbody tr th:only-of-type {\n",
       "        vertical-align: middle;\n",
       "    }\n",
       "\n",
       "    .dataframe tbody tr th {\n",
       "        vertical-align: top;\n",
       "    }\n",
       "\n",
       "    .dataframe thead th {\n",
       "        text-align: right;\n",
       "    }\n",
       "</style>\n",
       "<table border=\"1\" class=\"dataframe\">\n",
       "  <thead>\n",
       "    <tr style=\"text-align: right;\">\n",
       "      <th></th>\n",
       "      <th>Fruit</th>\n",
       "      <th>Price</th>\n",
       "    </tr>\n",
       "  </thead>\n",
       "  <tbody>\n",
       "    <tr>\n",
       "      <th>B</th>\n",
       "      <td>Mango</td>\n",
       "      <td>35</td>\n",
       "    </tr>\n",
       "    <tr>\n",
       "      <th>C</th>\n",
       "      <td>Banana</td>\n",
       "      <td>14</td>\n",
       "    </tr>\n",
       "    <tr>\n",
       "      <th>A</th>\n",
       "      <td>Apple</td>\n",
       "      <td>35</td>\n",
       "    </tr>\n",
       "  </tbody>\n",
       "</table>\n",
       "</div>"
      ],
      "text/plain": [
       "    Fruit  Price\n",
       "B   Mango     35\n",
       "C  Banana     14\n",
       "A   Apple     35"
      ]
     },
     "execution_count": 67,
     "metadata": {},
     "output_type": "execute_result"
    }
   ],
   "source": [
    "df = pd.DataFrame({\"Fruit\": [\"Mango\", \"Banana\", \"Apple\"], \"Price\": [35, 14, 35]}, index = [\"B\", \"C\", \"A\"])\n",
    "df"
   ]
  },
  {
   "cell_type": "code",
   "execution_count": 68,
   "metadata": {
    "ExecuteTime": {
     "end_time": "2020-05-14T13:08:46.497237Z",
     "start_time": "2020-05-14T13:08:46.406798Z"
    }
   },
   "outputs": [
    {
     "data": {
      "text/html": [
       "<div>\n",
       "<style scoped>\n",
       "    .dataframe tbody tr th:only-of-type {\n",
       "        vertical-align: middle;\n",
       "    }\n",
       "\n",
       "    .dataframe tbody tr th {\n",
       "        vertical-align: top;\n",
       "    }\n",
       "\n",
       "    .dataframe thead th {\n",
       "        text-align: right;\n",
       "    }\n",
       "</style>\n",
       "<table border=\"1\" class=\"dataframe\">\n",
       "  <thead>\n",
       "    <tr style=\"text-align: right;\">\n",
       "      <th></th>\n",
       "      <th>Fruit</th>\n",
       "      <th>Price</th>\n",
       "    </tr>\n",
       "  </thead>\n",
       "  <tbody>\n",
       "    <tr>\n",
       "      <th>A</th>\n",
       "      <td>Apple</td>\n",
       "      <td>35</td>\n",
       "    </tr>\n",
       "    <tr>\n",
       "      <th>B</th>\n",
       "      <td>Mango</td>\n",
       "      <td>35</td>\n",
       "    </tr>\n",
       "    <tr>\n",
       "      <th>C</th>\n",
       "      <td>Banana</td>\n",
       "      <td>14</td>\n",
       "    </tr>\n",
       "  </tbody>\n",
       "</table>\n",
       "</div>"
      ],
      "text/plain": [
       "    Fruit  Price\n",
       "A   Apple     35\n",
       "B   Mango     35\n",
       "C  Banana     14"
      ]
     },
     "execution_count": 68,
     "metadata": {},
     "output_type": "execute_result"
    }
   ],
   "source": [
    "df.sort_index(axis = 0)"
   ]
  },
  {
   "cell_type": "code",
   "execution_count": 69,
   "metadata": {
    "ExecuteTime": {
     "end_time": "2020-05-14T13:08:46.564953Z",
     "start_time": "2020-05-14T13:08:46.499106Z"
    }
   },
   "outputs": [
    {
     "data": {
      "text/html": [
       "<div>\n",
       "<style scoped>\n",
       "    .dataframe tbody tr th:only-of-type {\n",
       "        vertical-align: middle;\n",
       "    }\n",
       "\n",
       "    .dataframe tbody tr th {\n",
       "        vertical-align: top;\n",
       "    }\n",
       "\n",
       "    .dataframe thead th {\n",
       "        text-align: right;\n",
       "    }\n",
       "</style>\n",
       "<table border=\"1\" class=\"dataframe\">\n",
       "  <thead>\n",
       "    <tr style=\"text-align: right;\">\n",
       "      <th></th>\n",
       "      <th>Price</th>\n",
       "      <th>Fruit</th>\n",
       "    </tr>\n",
       "  </thead>\n",
       "  <tbody>\n",
       "    <tr>\n",
       "      <th>B</th>\n",
       "      <td>35</td>\n",
       "      <td>Mango</td>\n",
       "    </tr>\n",
       "    <tr>\n",
       "      <th>C</th>\n",
       "      <td>14</td>\n",
       "      <td>Banana</td>\n",
       "    </tr>\n",
       "    <tr>\n",
       "      <th>A</th>\n",
       "      <td>35</td>\n",
       "      <td>Apple</td>\n",
       "    </tr>\n",
       "  </tbody>\n",
       "</table>\n",
       "</div>"
      ],
      "text/plain": [
       "   Price   Fruit\n",
       "B     35   Mango\n",
       "C     14  Banana\n",
       "A     35   Apple"
      ]
     },
     "execution_count": 69,
     "metadata": {},
     "output_type": "execute_result"
    }
   ],
   "source": [
    "df.sort_index(axis = 1, ascending = False) #Sort columns in Descending order"
   ]
  },
  {
   "cell_type": "code",
   "execution_count": 70,
   "metadata": {
    "ExecuteTime": {
     "end_time": "2020-05-14T13:08:46.653113Z",
     "start_time": "2020-05-14T13:08:46.567071Z"
    }
   },
   "outputs": [
    {
     "data": {
      "text/html": [
       "<div>\n",
       "<style scoped>\n",
       "    .dataframe tbody tr th:only-of-type {\n",
       "        vertical-align: middle;\n",
       "    }\n",
       "\n",
       "    .dataframe tbody tr th {\n",
       "        vertical-align: top;\n",
       "    }\n",
       "\n",
       "    .dataframe thead th {\n",
       "        text-align: right;\n",
       "    }\n",
       "</style>\n",
       "<table border=\"1\" class=\"dataframe\">\n",
       "  <thead>\n",
       "    <tr style=\"text-align: right;\">\n",
       "      <th></th>\n",
       "      <th>Fruit</th>\n",
       "      <th>Price</th>\n",
       "    </tr>\n",
       "  </thead>\n",
       "  <tbody>\n",
       "    <tr>\n",
       "      <th>C</th>\n",
       "      <td>Banana</td>\n",
       "      <td>14</td>\n",
       "    </tr>\n",
       "    <tr>\n",
       "      <th>A</th>\n",
       "      <td>Apple</td>\n",
       "      <td>35</td>\n",
       "    </tr>\n",
       "    <tr>\n",
       "      <th>B</th>\n",
       "      <td>Mango</td>\n",
       "      <td>35</td>\n",
       "    </tr>\n",
       "  </tbody>\n",
       "</table>\n",
       "</div>"
      ],
      "text/plain": [
       "    Fruit  Price\n",
       "C  Banana     14\n",
       "A   Apple     35\n",
       "B   Mango     35"
      ]
     },
     "execution_count": 70,
     "metadata": {},
     "output_type": "execute_result"
    }
   ],
   "source": [
    "df.sort_values(by = [\"Price\", \"Fruit\"]) #Sorts first by price and then by fruit name"
   ]
  },
  {
   "attachments": {
    "groupby.jpg": {
     "image/jpeg": "[encoded data removed]"
    }
   },
   "cell_type": "markdown",
   "metadata": {},
   "source": [
    "### df.groupby()\n",
    "Groupby is one of the most important functions that will be used in the data handling process.<br>\n",
    "Groupby operation is used to perform a split-apply-combine process on a pandas object (Series or DataFrame). The object is first <b>split</b> into groups and a function is <b>applied</b> on each group. Finally all the groups are <b>combined</b> to form another pandas object.\n",
    "The following image should give some clarity\n",
    "![groupby.jpg](attachment:groupby.jpg)"
   ]
  },
  {
   "cell_type": "code",
   "execution_count": 71,
   "metadata": {
    "ExecuteTime": {
     "end_time": "2020-05-14T13:08:46.749963Z",
     "start_time": "2020-05-14T13:08:46.655126Z"
    }
   },
   "outputs": [
    {
     "data": {
      "text/html": [
       "<div>\n",
       "<style scoped>\n",
       "    .dataframe tbody tr th:only-of-type {\n",
       "        vertical-align: middle;\n",
       "    }\n",
       "\n",
       "    .dataframe tbody tr th {\n",
       "        vertical-align: top;\n",
       "    }\n",
       "\n",
       "    .dataframe thead th {\n",
       "        text-align: right;\n",
       "    }\n",
       "</style>\n",
       "<table border=\"1\" class=\"dataframe\">\n",
       "  <thead>\n",
       "    <tr style=\"text-align: right;\">\n",
       "      <th></th>\n",
       "      <th>key</th>\n",
       "      <th>data1</th>\n",
       "      <th>data2</th>\n",
       "    </tr>\n",
       "  </thead>\n",
       "  <tbody>\n",
       "    <tr>\n",
       "      <th>0</th>\n",
       "      <td>one</td>\n",
       "      <td>1.396733</td>\n",
       "      <td>-0.381292</td>\n",
       "    </tr>\n",
       "    <tr>\n",
       "      <th>1</th>\n",
       "      <td>two</td>\n",
       "      <td>-0.009793</td>\n",
       "      <td>1.529142</td>\n",
       "    </tr>\n",
       "    <tr>\n",
       "      <th>2</th>\n",
       "      <td>one</td>\n",
       "      <td>-1.629292</td>\n",
       "      <td>0.085600</td>\n",
       "    </tr>\n",
       "    <tr>\n",
       "      <th>3</th>\n",
       "      <td>two</td>\n",
       "      <td>1.241481</td>\n",
       "      <td>1.214460</td>\n",
       "    </tr>\n",
       "    <tr>\n",
       "      <th>4</th>\n",
       "      <td>one</td>\n",
       "      <td>-1.026713</td>\n",
       "      <td>1.673347</td>\n",
       "    </tr>\n",
       "  </tbody>\n",
       "</table>\n",
       "</div>"
      ],
      "text/plain": [
       "   key     data1     data2\n",
       "0  one  1.396733 -0.381292\n",
       "1  two -0.009793  1.529142\n",
       "2  one -1.629292  0.085600\n",
       "3  two  1.241481  1.214460\n",
       "4  one -1.026713  1.673347"
      ]
     },
     "execution_count": 71,
     "metadata": {},
     "output_type": "execute_result"
    }
   ],
   "source": [
    "df = pd.DataFrame( {'key' : ['one', 'two', 'one', 'two', 'one'], \n",
    "                   'data1' : np.random.randn(5),\n",
    "                   'data2' : np.random.randn(5)})\n",
    "df\n"
   ]
  },
  {
   "cell_type": "code",
   "execution_count": 72,
   "metadata": {
    "ExecuteTime": {
     "end_time": "2020-05-14T13:08:46.827110Z",
     "start_time": "2020-05-14T13:08:46.753070Z"
    }
   },
   "outputs": [
    {
     "data": {
      "text/plain": [
       "<pandas.core.groupby.generic.DataFrameGroupBy object at 0x7fbefa2cd310>"
      ]
     },
     "execution_count": 72,
     "metadata": {},
     "output_type": "execute_result"
    }
   ],
   "source": [
    "#Grouping rows having same key\n",
    "df.groupby('key')"
   ]
  },
  {
   "cell_type": "code",
   "execution_count": 73,
   "metadata": {
    "ExecuteTime": {
     "end_time": "2020-05-14T13:08:46.898866Z",
     "start_time": "2020-05-14T13:08:46.829633Z"
    }
   },
   "outputs": [
    {
     "data": {
      "text/html": [
       "<div>\n",
       "<style scoped>\n",
       "    .dataframe tbody tr th:only-of-type {\n",
       "        vertical-align: middle;\n",
       "    }\n",
       "\n",
       "    .dataframe tbody tr th {\n",
       "        vertical-align: top;\n",
       "    }\n",
       "\n",
       "    .dataframe thead th {\n",
       "        text-align: right;\n",
       "    }\n",
       "</style>\n",
       "<table border=\"1\" class=\"dataframe\">\n",
       "  <thead>\n",
       "    <tr style=\"text-align: right;\">\n",
       "      <th></th>\n",
       "      <th>data1</th>\n",
       "      <th>data2</th>\n",
       "    </tr>\n",
       "    <tr>\n",
       "      <th>key</th>\n",
       "      <th></th>\n",
       "      <th></th>\n",
       "    </tr>\n",
       "  </thead>\n",
       "  <tbody>\n",
       "    <tr>\n",
       "      <th>one</th>\n",
       "      <td>-1.259272</td>\n",
       "      <td>1.377655</td>\n",
       "    </tr>\n",
       "    <tr>\n",
       "      <th>two</th>\n",
       "      <td>1.231688</td>\n",
       "      <td>2.743603</td>\n",
       "    </tr>\n",
       "  </tbody>\n",
       "</table>\n",
       "</div>"
      ],
      "text/plain": [
       "        data1     data2\n",
       "key                    \n",
       "one -1.259272  1.377655\n",
       "two  1.231688  2.743603"
      ]
     },
     "execution_count": 73,
     "metadata": {},
     "output_type": "execute_result"
    }
   ],
   "source": [
    "#Sum of values in same group using sum()\n",
    "df.groupby('key').sum()\n",
    "#You can also use other aggregate functions like mean, std etc."
   ]
  },
  {
   "cell_type": "markdown",
   "metadata": {},
   "source": [
    "This is just one way of using grouby. Groupby is a very powerful function which is extensively used and can be confusing at times. The objects can also be grouped by function, series, dictionaries. So I recommend you go through this <a href = \"https://pandas.pydata.org/pandas-docs/stable/reference/api/pandas.DataFrame.groupby.html\">Documentation</a> and this <a href = \"https://pandas.pydata.org/pandas-docs/stable/user_guide/groupby.html\">Guide</a>."
   ]
  },
  {
   "cell_type": "markdown",
   "metadata": {},
   "source": [
    "## CLEANING DATA"
   ]
  },
  {
   "cell_type": "markdown",
   "metadata": {},
   "source": [
    "Most of the real world data is not analysis ready and hence ML models cannot be applied. The data may contain missing data, duplicate data and many other issues and hence pandas gives certain tools to handle this."
   ]
  },
  {
   "cell_type": "markdown",
   "metadata": {},
   "source": [
    "### Missing Data\n",
    "In a pandas, a missing value or python <code>None</code> is treated as a numpy Not a Number i.e, <code>np.NaN</code> and these can resolved in different ways based on the scenario."
   ]
  },
  {
   "cell_type": "code",
   "execution_count": 74,
   "metadata": {
    "ExecuteTime": {
     "end_time": "2020-05-14T13:08:46.976008Z",
     "start_time": "2020-05-14T13:08:46.900950Z"
    }
   },
   "outputs": [
    {
     "data": {
      "text/html": [
       "<div>\n",
       "<style scoped>\n",
       "    .dataframe tbody tr th:only-of-type {\n",
       "        vertical-align: middle;\n",
       "    }\n",
       "\n",
       "    .dataframe tbody tr th {\n",
       "        vertical-align: top;\n",
       "    }\n",
       "\n",
       "    .dataframe thead th {\n",
       "        text-align: right;\n",
       "    }\n",
       "</style>\n",
       "<table border=\"1\" class=\"dataframe\">\n",
       "  <thead>\n",
       "    <tr style=\"text-align: right;\">\n",
       "      <th></th>\n",
       "      <th>0</th>\n",
       "      <th>1</th>\n",
       "      <th>2</th>\n",
       "    </tr>\n",
       "  </thead>\n",
       "  <tbody>\n",
       "    <tr>\n",
       "      <th>0</th>\n",
       "      <td>1.0</td>\n",
       "      <td>6.5</td>\n",
       "      <td>3.0</td>\n",
       "    </tr>\n",
       "    <tr>\n",
       "      <th>1</th>\n",
       "      <td>1.0</td>\n",
       "      <td>NaN</td>\n",
       "      <td>NaN</td>\n",
       "    </tr>\n",
       "    <tr>\n",
       "      <th>2</th>\n",
       "      <td>NaN</td>\n",
       "      <td>NaN</td>\n",
       "      <td>NaN</td>\n",
       "    </tr>\n",
       "    <tr>\n",
       "      <th>3</th>\n",
       "      <td>NaN</td>\n",
       "      <td>6.5</td>\n",
       "      <td>3.0</td>\n",
       "    </tr>\n",
       "  </tbody>\n",
       "</table>\n",
       "</div>"
      ],
      "text/plain": [
       "     0    1    2\n",
       "0  1.0  6.5  3.0\n",
       "1  1.0  NaN  NaN\n",
       "2  NaN  NaN  NaN\n",
       "3  NaN  6.5  3.0"
      ]
     },
     "execution_count": 74,
     "metadata": {},
     "output_type": "execute_result"
    }
   ],
   "source": [
    "df = pd.DataFrame([[1., 6.5, 3.], [1., None, None], [None, None, None], [None, 6.5, 3.]])\n",
    "df"
   ]
  },
  {
   "cell_type": "code",
   "execution_count": 75,
   "metadata": {
    "ExecuteTime": {
     "end_time": "2020-05-14T13:08:47.051954Z",
     "start_time": "2020-05-14T13:08:46.978015Z"
    }
   },
   "outputs": [
    {
     "name": "stdout",
     "output_type": "stream",
     "text": [
      "<class 'pandas.core.frame.DataFrame'>\n",
      "RangeIndex: 4 entries, 0 to 3\n",
      "Data columns (total 3 columns):\n",
      " #   Column  Non-Null Count  Dtype  \n",
      "---  ------  --------------  -----  \n",
      " 0   0       2 non-null      float64\n",
      " 1   1       2 non-null      float64\n",
      " 2   2       2 non-null      float64\n",
      "dtypes: float64(3)\n",
      "memory usage: 224.0 bytes\n"
     ]
    }
   ],
   "source": [
    "df.info()"
   ]
  },
  {
   "cell_type": "code",
   "execution_count": 76,
   "metadata": {
    "ExecuteTime": {
     "end_time": "2020-05-14T13:08:47.138370Z",
     "start_time": "2020-05-14T13:08:47.053870Z"
    }
   },
   "outputs": [
    {
     "data": {
      "text/html": [
       "<div>\n",
       "<style scoped>\n",
       "    .dataframe tbody tr th:only-of-type {\n",
       "        vertical-align: middle;\n",
       "    }\n",
       "\n",
       "    .dataframe tbody tr th {\n",
       "        vertical-align: top;\n",
       "    }\n",
       "\n",
       "    .dataframe thead th {\n",
       "        text-align: right;\n",
       "    }\n",
       "</style>\n",
       "<table border=\"1\" class=\"dataframe\">\n",
       "  <thead>\n",
       "    <tr style=\"text-align: right;\">\n",
       "      <th></th>\n",
       "      <th>0</th>\n",
       "      <th>1</th>\n",
       "      <th>2</th>\n",
       "    </tr>\n",
       "  </thead>\n",
       "  <tbody>\n",
       "    <tr>\n",
       "      <th>0</th>\n",
       "      <td>1.0</td>\n",
       "      <td>6.5</td>\n",
       "      <td>3.0</td>\n",
       "    </tr>\n",
       "  </tbody>\n",
       "</table>\n",
       "</div>"
      ],
      "text/plain": [
       "     0    1    2\n",
       "0  1.0  6.5  3.0"
      ]
     },
     "execution_count": 76,
     "metadata": {},
     "output_type": "execute_result"
    }
   ],
   "source": [
    "#Dropping all rows containing null value\n",
    "df.dropna()"
   ]
  },
  {
   "cell_type": "code",
   "execution_count": 77,
   "metadata": {
    "ExecuteTime": {
     "end_time": "2020-05-14T13:08:47.221411Z",
     "start_time": "2020-05-14T13:08:47.141160Z"
    }
   },
   "outputs": [
    {
     "data": {
      "text/html": [
       "<div>\n",
       "<style scoped>\n",
       "    .dataframe tbody tr th:only-of-type {\n",
       "        vertical-align: middle;\n",
       "    }\n",
       "\n",
       "    .dataframe tbody tr th {\n",
       "        vertical-align: top;\n",
       "    }\n",
       "\n",
       "    .dataframe thead th {\n",
       "        text-align: right;\n",
       "    }\n",
       "</style>\n",
       "<table border=\"1\" class=\"dataframe\">\n",
       "  <thead>\n",
       "    <tr style=\"text-align: right;\">\n",
       "      <th></th>\n",
       "      <th>0</th>\n",
       "      <th>1</th>\n",
       "      <th>2</th>\n",
       "    </tr>\n",
       "  </thead>\n",
       "  <tbody>\n",
       "    <tr>\n",
       "      <th>0</th>\n",
       "      <td>1.0</td>\n",
       "      <td>6.5</td>\n",
       "      <td>3.0</td>\n",
       "    </tr>\n",
       "    <tr>\n",
       "      <th>1</th>\n",
       "      <td>1.0</td>\n",
       "      <td>5.0</td>\n",
       "      <td>5.0</td>\n",
       "    </tr>\n",
       "    <tr>\n",
       "      <th>2</th>\n",
       "      <td>5.0</td>\n",
       "      <td>5.0</td>\n",
       "      <td>5.0</td>\n",
       "    </tr>\n",
       "    <tr>\n",
       "      <th>3</th>\n",
       "      <td>5.0</td>\n",
       "      <td>6.5</td>\n",
       "      <td>3.0</td>\n",
       "    </tr>\n",
       "  </tbody>\n",
       "</table>\n",
       "</div>"
      ],
      "text/plain": [
       "     0    1    2\n",
       "0  1.0  6.5  3.0\n",
       "1  1.0  5.0  5.0\n",
       "2  5.0  5.0  5.0\n",
       "3  5.0  6.5  3.0"
      ]
     },
     "execution_count": 77,
     "metadata": {},
     "output_type": "execute_result"
    }
   ],
   "source": [
    "#Filling missing value using a particular value\n",
    "df.fillna(5)"
   ]
  },
  {
   "cell_type": "code",
   "execution_count": 78,
   "metadata": {
    "ExecuteTime": {
     "end_time": "2020-05-14T13:08:47.322766Z",
     "start_time": "2020-05-14T13:08:47.223816Z"
    }
   },
   "outputs": [
    {
     "data": {
      "text/html": [
       "<div>\n",
       "<style scoped>\n",
       "    .dataframe tbody tr th:only-of-type {\n",
       "        vertical-align: middle;\n",
       "    }\n",
       "\n",
       "    .dataframe tbody tr th {\n",
       "        vertical-align: top;\n",
       "    }\n",
       "\n",
       "    .dataframe thead th {\n",
       "        text-align: right;\n",
       "    }\n",
       "</style>\n",
       "<table border=\"1\" class=\"dataframe\">\n",
       "  <thead>\n",
       "    <tr style=\"text-align: right;\">\n",
       "      <th></th>\n",
       "      <th>0</th>\n",
       "      <th>1</th>\n",
       "      <th>2</th>\n",
       "    </tr>\n",
       "  </thead>\n",
       "  <tbody>\n",
       "    <tr>\n",
       "      <th>0</th>\n",
       "      <td>1.0</td>\n",
       "      <td>6.5</td>\n",
       "      <td>3.0</td>\n",
       "    </tr>\n",
       "    <tr>\n",
       "      <th>1</th>\n",
       "      <td>1.0</td>\n",
       "      <td>6.5</td>\n",
       "      <td>3.0</td>\n",
       "    </tr>\n",
       "    <tr>\n",
       "      <th>2</th>\n",
       "      <td>1.0</td>\n",
       "      <td>6.5</td>\n",
       "      <td>3.0</td>\n",
       "    </tr>\n",
       "    <tr>\n",
       "      <th>3</th>\n",
       "      <td>1.0</td>\n",
       "      <td>6.5</td>\n",
       "      <td>3.0</td>\n",
       "    </tr>\n",
       "  </tbody>\n",
       "</table>\n",
       "</div>"
      ],
      "text/plain": [
       "     0    1    2\n",
       "0  1.0  6.5  3.0\n",
       "1  1.0  6.5  3.0\n",
       "2  1.0  6.5  3.0\n",
       "3  1.0  6.5  3.0"
      ]
     },
     "execution_count": 78,
     "metadata": {},
     "output_type": "execute_result"
    }
   ],
   "source": [
    "#Filling missing value using forward fill which fills the NaN with previous numerical values\n",
    "df.fillna(method = 'ffill')"
   ]
  },
  {
   "cell_type": "markdown",
   "metadata": {},
   "source": [
    "There are other methods of filling which you can checkout in documentation"
   ]
  },
  {
   "cell_type": "markdown",
   "metadata": {},
   "source": [
    "### Duplicate Data"
   ]
  },
  {
   "cell_type": "code",
   "execution_count": 79,
   "metadata": {
    "ExecuteTime": {
     "end_time": "2020-05-14T13:08:47.386961Z",
     "start_time": "2020-05-14T13:08:47.325746Z"
    }
   },
   "outputs": [
    {
     "data": {
      "text/html": [
       "<div>\n",
       "<style scoped>\n",
       "    .dataframe tbody tr th:only-of-type {\n",
       "        vertical-align: middle;\n",
       "    }\n",
       "\n",
       "    .dataframe tbody tr th {\n",
       "        vertical-align: top;\n",
       "    }\n",
       "\n",
       "    .dataframe thead th {\n",
       "        text-align: right;\n",
       "    }\n",
       "</style>\n",
       "<table border=\"1\" class=\"dataframe\">\n",
       "  <thead>\n",
       "    <tr style=\"text-align: right;\">\n",
       "      <th></th>\n",
       "      <th>k1</th>\n",
       "      <th>k2</th>\n",
       "    </tr>\n",
       "  </thead>\n",
       "  <tbody>\n",
       "    <tr>\n",
       "      <th>0</th>\n",
       "      <td>one</td>\n",
       "      <td>1</td>\n",
       "    </tr>\n",
       "    <tr>\n",
       "      <th>1</th>\n",
       "      <td>two</td>\n",
       "      <td>1</td>\n",
       "    </tr>\n",
       "    <tr>\n",
       "      <th>2</th>\n",
       "      <td>one</td>\n",
       "      <td>2</td>\n",
       "    </tr>\n",
       "    <tr>\n",
       "      <th>3</th>\n",
       "      <td>two</td>\n",
       "      <td>3</td>\n",
       "    </tr>\n",
       "    <tr>\n",
       "      <th>4</th>\n",
       "      <td>one</td>\n",
       "      <td>3</td>\n",
       "    </tr>\n",
       "    <tr>\n",
       "      <th>5</th>\n",
       "      <td>two</td>\n",
       "      <td>4</td>\n",
       "    </tr>\n",
       "    <tr>\n",
       "      <th>6</th>\n",
       "      <td>two</td>\n",
       "      <td>4</td>\n",
       "    </tr>\n",
       "  </tbody>\n",
       "</table>\n",
       "</div>"
      ],
      "text/plain": [
       "    k1  k2\n",
       "0  one   1\n",
       "1  two   1\n",
       "2  one   2\n",
       "3  two   3\n",
       "4  one   3\n",
       "5  two   4\n",
       "6  two   4"
      ]
     },
     "execution_count": 79,
     "metadata": {},
     "output_type": "execute_result"
    }
   ],
   "source": [
    "df = pd.DataFrame({'k1': ['one', 'two'] * 3 + ['two'], 'k2': [1, 1, 2, 3, 3, 4, 4]})\n",
    "df"
   ]
  },
  {
   "cell_type": "code",
   "execution_count": 80,
   "metadata": {
    "ExecuteTime": {
     "end_time": "2020-05-14T13:08:47.457899Z",
     "start_time": "2020-05-14T13:08:47.389231Z"
    }
   },
   "outputs": [
    {
     "data": {
      "text/html": [
       "<div>\n",
       "<style scoped>\n",
       "    .dataframe tbody tr th:only-of-type {\n",
       "        vertical-align: middle;\n",
       "    }\n",
       "\n",
       "    .dataframe tbody tr th {\n",
       "        vertical-align: top;\n",
       "    }\n",
       "\n",
       "    .dataframe thead th {\n",
       "        text-align: right;\n",
       "    }\n",
       "</style>\n",
       "<table border=\"1\" class=\"dataframe\">\n",
       "  <thead>\n",
       "    <tr style=\"text-align: right;\">\n",
       "      <th></th>\n",
       "      <th>k1</th>\n",
       "      <th>k2</th>\n",
       "    </tr>\n",
       "  </thead>\n",
       "  <tbody>\n",
       "    <tr>\n",
       "      <th>0</th>\n",
       "      <td>one</td>\n",
       "      <td>1</td>\n",
       "    </tr>\n",
       "    <tr>\n",
       "      <th>1</th>\n",
       "      <td>two</td>\n",
       "      <td>1</td>\n",
       "    </tr>\n",
       "    <tr>\n",
       "      <th>2</th>\n",
       "      <td>one</td>\n",
       "      <td>2</td>\n",
       "    </tr>\n",
       "    <tr>\n",
       "      <th>3</th>\n",
       "      <td>two</td>\n",
       "      <td>3</td>\n",
       "    </tr>\n",
       "    <tr>\n",
       "      <th>4</th>\n",
       "      <td>one</td>\n",
       "      <td>3</td>\n",
       "    </tr>\n",
       "    <tr>\n",
       "      <th>5</th>\n",
       "      <td>two</td>\n",
       "      <td>4</td>\n",
       "    </tr>\n",
       "  </tbody>\n",
       "</table>\n",
       "</div>"
      ],
      "text/plain": [
       "    k1  k2\n",
       "0  one   1\n",
       "1  two   1\n",
       "2  one   2\n",
       "3  two   3\n",
       "4  one   3\n",
       "5  two   4"
      ]
     },
     "execution_count": 80,
     "metadata": {},
     "output_type": "execute_result"
    }
   ],
   "source": [
    "df.drop_duplicates() #Drops all duplicate rows"
   ]
  },
  {
   "cell_type": "markdown",
   "metadata": {},
   "source": [
    "## MERGING DATAFRAMES\n",
    "Another useful operation on dataframes is merging of two dataframes."
   ]
  },
  {
   "cell_type": "code",
   "execution_count": 81,
   "metadata": {
    "ExecuteTime": {
     "end_time": "2020-05-14T13:08:47.532765Z",
     "start_time": "2020-05-14T13:08:47.459954Z"
    }
   },
   "outputs": [
    {
     "data": {
      "text/html": [
       "<div>\n",
       "<style scoped>\n",
       "    .dataframe tbody tr th:only-of-type {\n",
       "        vertical-align: middle;\n",
       "    }\n",
       "\n",
       "    .dataframe tbody tr th {\n",
       "        vertical-align: top;\n",
       "    }\n",
       "\n",
       "    .dataframe thead th {\n",
       "        text-align: right;\n",
       "    }\n",
       "</style>\n",
       "<table border=\"1\" class=\"dataframe\">\n",
       "  <thead>\n",
       "    <tr style=\"text-align: right;\">\n",
       "      <th></th>\n",
       "      <th>key</th>\n",
       "      <th>data1</th>\n",
       "    </tr>\n",
       "  </thead>\n",
       "  <tbody>\n",
       "    <tr>\n",
       "      <th>0</th>\n",
       "      <td>b</td>\n",
       "      <td>0</td>\n",
       "    </tr>\n",
       "    <tr>\n",
       "      <th>1</th>\n",
       "      <td>b</td>\n",
       "      <td>1</td>\n",
       "    </tr>\n",
       "    <tr>\n",
       "      <th>2</th>\n",
       "      <td>a</td>\n",
       "      <td>2</td>\n",
       "    </tr>\n",
       "    <tr>\n",
       "      <th>3</th>\n",
       "      <td>c</td>\n",
       "      <td>3</td>\n",
       "    </tr>\n",
       "    <tr>\n",
       "      <th>4</th>\n",
       "      <td>a</td>\n",
       "      <td>4</td>\n",
       "    </tr>\n",
       "    <tr>\n",
       "      <th>5</th>\n",
       "      <td>a</td>\n",
       "      <td>5</td>\n",
       "    </tr>\n",
       "    <tr>\n",
       "      <th>6</th>\n",
       "      <td>b</td>\n",
       "      <td>6</td>\n",
       "    </tr>\n",
       "  </tbody>\n",
       "</table>\n",
       "</div>"
      ],
      "text/plain": [
       "  key  data1\n",
       "0   b      0\n",
       "1   b      1\n",
       "2   a      2\n",
       "3   c      3\n",
       "4   a      4\n",
       "5   a      5\n",
       "6   b      6"
      ]
     },
     "execution_count": 81,
     "metadata": {},
     "output_type": "execute_result"
    }
   ],
   "source": [
    "df1 = pd.DataFrame({'key': ['b', 'b', 'a', 'c', 'a', 'a', 'b'], 'data1': range(7)})\n",
    "df1"
   ]
  },
  {
   "cell_type": "code",
   "execution_count": 82,
   "metadata": {
    "ExecuteTime": {
     "end_time": "2020-05-14T13:08:47.597116Z",
     "start_time": "2020-05-14T13:08:47.535894Z"
    }
   },
   "outputs": [
    {
     "data": {
      "text/html": [
       "<div>\n",
       "<style scoped>\n",
       "    .dataframe tbody tr th:only-of-type {\n",
       "        vertical-align: middle;\n",
       "    }\n",
       "\n",
       "    .dataframe tbody tr th {\n",
       "        vertical-align: top;\n",
       "    }\n",
       "\n",
       "    .dataframe thead th {\n",
       "        text-align: right;\n",
       "    }\n",
       "</style>\n",
       "<table border=\"1\" class=\"dataframe\">\n",
       "  <thead>\n",
       "    <tr style=\"text-align: right;\">\n",
       "      <th></th>\n",
       "      <th>key</th>\n",
       "      <th>data2</th>\n",
       "    </tr>\n",
       "  </thead>\n",
       "  <tbody>\n",
       "    <tr>\n",
       "      <th>0</th>\n",
       "      <td>a</td>\n",
       "      <td>0</td>\n",
       "    </tr>\n",
       "    <tr>\n",
       "      <th>1</th>\n",
       "      <td>b</td>\n",
       "      <td>1</td>\n",
       "    </tr>\n",
       "    <tr>\n",
       "      <th>2</th>\n",
       "      <td>d</td>\n",
       "      <td>2</td>\n",
       "    </tr>\n",
       "  </tbody>\n",
       "</table>\n",
       "</div>"
      ],
      "text/plain": [
       "  key  data2\n",
       "0   a      0\n",
       "1   b      1\n",
       "2   d      2"
      ]
     },
     "execution_count": 82,
     "metadata": {},
     "output_type": "execute_result"
    }
   ],
   "source": [
    "df2 = pd.DataFrame({'key': ['a', 'b', 'd'], 'data2': range(3)})\n",
    "df2"
   ]
  },
  {
   "cell_type": "code",
   "execution_count": 83,
   "metadata": {
    "ExecuteTime": {
     "end_time": "2020-05-14T13:08:47.694081Z",
     "start_time": "2020-05-14T13:08:47.598602Z"
    }
   },
   "outputs": [
    {
     "data": {
      "text/html": [
       "<div>\n",
       "<style scoped>\n",
       "    .dataframe tbody tr th:only-of-type {\n",
       "        vertical-align: middle;\n",
       "    }\n",
       "\n",
       "    .dataframe tbody tr th {\n",
       "        vertical-align: top;\n",
       "    }\n",
       "\n",
       "    .dataframe thead th {\n",
       "        text-align: right;\n",
       "    }\n",
       "</style>\n",
       "<table border=\"1\" class=\"dataframe\">\n",
       "  <thead>\n",
       "    <tr style=\"text-align: right;\">\n",
       "      <th></th>\n",
       "      <th>key</th>\n",
       "      <th>data1</th>\n",
       "      <th>data2</th>\n",
       "    </tr>\n",
       "  </thead>\n",
       "  <tbody>\n",
       "    <tr>\n",
       "      <th>0</th>\n",
       "      <td>b</td>\n",
       "      <td>0.0</td>\n",
       "      <td>1.0</td>\n",
       "    </tr>\n",
       "    <tr>\n",
       "      <th>1</th>\n",
       "      <td>b</td>\n",
       "      <td>1.0</td>\n",
       "      <td>1.0</td>\n",
       "    </tr>\n",
       "    <tr>\n",
       "      <th>2</th>\n",
       "      <td>b</td>\n",
       "      <td>6.0</td>\n",
       "      <td>1.0</td>\n",
       "    </tr>\n",
       "    <tr>\n",
       "      <th>3</th>\n",
       "      <td>a</td>\n",
       "      <td>2.0</td>\n",
       "      <td>0.0</td>\n",
       "    </tr>\n",
       "    <tr>\n",
       "      <th>4</th>\n",
       "      <td>a</td>\n",
       "      <td>4.0</td>\n",
       "      <td>0.0</td>\n",
       "    </tr>\n",
       "    <tr>\n",
       "      <th>5</th>\n",
       "      <td>a</td>\n",
       "      <td>5.0</td>\n",
       "      <td>0.0</td>\n",
       "    </tr>\n",
       "    <tr>\n",
       "      <th>6</th>\n",
       "      <td>c</td>\n",
       "      <td>3.0</td>\n",
       "      <td>NaN</td>\n",
       "    </tr>\n",
       "    <tr>\n",
       "      <th>7</th>\n",
       "      <td>d</td>\n",
       "      <td>NaN</td>\n",
       "      <td>2.0</td>\n",
       "    </tr>\n",
       "  </tbody>\n",
       "</table>\n",
       "</div>"
      ],
      "text/plain": [
       "  key  data1  data2\n",
       "0   b    0.0    1.0\n",
       "1   b    1.0    1.0\n",
       "2   b    6.0    1.0\n",
       "3   a    2.0    0.0\n",
       "4   a    4.0    0.0\n",
       "5   a    5.0    0.0\n",
       "6   c    3.0    NaN\n",
       "7   d    NaN    2.0"
      ]
     },
     "execution_count": 83,
     "metadata": {},
     "output_type": "execute_result"
    }
   ],
   "source": [
    "pd.merge(df1, df2, on = 'key', how = 'outer')"
   ]
  },
  {
   "cell_type": "code",
   "execution_count": 84,
   "metadata": {
    "ExecuteTime": {
     "end_time": "2020-05-14T13:08:47.784378Z",
     "start_time": "2020-05-14T13:08:47.697040Z"
    }
   },
   "outputs": [
    {
     "data": {
      "text/html": [
       "<div>\n",
       "<style scoped>\n",
       "    .dataframe tbody tr th:only-of-type {\n",
       "        vertical-align: middle;\n",
       "    }\n",
       "\n",
       "    .dataframe tbody tr th {\n",
       "        vertical-align: top;\n",
       "    }\n",
       "\n",
       "    .dataframe thead th {\n",
       "        text-align: right;\n",
       "    }\n",
       "</style>\n",
       "<table border=\"1\" class=\"dataframe\">\n",
       "  <thead>\n",
       "    <tr style=\"text-align: right;\">\n",
       "      <th></th>\n",
       "      <th>key</th>\n",
       "      <th>data1</th>\n",
       "      <th>data2</th>\n",
       "    </tr>\n",
       "  </thead>\n",
       "  <tbody>\n",
       "    <tr>\n",
       "      <th>0</th>\n",
       "      <td>b</td>\n",
       "      <td>0</td>\n",
       "      <td>1</td>\n",
       "    </tr>\n",
       "    <tr>\n",
       "      <th>1</th>\n",
       "      <td>b</td>\n",
       "      <td>1</td>\n",
       "      <td>1</td>\n",
       "    </tr>\n",
       "    <tr>\n",
       "      <th>2</th>\n",
       "      <td>b</td>\n",
       "      <td>6</td>\n",
       "      <td>1</td>\n",
       "    </tr>\n",
       "    <tr>\n",
       "      <th>3</th>\n",
       "      <td>a</td>\n",
       "      <td>2</td>\n",
       "      <td>0</td>\n",
       "    </tr>\n",
       "    <tr>\n",
       "      <th>4</th>\n",
       "      <td>a</td>\n",
       "      <td>4</td>\n",
       "      <td>0</td>\n",
       "    </tr>\n",
       "    <tr>\n",
       "      <th>5</th>\n",
       "      <td>a</td>\n",
       "      <td>5</td>\n",
       "      <td>0</td>\n",
       "    </tr>\n",
       "  </tbody>\n",
       "</table>\n",
       "</div>"
      ],
      "text/plain": [
       "  key  data1  data2\n",
       "0   b      0      1\n",
       "1   b      1      1\n",
       "2   b      6      1\n",
       "3   a      2      0\n",
       "4   a      4      0\n",
       "5   a      5      0"
      ]
     },
     "execution_count": 84,
     "metadata": {},
     "output_type": "execute_result"
    }
   ],
   "source": [
    "pd.merge(df1, df2, on = 'key', how = 'inner')"
   ]
  },
  {
   "cell_type": "markdown",
   "metadata": {},
   "source": [
    "<code>pd.merge()</code> merges two dataframes. The <code>on</code> attribute tells on which column or row the dataframe needs to be merged. <code>how</code> tells you how the joining is done. \"outer\" is equivalent to union between two sets and \"inner\" is equivalent to intersection between two sets (which you may have already noticed in the above example."
   ]
  },
  {
   "cell_type": "markdown",
   "metadata": {},
   "source": [
    "There are many more attributes in <code>pd.merge()</code> which may be useful. This is a <a href = \"https://pandas.pydata.org/pandas-docs/stable/reference/api/pandas.DataFrame.merge.html\">link</a> to it's documentation.<br>\n",
    "At this point I realize I'm asking you to look through the documentation a lot but looking through the documentation is a very important skill for any developer. Developing that skill is also one of the goals of this course."
   ]
  },
  {
   "cell_type": "markdown",
   "metadata": {},
   "source": [
    "#### So that's it for pandas for now. Hope you learnt something new. As I already told, Google is your friend. This notebook acts as an introductory guide. If you don't remember syntax of any function feel free to Google it."
   ]
  }
 ],
 "metadata": {
  "kernelspec": {
   "display_name": "Python 3",
   "language": "python",
   "name": "python3"
  },
  "language_info": {
   "codemirror_mode": {
    "name": "ipython",
    "version": 3
   },
   "file_extension": ".py",
   "mimetype": "text/x-python",
   "name": "python",
   "nbconvert_exporter": "python",
   "pygments_lexer": "ipython3",
   "version": "3.7.6"
  },
  "varInspector": {
   "cols": {
    "lenName": 16,
    "lenType": 16,
    "lenVar": 40
   },
   "kernels_config": {
    "python": {
     "delete_cmd_postfix": "",
     "delete_cmd_prefix": "del ",
     "library": "var_list.py",
     "varRefreshCmd": "print(var_dic_list())"
    },
    "r": {
     "delete_cmd_postfix": ") ",
     "delete_cmd_prefix": "rm(",
     "library": "var_list.r",
     "varRefreshCmd": "cat(var_dic_list()) "
    }
   },
   "types_to_exclude": [
    "module",
    "function",
    "builtin_function_or_method",
    "instance",
    "_Feature"
   ],
   "window_display": false
  }
 },
 "nbformat": 4,
 "nbformat_minor": 2
}
