{
 "cells": [
  {
   "cell_type": "code",
   "execution_count": null,
   "metadata": {},
   "outputs": [],
   "source": [
    "#Colab users uncomment this code\n",
    "#Files for this notebook are Energy Indicators.xls and world_bank.csv"
   ]
  },
  {
   "cell_type": "code",
   "execution_count": null,
   "metadata": {},
   "outputs": [],
   "source": [
    "\"\"\"\n",
    "!pip install -U -q PyDrive\n",
    "from pydrive.auth import GoogleAuth\n",
    "from pydrive.drive import GoogleDrive\n",
    "from google.colab import auth\n",
    "from oauth2client.client import GoogleCredentials\n",
    "\"\"\""
   ]
  },
  {
   "cell_type": "code",
   "execution_count": null,
   "metadata": {},
   "outputs": [],
   "source": [
    "\"\"\"\n",
    "auth.authenticate_user()\n",
    "gauth = GoogleAuth()\n",
    "gauth.credentials = GoogleCredentials.get_application_default()\n",
    "drive = GoogleDrive(gauth)\n",
    "\"\"\""
   ]
  },
  {
   "cell_type": "code",
   "execution_count": null,
   "metadata": {},
   "outputs": [],
   "source": [
    "\"\"\"\n",
    "downloaded = drive.CreateFile({'id':'1R9vW5dmox7i8OGOoDql_r9yUrvAJgvhD'}) # replace the id with id of file you want to access\n",
    "downloaded.GetContentFile('Energy Indicators.xls')\n",
    "\"\"\""
   ]
  },
  {
   "cell_type": "code",
   "execution_count": null,
   "metadata": {},
   "outputs": [],
   "source": [
    "\"\"\"\n",
    "downloaded = drive.CreateFile({'id':'1R9vW5dmox7i8OGOoDql_r9yUrvAJgvhD'}) # replace the id with id of file you want to access\n",
    "downloaded.GetContentFile('world_bank.csv')\n",
    "\"\"\""
   ]
  },
  {
   "cell_type": "markdown",
   "metadata": {},
   "source": [
    "# PANDAS ASSIGNMENT (100)\n",
    "<hr style=\"height:5px;border-width:2;color:gray\">"
   ]
  },
  {
   "cell_type": "markdown",
   "metadata": {},
   "source": [
    "In this assignment you'll be handling two datasets, <code>Energy Indicators.xls</code> and <code>world_bank.csv</code> and answering some questions.<br><br>\n",
    "<b>Grading:</b>\n",
    "<ul>\n",
    "    <li>Each question has the corresponding total marks next to it.</li>\n",
    "    <li>Each question will be graded on <b>final answer (60%)</b> and <b>conciseness of code (40%)</b>.</li>\n",
    "    <li>There is no partial marking for final answer but there is partial marking for conciseness of code</li>\n",
    "    <li>The total marks will be scaled down later on as per requirement.</li>\n",
    "</ul><br>\n",
    "<b>Write your code in the given empty cells</b>    "
   ]
  },
  {
   "cell_type": "code",
   "execution_count": 1,
   "metadata": {
    "ExecuteTime": {
     "end_time": "2020-05-14T16:44:43.995497Z",
     "start_time": "2020-05-14T16:44:43.799369Z"
    }
   },
   "outputs": [],
   "source": [
    "import pandas as pd\n",
    "import numpy as np"
   ]
  },
  {
   "cell_type": "markdown",
   "metadata": {},
   "source": [
    "## Loading and Cleaning the Data (50)\n",
    "<div class=\"alert alert-block alert-warning\">\n",
    "    <b>Note that this is the most important part of this assignment as without successfully loading and cleaning the data, future questions cannot be answered.</b>\n",
    "</div>"
   ]
  },
  {
   "cell_type": "markdown",
   "metadata": {},
   "source": [
    "#### Energy Indicators data ( 6 X 5 = 30)\n",
    "<b>Instructions</b>:\n",
    "<ol>\n",
    "    <li>Load the <b>excel file</b> <code>Energy Indicators.xls</code> into dataframe called <code>energy</code>.</li>\n",
    "    <li>Make sure to exclude header and footer information from the datafile.</li>\n",
    "    <li>The first two columns are unecessary and hence get rid of them.</li>\n",
    "    <li>Change the remaining column names to <code>['Country', 'Energy Supply', 'Energy Supply per Capita', '% Renewable']</code>.</li>\n",
    "    <li>The Energy Supply is in petajoule. Covert it to gigajoule. (1 petajoule = 1,000,000 gigajoule)</li>\n",
    "    <li>Rename the following list of countries:\n",
    "        <ul>\n",
    "        <li>\"Republic of Korea\" : \"South Korea\"</li>\n",
    "        <li>\"United States of America\" : \"United States\"</li>\n",
    "        <li>\"United Kingdom of Great Britain and Northern Ireland\" : \"United Kingdom\"</li>\n",
    "        <li>\"China, Hong Kong Special Administrative Region\" : \"Hong Kong\"</li>\n",
    "        </ul>\n",
    "    </li>\n",
    "</ol>\n",
    "<div class=\"alert alert-block alert-info\">\n",
    "    <b>Hint</b>: <code>energy</code> dataframe has 227 rows and 4 columns.\n",
    "</div>"
   ]
  },
  {
   "cell_type": "code",
   "execution_count": 54,
   "metadata": {
    "ExecuteTime": {
     "end_time": "2020-05-14T17:49:42.875853Z",
     "start_time": "2020-05-14T17:49:42.801643Z"
    }
   },
   "outputs": [
    {
     "data": {
      "text/html": [
       "<div>\n",
       "<style scoped>\n",
       "    .dataframe tbody tr th:only-of-type {\n",
       "        vertical-align: middle;\n",
       "    }\n",
       "\n",
       "    .dataframe tbody tr th {\n",
       "        vertical-align: top;\n",
       "    }\n",
       "\n",
       "    .dataframe thead th {\n",
       "        text-align: right;\n",
       "    }\n",
       "</style>\n",
       "<table border=\"1\" class=\"dataframe\">\n",
       "  <thead>\n",
       "    <tr style=\"text-align: right;\">\n",
       "      <th></th>\n",
       "      <th>Country</th>\n",
       "      <th>Energy Supply</th>\n",
       "      <th>Energy Supply per Capita</th>\n",
       "      <th>% Renewable</th>\n",
       "    </tr>\n",
       "  </thead>\n",
       "  <tbody>\n",
       "    <tr>\n",
       "      <th>0</th>\n",
       "      <td>Afghanistan</td>\n",
       "      <td>3.210000e+08</td>\n",
       "      <td>10.0</td>\n",
       "      <td>78.669280</td>\n",
       "    </tr>\n",
       "    <tr>\n",
       "      <th>1</th>\n",
       "      <td>Albania</td>\n",
       "      <td>1.020000e+08</td>\n",
       "      <td>35.0</td>\n",
       "      <td>100.000000</td>\n",
       "    </tr>\n",
       "    <tr>\n",
       "      <th>2</th>\n",
       "      <td>Algeria</td>\n",
       "      <td>1.959000e+09</td>\n",
       "      <td>51.0</td>\n",
       "      <td>0.551010</td>\n",
       "    </tr>\n",
       "    <tr>\n",
       "      <th>3</th>\n",
       "      <td>American Samoa</td>\n",
       "      <td>NaN</td>\n",
       "      <td>NaN</td>\n",
       "      <td>0.641026</td>\n",
       "    </tr>\n",
       "    <tr>\n",
       "      <th>4</th>\n",
       "      <td>Andorra</td>\n",
       "      <td>9.000000e+06</td>\n",
       "      <td>121.0</td>\n",
       "      <td>88.695650</td>\n",
       "    </tr>\n",
       "    <tr>\n",
       "      <th>...</th>\n",
       "      <td>...</td>\n",
       "      <td>...</td>\n",
       "      <td>...</td>\n",
       "      <td>...</td>\n",
       "    </tr>\n",
       "    <tr>\n",
       "      <th>222</th>\n",
       "      <td>Viet Nam</td>\n",
       "      <td>2.554000e+09</td>\n",
       "      <td>28.0</td>\n",
       "      <td>45.321520</td>\n",
       "    </tr>\n",
       "    <tr>\n",
       "      <th>223</th>\n",
       "      <td>Wallis and Futuna Islands</td>\n",
       "      <td>0.000000e+00</td>\n",
       "      <td>26.0</td>\n",
       "      <td>0.000000</td>\n",
       "    </tr>\n",
       "    <tr>\n",
       "      <th>224</th>\n",
       "      <td>Yemen</td>\n",
       "      <td>3.440000e+08</td>\n",
       "      <td>13.0</td>\n",
       "      <td>0.000000</td>\n",
       "    </tr>\n",
       "    <tr>\n",
       "      <th>225</th>\n",
       "      <td>Zambia</td>\n",
       "      <td>4.000000e+08</td>\n",
       "      <td>26.0</td>\n",
       "      <td>99.714670</td>\n",
       "    </tr>\n",
       "    <tr>\n",
       "      <th>226</th>\n",
       "      <td>Zimbabwe</td>\n",
       "      <td>4.800000e+08</td>\n",
       "      <td>32.0</td>\n",
       "      <td>52.536120</td>\n",
       "    </tr>\n",
       "  </tbody>\n",
       "</table>\n",
       "<p>227 rows × 4 columns</p>\n",
       "</div>"
      ],
      "text/plain": [
       "                       Country  Energy Supply  Energy Supply per Capita  \\\n",
       "0                  Afghanistan   3.210000e+08                      10.0   \n",
       "1                      Albania   1.020000e+08                      35.0   \n",
       "2                      Algeria   1.959000e+09                      51.0   \n",
       "3               American Samoa            NaN                       NaN   \n",
       "4                      Andorra   9.000000e+06                     121.0   \n",
       "..                         ...            ...                       ...   \n",
       "222                   Viet Nam   2.554000e+09                      28.0   \n",
       "223  Wallis and Futuna Islands   0.000000e+00                      26.0   \n",
       "224                      Yemen   3.440000e+08                      13.0   \n",
       "225                     Zambia   4.000000e+08                      26.0   \n",
       "226                   Zimbabwe   4.800000e+08                      32.0   \n",
       "\n",
       "     % Renewable  \n",
       "0      78.669280  \n",
       "1     100.000000  \n",
       "2       0.551010  \n",
       "3       0.641026  \n",
       "4      88.695650  \n",
       "..           ...  \n",
       "222    45.321520  \n",
       "223     0.000000  \n",
       "224     0.000000  \n",
       "225    99.714670  \n",
       "226    52.536120  \n",
       "\n",
       "[227 rows x 4 columns]"
      ]
     },
     "execution_count": 54,
     "metadata": {},
     "output_type": "execute_result"
    }
   ],
   "source": [
    "energy = pd.read_excel(\"Energy Indicators.xls\")\n",
    "energy = energy.iloc[17:244 ,2:6].reset_index().drop(columns = [\"index\"])\n",
    "energy.rename(columns = {'Unnamed: 2':'Country' , 'Unnamed: 3':'Energy Supply' , 'Unnamed: 4':'Energy Supply per Capita' , 'Unnamed: 5':'% Renewable'} , inplace = True)\n",
    "energy = energy.replace('...',np.NaN)\n",
    "energy[\"Energy Supply\"] = energy[\"Energy Supply\"]*1000000\n",
    "CountryRename = {\"Republic of Korea\" : \"South Korea\",\n",
    "\"United States of America\" : \"United States\",\n",
    "\"United Kingdom of Great Britain and Northern Ireland\" : \"United Kingdom\",\n",
    "\"China, Hong Kong Special Administrative Region\" : \"Hong Kong\"}\n",
    "#energy[\"Country\"] = energy[\"Country\"].apply(lambda x : CountryRename.get(x))\n",
    "energy = energy.replace(CountryRename)\n",
    "energy"
   ]
  },
  {
   "cell_type": "markdown",
   "metadata": {},
   "source": [
    "#### GDP Data (10)\n",
    "<b>Instructions: </b><br>\n",
    "<ol>\n",
    "    <li>Load the <b>csv file</b> <code>world_bank.csv</code> into a dataframe called <code>GDP</code>.</li>\n",
    "    <li>Skip the headers.</li>\n",
    "    <li>The GDP dataframe must only have the columns of country name and GDP of years 2006-2015 (both inclusive)</li>\n",
    "    <li>Rename the following list of countries:</li>\n",
    "    <ul>\n",
    "        <li>\"Korea, Rep.\": \"South Korea\"</li>\n",
    "        <li>\"Iran, Islamic Rep.\": \"Iran\"</li>\n",
    "        <li>\"Hong Kong SAR, China\": \"Hong Kong\"</li>\n",
    "    </ul>\n",
    "</ol>\n",
    "<div class=\"alert alert-block alert-info\">\n",
    "    <b>Hint</b>: <code>GDP</code> dataframe has 264 rows and 11 columns.\n",
    "</div>"
   ]
  },
  {
   "cell_type": "code",
   "execution_count": 73,
   "metadata": {
    "ExecuteTime": {
     "end_time": "2020-05-14T18:03:15.233614Z",
     "start_time": "2020-05-14T18:03:15.201955Z"
    }
   },
   "outputs": [],
   "source": [
    "GDP = pd.read_csv(\"world_bank.csv\")\n",
    "GDP = GDP.iloc[4:269].reset_index().drop(columns = [\"index\"])\n",
    "GDP.drop(GDP.columns[1:50], axis = 1, inplace = True) \n",
    "CountryRename = {\"Korea, Rep.\": \"South Korea\",\n",
    "\"Iran, Islamic Rep.\": \"Iran\",\n",
    "\"Hong Kong SAR, China\": \"Hong Kong\"}\n",
    "GDP = GDP.replace(CountryRename)\n",
    "GDP = GDP.rename(columns = {'Data Source':'Country'})\n",
    "#GDP"
   ]
  },
  {
   "cell_type": "markdown",
   "metadata": {},
   "source": [
    "#### Merging the dataframes (10)\n",
    "<b>Instructions</b>:\n",
    "Merge the two dataframes into one and call it <code>energy_GDP</code> which has data pertaining to <b>countries common to both dataframes</b>. <code>energy_GDP</code> must have <b>13 columns</b> excluding the index, which should be <code>Country</code>.<br>\n",
    "After this reduce the dataframe to have data pertaining the countries given in the next cell."
   ]
  },
  {
   "cell_type": "code",
   "execution_count": 100,
   "metadata": {
    "ExecuteTime": {
     "end_time": "2020-05-14T18:32:30.820283Z",
     "start_time": "2020-05-14T18:32:30.803655Z"
    }
   },
   "outputs": [],
   "source": [
    "countries = ['China', 'United States', 'Japan', 'United Kingdom', 'Russian Federation', 'Canada', 'Germany', 'India', 'France', 'South Korea', 'Italy', 'Spain', 'Iran', 'Australia', 'Brazil']"
   ]
  },
  {
   "cell_type": "code",
   "execution_count": 101,
   "metadata": {
    "ExecuteTime": {
     "end_time": "2020-05-14T18:32:33.716030Z",
     "start_time": "2020-05-14T18:32:33.670804Z"
    }
   },
   "outputs": [
    {
     "ename": "KeyError",
     "evalue": "\"None of [Index(['China', 'United States', 'Japan', 'United Kingdom',\\n       'Russian Federation', 'Canada', 'Germany', 'India', 'France',\\n       'South Korea', 'Italy', 'Spain', 'Iran', 'Australia', 'Brazil'],\\n      dtype='object')] are in the [columns]\"",
     "output_type": "error",
     "traceback": [
      "\u001b[0;31m---------------------------------------------------------------------------\u001b[0m",
      "\u001b[0;31mKeyError\u001b[0m                                  Traceback (most recent call last)",
      "\u001b[0;32m<ipython-input-101-9523345fefee>\u001b[0m in \u001b[0;36m<module>\u001b[0;34m\u001b[0m\n\u001b[1;32m      1\u001b[0m \u001b[0menergy_GDP\u001b[0m \u001b[0;34m=\u001b[0m \u001b[0mpd\u001b[0m\u001b[0;34m.\u001b[0m\u001b[0mmerge\u001b[0m\u001b[0;34m(\u001b[0m\u001b[0menergy\u001b[0m \u001b[0;34m,\u001b[0m \u001b[0mGDP\u001b[0m \u001b[0;34m,\u001b[0m \u001b[0mon\u001b[0m \u001b[0;34m=\u001b[0m \u001b[0;34m'Country'\u001b[0m \u001b[0;34m,\u001b[0m \u001b[0mhow\u001b[0m \u001b[0;34m=\u001b[0m \u001b[0;34m'outer'\u001b[0m\u001b[0;34m)\u001b[0m\u001b[0;34m\u001b[0m\u001b[0;34m\u001b[0m\u001b[0m\n\u001b[1;32m      2\u001b[0m \u001b[0;31m#countries = set(countries)\u001b[0m\u001b[0;34m\u001b[0m\u001b[0;34m\u001b[0m\u001b[0;34m\u001b[0m\u001b[0m\n\u001b[0;32m----> 3\u001b[0;31m \u001b[0menergy_GDP\u001b[0m\u001b[0;34m[\u001b[0m\u001b[0mcountries\u001b[0m\u001b[0;34m]\u001b[0m\u001b[0;34m\u001b[0m\u001b[0;34m\u001b[0m\u001b[0m\n\u001b[0m",
      "\u001b[0;32m~/anaconda3/lib/python3.7/site-packages/pandas/core/frame.py\u001b[0m in \u001b[0;36m__getitem__\u001b[0;34m(self, key)\u001b[0m\n\u001b[1;32m   2804\u001b[0m             \u001b[0;32mif\u001b[0m \u001b[0mis_iterator\u001b[0m\u001b[0;34m(\u001b[0m\u001b[0mkey\u001b[0m\u001b[0;34m)\u001b[0m\u001b[0;34m:\u001b[0m\u001b[0;34m\u001b[0m\u001b[0;34m\u001b[0m\u001b[0m\n\u001b[1;32m   2805\u001b[0m                 \u001b[0mkey\u001b[0m \u001b[0;34m=\u001b[0m \u001b[0mlist\u001b[0m\u001b[0;34m(\u001b[0m\u001b[0mkey\u001b[0m\u001b[0;34m)\u001b[0m\u001b[0;34m\u001b[0m\u001b[0;34m\u001b[0m\u001b[0m\n\u001b[0;32m-> 2806\u001b[0;31m             \u001b[0mindexer\u001b[0m \u001b[0;34m=\u001b[0m \u001b[0mself\u001b[0m\u001b[0;34m.\u001b[0m\u001b[0mloc\u001b[0m\u001b[0;34m.\u001b[0m\u001b[0m_get_listlike_indexer\u001b[0m\u001b[0;34m(\u001b[0m\u001b[0mkey\u001b[0m\u001b[0;34m,\u001b[0m \u001b[0maxis\u001b[0m\u001b[0;34m=\u001b[0m\u001b[0;36m1\u001b[0m\u001b[0;34m,\u001b[0m \u001b[0mraise_missing\u001b[0m\u001b[0;34m=\u001b[0m\u001b[0;32mTrue\u001b[0m\u001b[0;34m)\u001b[0m\u001b[0;34m[\u001b[0m\u001b[0;36m1\u001b[0m\u001b[0;34m]\u001b[0m\u001b[0;34m\u001b[0m\u001b[0;34m\u001b[0m\u001b[0m\n\u001b[0m\u001b[1;32m   2807\u001b[0m \u001b[0;34m\u001b[0m\u001b[0m\n\u001b[1;32m   2808\u001b[0m         \u001b[0;31m# take() does not accept boolean indexers\u001b[0m\u001b[0;34m\u001b[0m\u001b[0;34m\u001b[0m\u001b[0;34m\u001b[0m\u001b[0m\n",
      "\u001b[0;32m~/anaconda3/lib/python3.7/site-packages/pandas/core/indexing.py\u001b[0m in \u001b[0;36m_get_listlike_indexer\u001b[0;34m(self, key, axis, raise_missing)\u001b[0m\n\u001b[1;32m   1550\u001b[0m \u001b[0;34m\u001b[0m\u001b[0m\n\u001b[1;32m   1551\u001b[0m         self._validate_read_indexer(\n\u001b[0;32m-> 1552\u001b[0;31m             \u001b[0mkeyarr\u001b[0m\u001b[0;34m,\u001b[0m \u001b[0mindexer\u001b[0m\u001b[0;34m,\u001b[0m \u001b[0mo\u001b[0m\u001b[0;34m.\u001b[0m\u001b[0m_get_axis_number\u001b[0m\u001b[0;34m(\u001b[0m\u001b[0maxis\u001b[0m\u001b[0;34m)\u001b[0m\u001b[0;34m,\u001b[0m \u001b[0mraise_missing\u001b[0m\u001b[0;34m=\u001b[0m\u001b[0mraise_missing\u001b[0m\u001b[0;34m\u001b[0m\u001b[0;34m\u001b[0m\u001b[0m\n\u001b[0m\u001b[1;32m   1553\u001b[0m         )\n\u001b[1;32m   1554\u001b[0m         \u001b[0;32mreturn\u001b[0m \u001b[0mkeyarr\u001b[0m\u001b[0;34m,\u001b[0m \u001b[0mindexer\u001b[0m\u001b[0;34m\u001b[0m\u001b[0;34m\u001b[0m\u001b[0m\n",
      "\u001b[0;32m~/anaconda3/lib/python3.7/site-packages/pandas/core/indexing.py\u001b[0m in \u001b[0;36m_validate_read_indexer\u001b[0;34m(self, key, indexer, axis, raise_missing)\u001b[0m\n\u001b[1;32m   1637\u001b[0m             \u001b[0;32mif\u001b[0m \u001b[0mmissing\u001b[0m \u001b[0;34m==\u001b[0m \u001b[0mlen\u001b[0m\u001b[0;34m(\u001b[0m\u001b[0mindexer\u001b[0m\u001b[0;34m)\u001b[0m\u001b[0;34m:\u001b[0m\u001b[0;34m\u001b[0m\u001b[0;34m\u001b[0m\u001b[0m\n\u001b[1;32m   1638\u001b[0m                 \u001b[0maxis_name\u001b[0m \u001b[0;34m=\u001b[0m \u001b[0mself\u001b[0m\u001b[0;34m.\u001b[0m\u001b[0mobj\u001b[0m\u001b[0;34m.\u001b[0m\u001b[0m_get_axis_name\u001b[0m\u001b[0;34m(\u001b[0m\u001b[0maxis\u001b[0m\u001b[0;34m)\u001b[0m\u001b[0;34m\u001b[0m\u001b[0;34m\u001b[0m\u001b[0m\n\u001b[0;32m-> 1639\u001b[0;31m                 \u001b[0;32mraise\u001b[0m \u001b[0mKeyError\u001b[0m\u001b[0;34m(\u001b[0m\u001b[0;34mf\"None of [{key}] are in the [{axis_name}]\"\u001b[0m\u001b[0;34m)\u001b[0m\u001b[0;34m\u001b[0m\u001b[0;34m\u001b[0m\u001b[0m\n\u001b[0m\u001b[1;32m   1640\u001b[0m \u001b[0;34m\u001b[0m\u001b[0m\n\u001b[1;32m   1641\u001b[0m             \u001b[0;31m# We (temporarily) allow for some missing keys with .loc, except in\u001b[0m\u001b[0;34m\u001b[0m\u001b[0;34m\u001b[0m\u001b[0;34m\u001b[0m\u001b[0m\n",
      "\u001b[0;31mKeyError\u001b[0m: \"None of [Index(['China', 'United States', 'Japan', 'United Kingdom',\\n       'Russian Federation', 'Canada', 'Germany', 'India', 'France',\\n       'South Korea', 'Italy', 'Spain', 'Iran', 'Australia', 'Brazil'],\\n      dtype='object')] are in the [columns]\""
     ]
    }
   ],
   "source": [
    "energy_GDP = pd.merge(energy , GDP , on = 'Country' , how = 'outer')\n",
    "energy_GDP[countries]"
   ]
  },
  {
   "cell_type": "markdown",
   "metadata": {},
   "source": [
    "## Questions (50)"
   ]
  },
  {
   "cell_type": "markdown",
   "metadata": {},
   "source": [
    "#### 1. What is the average GDP over the last 10 years for each country? (exclude missing values from this calculation.) (5)\n",
    "(Your answer should be a series in <b>descending order</b> by average GDP)"
   ]
  },
  {
   "cell_type": "code",
   "execution_count": null,
   "metadata": {},
   "outputs": [],
   "source": []
  },
  {
   "cell_type": "markdown",
   "metadata": {},
   "source": [
    "#### 2. By how much has the GDP changed over the 10 year span for the country with the 6th largest average GDP? (5)\n",
    "(Your answer should be a single number)"
   ]
  },
  {
   "cell_type": "code",
   "execution_count": null,
   "metadata": {},
   "outputs": [],
   "source": []
  },
  {
   "cell_type": "markdown",
   "metadata": {},
   "source": [
    "#### 3. What country has the maximum % Renewable and what is the percentage? (10)\n",
    "(Your answer should be a python tuple coontaining country name and its % Renewable)"
   ]
  },
  {
   "cell_type": "code",
   "execution_count": null,
   "metadata": {},
   "outputs": [],
   "source": []
  },
  {
   "cell_type": "markdown",
   "metadata": {},
   "source": [
    "#### 4(i). Create a column that estimates the population using Energy Supply and Energy Supply per capita. (5)\n",
    "<div class=\"alert alert-block alert-warning\">\n",
    "    <b>Note: </b>You should convert the population estimation by energy to np.float64 format.\n",
    "</div><br>\n",
    "(Your answer should be the first five rows of a dataframe)\n"
   ]
  },
  {
   "cell_type": "code",
   "execution_count": null,
   "metadata": {},
   "outputs": [],
   "source": []
  },
  {
   "cell_type": "markdown",
   "metadata": {},
   "source": [
    "#### 4(ii). What is the third most populous country according to this? (5)\n",
    "(Your answer should be a single string)"
   ]
  },
  {
   "cell_type": "code",
   "execution_count": null,
   "metadata": {},
   "outputs": [],
   "source": []
  },
  {
   "cell_type": "markdown",
   "metadata": {},
   "source": [
    "#### 5. Create a series with country as index and value 1 if the country's % Renewable is above the median % Renewable of the 15 countries and 0 otherwise. (5)\n",
    "(Your answer should be a series)"
   ]
  },
  {
   "cell_type": "code",
   "execution_count": null,
   "metadata": {},
   "outputs": [],
   "source": []
  },
  {
   "cell_type": "markdown",
   "metadata": {},
   "source": [
    "#### 6. Summary of continents (15)\n",
    "Group the countries by continent and display the following data for each continent: (All data regarding the given 15 countries)\n",
    "<ul>\n",
    "    <li><b>size</b>: The number of countries in this continent</li>\n",
    "    <li><b>sum</b>: Total population estimate of this continent</li>\n",
    "    <li><b>mean</b>: Mean country population in this continent</li>\n",
    "    <li><b>std</b>: Standard deviation of country population in this continent</li>\n",
    "</ul>\n",
    "Use the dictionary in the next cell to assign corresponding continent to each country.<br>\n",
    "(Your answer should be  a dataframe with index named Continent <code>['Asia', 'Australia', 'Europe', 'North America', 'South America']</code> and columns <code>['size', 'sum', 'mean', 'std']</code> and it will have two <code>NaN</code>)"
   ]
  },
  {
   "cell_type": "code",
   "execution_count": null,
   "metadata": {},
   "outputs": [],
   "source": [
    "continents = {'China':'Asia', \n",
    "                  'United States':'North America', \n",
    "                  'Japan':'Asia', \n",
    "                  'United Kingdom':'Europe', \n",
    "                  'Russian Federation':'Europe', \n",
    "                  'Canada':'North America', \n",
    "                  'Germany':'Europe', \n",
    "                  'India':'Asia',\n",
    "                  'France':'Europe', \n",
    "                  'South Korea':'Asia', \n",
    "                  'Italy':'Europe', \n",
    "                  'Spain':'Europe', \n",
    "                  'Iran':'Asia',\n",
    "                  'Australia':'Australia', \n",
    "                  'Brazil':'South America'}"
   ]
  },
  {
   "cell_type": "code",
   "execution_count": null,
   "metadata": {},
   "outputs": [],
   "source": []
  }
 ],
 "metadata": {
  "kernelspec": {
   "display_name": "Python 3",
   "language": "python",
   "name": "python3"
  },
  "language_info": {
   "codemirror_mode": {
    "name": "ipython",
    "version": 3
   },
   "file_extension": ".py",
   "mimetype": "text/x-python",
   "name": "python",
   "nbconvert_exporter": "python",
   "pygments_lexer": "ipython3",
   "version": "3.7.6"
  },
  "varInspector": {
   "cols": {
    "lenName": 16,
    "lenType": 16,
    "lenVar": 40
   },
   "kernels_config": {
    "python": {
     "delete_cmd_postfix": "",
     "delete_cmd_prefix": "del ",
     "library": "var_list.py",
     "varRefreshCmd": "print(var_dic_list())"
    },
    "r": {
     "delete_cmd_postfix": ") ",
     "delete_cmd_prefix": "rm(",
     "library": "var_list.r",
     "varRefreshCmd": "cat(var_dic_list()) "
    }
   },
   "types_to_exclude": [
    "module",
    "function",
    "builtin_function_or_method",
    "instance",
    "_Feature"
   ],
   "window_display": false
  }
 },
 "nbformat": 4,
 "nbformat_minor": 2
}
