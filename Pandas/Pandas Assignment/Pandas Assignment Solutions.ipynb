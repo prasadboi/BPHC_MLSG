{
 "cells": [
  {
   "cell_type": "code",
   "execution_count": null,
   "metadata": {},
   "outputs": [],
   "source": [
    "#Colab users uncomment this code\n",
    "#Files for this notebook are Energy Indicators.xls and world_bank.csv"
   ]
  },
  {
   "cell_type": "code",
   "execution_count": null,
   "metadata": {},
   "outputs": [],
   "source": [
    "\"\"\"\n",
    "!pip install -U -q PyDrive\n",
    "from pydrive.auth import GoogleAuth\n",
    "from pydrive.drive import GoogleDrive\n",
    "from google.colab import auth\n",
    "from oauth2client.client import GoogleCredentials\n",
    "\"\"\""
   ]
  },
  {
   "cell_type": "code",
   "execution_count": null,
   "metadata": {},
   "outputs": [],
   "source": [
    "\"\"\"\n",
    "auth.authenticate_user()\n",
    "gauth = GoogleAuth()\n",
    "gauth.credentials = GoogleCredentials.get_application_default()\n",
    "drive = GoogleDrive(gauth)\n",
    "\"\"\""
   ]
  },
  {
   "cell_type": "code",
   "execution_count": null,
   "metadata": {},
   "outputs": [],
   "source": [
    "\"\"\"\n",
    "downloaded = drive.CreateFile({'id':'1R9vW5dmox7i8OGOoDql_r9yUrvAJgvhD'}) # replace the id with id of file you want to access\n",
    "downloaded.GetContentFile('Energy Indicators.xls')\n",
    "\"\"\""
   ]
  },
  {
   "cell_type": "code",
   "execution_count": null,
   "metadata": {},
   "outputs": [],
   "source": [
    "\"\"\"\n",
    "downloaded = drive.CreateFile({'id':'1R9vW5dmox7i8OGOoDql_r9yUrvAJgvhD'}) # replace the id with id of file you want to access\n",
    "downloaded.GetContentFile('world_bank.csv')\n",
    "\"\"\""
   ]
  },
  {
   "cell_type": "markdown",
   "metadata": {},
   "source": [
    "# PANDAS ASSIGNMENT SOLUTIONS (100)\n",
    "<hr style=\"height:5px;border-width:2;color:gray\">"
   ]
  },
  {
   "cell_type": "markdown",
   "metadata": {},
   "source": [
    "In this assignment you'll be handling two datasets, <code>Energy Indicators.xls</code> and <code>world_bank.csv</code> and answering some questions.<br><br>\n",
    "<b>Grading:</b>\n",
    "<ul>\n",
    "    <li>Each question has the corresponding total marks next to it.</li>\n",
    "    <li>Each question will be graded on <b>final answer (60%)</b> and <b>conciseness of code (40%)</b>.</li>\n",
    "    <li>There is no partial marking for final answer but there is partial marking for conciseness of code</li>\n",
    "    <li>The total marks will be scaled down later on as per requirement.</li>\n",
    "</ul>"
   ]
  },
  {
   "cell_type": "code",
   "execution_count": 2,
   "metadata": {
    "ExecuteTime": {
     "end_time": "2020-05-15T17:51:09.938089Z",
     "start_time": "2020-05-15T17:51:09.764505Z"
    }
   },
   "outputs": [],
   "source": [
    "import pandas as pd\n",
    "import numpy as np"
   ]
  },
  {
   "cell_type": "markdown",
   "metadata": {},
   "source": [
    "## Loading and Cleaning the Data (50)\n",
    "<div class=\"alert alert-block alert-warning\">\n",
    "    <b>Note that this is the most important part of this assignment as without successfully loading and cleaning the data, future questions cannot be answered.</b>\n",
    "</div>"
   ]
  },
  {
   "cell_type": "markdown",
   "metadata": {},
   "source": [
    "#### Energy Indicators data ( 6 X 5 = 30)\n",
    "<b>Instructions</b>:\n",
    "<ol>\n",
    "    <li>Load the <b>excel file</b> <code>Energy Indicators.xls</code> into dataframe called <code>energy</code>.</li>\n",
    "    <li>Make sure to exclude header and footer information from the datafile.</li>\n",
    "    <li>The first two columns are unecessary and hence get rid of them.</li>\n",
    "    <li>Change the remaining column names to <code>['Country', 'Energy Supply', 'Energy Supply per Capita', '% Renewable']</code>.</li>\n",
    "    <li>The Energy Supply is in petajoule. Covert it to gigajoule. (1 petajoule = 1,000,000 gigajoule)</li>\n",
    "    <li>Rename the following list of countries:\n",
    "        <ul>\n",
    "        <li>\"Republic of Korea\" : \"South Korea\"</li>\n",
    "        <li>\"United States of America\" : \"United States\"</li>\n",
    "        <li>\"United Kingdom of Great Britain and Northern Ireland\" : \"United Kingdom\"</li>\n",
    "        <li>\"China, Hong Kong Special Administrative Region\" : \"Hong Kong\"</li>\n",
    "        </ul>\n",
    "    </li>\n",
    "</ol>\n",
    "<div class=\"alert alert-block alert-info\">\n",
    "    <b>Hint</b>: <code>energy</code> dataframe has 227 rows and 4 columns.\n",
    "</div>"
   ]
  },
  {
   "cell_type": "code",
   "execution_count": 3,
   "metadata": {
    "ExecuteTime": {
     "end_time": "2020-05-15T17:51:13.149743Z",
     "start_time": "2020-05-15T17:51:13.028072Z"
    }
   },
   "outputs": [
    {
     "data": {
      "text/html": [
       "<div>\n",
       "<style scoped>\n",
       "    .dataframe tbody tr th:only-of-type {\n",
       "        vertical-align: middle;\n",
       "    }\n",
       "\n",
       "    .dataframe tbody tr th {\n",
       "        vertical-align: top;\n",
       "    }\n",
       "\n",
       "    .dataframe thead th {\n",
       "        text-align: right;\n",
       "    }\n",
       "</style>\n",
       "<table border=\"1\" class=\"dataframe\">\n",
       "  <thead>\n",
       "    <tr style=\"text-align: right;\">\n",
       "      <th></th>\n",
       "      <th>Country</th>\n",
       "      <th>Energy Supply</th>\n",
       "      <th>Energy Supply per Capita</th>\n",
       "      <th>% Renewable</th>\n",
       "    </tr>\n",
       "  </thead>\n",
       "  <tbody>\n",
       "    <tr>\n",
       "      <th>0</th>\n",
       "      <td>Afghanistan</td>\n",
       "      <td>321000000</td>\n",
       "      <td>10</td>\n",
       "      <td>78.669280</td>\n",
       "    </tr>\n",
       "    <tr>\n",
       "      <th>1</th>\n",
       "      <td>Albania</td>\n",
       "      <td>102000000</td>\n",
       "      <td>35</td>\n",
       "      <td>100.000000</td>\n",
       "    </tr>\n",
       "    <tr>\n",
       "      <th>2</th>\n",
       "      <td>Algeria</td>\n",
       "      <td>1959000000</td>\n",
       "      <td>51</td>\n",
       "      <td>0.551010</td>\n",
       "    </tr>\n",
       "    <tr>\n",
       "      <th>3</th>\n",
       "      <td>American Samoa</td>\n",
       "      <td>.................................................</td>\n",
       "      <td>...</td>\n",
       "      <td>0.641026</td>\n",
       "    </tr>\n",
       "    <tr>\n",
       "      <th>4</th>\n",
       "      <td>Andorra</td>\n",
       "      <td>9000000</td>\n",
       "      <td>121</td>\n",
       "      <td>88.695650</td>\n",
       "    </tr>\n",
       "    <tr>\n",
       "      <th>...</th>\n",
       "      <td>...</td>\n",
       "      <td>...</td>\n",
       "      <td>...</td>\n",
       "      <td>...</td>\n",
       "    </tr>\n",
       "    <tr>\n",
       "      <th>222</th>\n",
       "      <td>Viet Nam</td>\n",
       "      <td>2554000000</td>\n",
       "      <td>28</td>\n",
       "      <td>45.321520</td>\n",
       "    </tr>\n",
       "    <tr>\n",
       "      <th>223</th>\n",
       "      <td>Wallis and Futuna Islands</td>\n",
       "      <td>0</td>\n",
       "      <td>26</td>\n",
       "      <td>0.000000</td>\n",
       "    </tr>\n",
       "    <tr>\n",
       "      <th>224</th>\n",
       "      <td>Yemen</td>\n",
       "      <td>344000000</td>\n",
       "      <td>13</td>\n",
       "      <td>0.000000</td>\n",
       "    </tr>\n",
       "    <tr>\n",
       "      <th>225</th>\n",
       "      <td>Zambia</td>\n",
       "      <td>400000000</td>\n",
       "      <td>26</td>\n",
       "      <td>99.714670</td>\n",
       "    </tr>\n",
       "    <tr>\n",
       "      <th>226</th>\n",
       "      <td>Zimbabwe</td>\n",
       "      <td>480000000</td>\n",
       "      <td>32</td>\n",
       "      <td>52.536120</td>\n",
       "    </tr>\n",
       "  </tbody>\n",
       "</table>\n",
       "<p>227 rows × 4 columns</p>\n",
       "</div>"
      ],
      "text/plain": [
       "                       Country  \\\n",
       "0                  Afghanistan   \n",
       "1                      Albania   \n",
       "2                      Algeria   \n",
       "3               American Samoa   \n",
       "4                      Andorra   \n",
       "..                         ...   \n",
       "222                   Viet Nam   \n",
       "223  Wallis and Futuna Islands   \n",
       "224                      Yemen   \n",
       "225                     Zambia   \n",
       "226                   Zimbabwe   \n",
       "\n",
       "                                         Energy Supply  \\\n",
       "0                                            321000000   \n",
       "1                                            102000000   \n",
       "2                                           1959000000   \n",
       "3    .................................................   \n",
       "4                                              9000000   \n",
       "..                                                 ...   \n",
       "222                                         2554000000   \n",
       "223                                                  0   \n",
       "224                                          344000000   \n",
       "225                                          400000000   \n",
       "226                                          480000000   \n",
       "\n",
       "    Energy Supply per Capita  % Renewable  \n",
       "0                         10    78.669280  \n",
       "1                         35   100.000000  \n",
       "2                         51     0.551010  \n",
       "3                        ...     0.641026  \n",
       "4                        121    88.695650  \n",
       "..                       ...          ...  \n",
       "222                       28    45.321520  \n",
       "223                       26     0.000000  \n",
       "224                       13     0.000000  \n",
       "225                       26    99.714670  \n",
       "226                       32    52.536120  \n",
       "\n",
       "[227 rows x 4 columns]"
      ]
     },
     "execution_count": 3,
     "metadata": {},
     "output_type": "execute_result"
    }
   ],
   "source": [
    "energy = pd.read_excel(\"Energy Indicators.xls\", skiprows = 17, skipfooter = 38, usecols = range(2,6), names = ['Country', 'Energy Supply', 'Energy Supply per Capita', '% Renewable'])\n",
    "energy[\"Energy Supply\"] = energy[\"Energy Supply\"]*1000000\n",
    "di = {\"Republic of Korea\": \"South Korea\", \"United States of America\": \"United States\", \"United Kingdom of Great Britain and Northern Ireland\": \"United Kingdom\", \"China, Hong Kong Special Administrative Region\": \"Hong Kong\"}\n",
    "energy['Country'].replace(di, inplace = True)\n",
    "energy"
   ]
  },
  {
   "cell_type": "markdown",
   "metadata": {},
   "source": [
    "#### GDP Data (10)\n",
    "<b>Instructions: </b><br>\n",
    "<ol>\n",
    "    <li>Load the <b>csv file</b> <code>world_bank.csv</code> into a dataframe called <code>GDP</code>.</li>\n",
    "    <li>Skip the headers.</li>\n",
    "    <li>The GDP dataframe must only have the columns of country name and GDP of years 2006-2015 (both inclusive)</li>\n",
    "    <li>Rename the following list of countries:</li>\n",
    "    <ul>\n",
    "        <li>\"Korea, Rep.\": \"South Korea\"</li>\n",
    "        <li>\"Iran, Islamic Rep.\": \"Iran\"</li>\n",
    "        <li>\"Hong Kong SAR, China\": \"Hong Kong\"</li>\n",
    "    </ul>\n",
    "</ol>\n",
    "<div class=\"alert alert-block alert-info\">\n",
    "    <b>Hint</b>: <code>GDP</code> dataframe has 264 rows and 11 columns.\n",
    "</div>"
   ]
  },
  {
   "cell_type": "code",
   "execution_count": 4,
   "metadata": {
    "ExecuteTime": {
     "end_time": "2020-05-15T17:51:20.375368Z",
     "start_time": "2020-05-15T17:51:20.322056Z"
    }
   },
   "outputs": [
    {
     "data": {
      "text/html": [
       "<div>\n",
       "<style scoped>\n",
       "    .dataframe tbody tr th:only-of-type {\n",
       "        vertical-align: middle;\n",
       "    }\n",
       "\n",
       "    .dataframe tbody tr th {\n",
       "        vertical-align: top;\n",
       "    }\n",
       "\n",
       "    .dataframe thead th {\n",
       "        text-align: right;\n",
       "    }\n",
       "</style>\n",
       "<table border=\"1\" class=\"dataframe\">\n",
       "  <thead>\n",
       "    <tr style=\"text-align: right;\">\n",
       "      <th></th>\n",
       "      <th>Country Name</th>\n",
       "      <th>2006</th>\n",
       "      <th>2007</th>\n",
       "      <th>2008</th>\n",
       "      <th>2009</th>\n",
       "      <th>2010</th>\n",
       "      <th>2011</th>\n",
       "      <th>2012</th>\n",
       "      <th>2013</th>\n",
       "      <th>2014</th>\n",
       "      <th>2015</th>\n",
       "    </tr>\n",
       "  </thead>\n",
       "  <tbody>\n",
       "    <tr>\n",
       "      <th>0</th>\n",
       "      <td>Aruba</td>\n",
       "      <td>NaN</td>\n",
       "      <td>NaN</td>\n",
       "      <td>NaN</td>\n",
       "      <td>NaN</td>\n",
       "      <td>2.467704e+09</td>\n",
       "      <td>NaN</td>\n",
       "      <td>NaN</td>\n",
       "      <td>NaN</td>\n",
       "      <td>NaN</td>\n",
       "      <td>NaN</td>\n",
       "    </tr>\n",
       "    <tr>\n",
       "      <th>1</th>\n",
       "      <td>Andorra</td>\n",
       "      <td>4.018196e+09</td>\n",
       "      <td>4.021331e+09</td>\n",
       "      <td>3.675728e+09</td>\n",
       "      <td>3.535389e+09</td>\n",
       "      <td>3.346317e+09</td>\n",
       "      <td>3.185605e+09</td>\n",
       "      <td>3.129538e+09</td>\n",
       "      <td>3.127550e+09</td>\n",
       "      <td>NaN</td>\n",
       "      <td>NaN</td>\n",
       "    </tr>\n",
       "    <tr>\n",
       "      <th>2</th>\n",
       "      <td>Afghanistan</td>\n",
       "      <td>1.030523e+10</td>\n",
       "      <td>1.172119e+10</td>\n",
       "      <td>1.214448e+10</td>\n",
       "      <td>1.469733e+10</td>\n",
       "      <td>1.593680e+10</td>\n",
       "      <td>1.691113e+10</td>\n",
       "      <td>1.935220e+10</td>\n",
       "      <td>1.973134e+10</td>\n",
       "      <td>1.999032e+10</td>\n",
       "      <td>2.029415e+10</td>\n",
       "    </tr>\n",
       "    <tr>\n",
       "      <th>3</th>\n",
       "      <td>Angola</td>\n",
       "      <td>5.581103e+10</td>\n",
       "      <td>6.842044e+10</td>\n",
       "      <td>7.787420e+10</td>\n",
       "      <td>7.975320e+10</td>\n",
       "      <td>8.247091e+10</td>\n",
       "      <td>8.570262e+10</td>\n",
       "      <td>9.012096e+10</td>\n",
       "      <td>9.626143e+10</td>\n",
       "      <td>1.008863e+11</td>\n",
       "      <td>1.039106e+11</td>\n",
       "    </tr>\n",
       "    <tr>\n",
       "      <th>4</th>\n",
       "      <td>Albania</td>\n",
       "      <td>9.771760e+09</td>\n",
       "      <td>1.034829e+10</td>\n",
       "      <td>1.112752e+10</td>\n",
       "      <td>1.150029e+10</td>\n",
       "      <td>1.192695e+10</td>\n",
       "      <td>1.223109e+10</td>\n",
       "      <td>1.240477e+10</td>\n",
       "      <td>1.254247e+10</td>\n",
       "      <td>1.279331e+10</td>\n",
       "      <td>1.312082e+10</td>\n",
       "    </tr>\n",
       "    <tr>\n",
       "      <th>...</th>\n",
       "      <td>...</td>\n",
       "      <td>...</td>\n",
       "      <td>...</td>\n",
       "      <td>...</td>\n",
       "      <td>...</td>\n",
       "      <td>...</td>\n",
       "      <td>...</td>\n",
       "      <td>...</td>\n",
       "      <td>...</td>\n",
       "      <td>...</td>\n",
       "      <td>...</td>\n",
       "    </tr>\n",
       "    <tr>\n",
       "      <th>259</th>\n",
       "      <td>Yemen, Rep.</td>\n",
       "      <td>2.672565e+10</td>\n",
       "      <td>2.761787e+10</td>\n",
       "      <td>2.872656e+10</td>\n",
       "      <td>2.991436e+10</td>\n",
       "      <td>3.090675e+10</td>\n",
       "      <td>2.624342e+10</td>\n",
       "      <td>2.689160e+10</td>\n",
       "      <td>2.800914e+10</td>\n",
       "      <td>NaN</td>\n",
       "      <td>NaN</td>\n",
       "    </tr>\n",
       "    <tr>\n",
       "      <th>260</th>\n",
       "      <td>South Africa</td>\n",
       "      <td>3.402852e+11</td>\n",
       "      <td>3.585261e+11</td>\n",
       "      <td>3.699668e+11</td>\n",
       "      <td>3.642764e+11</td>\n",
       "      <td>3.753494e+11</td>\n",
       "      <td>3.874074e+11</td>\n",
       "      <td>3.960071e+11</td>\n",
       "      <td>4.047682e+11</td>\n",
       "      <td>4.110369e+11</td>\n",
       "      <td>4.163117e+11</td>\n",
       "    </tr>\n",
       "    <tr>\n",
       "      <th>261</th>\n",
       "      <td>Congo, Dem. Rep.</td>\n",
       "      <td>1.650894e+10</td>\n",
       "      <td>1.754232e+10</td>\n",
       "      <td>1.863448e+10</td>\n",
       "      <td>1.916651e+10</td>\n",
       "      <td>2.052329e+10</td>\n",
       "      <td>2.193213e+10</td>\n",
       "      <td>2.350200e+10</td>\n",
       "      <td>2.550050e+10</td>\n",
       "      <td>2.778776e+10</td>\n",
       "      <td>2.970961e+10</td>\n",
       "    </tr>\n",
       "    <tr>\n",
       "      <th>262</th>\n",
       "      <td>Zambia</td>\n",
       "      <td>1.440569e+10</td>\n",
       "      <td>1.560892e+10</td>\n",
       "      <td>1.682234e+10</td>\n",
       "      <td>1.837342e+10</td>\n",
       "      <td>2.026555e+10</td>\n",
       "      <td>2.140358e+10</td>\n",
       "      <td>2.302438e+10</td>\n",
       "      <td>2.420595e+10</td>\n",
       "      <td>2.542227e+10</td>\n",
       "      <td>2.624127e+10</td>\n",
       "    </tr>\n",
       "    <tr>\n",
       "      <th>263</th>\n",
       "      <td>Zimbabwe</td>\n",
       "      <td>1.006276e+10</td>\n",
       "      <td>9.695130e+09</td>\n",
       "      <td>7.982103e+09</td>\n",
       "      <td>8.459783e+09</td>\n",
       "      <td>9.422161e+09</td>\n",
       "      <td>1.054391e+10</td>\n",
       "      <td>1.165789e+10</td>\n",
       "      <td>1.218064e+10</td>\n",
       "      <td>1.264939e+10</td>\n",
       "      <td>1.278517e+10</td>\n",
       "    </tr>\n",
       "  </tbody>\n",
       "</table>\n",
       "<p>264 rows × 11 columns</p>\n",
       "</div>"
      ],
      "text/plain": [
       "         Country Name          2006          2007          2008          2009  \\\n",
       "0               Aruba           NaN           NaN           NaN           NaN   \n",
       "1             Andorra  4.018196e+09  4.021331e+09  3.675728e+09  3.535389e+09   \n",
       "2         Afghanistan  1.030523e+10  1.172119e+10  1.214448e+10  1.469733e+10   \n",
       "3              Angola  5.581103e+10  6.842044e+10  7.787420e+10  7.975320e+10   \n",
       "4             Albania  9.771760e+09  1.034829e+10  1.112752e+10  1.150029e+10   \n",
       "..                ...           ...           ...           ...           ...   \n",
       "259       Yemen, Rep.  2.672565e+10  2.761787e+10  2.872656e+10  2.991436e+10   \n",
       "260      South Africa  3.402852e+11  3.585261e+11  3.699668e+11  3.642764e+11   \n",
       "261  Congo, Dem. Rep.  1.650894e+10  1.754232e+10  1.863448e+10  1.916651e+10   \n",
       "262            Zambia  1.440569e+10  1.560892e+10  1.682234e+10  1.837342e+10   \n",
       "263          Zimbabwe  1.006276e+10  9.695130e+09  7.982103e+09  8.459783e+09   \n",
       "\n",
       "             2010          2011          2012          2013          2014  \\\n",
       "0    2.467704e+09           NaN           NaN           NaN           NaN   \n",
       "1    3.346317e+09  3.185605e+09  3.129538e+09  3.127550e+09           NaN   \n",
       "2    1.593680e+10  1.691113e+10  1.935220e+10  1.973134e+10  1.999032e+10   \n",
       "3    8.247091e+10  8.570262e+10  9.012096e+10  9.626143e+10  1.008863e+11   \n",
       "4    1.192695e+10  1.223109e+10  1.240477e+10  1.254247e+10  1.279331e+10   \n",
       "..            ...           ...           ...           ...           ...   \n",
       "259  3.090675e+10  2.624342e+10  2.689160e+10  2.800914e+10           NaN   \n",
       "260  3.753494e+11  3.874074e+11  3.960071e+11  4.047682e+11  4.110369e+11   \n",
       "261  2.052329e+10  2.193213e+10  2.350200e+10  2.550050e+10  2.778776e+10   \n",
       "262  2.026555e+10  2.140358e+10  2.302438e+10  2.420595e+10  2.542227e+10   \n",
       "263  9.422161e+09  1.054391e+10  1.165789e+10  1.218064e+10  1.264939e+10   \n",
       "\n",
       "             2015  \n",
       "0             NaN  \n",
       "1             NaN  \n",
       "2    2.029415e+10  \n",
       "3    1.039106e+11  \n",
       "4    1.312082e+10  \n",
       "..            ...  \n",
       "259           NaN  \n",
       "260  4.163117e+11  \n",
       "261  2.970961e+10  \n",
       "262  2.624127e+10  \n",
       "263  1.278517e+10  \n",
       "\n",
       "[264 rows x 11 columns]"
      ]
     },
     "execution_count": 4,
     "metadata": {},
     "output_type": "execute_result"
    }
   ],
   "source": [
    "GDP = pd.read_csv(\"world_bank.csv\", skiprows = 4)\n",
    "di = {\"Korea, Rep.\": \"South Korea\", \"Iran, Islamic Rep.\": \"Iran\", \"Hong Kong SAR, China\": \"Hong Kong\"}\n",
    "GDP['Country Name'].replace(di, inplace = True)\n",
    "cols = [GDP.columns[0]] + list(GDP.columns[-10:]) #Or usecols attribute can be used in pd.read_csv\n",
    "GDP = GDP[cols]\n",
    "GDP"
   ]
  },
  {
   "cell_type": "markdown",
   "metadata": {},
   "source": [
    "#### Merging the dataframes (10)\n",
    "<b>Instructions</b>:\n",
    "Merge the two dataframes into one and call it <code>energy_GDP</code> which has data pertaining to countries common to both dataframes. <code>energy_GDP</code> must have <b>13 columns</b> excluding the index, which should be <code>Country</code>. After this reduce the dataframe to have data pertaining the countries given in the next cell."
   ]
  },
  {
   "cell_type": "code",
   "execution_count": null,
   "metadata": {},
   "outputs": [],
   "source": [
    "countries = ['China', 'United States', 'Japan', 'United Kingdom', 'Russian Federation', 'Canada', 'Germany', 'India', 'France', 'South Korea', 'Italy', 'Spain', 'Iran', 'Australia', 'Brazil']"
   ]
  },
  {
   "cell_type": "code",
   "execution_count": null,
   "metadata": {},
   "outputs": [],
   "source": [
    "energy_GDP = pd.merge(energy, GDP.rename(columns = {'Country Name':'Country'}), how = 'inner', on = 'Country').set_index('Country')\n",
    "energy_GDP = energy_GDP.loc[countries]\n",
    "energy_GDP"
   ]
  },
  {
   "cell_type": "markdown",
   "metadata": {},
   "source": [
    "## Questions (50)"
   ]
  },
  {
   "cell_type": "markdown",
   "metadata": {},
   "source": [
    "#### 1. What is the average GDP over the last 10 years for each country? (exclude missing values from this calculation.) (5)\n",
    "(Your answer should be a series in descending order by average GDP)"
   ]
  },
  {
   "cell_type": "code",
   "execution_count": null,
   "metadata": {},
   "outputs": [],
   "source": [
    "avgGDP = energy_GDP.iloc[:, -10:].mean(axis = 1)\n",
    "avgGDP = avgGDP.sort_values(ascending = False)\n",
    "avgGDP"
   ]
  },
  {
   "cell_type": "markdown",
   "metadata": {},
   "source": [
    "#### 2. By how much had the GDP changed over the 10 year span for the country with the 6th largest average GDP? (5)\n",
    "(Your answer should be a single number)"
   ]
  },
  {
   "cell_type": "code",
   "execution_count": null,
   "metadata": {},
   "outputs": [],
   "source": [
    "ctry = avgGDP.index[5]\n",
    "energy_GDP.loc[ctry, '2015'] - energy_GDP.loc[ctry, '2006']"
   ]
  },
  {
   "cell_type": "markdown",
   "metadata": {},
   "source": [
    "#### 3. What country has the maximum % Renewable and what is the percentage? (10)\n",
    "(Your answer should be a python tuple coontaining country name and its % Renewable)"
   ]
  },
  {
   "cell_type": "code",
   "execution_count": null,
   "metadata": {},
   "outputs": [],
   "source": [
    "(energy_GDP[\"% Renewable\"].idxmax(), energy_GDP[\"% Renewable\"].max())"
   ]
  },
  {
   "cell_type": "markdown",
   "metadata": {},
   "source": [
    "#### 4(i). Create a column that estimates the population using Energy Supply and Energy Supply per capita. (5)\n",
    "<div class=\"alert alert-block alert-warning\">\n",
    "    <b>Note: </b>Convert the population estimation by energy to np.float64 format.\n",
    "</div>\n",
    "(Your answer should be the first five rows of a dataframe)\n"
   ]
  },
  {
   "cell_type": "code",
   "execution_count": null,
   "metadata": {},
   "outputs": [],
   "source": [
    "energy_GDP[\"Population Estimate by Energy\"] = np.float64(energy_GDP[\"Energy Supply\"]/energy_GDP[\"Energy Supply per Capita\"])\n",
    "energy_GDP.head()"
   ]
  },
  {
   "cell_type": "markdown",
   "metadata": {},
   "source": [
    "#### 4(ii). What is the third most populous country according to this (5)\n",
    "(Your answer should be a single string)"
   ]
  },
  {
   "cell_type": "code",
   "execution_count": null,
   "metadata": {},
   "outputs": [],
   "source": [
    "energy_GDP.sort_values(by = 'Population Estimate by Energy', ascending = False).index[2]"
   ]
  },
  {
   "cell_type": "markdown",
   "metadata": {},
   "source": [
    "#### 5. Create a series with country as index and value 1 if the country's % Renewable is above the median % Renewable of the 15 countries and 0 otherwise. (5)\n",
    "(Your answer should be a series)"
   ]
  },
  {
   "cell_type": "code",
   "execution_count": null,
   "metadata": {},
   "outputs": [],
   "source": [
    "med = energy_GDP[\"% Renewable\"].median()\n",
    "HighRenew = (energy_GDP[\"% Renewable\"] >= med)*1\n",
    "HighRenew"
   ]
  },
  {
   "cell_type": "markdown",
   "metadata": {},
   "source": [
    "#### 6. Summary of continents (15)\n",
    "Group the countries by continent and display the following data for each continent: (All data regarding the given 15 countries)\n",
    "<ul>\n",
    "    <li><b>size</b>: The number of countries in this continent</li>\n",
    "    <li><b>sum</b>: Total population estimate of this continent</li>\n",
    "    <li><b>mean</b>: Mean country population in this continent</li>\n",
    "    <li><b>std</b>: Standard deviation of country population in this continent</li>\n",
    "</ul>\n",
    "Use the dictionary in the next cell to assign corresponding continent to each country.<br>\n",
    "(Your answer should be  a dataframe with index named Continent <code>['Asia', 'Australia', 'Europe', 'North America', 'South America']</code> and columns <code>['size', 'sum', 'mean', 'std']</code> and it will have two <code>NaN</code>)"
   ]
  },
  {
   "cell_type": "code",
   "execution_count": null,
   "metadata": {},
   "outputs": [],
   "source": [
    "continents = {'China':'Asia', \n",
    "                  'United States':'North America', \n",
    "                  'Japan':'Asia', \n",
    "                  'United Kingdom':'Europe', \n",
    "                  'Russian Federation':'Europe', \n",
    "                  'Canada':'North America', \n",
    "                  'Germany':'Europe', \n",
    "                  'India':'Asia',\n",
    "                  'France':'Europe', \n",
    "                  'South Korea':'Asia', \n",
    "                  'Italy':'Europe', \n",
    "                  'Spain':'Europe', \n",
    "                  'Iran':'Asia',\n",
    "                  'Australia':'Australia', \n",
    "                  'Brazil':'South America'}"
   ]
  },
  {
   "cell_type": "code",
   "execution_count": null,
   "metadata": {},
   "outputs": [],
   "source": [
    "Continents_df=energy_GDP['Population Estimate by Energy'].groupby(continents).agg(['size','sum','mean','std'])\n",
    "Continents_df"
   ]
  },
  {
   "cell_type": "markdown",
   "metadata": {},
   "source": [
    "### Sources:\n",
    "<ul>\n",
    "    <li><b>Exercise</b>: Some questions in the exercise were taken from Udemy's Python for Data Science and Machine Learning Bootcamp course.</li>\n",
    "    <li><b>Assignment</b>: The dataset and assignment questions were taken from Coursera's Inroduction to Data Science in Python course (University of Michigan). However the dataset was slightly modified to make the cleaning process easier.</li>"
   ]
  }
 ],
 "metadata": {
  "kernelspec": {
   "display_name": "Python 3",
   "language": "python",
   "name": "python3"
  },
  "language_info": {
   "codemirror_mode": {
    "name": "ipython",
    "version": 3
   },
   "file_extension": ".py",
   "mimetype": "text/x-python",
   "name": "python",
   "nbconvert_exporter": "python",
   "pygments_lexer": "ipython3",
   "version": "3.7.6"
  },
  "varInspector": {
   "cols": {
    "lenName": 16,
    "lenType": 16,
    "lenVar": 40
   },
   "kernels_config": {
    "python": {
     "delete_cmd_postfix": "",
     "delete_cmd_prefix": "del ",
     "library": "var_list.py",
     "varRefreshCmd": "print(var_dic_list())"
    },
    "r": {
     "delete_cmd_postfix": ") ",
     "delete_cmd_prefix": "rm(",
     "library": "var_list.r",
     "varRefreshCmd": "cat(var_dic_list()) "
    }
   },
   "types_to_exclude": [
    "module",
    "function",
    "builtin_function_or_method",
    "instance",
    "_Feature"
   ],
   "window_display": false
  }
 },
 "nbformat": 4,
 "nbformat_minor": 2
}
