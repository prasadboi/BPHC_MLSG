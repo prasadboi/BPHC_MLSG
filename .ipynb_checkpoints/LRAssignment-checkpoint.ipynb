{
 "cells": [
  {
   "cell_type": "markdown",
   "metadata": {
    "colab_type": "text",
    "id": "aVQ8jBUubwsN"
   },
   "source": [
    "This is the linear regression exercise. First we will implement the algorithm from scratch. Then we will implement it using a widely used library in python- Scikit Learn aka Sklearn. Note that this assignment is relatively lengthy, but nevertheless, do not be discouraged!"
   ]
  },
  {
   "cell_type": "markdown",
   "metadata": {
    "colab_type": "text",
    "id": "-uqWV54-cUQP"
   },
   "source": [
    "# Data preprocessing "
   ]
  },
  {
   "cell_type": "code",
   "execution_count": 1,
   "metadata": {
    "ExecuteTime": {
     "end_time": "2020-05-20T18:28:07.835706Z",
     "start_time": "2020-05-20T18:28:06.992520Z"
    },
    "colab": {},
    "colab_type": "code",
    "id": "n_sfF0Bb1EEF"
   },
   "outputs": [],
   "source": [
    "import sklearn\n",
    "import numpy as np\n",
    "import pandas as pd\n",
    "import matplotlib.pyplot as plt"
   ]
  },
  {
   "cell_type": "markdown",
   "metadata": {
    "colab_type": "text",
    "id": "OiQuOZNAcopv"
   },
   "source": [
    "We will be using the Boston housing dataset, a dataset containing details of houses in Boston. We will be using a subset of the actual dataset, which is easily available from sklearn. We will not be performing any exploratory data analysis as it is an extremely simple dataset with no null values and can easily be stored as numpy arrays instead of panda dataframes"
   ]
  },
  {
   "cell_type": "code",
   "execution_count": 2,
   "metadata": {
    "ExecuteTime": {
     "end_time": "2020-05-20T18:28:07.879701Z",
     "start_time": "2020-05-20T18:28:07.839693Z"
    },
    "colab": {
     "base_uri": "https://localhost:8080/",
     "height": 36
    },
    "colab_type": "code",
    "id": "w0UTtfUv1buf",
    "outputId": "0fd7be3e-928b-4b3a-be85-f462b3dbaa28"
   },
   "outputs": [
    {
     "name": "stdout",
     "output_type": "stream",
     "text": [
      "(506, 13) (506, 1)\n"
     ]
    }
   ],
   "source": [
    "from sklearn.datasets import load_boston\n",
    "X , y = load_boston(return_X_y = True)\n",
    "y = y.reshape(506,1)\n",
    "print(X.shape, y.shape)"
   ]
  },
  {
   "cell_type": "markdown",
   "metadata": {
    "colab_type": "text",
    "id": "yHrPG4FRdEcB"
   },
   "source": [
    "Note that m = number of training examples = 506\n",
    "and n = number of features = 13. \n",
    "\n",
    "\n",
    "\n",
    "Next we will split our dataset into a training set and testing set, a must do process in ML. We train our data using only the training test, and test our predictions on the testing set. Here we have divided the data into training and test sets in a 2:1 ratio. For more information check out"
   ]
  },
  {
   "cell_type": "markdown",
   "metadata": {
    "colab_type": "text",
    "id": "Rflg4RGkd2QD"
   },
   "source": [
    "https://scikit-learn.org/stable/modules/generated/sklearn.model_selection.train_test_split.html"
   ]
  },
  {
   "cell_type": "code",
   "execution_count": 3,
   "metadata": {
    "ExecuteTime": {
     "end_time": "2020-05-20T18:28:07.963227Z",
     "start_time": "2020-05-20T18:28:07.881243Z"
    },
    "colab": {},
    "colab_type": "code",
    "id": "cakhw-6q14U6"
   },
   "outputs": [],
   "source": [
    "from sklearn.model_selection import train_test_split\n",
    "X_train, X_test, y_train, y_test = train_test_split(X, y, test_size=0.33, random_state=42)\n",
    "#np.std(X_train , axis  = 0)"
   ]
  },
  {
   "cell_type": "markdown",
   "metadata": {
    "colab_type": "text",
    "id": "7oGTcCfzhSm9"
   },
   "source": [
    "# Data Standardization (3 marks)"
   ]
  },
  {
   "cell_type": "markdown",
   "metadata": {
    "colab_type": "text",
    "id": "fVeUNcuyd9LZ"
   },
   "source": [
    "Next we will be performing an operation called data standardization. This basically converts the data roughly into a normal distribution so that gradient descent converges to its global minimum faster. Note that you might've seen this in prob stats :D"
   ]
  },
  {
   "cell_type": "code",
   "execution_count": 4,
   "metadata": {
    "ExecuteTime": {
     "end_time": "2020-05-20T18:28:08.010252Z",
     "start_time": "2020-05-20T18:28:07.964768Z"
    },
    "colab": {},
    "colab_type": "code",
    "id": "t4ii0Cmmg_pj"
   },
   "outputs": [],
   "source": [
    "def feature_standardize(X):\n",
    "  \"\"\" Standardization of data. We subtract the mean from each feature and then \n",
    "      divide it by the standard deviation\n",
    "  \"\"\"\n",
    "  mu =   np.mean(X , axis=0) #ADD CODE HERE to calculate mean of each feature or column. Hint: use numpy\n",
    "  sigma = np.std(X , axis=0)#ADD CODE HERE to calculate standard deviation of each feature\n",
    "  X = (X - mu) / sigma#Subtract mean from X and then divide by standard deviation\n",
    "  return X\n",
    "#feature_standardize(X_train)"
   ]
  },
  {
   "cell_type": "code",
   "execution_count": 5,
   "metadata": {
    "ExecuteTime": {
     "end_time": "2020-05-20T18:28:08.087670Z",
     "start_time": "2020-05-20T18:28:08.017421Z"
    },
    "colab": {},
    "colab_type": "code",
    "id": "B85P_TNCie5F"
   },
   "outputs": [],
   "source": [
    "X_train = feature_standardize(X_train)\n",
    "X_test = feature_standardize(X_test)"
   ]
  },
  {
   "cell_type": "markdown",
   "metadata": {
    "colab_type": "text",
    "id": "npYBRa4-hZwc"
   },
   "source": [
    "# Parameter Initialization (3 marks)"
   ]
  },
  {
   "cell_type": "markdown",
   "metadata": {
    "colab_type": "text",
    "id": "gWM1gHrEhewr"
   },
   "source": [
    "Now we will intialize the X matrix and theta vector"
   ]
  },
  {
   "cell_type": "code",
   "execution_count": 7,
   "metadata": {
    "ExecuteTime": {
     "end_time": "2020-05-20T18:28:55.737803Z",
     "start_time": "2020-05-20T18:28:55.711396Z"
    },
    "colab": {},
    "colab_type": "code",
    "id": "HlI0x_Zu2SjJ"
   },
   "outputs": [
    {
     "data": {
      "text/plain": [
       "(array([[ 1.        ,  0.89624872, -0.51060139, ...,  0.86442095,\n",
       "          0.24040357,  0.77155612],\n",
       "        [ 1.        , -0.34895881, -0.51060139, ...,  1.22118698,\n",
       "          0.20852839,  0.32248963],\n",
       "        [ 1.        , -0.41764058,  0.03413008, ..., -1.36536677,\n",
       "          0.43481957,  0.92775316],\n",
       "        ...,\n",
       "        [ 1.        , -0.43451148,  2.97567999, ..., -0.56264319,\n",
       "          0.36745216, -0.90756208],\n",
       "        [ 1.        ,  1.01703049, -0.51060139, ...,  0.86442095,\n",
       "         -2.80977992,  1.50233514],\n",
       "        [ 1.        , -0.40667333, -0.51060139, ...,  1.17659123,\n",
       "         -3.25117205, -0.26046005]]),\n",
       " array([[0.],\n",
       "        [0.],\n",
       "        [0.],\n",
       "        [0.],\n",
       "        [0.],\n",
       "        [0.],\n",
       "        [0.],\n",
       "        [0.],\n",
       "        [0.],\n",
       "        [0.],\n",
       "        [0.],\n",
       "        [0.],\n",
       "        [0.]]))"
      ]
     },
     "execution_count": 7,
     "metadata": {},
     "output_type": "execute_result"
    }
   ],
   "source": [
    "m = y_train.shape[0]\n",
    "\n",
    "def initialize_params(X):\n",
    "  ones = np.ones([m , 1])#Numpy array of ones of size m x 1. This is the bias X0 = 1 which we add \n",
    "  X_new = np.hstack((ones , X))#Horizontally stack the bias vector to the beginning of the X matrix\n",
    "  theta = np.zeros([np.size(X , axis = 1) , 1])#Numpy array of zeros. See theory to check dimensions\n",
    "  return X_new , theta\n",
    "#initialize_params(X_train)"
   ]
  },
  {
   "cell_type": "code",
   "execution_count": 8,
   "metadata": {
    "ExecuteTime": {
     "end_time": "2020-05-20T19:20:49.053186Z",
     "start_time": "2020-05-20T19:20:49.040976Z"
    },
    "colab": {},
    "colab_type": "code",
    "id": "x5328gVhSsBZ"
   },
   "outputs": [],
   "source": [
    "X_train, theta = initialize_params(X_train)"
   ]
  },
  {
   "cell_type": "markdown",
   "metadata": {
    "colab_type": "text",
    "id": "zwljJM1ti6WC"
   },
   "source": [
    "# Cost function (5 marks)"
   ]
  },
  {
   "cell_type": "code",
   "execution_count": null,
   "metadata": {
    "ExecuteTime": {
     "end_time": "2020-05-20T18:28:08.188461Z",
     "start_time": "2020-05-20T18:28:06.997Z"
    },
    "colab": {},
    "colab_type": "code",
    "id": "6iUPcP543GI4"
   },
   "outputs": [],
   "source": [
    "def compute_cost(theta, X, y):\n",
    "\n",
    "  J = \n",
    "  return J"
   ]
  },
  {
   "cell_type": "code",
   "execution_count": null,
   "metadata": {
    "ExecuteTime": {
     "end_time": "2020-05-20T18:28:08.189784Z",
     "start_time": "2020-05-20T18:28:06.999Z"
    },
    "colab": {},
    "colab_type": "code",
    "id": "aBi7kb5NXYZ9"
   },
   "outputs": [],
   "source": [
    "compute_cost(theta, X_train, y_train)\n",
    "\n",
    "#If all code is correct you should see a cost of around 307.9"
   ]
  },
  {
   "cell_type": "markdown",
   "metadata": {
    "colab_type": "text",
    "id": "-oIWnQISjaIQ"
   },
   "source": [
    "# Gradient Descent (5 marks)"
   ]
  },
  {
   "cell_type": "markdown",
   "metadata": {
    "colab_type": "text",
    "id": "8J2TfFWtjylb"
   },
   "source": [
    "The gradient update rule for each parameter is :"
   ]
  },
  {
   "cell_type": "markdown",
   "metadata": {
    "colab_type": "text",
    "id": "2KjK8X5mlE9j"
   },
   "source": [
    "![alt text](https://miro.medium.com/max/880/1*CkcmVCUKmbA-qUn7y8srNQ.png)"
   ]
  },
  {
   "cell_type": "markdown",
   "metadata": {
    "colab_type": "text",
    "id": "dqrmLimplRjH"
   },
   "source": [
    "However , if we use a for loop, computation is really slow. Therefore we used a vectorized version of the gradient update rule which is :"
   ]
  },
  {
   "cell_type": "markdown",
   "metadata": {
    "colab_type": "text",
    "id": "mGugql-6ldDJ"
   },
   "source": [
    "![alt text](https://drive.google.com/uc?id=17LwD2Tse6w4j4hKCZF33B0ao6yqdzeqD)"
   ]
  },
  {
   "cell_type": "code",
   "execution_count": null,
   "metadata": {
    "ExecuteTime": {
     "end_time": "2020-05-20T18:28:08.191509Z",
     "start_time": "2020-05-20T18:28:07.002Z"
    },
    "colab": {},
    "colab_type": "code",
    "id": "j4yxp2m8bPXH"
   },
   "outputs": [],
   "source": [
    "def gradient_descent(X, y, theta, learning_rate, n_iters):\n",
    "    J_history = np.zeros((n_iters,1))\n",
    "\n",
    "    for i in range(n_iters):\n",
    "      J_history[i] = compute_cost(theta, X, y)\n",
    "      theta = #Vectorized gradient update rule\n",
    "        \n",
    "\n",
    "    return (J_history, theta)"
   ]
  },
  {
   "cell_type": "markdown",
   "metadata": {
    "colab_type": "text",
    "id": "t513dvlanvfi"
   },
   "source": [
    "# Fitting the model and predictions (4 marks)"
   ]
  },
  {
   "cell_type": "code",
   "execution_count": null,
   "metadata": {
    "ExecuteTime": {
     "end_time": "2020-05-20T18:28:08.193079Z",
     "start_time": "2020-05-20T18:28:07.005Z"
    },
    "colab": {},
    "colab_type": "code",
    "id": "P8BZPSzt4ET7"
   },
   "outputs": [],
   "source": [
    "(J_history, theta) = #Call the gradient descent function with the training data, with a learning rate of 0.1, for 50 iterations"
   ]
  },
  {
   "cell_type": "code",
   "execution_count": null,
   "metadata": {
    "ExecuteTime": {
     "end_time": "2020-05-20T18:28:08.194547Z",
     "start_time": "2020-05-20T18:28:07.007Z"
    },
    "colab": {},
    "colab_type": "code",
    "id": "lZz0JhOK5zQq"
   },
   "outputs": [],
   "source": [
    "print(J_history) #If all code is correct, the last value of the cost should be around 11.795"
   ]
  },
  {
   "cell_type": "code",
   "execution_count": null,
   "metadata": {
    "ExecuteTime": {
     "end_time": "2020-05-20T18:28:08.196456Z",
     "start_time": "2020-05-20T18:28:07.009Z"
    },
    "colab": {},
    "colab_type": "code",
    "id": "NEo1i_nR9ax3"
   },
   "outputs": [],
   "source": [
    "plt.plot(range(len(J_history)), J_history)\n",
    "plt.xlabel('Iteration number')\n",
    "plt.ylabel('Cost')"
   ]
  },
  {
   "cell_type": "markdown",
   "metadata": {
    "colab_type": "text",
    "id": "PDle8PVUqc4a"
   },
   "source": [
    "Observe that the cost decreases rapidly at first then slows down.After the 30th iteration, there isn't much change. So training for too many iterations after 30 iterations doesn't make sense."
   ]
  },
  {
   "cell_type": "code",
   "execution_count": null,
   "metadata": {
    "ExecuteTime": {
     "end_time": "2020-05-20T18:28:08.198575Z",
     "start_time": "2020-05-20T18:28:07.012Z"
    },
    "colab": {},
    "colab_type": "code",
    "id": "lAUUCbdnjy-j"
   },
   "outputs": [],
   "source": [
    "from sklearn.metrics import mean_squared_error\n",
    "X_test = np.hstack((np.ones((X_test.shape[0],1)) , X_test))\n",
    "y_pred = X_test @ theta\n",
    "print(0.5 * mean_squared_error(y_pred, y_test))"
   ]
  },
  {
   "cell_type": "markdown",
   "metadata": {
    "colab_type": "text",
    "id": "VnZ-12KHsQKH"
   },
   "source": [
    "Great! Our loss on the test set is low as well. This means we have trained a pretty good model. Note that many times, the training loss will be very low while the test loss be relatively high. This is a problem known as ***overfitting*** that we will discuss later"
   ]
  },
  {
   "cell_type": "code",
   "execution_count": null,
   "metadata": {
    "colab": {},
    "colab_type": "code",
    "id": "w1B6fpJnsl6m"
   },
   "outputs": [],
   "source": []
  },
  {
   "cell_type": "markdown",
   "metadata": {
    "colab_type": "text",
    "id": "4-AYV8pCsxHN"
   },
   "source": [
    "# Linear Regression Using Scikit Learn(5 marks)"
   ]
  },
  {
   "cell_type": "markdown",
   "metadata": {
    "colab_type": "text",
    "id": "HnOj1mh4xubK"
   },
   "source": [
    "Phew! All the code above can be written in just a couple of lines using scikit learn! For this section, we leave it up to you to google the code and write it on your own"
   ]
  },
  {
   "cell_type": "code",
   "execution_count": null,
   "metadata": {
    "ExecuteTime": {
     "end_time": "2020-05-20T18:28:08.200199Z",
     "start_time": "2020-05-20T18:28:07.016Z"
    },
    "colab": {},
    "colab_type": "code",
    "id": "u_PtOosrtKOX"
   },
   "outputs": [],
   "source": [
    "from sklearn.linear_model import LinearRegression"
   ]
  },
  {
   "cell_type": "code",
   "execution_count": null,
   "metadata": {
    "ExecuteTime": {
     "end_time": "2020-05-20T18:28:08.202004Z",
     "start_time": "2020-05-20T18:28:07.019Z"
    },
    "colab": {},
    "colab_type": "code",
    "id": "dyw6ZuKWtMvM"
   },
   "outputs": [],
   "source": [
    "linear_model =  #Create a linear regression object off the LinearRegression class\n",
    "\n",
    "#Now use the fit() method of the model on the training data below\n"
   ]
  },
  {
   "cell_type": "code",
   "execution_count": null,
   "metadata": {
    "ExecuteTime": {
     "end_time": "2020-05-20T18:28:08.203852Z",
     "start_time": "2020-05-20T18:28:07.021Z"
    },
    "colab": {},
    "colab_type": "code",
    "id": "kZdsyPEEtabw"
   },
   "outputs": [],
   "source": [
    "#Use the predict function to get the predictions of the test and training data\n",
    "\n",
    "yPred_train = \n",
    "yPred_test = "
   ]
  },
  {
   "cell_type": "code",
   "execution_count": null,
   "metadata": {
    "ExecuteTime": {
     "end_time": "2020-05-20T18:28:08.206117Z",
     "start_time": "2020-05-20T18:28:07.023Z"
    },
    "colab": {},
    "colab_type": "code",
    "id": "Wgrv7DGuv7Av"
   },
   "outputs": [],
   "source": [
    "print(\"Training loss = \" + str(0.5 * mean_squared_error(yPred_train, y_train)))\n",
    "print(\"Test loss = \" + str(0.5 * mean_squared_error(yPred_test, y_test)))\n",
    "\n",
    "#If code is right you should see training loss of around 11.49 and test loss of 11.19"
   ]
  },
  {
   "cell_type": "markdown",
   "metadata": {
    "colab_type": "text",
    "id": "2fooZ-MpwGJL"
   },
   "source": [
    "Awesome! Our model from scratch performs almost as good as the one from scikit learn. Remember that we use scikit learn extensively for ML algorithms, however, we have implemented it from scratch for the sake of understanding, which is crucial"
   ]
  },
  {
   "cell_type": "markdown",
   "metadata": {
    "colab_type": "text",
    "id": "drZsxlCBwtlc"
   },
   "source": [
    "Congratulations on completing your first machine learning algorithm!"
   ]
  },
  {
   "cell_type": "code",
   "execution_count": null,
   "metadata": {
    "colab": {},
    "colab_type": "code",
    "id": "aUF6PNLpww5k"
   },
   "outputs": [],
   "source": []
  }
 ],
 "metadata": {
  "colab": {
   "collapsed_sections": [
    "7oGTcCfzhSm9",
    "npYBRa4-hZwc",
    "zwljJM1ti6WC",
    "-oIWnQISjaIQ",
    "t513dvlanvfi",
    "4-AYV8pCsxHN"
   ],
   "name": "LRAssignment.ipynb",
   "provenance": [],
   "toc_visible": true
  },
  "kernelspec": {
   "display_name": "Python 3",
   "language": "python",
   "name": "python3"
  },
  "language_info": {
   "codemirror_mode": {
    "name": "ipython",
    "version": 3
   },
   "file_extension": ".py",
   "mimetype": "text/x-python",
   "name": "python",
   "nbconvert_exporter": "python",
   "pygments_lexer": "ipython3",
   "version": "3.7.6"
  },
  "varInspector": {
   "cols": {
    "lenName": 16,
    "lenType": 16,
    "lenVar": 40
   },
   "kernels_config": {
    "python": {
     "delete_cmd_postfix": "",
     "delete_cmd_prefix": "del ",
     "library": "var_list.py",
     "varRefreshCmd": "print(var_dic_list())"
    },
    "r": {
     "delete_cmd_postfix": ") ",
     "delete_cmd_prefix": "rm(",
     "library": "var_list.r",
     "varRefreshCmd": "cat(var_dic_list()) "
    }
   },
   "types_to_exclude": [
    "module",
    "function",
    "builtin_function_or_method",
    "instance",
    "_Feature"
   ],
   "window_display": false
  }
 },
 "nbformat": 4,
 "nbformat_minor": 1
}
